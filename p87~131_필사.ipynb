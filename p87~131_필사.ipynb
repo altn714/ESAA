{
  "nbformat": 4,
  "nbformat_minor": 0,
  "metadata": {
    "colab": {
      "provenance": [],
      "authorship_tag": "ABX9TyOXFSAKXvhLxjhOWwym1hRN",
      "include_colab_link": true
    },
    "kernelspec": {
      "name": "python3",
      "display_name": "Python 3"
    },
    "language_info": {
      "name": "python"
    }
  },
  "cells": [
    {
      "cell_type": "markdown",
      "metadata": {
        "id": "view-in-github",
        "colab_type": "text"
      },
      "source": [
        "<a href=\"https://colab.research.google.com/github/altn714/ESAA/blob/main/p87~131_%ED%95%84%EC%82%AC.ipynb\" target=\"_parent\"><img src=\"https://colab.research.google.com/assets/colab-badge.svg\" alt=\"Open In Colab\"/></a>"
      ]
    },
    {
      "cell_type": "markdown",
      "source": [
        "# 사이킷런 :성숙한 머신러닝 라이브러리\n",
        "\n",
        "1. 소개\n",
        "- 머신러닝을 위한 가장 쉽고 효율적인 개발 라이브러리 \n",
        "- 많은 데이터 분석가가 의존하는 대표적인 파이썬 ML 라이브러리\n",
        "- 다양한 알고리즘, 개발 위한 편리한 프레임워크와 API 제공\n",
        "\n",
        "2. 설치\n",
        "Anacnda 설치 (사이킷런 포함)\n",
        "> 사이킷런 별도 설치필요 시, pip 또는 Anaconda의 conda 명령어\n"
      ],
      "metadata": {
        "id": "10vW8Ihi-v1k"
      }
    },
    {
      "cell_type": "code",
      "source": [
        "# conda\n",
        "#conda install scikit-learn\n",
        "\n",
        "#pip\n",
        "#pip install scikit-learn\n",
        "\n",
        "import sklearn\n",
        "print(sklearn.__version__)"
      ],
      "metadata": {
        "colab": {
          "base_uri": "https://localhost:8080/"
        },
        "id": "QpEU_J6OCKxV",
        "outputId": "d3efa1fa-ff40-4260-c41b-f1265599eab0"
      },
      "execution_count": null,
      "outputs": [
        {
          "output_type": "stream",
          "name": "stdout",
          "text": [
            "1.0.2\n"
          ]
        }
      ]
    },
    {
      "cell_type": "markdown",
      "source": [
        "# 붓꽃 품종 예측 :  붓꽃 데이터 세트로 붓꽃 품종 분류\n",
        "붓꽃 데이터 피처 (꽃잎,꽃받침의 길이와 너비) -> 분류 결정값(붓꽃 데이터 품종 - 레이블)\n",
        "\n",
        "## 1.분류: 대표적인 지도학습\n",
        "> 지도학습: \n",
        "#####1) 학습 데이터 세트: 다양한 피처와 레이블 데이터로 모델 학습(명확한 정답) \n",
        "\n",
        "2) 테스트 데이터 세트: 별도의 데이터 세트에서 미지의 레이블 예측(미지의 정답)\n",
        "\n",
        "## 2. 임포트\n",
        "- 사이킷런 패키지 모듈명: sklearn\n",
        "- sklearn.datasets 내 모듈 :  사이킷런 자체적 제공 데이터 세트 생성\n",
        "- sklearn.tree 내 모듈: 트리 기반 ML 알고리즘 구현한 클래스 모임\n",
        "- sklearn.model_selection : 학습데이터, 검증데이터, 예측 데이터로 데이터 분리하거나 최적의 하이퍼 파라미터로 평가하기 위한 다양한 모듈의 모임 *하이퍼 파라미터: 머신러닝 알고리즘별로 최적의 학습을 위해 직접 입력하는 파라미터를 통칭\n"
      ],
      "metadata": {
        "id": "Dwd-zNfKDNla"
      }
    },
    {
      "cell_type": "code",
      "source": [
        "from sklearn.datasets import load_iris #붓꽃 데이터 생성\n",
        "from sklearn.tree import DecisionTreeClassifier #ML 알고리즘은 의사결정 트리 알고리즘\n",
        "from sklearn.model_selection import train_test_split #데이터세트를 학습 데이터와 테스트 데이터로 분리"
      ],
      "metadata": {
        "id": "_PBIZErBOAbk"
      },
      "execution_count": null,
      "outputs": []
    },
    {
      "cell_type": "code",
      "source": [
        "import pandas as pd\n",
        "\n",
        "#붓꽃 데이터 세트 로딩\n",
        "iris = load_iris()\n",
        "\n",
        "#iris.data는 Iris 데이터 세트에서 피처만으로 된 데이터를 numpy로 가지고 있음.\n",
        "iris_data = iris.data\n",
        "\n",
        "#iris.target은 붓꽃 데이터 세트에서 레이블(결정값) 데이터를 numpy로 가지고 있음\n",
        "iris_label = iris.target\n",
        "print('iris target 값:',iris_label)\n",
        "print('iris target 명:', iris.target_names)\n",
        "\n",
        "#붓꽃 데이터 세트를 DataFrame으로 변환\n",
        "iris_df = pd.DataFrame(data=iris_data, columns=iris.feature_names) #columns 인자 추가이유: 열명을 바꿔줌.\n",
        "iris_df['label'] = iris.target\n",
        "iris_df.head(3)\n",
        "#레이블(결정값) 0.1.2 세 가지 값으로 각각의 품종을 의미"
      ],
      "metadata": {
        "colab": {
          "base_uri": "https://localhost:8080/",
          "height": 254
        },
        "id": "LqHukslFO7O9",
        "outputId": "3102f829-e264-41b1-a22c-dcaff28f78b9"
      },
      "execution_count": null,
      "outputs": [
        {
          "output_type": "stream",
          "name": "stdout",
          "text": [
            "iris target 값: [0 0 0 0 0 0 0 0 0 0 0 0 0 0 0 0 0 0 0 0 0 0 0 0 0 0 0 0 0 0 0 0 0 0 0 0 0\n",
            " 0 0 0 0 0 0 0 0 0 0 0 0 0 1 1 1 1 1 1 1 1 1 1 1 1 1 1 1 1 1 1 1 1 1 1 1 1\n",
            " 1 1 1 1 1 1 1 1 1 1 1 1 1 1 1 1 1 1 1 1 1 1 1 1 1 1 2 2 2 2 2 2 2 2 2 2 2\n",
            " 2 2 2 2 2 2 2 2 2 2 2 2 2 2 2 2 2 2 2 2 2 2 2 2 2 2 2 2 2 2 2 2 2 2 2 2 2\n",
            " 2 2]\n",
            "iris target 명: ['setosa' 'versicolor' 'virginica']\n"
          ]
        },
        {
          "output_type": "execute_result",
          "data": {
            "text/plain": [
              "   sepal length (cm)  sepal width (cm)  petal length (cm)  petal width (cm)  \\\n",
              "0                5.1               3.5                1.4               0.2   \n",
              "1                4.9               3.0                1.4               0.2   \n",
              "2                4.7               3.2                1.3               0.2   \n",
              "\n",
              "   label  \n",
              "0      0  \n",
              "1      0  \n",
              "2      0  "
            ],
            "text/html": [
              "\n",
              "  <div id=\"df-4f8c2818-a920-4a8a-aa87-287af68c5a09\">\n",
              "    <div class=\"colab-df-container\">\n",
              "      <div>\n",
              "<style scoped>\n",
              "    .dataframe tbody tr th:only-of-type {\n",
              "        vertical-align: middle;\n",
              "    }\n",
              "\n",
              "    .dataframe tbody tr th {\n",
              "        vertical-align: top;\n",
              "    }\n",
              "\n",
              "    .dataframe thead th {\n",
              "        text-align: right;\n",
              "    }\n",
              "</style>\n",
              "<table border=\"1\" class=\"dataframe\">\n",
              "  <thead>\n",
              "    <tr style=\"text-align: right;\">\n",
              "      <th></th>\n",
              "      <th>sepal length (cm)</th>\n",
              "      <th>sepal width (cm)</th>\n",
              "      <th>petal length (cm)</th>\n",
              "      <th>petal width (cm)</th>\n",
              "      <th>label</th>\n",
              "    </tr>\n",
              "  </thead>\n",
              "  <tbody>\n",
              "    <tr>\n",
              "      <th>0</th>\n",
              "      <td>5.1</td>\n",
              "      <td>3.5</td>\n",
              "      <td>1.4</td>\n",
              "      <td>0.2</td>\n",
              "      <td>0</td>\n",
              "    </tr>\n",
              "    <tr>\n",
              "      <th>1</th>\n",
              "      <td>4.9</td>\n",
              "      <td>3.0</td>\n",
              "      <td>1.4</td>\n",
              "      <td>0.2</td>\n",
              "      <td>0</td>\n",
              "    </tr>\n",
              "    <tr>\n",
              "      <th>2</th>\n",
              "      <td>4.7</td>\n",
              "      <td>3.2</td>\n",
              "      <td>1.3</td>\n",
              "      <td>0.2</td>\n",
              "      <td>0</td>\n",
              "    </tr>\n",
              "  </tbody>\n",
              "</table>\n",
              "</div>\n",
              "      <button class=\"colab-df-convert\" onclick=\"convertToInteractive('df-4f8c2818-a920-4a8a-aa87-287af68c5a09')\"\n",
              "              title=\"Convert this dataframe to an interactive table.\"\n",
              "              style=\"display:none;\">\n",
              "        \n",
              "  <svg xmlns=\"http://www.w3.org/2000/svg\" height=\"24px\"viewBox=\"0 0 24 24\"\n",
              "       width=\"24px\">\n",
              "    <path d=\"M0 0h24v24H0V0z\" fill=\"none\"/>\n",
              "    <path d=\"M18.56 5.44l.94 2.06.94-2.06 2.06-.94-2.06-.94-.94-2.06-.94 2.06-2.06.94zm-11 1L8.5 8.5l.94-2.06 2.06-.94-2.06-.94L8.5 2.5l-.94 2.06-2.06.94zm10 10l.94 2.06.94-2.06 2.06-.94-2.06-.94-.94-2.06-.94 2.06-2.06.94z\"/><path d=\"M17.41 7.96l-1.37-1.37c-.4-.4-.92-.59-1.43-.59-.52 0-1.04.2-1.43.59L10.3 9.45l-7.72 7.72c-.78.78-.78 2.05 0 2.83L4 21.41c.39.39.9.59 1.41.59.51 0 1.02-.2 1.41-.59l7.78-7.78 2.81-2.81c.8-.78.8-2.07 0-2.86zM5.41 20L4 18.59l7.72-7.72 1.47 1.35L5.41 20z\"/>\n",
              "  </svg>\n",
              "      </button>\n",
              "      \n",
              "  <style>\n",
              "    .colab-df-container {\n",
              "      display:flex;\n",
              "      flex-wrap:wrap;\n",
              "      gap: 12px;\n",
              "    }\n",
              "\n",
              "    .colab-df-convert {\n",
              "      background-color: #E8F0FE;\n",
              "      border: none;\n",
              "      border-radius: 50%;\n",
              "      cursor: pointer;\n",
              "      display: none;\n",
              "      fill: #1967D2;\n",
              "      height: 32px;\n",
              "      padding: 0 0 0 0;\n",
              "      width: 32px;\n",
              "    }\n",
              "\n",
              "    .colab-df-convert:hover {\n",
              "      background-color: #E2EBFA;\n",
              "      box-shadow: 0px 1px 2px rgba(60, 64, 67, 0.3), 0px 1px 3px 1px rgba(60, 64, 67, 0.15);\n",
              "      fill: #174EA6;\n",
              "    }\n",
              "\n",
              "    [theme=dark] .colab-df-convert {\n",
              "      background-color: #3B4455;\n",
              "      fill: #D2E3FC;\n",
              "    }\n",
              "\n",
              "    [theme=dark] .colab-df-convert:hover {\n",
              "      background-color: #434B5C;\n",
              "      box-shadow: 0px 1px 3px 1px rgba(0, 0, 0, 0.15);\n",
              "      filter: drop-shadow(0px 1px 2px rgba(0, 0, 0, 0.3));\n",
              "      fill: #FFFFFF;\n",
              "    }\n",
              "  </style>\n",
              "\n",
              "      <script>\n",
              "        const buttonEl =\n",
              "          document.querySelector('#df-4f8c2818-a920-4a8a-aa87-287af68c5a09 button.colab-df-convert');\n",
              "        buttonEl.style.display =\n",
              "          google.colab.kernel.accessAllowed ? 'block' : 'none';\n",
              "\n",
              "        async function convertToInteractive(key) {\n",
              "          const element = document.querySelector('#df-4f8c2818-a920-4a8a-aa87-287af68c5a09');\n",
              "          const dataTable =\n",
              "            await google.colab.kernel.invokeFunction('convertToInteractive',\n",
              "                                                     [key], {});\n",
              "          if (!dataTable) return;\n",
              "\n",
              "          const docLinkHtml = 'Like what you see? Visit the ' +\n",
              "            '<a target=\"_blank\" href=https://colab.research.google.com/notebooks/data_table.ipynb>data table notebook</a>'\n",
              "            + ' to learn more about interactive tables.';\n",
              "          element.innerHTML = '';\n",
              "          dataTable['output_type'] = 'display_data';\n",
              "          await google.colab.output.renderOutput(dataTable, element);\n",
              "          const docLink = document.createElement('div');\n",
              "          docLink.innerHTML = docLinkHtml;\n",
              "          element.appendChild(docLink);\n",
              "        }\n",
              "      </script>\n",
              "    </div>\n",
              "  </div>\n",
              "  "
            ]
          },
          "metadata": {},
          "execution_count": 16
        }
      ]
    },
    {
      "cell_type": "markdown",
      "source": [
        "# 3. 학습용 데이터와 테스트용 데이터 분리"
      ],
      "metadata": {
        "id": "hitMgHI2T1nh"
      }
    },
    {
      "cell_type": "code",
      "source": [
        "#1) 데이터 세트 분리\n",
        "#test_size 파라미터: 전체 데이터 중 테스트 데이터 비율로 데이터를 분할\n",
        "#random_state: 같은 학습/테스트용 데이터 만듦, 동일한 데이터 세트로 분리하기 위해 random_state를 일정한 숫자 값으로 부여 seed, 어떤 값을 지정해도 상관없음.\n",
        "X_train, X_test, y_train, y_test = train_test_split(iris_data, iris_label, test_size=0.2, random_state=11)\n",
        "# X_train :학습용 피처 데이터 세트,  X_test: 테스트용 피처 데이터 세트, y_train: 학습용 레이블 데이터 세트, y_test: 테스트용 레이블 데이터 세트 \n"
      ],
      "metadata": {
        "id": "Uw2fWdLkUNb6"
      },
      "execution_count": null,
      "outputs": []
    },
    {
      "cell_type": "markdown",
      "source": [
        "# 4. 머신러닝 분류 알고리즘: 의사 결정 트리 (학습&예측)"
      ],
      "metadata": {
        "id": "qJrYwrwrYj1t"
      }
    },
    {
      "cell_type": "code",
      "source": [
        "#DecisionTreeClassifier 객체 생성\n",
        "dt_clf=DecisionTreeClassifier(random_state=11) #동일한 학습/예측 결과 출력\n",
        "\n",
        "#2) 모델학습 수행\n",
        "dt_clf.fit(X_train, y_train)\n",
        "\n",
        "#3) 학습 예측 *학습 데이터가 아닌 다른 데이터 이용, 일반적으로 테스트 데이터 세트 이용\n",
        "#학습이 완료된 DecisionTreeClassifier 객체에서 테스트 데이터 세트로 예측 수행.\n",
        "pred = dt_clf.predict(X_test)\n",
        "\n",
        "#4) 예측 성능 평가(정확도) - accuracy_score()\n",
        "from sklearn.metrics import accuracy_score\n",
        "print('예측 정확도:',accuracy_score(y_test,pred))\n"
      ],
      "metadata": {
        "colab": {
          "base_uri": "https://localhost:8080/"
        },
        "id": "NhS9J-ihY7mK",
        "outputId": "8b71e7fe-281e-493b-ad7b-2241a0e0975a"
      },
      "execution_count": null,
      "outputs": [
        {
          "output_type": "stream",
          "name": "stdout",
          "text": [
            "예측 정확도: 0.9333333333333333\n"
          ]
        }
      ]
    },
    {
      "cell_type": "markdown",
      "source": [
        "<정리>\n",
        "\n",
        "\n",
        "1.   데이터 세트 분리: 데이터를 학습데이터와 테스트 데이터로 분리\n",
        "2.   모델 학습: 학습 데이터를 기반으로 ML 알고리즘 적용해 모델 학습\n",
        "3. 예측 수행: 학습된 ML 모델 이용해 테스트 데이터의 분류를 예측\n",
        "4. 평가: 예측 결괏값과 테스트 데이터의 실제 결괏값 비교해  ML 모델 성능 평가"
      ],
      "metadata": {
        "id": "dS_lzaT4dTfL"
      }
    },
    {
      "cell_type": "markdown",
      "source": [
        "# 사이킷런의 기반 프레임워크 익히기\n",
        "Estimator 이해\n",
        " - ML 모델 학습: fit()\n",
        " - 학습된 모델의 예측: predict() \n",
        " - 지도학습: \n",
        " > Classification 분류: 분류 알고리즘 구현 클래스(Classifier)\n",
        " \n",
        " > Regression 회귀: 회귀 알고리즘 구현 클래스(Regressor)\n",
        " \n",
        " > 합쳐서 Estimator *내부에서 fit(), predict() 구현 \n",
        " cf) cross_val_score() 와 같은 evalution 함수, GridSearchCV와 같은 하잎 파라미터 튜닝 지원 클래스는 Estimator을 인자로 받음.\n",
        " 즉, 위 두개의 함수 내 Estimator의 fit()과 predict()를 호춣 평가 또는 하이퍼 파라미터 튜닝 수행.\n",
        " \n",
        " -비지도학습: 차원 축소, 클러스터링, 피처 추출도 fit()과 transform() 적용\n",
        "> fit() : 입력 데이터의 형태에 맞춰 데이터 변환 위한 사전 구조 맞춤.\n",
        "> transform() : 입력 데이터의 차원변환, 클러스터링,피처 추출\n",
        "> fit_transform(): 한 번에 적용"
      ],
      "metadata": {
        "id": "69usS_j2eUGM"
      }
    },
    {
      "cell_type": "markdown",
      "source": [
        "# 내장된 예제 데이터 세트\n",
        "-예제용도의 데이터 세트: 분류,회귀 cf) datasets.load_~(),fetch 계열 (인터넷 다운 후, scikit_learn_data 서브 디렉터리 저장 후 불러들임)\n",
        "-표본 데이터로 생성될 수 있는 데이터 세트: 분류, 클러스터링\n",
        "cf) 분류를 위한 데이터 세트:datasets.make_classifications() / 클러스터링을 위한 데이터 세트 무작위 생성: datasets.make_blobs()\n",
        "\n",
        ">내장된 데이터 세트는 딕셔너리 형태로 저장\n",
        "\n",
        "<키> \n",
        "\n",
        "- data(피처의 데이터세트) #넘파이 배열\n",
        "\n",
        "- target(분류 시 레이블 값, 회귀일 때는 숫자 결괏값 데이터 세트)\n",
        "\n",
        "- target_name(개별 레이블의 이름) #넘파이 배열 또는 파이썬 리스트 타입\n",
        "\n",
        "- feature_names(피처의 이름) #넘파이 배열 또는 파이썬 리스트 타입\n",
        "\n",
        "- DESCR(데이터 세트에 대한 설명과 각 피처의 설명) #스트링 타입\n"
      ],
      "metadata": {
        "id": "P8ZIDd8q07ez"
      }
    },
    {
      "cell_type": "code",
      "source": [
        "from sklearn.datasets import load_iris\n",
        "iris_data = load_iris()\n",
        "print(type(iris_data)) #Bunch 클래스는 파이썬 딕셔너리 자료형과 유사\n",
        "#데이터 세트에 내장된 대부분의 데이터 세트는 딕셔너리 형태 값 반환\n",
        "\n",
        "keys=iris_data.keys()\n",
        "print('붓꽃 데이터 세트의 키들:', keys)\n",
        "#데이터 키는 피처들의 데이터 값 , 데이터 세트가 딕셔너리 형태이기 때문에 피처 데이터 값을 추출하기 위해 데이터 세트.data 또는 데이터 세트['data']"
      ],
      "metadata": {
        "id": "QrVvnor_4Uh3"
      },
      "execution_count": null,
      "outputs": []
    },
    {
      "cell_type": "code",
      "source": [
        "print('\\n feature_names의 type:', type(iris_data.feature_names))\n",
        "print('feature_names의 shape:', len(iris_data.feature_names))\n",
        "print(iris_data.feature_names)\n",
        "\n",
        "print('\\n target_names의 type:', type(iris_data.target_names))\n",
        "print('target_names의 shape:', len(iris_data.target_names))\n",
        "print(iris_data.target_names)\n",
        "\n",
        "print('\\n data의 type:', type(iris_data.data))\n",
        "print('data의 shape:', iris_data.data.shape)\n",
        "print(iris_data['data'])\n",
        "\n",
        "print('\\n target의 type:', type(iris_data.target))\n",
        "print('target의 shape:', iris_data.target.shape)\n",
        "print(iris_data.target)"
      ],
      "metadata": {
        "id": "KsZyQUM-6bGg"
      },
      "execution_count": null,
      "outputs": []
    },
    {
      "cell_type": "markdown",
      "source": [
        "# 4. Model Selection 모듈\n",
        "학습데이터, 테스트 데이터 세트 분리/ 교차 검증 분할 및 평가 / estimator의 하이퍼 파라미터 튜닝 위한 다양한 함수와 클래스를 제공\n",
        "\n",
        "1)학습/테스트 데이터 세트 분리 - train_test_split()\n",
        "-첫번째 인자: 피처 데이터 세트\n",
        "-두번째 인자: 레이블 데이터 세트\n",
        "-다음 인자: test_size(테스트 데이터 세트 크기 지정, 디폴트 0.25) / train_size(학습용 데이터 세트 크기) / shuffle(데이터 분리 전 데이터 미리 섞을지, 디폴트 True *효율적인 학습) / random_state (호출 시 동일한 학습,테스트용 데이터 세트 생성, 일정 값 부여)\n",
        "- 반환값:  튜플 형태, 순차적으로 학습용 데이터 피처 ->  테스트용 데이터 피처 -> 학습용 데이터 레이블 -> 테스트용 레이블 데이터"
      ],
      "metadata": {
        "id": "ruZU1Q0_7kgK"
      }
    },
    {
      "cell_type": "code",
      "source": [
        "from sklearn.tree import DecisionTreeClassifier\n",
        "from sklearn.metrics import accuracy_score\n",
        "from sklearn.datasets import load_iris\n",
        "from sklearn.model_selection import train_test_split\n",
        "\n",
        "dt_clf = DecisionTreeClassifier()\n",
        "iris_data = load_iris()\n",
        "\n",
        "X_train, X_test, y_train, y_test = train_test_split(iris_data.data, iris_data.target,test_size=0.3, random_state=121)\n",
        "\n",
        "dt_clf.fit(X_train, y_train)\n",
        "pred = dt_clf.predict(X_test)\n",
        "print('예측 정확도', accuracy_score(y_test,pred))"
      ],
      "metadata": {
        "colab": {
          "base_uri": "https://localhost:8080/"
        },
        "id": "Zdj79AeP-5nL",
        "outputId": "3e2d26b6-8fa5-4f04-d3e2-5aef30885ac9"
      },
      "execution_count": null,
      "outputs": [
        {
          "output_type": "stream",
          "name": "stdout",
          "text": [
            "예측 정확도 0.9555555555555556\n"
          ]
        }
      ]
    },
    {
      "cell_type": "markdown",
      "source": [
        "# 교차검증\n",
        "- 테스트 데이터에만 과적합 따라서, 다른 데이터 들어오면 성능 저하됨. 개선하기 위해, 교차 검증 이용하여 더 다양한 학습과 평가 수행\n",
        "- 여러 세트로 구성된 학습 데이터 세트와 검증 데이터 세트에서 학습과 평가 수행 \n",
        "- 각 세트의 수행 평가 결과에 따라 하이퍼 파라미터 튜닝 등의 모델 최적화 가능\n",
        "\n",
        "\n"
      ],
      "metadata": {
        "id": "WxpATDQKAI7w"
      }
    },
    {
      "cell_type": "markdown",
      "source": [
        "k 폴드 교차 검증"
      ],
      "metadata": {
        "id": "wJtKXXJ8DnIg"
      }
    },
    {
      "cell_type": "code",
      "source": [
        "from sklearn.tree import DecisionTreeClassifier\n",
        "from sklearn.metrics import accuracy_score\n",
        "from sklearn.model_selection import KFold\n",
        "import numpy as np\n",
        "\n",
        "iris = load_iris()\n",
        "features = iris.data\n",
        "label = iris.target\n",
        "dt_clf = DecisionTreeClassifier(random_state=156)\n",
        "\n",
        "#5개의 폴드 세트로 분리하는 KFold 객체와 폴드 세트별 정화도를 담을 리스트 객체 생성\n",
        "kfold = KFold(n_splits=5)\n",
        "cv_accuracy = []\n",
        "print('붓꽃 데이터 세트 크기:',features.shape[0])\n"
      ],
      "metadata": {
        "colab": {
          "base_uri": "https://localhost:8080/"
        },
        "id": "qwuPvHoCDtbe",
        "outputId": "d0af7889-f975-4c92-ab87-dd6793bbcaea"
      },
      "execution_count": null,
      "outputs": [
        {
          "output_type": "stream",
          "name": "stdout",
          "text": [
            "붓꽃 데이터 세트 크기: 150\n"
          ]
        },
        {
          "output_type": "execute_result",
          "data": {
            "text/plain": [
              "(150, 4)"
            ]
          },
          "metadata": {},
          "execution_count": 24
        }
      ]
    },
    {
      "cell_type": "code",
      "source": [
        "n_iter = 0\n",
        "#KFold 객체의 split()을 호출하면 폴드 별 학습용, 검증용 테스트의 로우 인덱스를 array로 반환\n",
        "for train_index, test_index in kfold.split(features):\n",
        "  #kfold.split()으로 반환된 인덱스를 이용해 학습용, 검증용 테스트 데이터 추출\n",
        "  X_train, X_test =features[train_index], features[test_index]\n",
        "  y_train, y_test = label[train_index], label[test_index]\n",
        "  #학습 및 예측\n",
        "  dt_clf.fit(X_train, y_train)\n",
        "  pred = dt_clf.predict(X_test)\n",
        "  n_iter += 1\n",
        "  #반복 시마다 정확도 측정\n",
        "  accuracy = accuracy_score(y_test,pred)\n",
        "  train_size = X_train.shape[0]\n",
        "  test_size = X_test.shape[0]\n"
      ],
      "metadata": {
        "id": "IywNL02uFyAM"
      },
      "execution_count": null,
      "outputs": []
    }
  ]
}