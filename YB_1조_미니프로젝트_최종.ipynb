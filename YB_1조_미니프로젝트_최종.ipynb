{
  "nbformat": 4,
  "nbformat_minor": 0,
  "metadata": {
    "colab": {
      "provenance": [],
      "collapsed_sections": [],
      "include_colab_link": true
    },
    "kernelspec": {
      "name": "python3",
      "display_name": "Python 3"
    },
    "language_info": {
      "name": "python"
    }
  },
  "cells": [
    {
      "cell_type": "markdown",
      "metadata": {
        "id": "view-in-github",
        "colab_type": "text"
      },
      "source": [
        "<a href=\"https://colab.research.google.com/github/altn714/ESAA/blob/main/YB_1%EC%A1%B0_%EB%AF%B8%EB%8B%88%ED%94%84%EB%A1%9C%EC%A0%9D%ED%8A%B8_%EC%B5%9C%EC%A2%85.ipynb\" target=\"_parent\"><img src=\"https://colab.research.google.com/assets/colab-badge.svg\" alt=\"Open In Colab\"/></a>"
      ]
    },
    {
      "cell_type": "markdown",
      "source": [
        "#**미니 프로젝트 : 2010년대 영화 산업 현황**\n",
        "- 관련 사이트: https://dacon.io/competitions/open/235536/data\n",
        "\n",
        "- 과제: 지금까지 배운 pandas 코드를 통해 유의미한 결과 10개 이상 출력하고, 그래프 그리기 (데이터 전처리는 예시 참고)\n",
        "\n",
        "- 조건: 변수 2개 이상 연결한 결과값 포함"
      ],
      "metadata": {
        "id": "b8FMkiLcdZtF"
      }
    },
    {
      "cell_type": "code",
      "execution_count": 1,
      "metadata": {
        "colab": {
          "base_uri": "https://localhost:8080/"
        },
        "id": "lzkDa1sCinWX",
        "outputId": "3cc884be-f78f-46d0-c2b8-c31504a32ba1"
      },
      "outputs": [
        {
          "output_type": "stream",
          "name": "stdout",
          "text": [
            "Reading package lists... Done\n",
            "Building dependency tree       \n",
            "Reading state information... Done\n",
            "The following package was automatically installed and is no longer required:\n",
            "  libnvidia-common-460\n",
            "Use 'sudo apt autoremove' to remove it.\n",
            "The following NEW packages will be installed:\n",
            "  fonts-nanum\n",
            "0 upgraded, 1 newly installed, 0 to remove and 12 not upgraded.\n",
            "Need to get 9,604 kB of archives.\n",
            "After this operation, 29.5 MB of additional disk space will be used.\n",
            "Get:1 http://archive.ubuntu.com/ubuntu bionic/universe amd64 fonts-nanum all 20170925-1 [9,604 kB]\n",
            "Fetched 9,604 kB in 2s (5,188 kB/s)\n",
            "debconf: unable to initialize frontend: Dialog\n",
            "debconf: (No usable dialog-like program is installed, so the dialog based frontend cannot be used. at /usr/share/perl5/Debconf/FrontEnd/Dialog.pm line 76, <> line 1.)\n",
            "debconf: falling back to frontend: Readline\n",
            "debconf: unable to initialize frontend: Readline\n",
            "debconf: (This frontend requires a controlling tty.)\n",
            "debconf: falling back to frontend: Teletype\n",
            "dpkg-preconfigure: unable to re-open stdin: \n",
            "Selecting previously unselected package fonts-nanum.\n",
            "(Reading database ... 123934 files and directories currently installed.)\n",
            "Preparing to unpack .../fonts-nanum_20170925-1_all.deb ...\n",
            "Unpacking fonts-nanum (20170925-1) ...\n",
            "Setting up fonts-nanum (20170925-1) ...\n",
            "Processing triggers for fontconfig (2.12.6-0ubuntu2) ...\n",
            "/usr/share/fonts: caching, new cache contents: 0 fonts, 1 dirs\n",
            "/usr/share/fonts/truetype: caching, new cache contents: 0 fonts, 3 dirs\n",
            "/usr/share/fonts/truetype/humor-sans: caching, new cache contents: 1 fonts, 0 dirs\n",
            "/usr/share/fonts/truetype/liberation: caching, new cache contents: 16 fonts, 0 dirs\n",
            "/usr/share/fonts/truetype/nanum: caching, new cache contents: 10 fonts, 0 dirs\n",
            "/usr/local/share/fonts: caching, new cache contents: 0 fonts, 0 dirs\n",
            "/root/.local/share/fonts: skipping, no such directory\n",
            "/root/.fonts: skipping, no such directory\n",
            "/var/cache/fontconfig: cleaning cache directory\n",
            "/root/.cache/fontconfig: not cleaning non-existent cache directory\n",
            "/root/.fontconfig: not cleaning non-existent cache directory\n",
            "fc-cache: succeeded\n"
          ]
        }
      ],
      "source": [
        "# 나눔 폰트 설치\n",
        "!sudo apt-get install -y fonts-nanum\n",
        "!sudo fc-cache -fv\n",
        "!rm ~/.cache/matplotlib -rf"
      ]
    },
    {
      "cell_type": "markdown",
      "source": [
        "# **1. 라이브러리 및 데이터 불러오기**\n",
        "___"
      ],
      "metadata": {
        "id": "H32GHEDXi7M1"
      }
    },
    {
      "cell_type": "code",
      "source": [
        "from google.colab import drive\n",
        "drive.mount('/content/drive') #드라이브에 접근해서 파일 가져오기"
      ],
      "metadata": {
        "colab": {
          "base_uri": "https://localhost:8080/"
        },
        "id": "fW1PmGLOkZpg",
        "outputId": "edd4dc45-492b-47ef-c5ee-6ac341a83af8"
      },
      "execution_count": 2,
      "outputs": [
        {
          "output_type": "stream",
          "name": "stdout",
          "text": [
            "Mounted at /content/drive\n"
          ]
        }
      ]
    },
    {
      "cell_type": "code",
      "source": [
        "import pandas as pd\n",
        "import numpy as np\n",
        "import matplotlib.pyplot as plt\n",
        "import seaborn as sns\n",
        "plt.rcParams['font.family'] = 'NanumGothic' #matplotlib  한글 깨짐 방지\n",
        "\n",
        "#그래픽 출력 결과를 셀 아래 표시\n",
        "%matplotlib inline\n",
        "\n",
        "import warnings\n",
        "warnings.filterwarnings(action = 'ignore')"
      ],
      "metadata": {
        "id": "KARB2174i-3N"
      },
      "execution_count": 3,
      "outputs": []
    },
    {
      "cell_type": "code",
      "source": [
        "# 데이터 불러오기\n",
        "train=pd.read_csv(\"/content/movies_train.csv\")"
      ],
      "metadata": {
        "id": "Q56gxqfMl2-i",
        "colab": {
          "base_uri": "https://localhost:8080/",
          "height": 345
        },
        "outputId": "ad6479e7-b859-4aec-dcd9-c506d2700915"
      },
      "execution_count": 4,
      "outputs": [
        {
          "output_type": "error",
          "ename": "FileNotFoundError",
          "evalue": "ignored",
          "traceback": [
            "\u001b[0;31m---------------------------------------------------------------------------\u001b[0m",
            "\u001b[0;31mFileNotFoundError\u001b[0m                         Traceback (most recent call last)",
            "\u001b[0;32m<ipython-input-4-aacf84fae8d0>\u001b[0m in \u001b[0;36m<module>\u001b[0;34m\u001b[0m\n\u001b[1;32m      1\u001b[0m \u001b[0;31m# 데이터 불러오기\u001b[0m\u001b[0;34m\u001b[0m\u001b[0;34m\u001b[0m\u001b[0;34m\u001b[0m\u001b[0m\n\u001b[0;32m----> 2\u001b[0;31m \u001b[0mtrain\u001b[0m\u001b[0;34m=\u001b[0m\u001b[0mpd\u001b[0m\u001b[0;34m.\u001b[0m\u001b[0mread_csv\u001b[0m\u001b[0;34m(\u001b[0m\u001b[0;34m\"/content/movies_train.csv\"\u001b[0m\u001b[0;34m)\u001b[0m\u001b[0;34m\u001b[0m\u001b[0;34m\u001b[0m\u001b[0m\n\u001b[0m",
            "\u001b[0;32m/usr/local/lib/python3.7/dist-packages/pandas/util/_decorators.py\u001b[0m in \u001b[0;36mwrapper\u001b[0;34m(*args, **kwargs)\u001b[0m\n\u001b[1;32m    309\u001b[0m                     \u001b[0mstacklevel\u001b[0m\u001b[0;34m=\u001b[0m\u001b[0mstacklevel\u001b[0m\u001b[0;34m,\u001b[0m\u001b[0;34m\u001b[0m\u001b[0;34m\u001b[0m\u001b[0m\n\u001b[1;32m    310\u001b[0m                 )\n\u001b[0;32m--> 311\u001b[0;31m             \u001b[0;32mreturn\u001b[0m \u001b[0mfunc\u001b[0m\u001b[0;34m(\u001b[0m\u001b[0;34m*\u001b[0m\u001b[0margs\u001b[0m\u001b[0;34m,\u001b[0m \u001b[0;34m**\u001b[0m\u001b[0mkwargs\u001b[0m\u001b[0;34m)\u001b[0m\u001b[0;34m\u001b[0m\u001b[0;34m\u001b[0m\u001b[0m\n\u001b[0m\u001b[1;32m    312\u001b[0m \u001b[0;34m\u001b[0m\u001b[0m\n\u001b[1;32m    313\u001b[0m         \u001b[0;32mreturn\u001b[0m \u001b[0mwrapper\u001b[0m\u001b[0;34m\u001b[0m\u001b[0;34m\u001b[0m\u001b[0m\n",
            "\u001b[0;32m/usr/local/lib/python3.7/dist-packages/pandas/io/parsers/readers.py\u001b[0m in \u001b[0;36mread_csv\u001b[0;34m(filepath_or_buffer, sep, delimiter, header, names, index_col, usecols, squeeze, prefix, mangle_dupe_cols, dtype, engine, converters, true_values, false_values, skipinitialspace, skiprows, skipfooter, nrows, na_values, keep_default_na, na_filter, verbose, skip_blank_lines, parse_dates, infer_datetime_format, keep_date_col, date_parser, dayfirst, cache_dates, iterator, chunksize, compression, thousands, decimal, lineterminator, quotechar, quoting, doublequote, escapechar, comment, encoding, encoding_errors, dialect, error_bad_lines, warn_bad_lines, on_bad_lines, delim_whitespace, low_memory, memory_map, float_precision, storage_options)\u001b[0m\n\u001b[1;32m    584\u001b[0m     \u001b[0mkwds\u001b[0m\u001b[0;34m.\u001b[0m\u001b[0mupdate\u001b[0m\u001b[0;34m(\u001b[0m\u001b[0mkwds_defaults\u001b[0m\u001b[0;34m)\u001b[0m\u001b[0;34m\u001b[0m\u001b[0;34m\u001b[0m\u001b[0m\n\u001b[1;32m    585\u001b[0m \u001b[0;34m\u001b[0m\u001b[0m\n\u001b[0;32m--> 586\u001b[0;31m     \u001b[0;32mreturn\u001b[0m \u001b[0m_read\u001b[0m\u001b[0;34m(\u001b[0m\u001b[0mfilepath_or_buffer\u001b[0m\u001b[0;34m,\u001b[0m \u001b[0mkwds\u001b[0m\u001b[0;34m)\u001b[0m\u001b[0;34m\u001b[0m\u001b[0;34m\u001b[0m\u001b[0m\n\u001b[0m\u001b[1;32m    587\u001b[0m \u001b[0;34m\u001b[0m\u001b[0m\n\u001b[1;32m    588\u001b[0m \u001b[0;34m\u001b[0m\u001b[0m\n",
            "\u001b[0;32m/usr/local/lib/python3.7/dist-packages/pandas/io/parsers/readers.py\u001b[0m in \u001b[0;36m_read\u001b[0;34m(filepath_or_buffer, kwds)\u001b[0m\n\u001b[1;32m    480\u001b[0m \u001b[0;34m\u001b[0m\u001b[0m\n\u001b[1;32m    481\u001b[0m     \u001b[0;31m# Create the parser.\u001b[0m\u001b[0;34m\u001b[0m\u001b[0;34m\u001b[0m\u001b[0;34m\u001b[0m\u001b[0m\n\u001b[0;32m--> 482\u001b[0;31m     \u001b[0mparser\u001b[0m \u001b[0;34m=\u001b[0m \u001b[0mTextFileReader\u001b[0m\u001b[0;34m(\u001b[0m\u001b[0mfilepath_or_buffer\u001b[0m\u001b[0;34m,\u001b[0m \u001b[0;34m**\u001b[0m\u001b[0mkwds\u001b[0m\u001b[0;34m)\u001b[0m\u001b[0;34m\u001b[0m\u001b[0;34m\u001b[0m\u001b[0m\n\u001b[0m\u001b[1;32m    483\u001b[0m \u001b[0;34m\u001b[0m\u001b[0m\n\u001b[1;32m    484\u001b[0m     \u001b[0;32mif\u001b[0m \u001b[0mchunksize\u001b[0m \u001b[0;32mor\u001b[0m \u001b[0miterator\u001b[0m\u001b[0;34m:\u001b[0m\u001b[0;34m\u001b[0m\u001b[0;34m\u001b[0m\u001b[0m\n",
            "\u001b[0;32m/usr/local/lib/python3.7/dist-packages/pandas/io/parsers/readers.py\u001b[0m in \u001b[0;36m__init__\u001b[0;34m(self, f, engine, **kwds)\u001b[0m\n\u001b[1;32m    809\u001b[0m             \u001b[0mself\u001b[0m\u001b[0;34m.\u001b[0m\u001b[0moptions\u001b[0m\u001b[0;34m[\u001b[0m\u001b[0;34m\"has_index_names\"\u001b[0m\u001b[0;34m]\u001b[0m \u001b[0;34m=\u001b[0m \u001b[0mkwds\u001b[0m\u001b[0;34m[\u001b[0m\u001b[0;34m\"has_index_names\"\u001b[0m\u001b[0;34m]\u001b[0m\u001b[0;34m\u001b[0m\u001b[0;34m\u001b[0m\u001b[0m\n\u001b[1;32m    810\u001b[0m \u001b[0;34m\u001b[0m\u001b[0m\n\u001b[0;32m--> 811\u001b[0;31m         \u001b[0mself\u001b[0m\u001b[0;34m.\u001b[0m\u001b[0m_engine\u001b[0m \u001b[0;34m=\u001b[0m \u001b[0mself\u001b[0m\u001b[0;34m.\u001b[0m\u001b[0m_make_engine\u001b[0m\u001b[0;34m(\u001b[0m\u001b[0mself\u001b[0m\u001b[0;34m.\u001b[0m\u001b[0mengine\u001b[0m\u001b[0;34m)\u001b[0m\u001b[0;34m\u001b[0m\u001b[0;34m\u001b[0m\u001b[0m\n\u001b[0m\u001b[1;32m    812\u001b[0m \u001b[0;34m\u001b[0m\u001b[0m\n\u001b[1;32m    813\u001b[0m     \u001b[0;32mdef\u001b[0m \u001b[0mclose\u001b[0m\u001b[0;34m(\u001b[0m\u001b[0mself\u001b[0m\u001b[0;34m)\u001b[0m\u001b[0;34m:\u001b[0m\u001b[0;34m\u001b[0m\u001b[0;34m\u001b[0m\u001b[0m\n",
            "\u001b[0;32m/usr/local/lib/python3.7/dist-packages/pandas/io/parsers/readers.py\u001b[0m in \u001b[0;36m_make_engine\u001b[0;34m(self, engine)\u001b[0m\n\u001b[1;32m   1038\u001b[0m             )\n\u001b[1;32m   1039\u001b[0m         \u001b[0;31m# error: Too many arguments for \"ParserBase\"\u001b[0m\u001b[0;34m\u001b[0m\u001b[0;34m\u001b[0m\u001b[0;34m\u001b[0m\u001b[0m\n\u001b[0;32m-> 1040\u001b[0;31m         \u001b[0;32mreturn\u001b[0m \u001b[0mmapping\u001b[0m\u001b[0;34m[\u001b[0m\u001b[0mengine\u001b[0m\u001b[0;34m]\u001b[0m\u001b[0;34m(\u001b[0m\u001b[0mself\u001b[0m\u001b[0;34m.\u001b[0m\u001b[0mf\u001b[0m\u001b[0;34m,\u001b[0m \u001b[0;34m**\u001b[0m\u001b[0mself\u001b[0m\u001b[0;34m.\u001b[0m\u001b[0moptions\u001b[0m\u001b[0;34m)\u001b[0m  \u001b[0;31m# type: ignore[call-arg]\u001b[0m\u001b[0;34m\u001b[0m\u001b[0;34m\u001b[0m\u001b[0m\n\u001b[0m\u001b[1;32m   1041\u001b[0m \u001b[0;34m\u001b[0m\u001b[0m\n\u001b[1;32m   1042\u001b[0m     \u001b[0;32mdef\u001b[0m \u001b[0m_failover_to_python\u001b[0m\u001b[0;34m(\u001b[0m\u001b[0mself\u001b[0m\u001b[0;34m)\u001b[0m\u001b[0;34m:\u001b[0m\u001b[0;34m\u001b[0m\u001b[0;34m\u001b[0m\u001b[0m\n",
            "\u001b[0;32m/usr/local/lib/python3.7/dist-packages/pandas/io/parsers/c_parser_wrapper.py\u001b[0m in \u001b[0;36m__init__\u001b[0;34m(self, src, **kwds)\u001b[0m\n\u001b[1;32m     49\u001b[0m \u001b[0;34m\u001b[0m\u001b[0m\n\u001b[1;32m     50\u001b[0m         \u001b[0;31m# open handles\u001b[0m\u001b[0;34m\u001b[0m\u001b[0;34m\u001b[0m\u001b[0;34m\u001b[0m\u001b[0m\n\u001b[0;32m---> 51\u001b[0;31m         \u001b[0mself\u001b[0m\u001b[0;34m.\u001b[0m\u001b[0m_open_handles\u001b[0m\u001b[0;34m(\u001b[0m\u001b[0msrc\u001b[0m\u001b[0;34m,\u001b[0m \u001b[0mkwds\u001b[0m\u001b[0;34m)\u001b[0m\u001b[0;34m\u001b[0m\u001b[0;34m\u001b[0m\u001b[0m\n\u001b[0m\u001b[1;32m     52\u001b[0m         \u001b[0;32massert\u001b[0m \u001b[0mself\u001b[0m\u001b[0;34m.\u001b[0m\u001b[0mhandles\u001b[0m \u001b[0;32mis\u001b[0m \u001b[0;32mnot\u001b[0m \u001b[0;32mNone\u001b[0m\u001b[0;34m\u001b[0m\u001b[0;34m\u001b[0m\u001b[0m\n\u001b[1;32m     53\u001b[0m \u001b[0;34m\u001b[0m\u001b[0m\n",
            "\u001b[0;32m/usr/local/lib/python3.7/dist-packages/pandas/io/parsers/base_parser.py\u001b[0m in \u001b[0;36m_open_handles\u001b[0;34m(self, src, kwds)\u001b[0m\n\u001b[1;32m    227\u001b[0m             \u001b[0mmemory_map\u001b[0m\u001b[0;34m=\u001b[0m\u001b[0mkwds\u001b[0m\u001b[0;34m.\u001b[0m\u001b[0mget\u001b[0m\u001b[0;34m(\u001b[0m\u001b[0;34m\"memory_map\"\u001b[0m\u001b[0;34m,\u001b[0m \u001b[0;32mFalse\u001b[0m\u001b[0;34m)\u001b[0m\u001b[0;34m,\u001b[0m\u001b[0;34m\u001b[0m\u001b[0;34m\u001b[0m\u001b[0m\n\u001b[1;32m    228\u001b[0m             \u001b[0mstorage_options\u001b[0m\u001b[0;34m=\u001b[0m\u001b[0mkwds\u001b[0m\u001b[0;34m.\u001b[0m\u001b[0mget\u001b[0m\u001b[0;34m(\u001b[0m\u001b[0;34m\"storage_options\"\u001b[0m\u001b[0;34m,\u001b[0m \u001b[0;32mNone\u001b[0m\u001b[0;34m)\u001b[0m\u001b[0;34m,\u001b[0m\u001b[0;34m\u001b[0m\u001b[0;34m\u001b[0m\u001b[0m\n\u001b[0;32m--> 229\u001b[0;31m             \u001b[0merrors\u001b[0m\u001b[0;34m=\u001b[0m\u001b[0mkwds\u001b[0m\u001b[0;34m.\u001b[0m\u001b[0mget\u001b[0m\u001b[0;34m(\u001b[0m\u001b[0;34m\"encoding_errors\"\u001b[0m\u001b[0;34m,\u001b[0m \u001b[0;34m\"strict\"\u001b[0m\u001b[0;34m)\u001b[0m\u001b[0;34m,\u001b[0m\u001b[0;34m\u001b[0m\u001b[0;34m\u001b[0m\u001b[0m\n\u001b[0m\u001b[1;32m    230\u001b[0m         )\n\u001b[1;32m    231\u001b[0m \u001b[0;34m\u001b[0m\u001b[0m\n",
            "\u001b[0;32m/usr/local/lib/python3.7/dist-packages/pandas/io/common.py\u001b[0m in \u001b[0;36mget_handle\u001b[0;34m(path_or_buf, mode, encoding, compression, memory_map, is_text, errors, storage_options)\u001b[0m\n\u001b[1;32m    705\u001b[0m                 \u001b[0mencoding\u001b[0m\u001b[0;34m=\u001b[0m\u001b[0mioargs\u001b[0m\u001b[0;34m.\u001b[0m\u001b[0mencoding\u001b[0m\u001b[0;34m,\u001b[0m\u001b[0;34m\u001b[0m\u001b[0;34m\u001b[0m\u001b[0m\n\u001b[1;32m    706\u001b[0m                 \u001b[0merrors\u001b[0m\u001b[0;34m=\u001b[0m\u001b[0merrors\u001b[0m\u001b[0;34m,\u001b[0m\u001b[0;34m\u001b[0m\u001b[0;34m\u001b[0m\u001b[0m\n\u001b[0;32m--> 707\u001b[0;31m                 \u001b[0mnewline\u001b[0m\u001b[0;34m=\u001b[0m\u001b[0;34m\"\"\u001b[0m\u001b[0;34m,\u001b[0m\u001b[0;34m\u001b[0m\u001b[0;34m\u001b[0m\u001b[0m\n\u001b[0m\u001b[1;32m    708\u001b[0m             )\n\u001b[1;32m    709\u001b[0m         \u001b[0;32melse\u001b[0m\u001b[0;34m:\u001b[0m\u001b[0;34m\u001b[0m\u001b[0;34m\u001b[0m\u001b[0m\n",
            "\u001b[0;31mFileNotFoundError\u001b[0m: [Errno 2] No such file or directory: '/content/movies_train.csv'"
          ]
        }
      ]
    },
    {
      "cell_type": "markdown",
      "source": [
        "# **2. 탐색적 자료 분석(EDA)**"
      ],
      "metadata": {
        "id": "sxSf7yREc9eg"
      }
    },
    {
      "cell_type": "markdown",
      "source": [
        "###**2-1) 데이터 미리보기**"
      ],
      "metadata": {
        "id": "7Fa3bBGidu0b"
      }
    },
    {
      "cell_type": "code",
      "source": [
        "train.head(10)"
      ],
      "metadata": {
        "id": "ffmiZ-l-dwx0"
      },
      "execution_count": null,
      "outputs": []
    },
    {
      "cell_type": "markdown",
      "source": [
        "###**2-2) 데이터 확인**"
      ],
      "metadata": {
        "id": "MMXF6jKKd1ar"
      }
    },
    {
      "cell_type": "markdown",
      "source": [
        "##### **변수 설명**\n",
        "+ `title` : 영화의 제목\n",
        "+ `distributor` : 배급사\n",
        "+ `genre` : 장르\n",
        "+ `release_time` : 개봉일\n",
        "+ `time` : 상영시간(분)\n",
        "+ `screening_rat` : 상영등급\n",
        "+ `director` : 감독이름\n",
        "+ `dir_prev_bfnum` : 해당 감독이 이 영화를 만들기 전 제작에 참여한 영화에서의 평균 관객수(단 관객수가 알려지지 않은 영화 제외)\n",
        "+ `dir_prev_num` : 해당 감독이 이 영화를 만들기 전 제작에 참여한 영화의 개수(단 관객수가 알려지지 않은 영화 제외)\n",
        "+ `num_staff` : 스텝수\n",
        "+ `num_actor` : 주연배우수\n",
        "+ `box_off_num` : 관객수"
      ],
      "metadata": {
        "id": "kydCl09yd6Rr"
      }
    },
    {
      "cell_type": "code",
      "source": [
        "print(train.shape)"
      ],
      "metadata": {
        "id": "u6AnfF-Nd9Ok"
      },
      "execution_count": null,
      "outputs": []
    },
    {
      "cell_type": "code",
      "source": [
        "train.describe()"
      ],
      "metadata": {
        "id": "arenyWmWd-wM"
      },
      "execution_count": null,
      "outputs": []
    },
    {
      "cell_type": "markdown",
      "source": [
        "###**2-3) 결측치 확인 및 데이터 전처리**"
      ],
      "metadata": {
        "id": "4DL1v6rPeBll"
      }
    },
    {
      "cell_type": "code",
      "source": [
        "#결측치 확인\n",
        "train.isna().sum()"
      ],
      "metadata": {
        "id": "yiad7OQweDwc"
      },
      "execution_count": null,
      "outputs": []
    },
    {
      "cell_type": "code",
      "source": [
        "# 결측값의 특성 확인\n",
        "train[train['dir_prev_bfnum'].isna()].head(3)"
      ],
      "metadata": {
        "id": "RVqWN1dLeEgU"
      },
      "execution_count": null,
      "outputs": []
    },
    {
      "cell_type": "code",
      "source": [
        "print(train[train['dir_prev_bfnum'].isna()]['dir_prev_num'].sum()) #모두 dir_prev_num이 0이다"
      ],
      "metadata": {
        "id": "0YrQps_ZeJa8"
      },
      "execution_count": null,
      "outputs": []
    },
    {
      "cell_type": "code",
      "source": [
        "train['dir_prev_bfnum'].fillna(0, inplace=True)"
      ],
      "metadata": {
        "id": "8p5jHiuAeLTN"
      },
      "execution_count": null,
      "outputs": []
    },
    {
      "cell_type": "code",
      "source": [
        "#release_time을 int -> datetime 형태로 변환\n",
        "train['release_time']=pd.to_datetime(train['release_time'])"
      ],
      "metadata": {
        "id": "YpyQGlmXeNVM"
      },
      "execution_count": null,
      "outputs": []
    },
    {
      "cell_type": "code",
      "source": [
        "train.head()"
      ],
      "metadata": {
        "id": "DIMyqb5veOnt"
      },
      "execution_count": null,
      "outputs": []
    },
    {
      "cell_type": "code",
      "source": [
        "#release_time을 int -> datatime 형태로 변환\n",
        "train['release_time']=pd.to_datetime(train['release_time'])"
      ],
      "metadata": {
        "id": "Mp3EFrVgpr-b"
      },
      "execution_count": null,
      "outputs": []
    },
    {
      "cell_type": "markdown",
      "source": [
        "#**3. 데이터 시각화 및 분석**"
      ],
      "metadata": {
        "id": "_MuYlaI0fhss"
      }
    },
    {
      "cell_type": "markdown",
      "source": [
        "##**1) 관객수 분석**"
      ],
      "metadata": {
        "id": "WQz2zX3dfl-8"
      }
    },
    {
      "cell_type": "markdown",
      "source": [
        "### **1-1) 관객수 - 배급사**\n",
        "\n",
        "- 사용한 변수:  distributor, box_off_num "
      ],
      "metadata": {
        "id": "PDAHCMjGu5O9"
      }
    },
    {
      "cell_type": "code",
      "source": [
        "## 배급사 규모 별 분할 기준 설정\n",
        "\n",
        "# 배급사의 규모는 상영 영화 수를 기준으로 판단\n",
        "# 배급사별 상영 영화 수를 dist_aud_movie라는 열 이름으로 train dataframe에 추가\n",
        "train['dist_aud_movie'] = train.groupby(['distributor'])['distributor'].transform('count') # distributor로 묶어서, distributor의 갯수를 count 해서 transform을 이용해 열 추가. \n",
        "\n",
        "ax = plt.subplots()\n",
        "ax = sns.distplot(train['dist_aud_movie'], kde=False) #dist_aud_movie 에 대한 분포를 나타내준다.\n",
        "ax.set_title(\"배급사의 영화상영수 분포\")\n",
        "ax.set_xlabel(\"영화 상영수\")\n",
        "ax.set_ylabel(\"배급사 수\")"
      ],
      "metadata": {
        "id": "w5xh2AO8udmQ"
      },
      "execution_count": null,
      "outputs": []
    },
    {
      "cell_type": "markdown",
      "source": [
        "* 위 히스토그램을 통해 배급사의 영화 상영수에 대한 분포가 3개의 봉우리, 즉 3개의 집단으로 나눠어지는 것을 알 수 있다.\n",
        "* 3개의 집단를 나누는 기준인 영화 상영수 20, 40 을 기준으로 배급사 규모를 분할하였다. \n",
        "  1. 소형 배급사 : 영화상영수 0이상 20미만\n",
        "  2. 중형 배급사 : 영화상영수 20이상 40미만\n",
        "  3. 대형 배급사 : 영화상영수 40이상"
      ],
      "metadata": {
        "id": "aGGyJ2Y50XbI"
      }
    },
    {
      "cell_type": "code",
      "source": [
        "# 비슷한 빈도수 가질 수 있도록 분할 기준 살펴보기\n",
        "dist_large = ((train['dist_aud_movie']>=0) & (train['dist_aud_movie']< 20)).sum() #184\n",
        "dist_med = ((train['dist_aud_movie']>=20) & (train['dist_aud_movie']<40)).sum() #199\n",
        "dist_small = (train['dist_aud_movie']>=40).sum() #217\n",
        "print(dist_large, dist_med, dist_small)\n",
        "\n",
        "# 배급사 규모 분할하여 새로운 변수 생성\n",
        "condlist = [( train['dist_aud_movie'] >= 40),( train['dist_aud_movie'] < 40) & ( train['dist_aud_movie'] >= 20),( train['dist_aud_movie'] < 20)]\n",
        "choicelist = ['대형','중형','소형']\n",
        "train['dist_size'] = np.select(condlist, choicelist)\n",
        "train.head()"
      ],
      "metadata": {
        "id": "9vrUufLszgeF"
      },
      "execution_count": null,
      "outputs": []
    },
    {
      "cell_type": "code",
      "source": [
        "# 배급사 규모(대형, 중형, 소형)와 관객수의 관계\n",
        "plt.rcParams['figure.figsize'] = [10, 10]\n",
        "ax=plt.subplots()\n",
        "ax=sns.boxplot(x='dist_size',y='box_off_num',data= train,order=['대형','중형','소형'])\n",
        "\n",
        "#제목 및 라벨 추가\n",
        "ax.set_title('배급사 규모와 관객수의 관계를 나타내는 boxplot')\n",
        "ax.set_xlabel('배급사 규모')\n",
        "ax.set_ylabel('관객수')"
      ],
      "metadata": {
        "id": "2of38iAK1CUe"
      },
      "execution_count": null,
      "outputs": []
    },
    {
      "cell_type": "markdown",
      "source": [
        "##### | 분석 결과\n",
        "___\n",
        "- 대형 배급사에서 제작하는 영화의 관객수가 중형, 소형 배급사보다 월등히 많다. \n",
        "- 반면, 중형 배급사와 소형 배급사 제작 영화의 관객수는 유의미한 차이를 보이지 않았다. "
      ],
      "metadata": {
        "id": "WK41iRZ15B7T"
      }
    },
    {
      "cell_type": "markdown",
      "source": [
        "### **1-2) 관객수 - 장르**\n",
        "\n",
        "\n",
        "- 사용한 변수:  genre, box_off_num "
      ],
      "metadata": {
        "id": "ORBjLqsx50M_"
      }
    },
    {
      "cell_type": "code",
      "source": [
        "# 장르별 총 관객 수 구하기\n",
        "train.groupby('genre')['box_off_num'].sum().sort_values(ascending=False)"
      ],
      "metadata": {
        "id": "2HdqFMkZQr4m"
      },
      "execution_count": null,
      "outputs": []
    },
    {
      "cell_type": "code",
      "source": [
        "# 장르별 총 관객 수 bar 플랏\n",
        "genre_aud = train.groupby('genre')['box_off_num'].sum().sort_values(ascending=False)\n",
        "df = pd.DataFrame(genre_aud)\n",
        "df[\"genre\"]= df.index #genre 열 생성\n",
        "plt.rcParams['figure.figsize'] = [10,10] \n",
        "ax = plt.subplots()\n",
        "ax = sns.barplot(x='genre', y='box_off_num',data = df)\n",
        "\n",
        "#제목 및 라벨 추가\n",
        "ax.set_title('장르 별 관객 수의 관계를 나타내는 bar')\n",
        "ax.set_xlabel('장르')\n",
        "ax.set_ylabel('관객수')"
      ],
      "metadata": {
        "id": "YmJ03vERI_om"
      },
      "execution_count": null,
      "outputs": []
    },
    {
      "cell_type": "markdown",
      "source": [
        "##### | 분석 결과\n",
        "___\n",
        "- 드라마, 코미디, 액션, 그리고 느와르 순으로 총 관객 수가 많다. \n",
        "- 드라마의 관객수는 코미디, 액션, 느와르 관객수의 2배 이상이라고 할 수 있다. "
      ],
      "metadata": {
        "id": "yb8Tzc7v997_"
      }
    },
    {
      "cell_type": "markdown",
      "source": [
        "### **1-3) 관객수 - 감독유명도**\n",
        "- 사용한 변수:  dir_prev_bfnum, box_off_num \n"
      ],
      "metadata": {
        "id": "llEODIDLyXjl"
      }
    },
    {
      "cell_type": "code",
      "source": [
        "train['유명도']=''\n",
        "for i in range(len(train)):\n",
        "  if train['dir_prev_bfnum'][i]==0: \n",
        "    train['유명도'][i]='1'\n",
        "  elif train['dir_prev_bfnum'][i]<100000:\n",
        "    train['유명도'][i]='2'\n",
        "  elif train['dir_prev_bfnum'][i]<500000:\n",
        "    train['유명도'][i]='3'\n",
        "  elif train['dir_prev_bfnum'][i]<1000000: \n",
        "    train['유명도'][i]='4'\n",
        "  else:\n",
        "    train['유명도'][i]='5'\n",
        "\n",
        "train['유명도'].value_counts()"
      ],
      "metadata": {
        "id": "0mywzJIsOGw9"
      },
      "execution_count": null,
      "outputs": []
    },
    {
      "cell_type": "markdown",
      "source": [
        "* 감독의 전제작 영화에서의 평균 관객수를 기준으로 구간을 나누어 '유명도'라는 변수를 생성했다. "
      ],
      "metadata": {
        "id": "4G28hmY7yc3d"
      }
    },
    {
      "cell_type": "code",
      "source": [
        "plt.figure()\n",
        "train[['box_off_num']].groupby(train['유명도']).mean().plot(kind='bar')\n",
        "\n",
        "plt.title('감독유명도 별 평균 관객 수')\n",
        "plt.xlabel('감독의 유명도')\n",
        "plt.ylabel('평균 관객 수')\n",
        "#범례 위치\n",
        "plt.legend(loc='center left', bbox_to_anchor=(1, 0.5))\n",
        "plt.show()"
      ],
      "metadata": {
        "id": "kq3ShwcEOjtO"
      },
      "execution_count": null,
      "outputs": []
    },
    {
      "cell_type": "code",
      "source": [
        "pip install pingouin"
      ],
      "metadata": {
        "id": "AK_24RLRV9Z_",
        "colab": {
          "base_uri": "https://localhost:8080/"
        },
        "outputId": "39724d9d-945b-4caa-a211-15fd1068fc3c"
      },
      "execution_count": null,
      "outputs": [
        {
          "output_type": "stream",
          "name": "stdout",
          "text": [
            "Looking in indexes: https://pypi.org/simple, https://us-python.pkg.dev/colab-wheels/public/simple/\n",
            "Requirement already satisfied: pingouin in /usr/local/lib/python3.7/dist-packages (0.5.2)\n",
            "Requirement already satisfied: outdated in /usr/local/lib/python3.7/dist-packages (from pingouin) (0.2.1)\n",
            "Requirement already satisfied: scikit-learn<1.1.0 in /usr/local/lib/python3.7/dist-packages (from pingouin) (1.0.2)\n",
            "Requirement already satisfied: tabulate in /usr/local/lib/python3.7/dist-packages (from pingouin) (0.8.10)\n",
            "Requirement already satisfied: statsmodels>=0.13 in /usr/local/lib/python3.7/dist-packages (from pingouin) (0.13.2)\n",
            "Requirement already satisfied: pandas-flavor>=0.2.0 in /usr/local/lib/python3.7/dist-packages (from pingouin) (0.2.0)\n",
            "Requirement already satisfied: pandas>=1.0 in /usr/local/lib/python3.7/dist-packages (from pingouin) (1.3.5)\n",
            "Requirement already satisfied: matplotlib>=3.0.2 in /usr/local/lib/python3.7/dist-packages (from pingouin) (3.2.2)\n",
            "Requirement already satisfied: seaborn>=0.11 in /usr/local/lib/python3.7/dist-packages (from pingouin) (0.11.2)\n",
            "Requirement already satisfied: numpy>=1.19 in /usr/local/lib/python3.7/dist-packages (from pingouin) (1.21.6)\n",
            "Requirement already satisfied: scipy>=1.7 in /usr/local/lib/python3.7/dist-packages (from pingouin) (1.7.3)\n",
            "Requirement already satisfied: pyparsing!=2.0.4,!=2.1.2,!=2.1.6,>=2.0.1 in /usr/local/lib/python3.7/dist-packages (from matplotlib>=3.0.2->pingouin) (3.0.9)\n",
            "Requirement already satisfied: kiwisolver>=1.0.1 in /usr/local/lib/python3.7/dist-packages (from matplotlib>=3.0.2->pingouin) (1.4.4)\n",
            "Requirement already satisfied: cycler>=0.10 in /usr/local/lib/python3.7/dist-packages (from matplotlib>=3.0.2->pingouin) (0.11.0)\n",
            "Requirement already satisfied: python-dateutil>=2.1 in /usr/local/lib/python3.7/dist-packages (from matplotlib>=3.0.2->pingouin) (2.8.2)\n",
            "Requirement already satisfied: typing-extensions in /usr/local/lib/python3.7/dist-packages (from kiwisolver>=1.0.1->matplotlib>=3.0.2->pingouin) (4.1.1)\n",
            "Requirement already satisfied: pytz>=2017.3 in /usr/local/lib/python3.7/dist-packages (from pandas>=1.0->pingouin) (2022.4)\n",
            "Requirement already satisfied: xarray in /usr/local/lib/python3.7/dist-packages (from pandas-flavor>=0.2.0->pingouin) (0.20.2)\n",
            "Requirement already satisfied: six>=1.5 in /usr/local/lib/python3.7/dist-packages (from python-dateutil>=2.1->matplotlib>=3.0.2->pingouin) (1.15.0)\n",
            "Requirement already satisfied: threadpoolctl>=2.0.0 in /usr/local/lib/python3.7/dist-packages (from scikit-learn<1.1.0->pingouin) (3.1.0)\n",
            "Requirement already satisfied: joblib>=0.11 in /usr/local/lib/python3.7/dist-packages (from scikit-learn<1.1.0->pingouin) (1.2.0)\n",
            "Requirement already satisfied: patsy>=0.5.2 in /usr/local/lib/python3.7/dist-packages (from statsmodels>=0.13->pingouin) (0.5.2)\n",
            "Requirement already satisfied: packaging>=21.3 in /usr/local/lib/python3.7/dist-packages (from statsmodels>=0.13->pingouin) (21.3)\n",
            "Requirement already satisfied: requests in /usr/local/lib/python3.7/dist-packages (from outdated->pingouin) (2.23.0)\n",
            "Requirement already satisfied: littleutils in /usr/local/lib/python3.7/dist-packages (from outdated->pingouin) (0.2.2)\n",
            "Requirement already satisfied: idna<3,>=2.5 in /usr/local/lib/python3.7/dist-packages (from requests->outdated->pingouin) (2.10)\n",
            "Requirement already satisfied: certifi>=2017.4.17 in /usr/local/lib/python3.7/dist-packages (from requests->outdated->pingouin) (2022.9.24)\n",
            "Requirement already satisfied: chardet<4,>=3.0.2 in /usr/local/lib/python3.7/dist-packages (from requests->outdated->pingouin) (3.0.4)\n",
            "Requirement already satisfied: urllib3!=1.25.0,!=1.25.1,<1.26,>=1.21.1 in /usr/local/lib/python3.7/dist-packages (from requests->outdated->pingouin) (1.24.3)\n",
            "Requirement already satisfied: importlib-metadata in /usr/local/lib/python3.7/dist-packages (from xarray->pandas-flavor>=0.2.0->pingouin) (5.0.0)\n",
            "Requirement already satisfied: zipp>=0.5 in /usr/local/lib/python3.7/dist-packages (from importlib-metadata->xarray->pandas-flavor>=0.2.0->pingouin) (3.8.1)\n"
          ]
        }
      ]
    },
    {
      "cell_type": "code",
      "source": [
        "\n",
        "aaa = train[['box_off_num']].groupby(train['유명도']).mean().reset_index()\n",
        "aaa.columns = ['유명도', '평균관객수']\n",
        "aaa\n",
        "\n",
        "\n",
        "#상관관계 검정 (감독의 유명도:범주형 변수/평균 관객 수:연속형 변수) => 비모수 검정 (스피어만)\n",
        "import pingouin as pg\n",
        "pg.corr(aaa.유명도.astype(int), aaa.평균관객수, method=\"spearman\")"
      ],
      "metadata": {
        "colab": {
          "base_uri": "https://localhost:8080/",
          "height": 81
        },
        "id": "6nNHYyyLUtpF",
        "outputId": "0ea6aac7-d84c-4e7c-ccb5-7e7edfee28dc"
      },
      "execution_count": null,
      "outputs": [
        {
          "output_type": "execute_result",
          "data": {
            "text/plain": [
              "          n    r       CI95%         p-val  power\n",
              "spearman  5  1.0  [1.0, 1.0]  1.404265e-24    1.0"
            ],
            "text/html": [
              "\n",
              "  <div id=\"df-4efe5473-26cd-4d14-9e68-3a3f15631ff9\">\n",
              "    <div class=\"colab-df-container\">\n",
              "      <div>\n",
              "<style scoped>\n",
              "    .dataframe tbody tr th:only-of-type {\n",
              "        vertical-align: middle;\n",
              "    }\n",
              "\n",
              "    .dataframe tbody tr th {\n",
              "        vertical-align: top;\n",
              "    }\n",
              "\n",
              "    .dataframe thead th {\n",
              "        text-align: right;\n",
              "    }\n",
              "</style>\n",
              "<table border=\"1\" class=\"dataframe\">\n",
              "  <thead>\n",
              "    <tr style=\"text-align: right;\">\n",
              "      <th></th>\n",
              "      <th>n</th>\n",
              "      <th>r</th>\n",
              "      <th>CI95%</th>\n",
              "      <th>p-val</th>\n",
              "      <th>power</th>\n",
              "    </tr>\n",
              "  </thead>\n",
              "  <tbody>\n",
              "    <tr>\n",
              "      <th>spearman</th>\n",
              "      <td>5</td>\n",
              "      <td>1.0</td>\n",
              "      <td>[1.0, 1.0]</td>\n",
              "      <td>1.404265e-24</td>\n",
              "      <td>1.0</td>\n",
              "    </tr>\n",
              "  </tbody>\n",
              "</table>\n",
              "</div>\n",
              "      <button class=\"colab-df-convert\" onclick=\"convertToInteractive('df-4efe5473-26cd-4d14-9e68-3a3f15631ff9')\"\n",
              "              title=\"Convert this dataframe to an interactive table.\"\n",
              "              style=\"display:none;\">\n",
              "        \n",
              "  <svg xmlns=\"http://www.w3.org/2000/svg\" height=\"24px\"viewBox=\"0 0 24 24\"\n",
              "       width=\"24px\">\n",
              "    <path d=\"M0 0h24v24H0V0z\" fill=\"none\"/>\n",
              "    <path d=\"M18.56 5.44l.94 2.06.94-2.06 2.06-.94-2.06-.94-.94-2.06-.94 2.06-2.06.94zm-11 1L8.5 8.5l.94-2.06 2.06-.94-2.06-.94L8.5 2.5l-.94 2.06-2.06.94zm10 10l.94 2.06.94-2.06 2.06-.94-2.06-.94-.94-2.06-.94 2.06-2.06.94z\"/><path d=\"M17.41 7.96l-1.37-1.37c-.4-.4-.92-.59-1.43-.59-.52 0-1.04.2-1.43.59L10.3 9.45l-7.72 7.72c-.78.78-.78 2.05 0 2.83L4 21.41c.39.39.9.59 1.41.59.51 0 1.02-.2 1.41-.59l7.78-7.78 2.81-2.81c.8-.78.8-2.07 0-2.86zM5.41 20L4 18.59l7.72-7.72 1.47 1.35L5.41 20z\"/>\n",
              "  </svg>\n",
              "      </button>\n",
              "      \n",
              "  <style>\n",
              "    .colab-df-container {\n",
              "      display:flex;\n",
              "      flex-wrap:wrap;\n",
              "      gap: 12px;\n",
              "    }\n",
              "\n",
              "    .colab-df-convert {\n",
              "      background-color: #E8F0FE;\n",
              "      border: none;\n",
              "      border-radius: 50%;\n",
              "      cursor: pointer;\n",
              "      display: none;\n",
              "      fill: #1967D2;\n",
              "      height: 32px;\n",
              "      padding: 0 0 0 0;\n",
              "      width: 32px;\n",
              "    }\n",
              "\n",
              "    .colab-df-convert:hover {\n",
              "      background-color: #E2EBFA;\n",
              "      box-shadow: 0px 1px 2px rgba(60, 64, 67, 0.3), 0px 1px 3px 1px rgba(60, 64, 67, 0.15);\n",
              "      fill: #174EA6;\n",
              "    }\n",
              "\n",
              "    [theme=dark] .colab-df-convert {\n",
              "      background-color: #3B4455;\n",
              "      fill: #D2E3FC;\n",
              "    }\n",
              "\n",
              "    [theme=dark] .colab-df-convert:hover {\n",
              "      background-color: #434B5C;\n",
              "      box-shadow: 0px 1px 3px 1px rgba(0, 0, 0, 0.15);\n",
              "      filter: drop-shadow(0px 1px 2px rgba(0, 0, 0, 0.3));\n",
              "      fill: #FFFFFF;\n",
              "    }\n",
              "  </style>\n",
              "\n",
              "      <script>\n",
              "        const buttonEl =\n",
              "          document.querySelector('#df-4efe5473-26cd-4d14-9e68-3a3f15631ff9 button.colab-df-convert');\n",
              "        buttonEl.style.display =\n",
              "          google.colab.kernel.accessAllowed ? 'block' : 'none';\n",
              "\n",
              "        async function convertToInteractive(key) {\n",
              "          const element = document.querySelector('#df-4efe5473-26cd-4d14-9e68-3a3f15631ff9');\n",
              "          const dataTable =\n",
              "            await google.colab.kernel.invokeFunction('convertToInteractive',\n",
              "                                                     [key], {});\n",
              "          if (!dataTable) return;\n",
              "\n",
              "          const docLinkHtml = 'Like what you see? Visit the ' +\n",
              "            '<a target=\"_blank\" href=https://colab.research.google.com/notebooks/data_table.ipynb>data table notebook</a>'\n",
              "            + ' to learn more about interactive tables.';\n",
              "          element.innerHTML = '';\n",
              "          dataTable['output_type'] = 'display_data';\n",
              "          await google.colab.output.renderOutput(dataTable, element);\n",
              "          const docLink = document.createElement('div');\n",
              "          docLink.innerHTML = docLinkHtml;\n",
              "          element.appendChild(docLink);\n",
              "        }\n",
              "      </script>\n",
              "    </div>\n",
              "  </div>\n",
              "  "
            ]
          },
          "metadata": {},
          "execution_count": 97
        }
      ]
    },
    {
      "cell_type": "markdown",
      "source": [
        "##### | 분석 결과\n",
        "___\n",
        "(평균으로 하면 )\n",
        "* 감독의 전제작 영화에서의 평균 관객수가 많을수록, 즉 유명도가 높을수록 현제작 영화의 평균 관객수가 많았다. \n",
        "* 스피어만 상관관계 계수가 1로, 두 변수의 양의 상관관계가 매우 확실하다.  \n",
        "* p-value < 0.005, 신뢰구간 95%에서 [1.0, 1.0]로 두 변수 사이의 관계가 유의하다고 할 수 있다. "
      ],
      "metadata": {
        "id": "haxvuTx-yogR"
      }
    },
    {
      "cell_type": "markdown",
      "source": [
        " *** 감독의 유명도 별 평균 관객수에 대한 박스플랏 생성**"
      ],
      "metadata": {
        "id": "yCiUCddGurml"
      }
    },
    {
      "cell_type": "code",
      "source": [
        "# 감독의 유명도 분할하여 새로운 변수 생성\n",
        "condlist = [(train['dir_prev_bfnum']>= 1000000),(train['dir_prev_bfnum'] < 1000000) & (train['dir_prev_bfnum']>= 500000), (train['dir_prev_bfnum'] < 500000) & (train['dir_prev_bfnum']>= 100000), (train['dir_prev_bfnum'] < 1000000) & (train['dir_prev_bfnum']> 0),(train['dir_prev_bfnum']==0)]\n",
        "choicelist = ['5','4','3','2','1']\n",
        "train['prev_size'] = np.select(condlist, choicelist)\n",
        "train.head()"
      ],
      "metadata": {
        "colab": {
          "base_uri": "https://localhost:8080/",
          "height": 206
        },
        "id": "XXFFyEsou3yM",
        "outputId": "f03701be-a8e5-44f1-d653-fb4e9090b68e"
      },
      "execution_count": null,
      "outputs": [
        {
          "output_type": "execute_result",
          "data": {
            "text/plain": [
              "       title   distributor genre release_time  time screening_rat director  \\\n",
              "0     개들의 전쟁      롯데엔터테인먼트    액션   2012-11-22    96      청소년 관람불가      조병옥   \n",
              "1       내부자들        (주)쇼박스   느와르   2015-11-19   130      청소년 관람불가      우민호   \n",
              "2  은밀하게 위대하게        (주)쇼박스    액션   2013-06-05   123       15세 관람가      장철수   \n",
              "3   나는 공무원이다        (주)NEW   코미디   2012-07-12   101        전체 관람가      구자홍   \n",
              "4       불량남녀  쇼박스(주)미디어플렉스   코미디   2010-11-04   108       15세 관람가      신근호   \n",
              "\n",
              "   dir_prev_bfnum  dir_prev_num  num_staff  num_actor  box_off_num  \\\n",
              "0            0.00             0         91          2        23398   \n",
              "1      1161602.50             2        387          3      7072501   \n",
              "2       220775.25             4        343          4      6959083   \n",
              "3        23894.00             2         20          6       217866   \n",
              "4            1.00             1        251          2       483387   \n",
              "\n",
              "   dist_aud_movie dist_size 유명도 prev_size  \n",
              "0              52        대형   1         1  \n",
              "1              26        중형   5         5  \n",
              "2              26        중형   3         3  \n",
              "3              30        중형   2         2  \n",
              "4               2        소형   2         2  "
            ],
            "text/html": [
              "\n",
              "  <div id=\"df-80002392-d2b8-4854-980d-7fb693e864a4\">\n",
              "    <div class=\"colab-df-container\">\n",
              "      <div>\n",
              "<style scoped>\n",
              "    .dataframe tbody tr th:only-of-type {\n",
              "        vertical-align: middle;\n",
              "    }\n",
              "\n",
              "    .dataframe tbody tr th {\n",
              "        vertical-align: top;\n",
              "    }\n",
              "\n",
              "    .dataframe thead th {\n",
              "        text-align: right;\n",
              "    }\n",
              "</style>\n",
              "<table border=\"1\" class=\"dataframe\">\n",
              "  <thead>\n",
              "    <tr style=\"text-align: right;\">\n",
              "      <th></th>\n",
              "      <th>title</th>\n",
              "      <th>distributor</th>\n",
              "      <th>genre</th>\n",
              "      <th>release_time</th>\n",
              "      <th>time</th>\n",
              "      <th>screening_rat</th>\n",
              "      <th>director</th>\n",
              "      <th>dir_prev_bfnum</th>\n",
              "      <th>dir_prev_num</th>\n",
              "      <th>num_staff</th>\n",
              "      <th>num_actor</th>\n",
              "      <th>box_off_num</th>\n",
              "      <th>dist_aud_movie</th>\n",
              "      <th>dist_size</th>\n",
              "      <th>유명도</th>\n",
              "      <th>prev_size</th>\n",
              "    </tr>\n",
              "  </thead>\n",
              "  <tbody>\n",
              "    <tr>\n",
              "      <th>0</th>\n",
              "      <td>개들의 전쟁</td>\n",
              "      <td>롯데엔터테인먼트</td>\n",
              "      <td>액션</td>\n",
              "      <td>2012-11-22</td>\n",
              "      <td>96</td>\n",
              "      <td>청소년 관람불가</td>\n",
              "      <td>조병옥</td>\n",
              "      <td>0.00</td>\n",
              "      <td>0</td>\n",
              "      <td>91</td>\n",
              "      <td>2</td>\n",
              "      <td>23398</td>\n",
              "      <td>52</td>\n",
              "      <td>대형</td>\n",
              "      <td>1</td>\n",
              "      <td>1</td>\n",
              "    </tr>\n",
              "    <tr>\n",
              "      <th>1</th>\n",
              "      <td>내부자들</td>\n",
              "      <td>(주)쇼박스</td>\n",
              "      <td>느와르</td>\n",
              "      <td>2015-11-19</td>\n",
              "      <td>130</td>\n",
              "      <td>청소년 관람불가</td>\n",
              "      <td>우민호</td>\n",
              "      <td>1161602.50</td>\n",
              "      <td>2</td>\n",
              "      <td>387</td>\n",
              "      <td>3</td>\n",
              "      <td>7072501</td>\n",
              "      <td>26</td>\n",
              "      <td>중형</td>\n",
              "      <td>5</td>\n",
              "      <td>5</td>\n",
              "    </tr>\n",
              "    <tr>\n",
              "      <th>2</th>\n",
              "      <td>은밀하게 위대하게</td>\n",
              "      <td>(주)쇼박스</td>\n",
              "      <td>액션</td>\n",
              "      <td>2013-06-05</td>\n",
              "      <td>123</td>\n",
              "      <td>15세 관람가</td>\n",
              "      <td>장철수</td>\n",
              "      <td>220775.25</td>\n",
              "      <td>4</td>\n",
              "      <td>343</td>\n",
              "      <td>4</td>\n",
              "      <td>6959083</td>\n",
              "      <td>26</td>\n",
              "      <td>중형</td>\n",
              "      <td>3</td>\n",
              "      <td>3</td>\n",
              "    </tr>\n",
              "    <tr>\n",
              "      <th>3</th>\n",
              "      <td>나는 공무원이다</td>\n",
              "      <td>(주)NEW</td>\n",
              "      <td>코미디</td>\n",
              "      <td>2012-07-12</td>\n",
              "      <td>101</td>\n",
              "      <td>전체 관람가</td>\n",
              "      <td>구자홍</td>\n",
              "      <td>23894.00</td>\n",
              "      <td>2</td>\n",
              "      <td>20</td>\n",
              "      <td>6</td>\n",
              "      <td>217866</td>\n",
              "      <td>30</td>\n",
              "      <td>중형</td>\n",
              "      <td>2</td>\n",
              "      <td>2</td>\n",
              "    </tr>\n",
              "    <tr>\n",
              "      <th>4</th>\n",
              "      <td>불량남녀</td>\n",
              "      <td>쇼박스(주)미디어플렉스</td>\n",
              "      <td>코미디</td>\n",
              "      <td>2010-11-04</td>\n",
              "      <td>108</td>\n",
              "      <td>15세 관람가</td>\n",
              "      <td>신근호</td>\n",
              "      <td>1.00</td>\n",
              "      <td>1</td>\n",
              "      <td>251</td>\n",
              "      <td>2</td>\n",
              "      <td>483387</td>\n",
              "      <td>2</td>\n",
              "      <td>소형</td>\n",
              "      <td>2</td>\n",
              "      <td>2</td>\n",
              "    </tr>\n",
              "  </tbody>\n",
              "</table>\n",
              "</div>\n",
              "      <button class=\"colab-df-convert\" onclick=\"convertToInteractive('df-80002392-d2b8-4854-980d-7fb693e864a4')\"\n",
              "              title=\"Convert this dataframe to an interactive table.\"\n",
              "              style=\"display:none;\">\n",
              "        \n",
              "  <svg xmlns=\"http://www.w3.org/2000/svg\" height=\"24px\"viewBox=\"0 0 24 24\"\n",
              "       width=\"24px\">\n",
              "    <path d=\"M0 0h24v24H0V0z\" fill=\"none\"/>\n",
              "    <path d=\"M18.56 5.44l.94 2.06.94-2.06 2.06-.94-2.06-.94-.94-2.06-.94 2.06-2.06.94zm-11 1L8.5 8.5l.94-2.06 2.06-.94-2.06-.94L8.5 2.5l-.94 2.06-2.06.94zm10 10l.94 2.06.94-2.06 2.06-.94-2.06-.94-.94-2.06-.94 2.06-2.06.94z\"/><path d=\"M17.41 7.96l-1.37-1.37c-.4-.4-.92-.59-1.43-.59-.52 0-1.04.2-1.43.59L10.3 9.45l-7.72 7.72c-.78.78-.78 2.05 0 2.83L4 21.41c.39.39.9.59 1.41.59.51 0 1.02-.2 1.41-.59l7.78-7.78 2.81-2.81c.8-.78.8-2.07 0-2.86zM5.41 20L4 18.59l7.72-7.72 1.47 1.35L5.41 20z\"/>\n",
              "  </svg>\n",
              "      </button>\n",
              "      \n",
              "  <style>\n",
              "    .colab-df-container {\n",
              "      display:flex;\n",
              "      flex-wrap:wrap;\n",
              "      gap: 12px;\n",
              "    }\n",
              "\n",
              "    .colab-df-convert {\n",
              "      background-color: #E8F0FE;\n",
              "      border: none;\n",
              "      border-radius: 50%;\n",
              "      cursor: pointer;\n",
              "      display: none;\n",
              "      fill: #1967D2;\n",
              "      height: 32px;\n",
              "      padding: 0 0 0 0;\n",
              "      width: 32px;\n",
              "    }\n",
              "\n",
              "    .colab-df-convert:hover {\n",
              "      background-color: #E2EBFA;\n",
              "      box-shadow: 0px 1px 2px rgba(60, 64, 67, 0.3), 0px 1px 3px 1px rgba(60, 64, 67, 0.15);\n",
              "      fill: #174EA6;\n",
              "    }\n",
              "\n",
              "    [theme=dark] .colab-df-convert {\n",
              "      background-color: #3B4455;\n",
              "      fill: #D2E3FC;\n",
              "    }\n",
              "\n",
              "    [theme=dark] .colab-df-convert:hover {\n",
              "      background-color: #434B5C;\n",
              "      box-shadow: 0px 1px 3px 1px rgba(0, 0, 0, 0.15);\n",
              "      filter: drop-shadow(0px 1px 2px rgba(0, 0, 0, 0.3));\n",
              "      fill: #FFFFFF;\n",
              "    }\n",
              "  </style>\n",
              "\n",
              "      <script>\n",
              "        const buttonEl =\n",
              "          document.querySelector('#df-80002392-d2b8-4854-980d-7fb693e864a4 button.colab-df-convert');\n",
              "        buttonEl.style.display =\n",
              "          google.colab.kernel.accessAllowed ? 'block' : 'none';\n",
              "\n",
              "        async function convertToInteractive(key) {\n",
              "          const element = document.querySelector('#df-80002392-d2b8-4854-980d-7fb693e864a4');\n",
              "          const dataTable =\n",
              "            await google.colab.kernel.invokeFunction('convertToInteractive',\n",
              "                                                     [key], {});\n",
              "          if (!dataTable) return;\n",
              "\n",
              "          const docLinkHtml = 'Like what you see? Visit the ' +\n",
              "            '<a target=\"_blank\" href=https://colab.research.google.com/notebooks/data_table.ipynb>data table notebook</a>'\n",
              "            + ' to learn more about interactive tables.';\n",
              "          element.innerHTML = '';\n",
              "          dataTable['output_type'] = 'display_data';\n",
              "          await google.colab.output.renderOutput(dataTable, element);\n",
              "          const docLink = document.createElement('div');\n",
              "          docLink.innerHTML = docLinkHtml;\n",
              "          element.appendChild(docLink);\n",
              "        }\n",
              "      </script>\n",
              "    </div>\n",
              "  </div>\n",
              "  "
            ]
          },
          "metadata": {},
          "execution_count": 98
        }
      ]
    },
    {
      "cell_type": "code",
      "source": [
        "# 감독의 유명도 척도와 관객수의 관계 박스플랏으로 표현\n",
        "plt.rcParams['figure.figsize'] = [10, 10]\n",
        "bx=plt.subplots()\n",
        "bx=sns.boxplot(x='prev_size',y='box_off_num',data= train,order=['1','2','3','4','5'])\n",
        "\n",
        "#제목 및 라벨 추가\n",
        "bx.set_title('감독의 유명도 척도와 관객수의 관계를 나타내는 boxplot')\n",
        "bx.set_xlabel('감독의 유명도 척도')\n",
        "bx.set_ylabel('관객수')"
      ],
      "metadata": {
        "colab": {
          "base_uri": "https://localhost:8080/",
          "height": 637
        },
        "id": "MnQgntM2y0Al",
        "outputId": "6db26807-0361-4102-ddce-9185cb97b406"
      },
      "execution_count": null,
      "outputs": [
        {
          "output_type": "execute_result",
          "data": {
            "text/plain": [
              "Text(0, 0.5, '관객수')"
            ]
          },
          "metadata": {},
          "execution_count": 99
        },
        {
          "output_type": "display_data",
          "data": {
            "text/plain": [
              "<Figure size 720x720 with 1 Axes>"
            ],
            "image/png": "[encoded data removed]"
          },
          "metadata": {
            "needs_background": "light"
          }
        }
      ]
    },
    {
      "cell_type": "markdown",
      "source": [
        "##### | 분석 결과\n",
        "___\n",
        "- 감독의 유명도가 높을수록 관객수가 많다고 할 수 있다."
      ],
      "metadata": {
        "id": "03JS9CMM0AWn"
      }
    },
    {
      "cell_type": "markdown",
      "source": [
        "##**2) 상영등급 분석**"
      ],
      "metadata": {
        "id": "ICyhEL_h26uf"
      }
    },
    {
      "cell_type": "code",
      "source": [
        "train['screening_rat'].value_counts()"
      ],
      "metadata": {
        "colab": {
          "base_uri": "https://localhost:8080/"
        },
        "outputId": "c9aa96db-b279-4d25-9b01-4bc709c48bc4",
        "id": "XFH0LNPX26uh"
      },
      "execution_count": null,
      "outputs": [
        {
          "output_type": "execute_result",
          "data": {
            "text/plain": [
              "청소년 관람불가    204\n",
              "15세 관람가     202\n",
              "12세 관람가     102\n",
              "전체 관람가       92\n",
              "Name: screening_rat, dtype: int64"
            ]
          },
          "metadata": {},
          "execution_count": 100
        }
      ]
    },
    {
      "cell_type": "code",
      "source": [
        "train['screening_rat'].value_counts().plot(kind='bar')\n",
        "plt.title('상영등급에 따른 영화 상영수')\n",
        "plt.xlabel('상영등급')\n",
        "plt.ylabel('count')"
      ],
      "metadata": {
        "colab": {
          "base_uri": "https://localhost:8080/",
          "height": 697
        },
        "outputId": "f0514909-97ac-4583-d9e5-cd8a09b77d12",
        "id": "3Tea2G3N26uj"
      },
      "execution_count": null,
      "outputs": [
        {
          "output_type": "execute_result",
          "data": {
            "text/plain": [
              "Text(0, 0.5, 'count')"
            ]
          },
          "metadata": {},
          "execution_count": 101
        },
        {
          "output_type": "display_data",
          "data": {
            "text/plain": [
              "<Figure size 720x720 with 1 Axes>"
            ],
            "image/png": "[encoded data removed]"
          },
          "metadata": {
            "needs_background": "light"
          }
        }
      ]
    },
    {
      "cell_type": "markdown",
      "source": [
        "##### | 분석 결과\n",
        "___\n",
        "- 청소년 관람불가, 15세 관람가, 12세 관람가, 전체 관람가 순으로 많다. 청소년 관람불가, 15세 관람가 영화 수는 12세 관람가, 전체 관람가의 2배 정도이다."
      ],
      "metadata": {
        "id": "u067mAbi26uk"
      }
    },
    {
      "cell_type": "markdown",
      "source": [
        "### **2-1) 상영등급 별 관객수**\n",
        "- 사용한 변수:  screening_rat, box_off_num"
      ],
      "metadata": {
        "id": "DolhBlMh2wAz"
      }
    },
    {
      "cell_type": "code",
      "source": [
        "ax=plt.subplots()\n",
        "ordersr=['전체 관람가','12세 관람가','15세 관람가','청소년 관람불가']\n",
        "ax=sns.boxplot(x='screening_rat',y='box_off_num',data=train,order=ordersr)\n",
        "plt.title(\"상영등급 별 관객수\")\n",
        "plt.xlabel('상영등급')\n",
        "plt.ylabel('관객수')"
      ],
      "metadata": {
        "colab": {
          "base_uri": "https://localhost:8080/",
          "height": 638
        },
        "outputId": "1fb192cd-c76f-4ebe-c64c-0c56885f3e49",
        "id": "lOc32gZl2wA1"
      },
      "execution_count": null,
      "outputs": [
        {
          "output_type": "execute_result",
          "data": {
            "text/plain": [
              "Text(0, 0.5, '관객수')"
            ]
          },
          "metadata": {},
          "execution_count": 102
        },
        {
          "output_type": "display_data",
          "data": {
            "text/plain": [
              "<Figure size 720x720 with 1 Axes>"
            ],
            "image/png": "[encoded data removed]"
          },
          "metadata": {
            "needs_background": "light"
          }
        }
      ]
    },
    {
      "cell_type": "code",
      "source": [
        "ax=plt.subplots()\n",
        "ax=sns.boxplot(x='screening_rat',y='box_off_num',data=train,order=ordersr)\n",
        "plt.title(\"상영등급 별 관객수\")\n",
        "plt.xlabel('상영등급')\n",
        "plt.ylabel('관객수')\n",
        "plt.ylim(0,4000000) #ylim 조정해서 작은 값들의 그래프가 더 잘 보이게"
      ],
      "metadata": {
        "colab": {
          "base_uri": "https://localhost:8080/",
          "height": 638
        },
        "outputId": "817e7683-fa89-48bd-8ee0-b4ac4a941fdb",
        "id": "8MDbQPJL2wA3"
      },
      "execution_count": null,
      "outputs": [
        {
          "output_type": "execute_result",
          "data": {
            "text/plain": [
              "(0.0, 4000000.0)"
            ]
          },
          "metadata": {},
          "execution_count": 103
        },
        {
          "output_type": "display_data",
          "data": {
            "text/plain": [
              "<Figure size 720x720 with 1 Axes>"
            ],
            "image/png": "[encoded data removed]"
          },
          "metadata": {
            "needs_background": "light"
          }
        }
      ]
    },
    {
      "cell_type": "markdown",
      "source": [
        "##### | 분석 결과\n",
        "___\n",
        "- 15세, 12세 관람가가 전체 관람가, 청소년 관람불가보다 관객수가 더 많다. "
      ],
      "metadata": {
        "id": "7Y2mIL0B2wA4"
      }
    },
    {
      "cell_type": "markdown",
      "source": [
        "### **2-2) 상영등급 별 인기있는 장르**\n",
        "- 사용한 변수: box_off_num, screening_rate, genre"
      ],
      "metadata": {
        "id": "40Tv1KpQ2wA4"
      }
    },
    {
      "cell_type": "code",
      "source": [
        "order_g = train['genre'].unique() #genre 값들의 순서 정하고 색깔 겹치지 않게 지정\n",
        "order_g = np.sort(order_g)\n",
        "color_g= sns.color_palette('hls', len(order_g))\n",
        "a=train.groupby(['screening_rat','genre']).sum()\n",
        "a=pd.DataFrame(a.reset_index())\n",
        "a = a.pivot(index='screening_rat', columns='genre', values='box_off_num')\n",
        "a.plot.bar(stacked=True,color=color_g) #누적 막대그래프\n",
        "plt.legend(loc='center left', bbox_to_anchor=(1, 0.5)) #legend 위치 조정\n",
        "plt.xticks(rotation=0)\n",
        "plt.title('상영등급 별 장르가 차지하는 비율')\n",
        "plt.xlabel('상영등급')\n",
        "plt.ylabel('관객수')"
      ],
      "metadata": {
        "colab": {
          "base_uri": "https://localhost:8080/",
          "height": 638
        },
        "outputId": "8e970072-aec5-45e3-df82-6151e2a280c3",
        "id": "Yc-7lmsA2wA5"
      },
      "execution_count": null,
      "outputs": [
        {
          "output_type": "execute_result",
          "data": {
            "text/plain": [
              "Text(0, 0.5, '관객수')"
            ]
          },
          "metadata": {},
          "execution_count": 104
        },
        {
          "output_type": "display_data",
          "data": {
            "text/plain": [
              "<Figure size 720x720 with 1 Axes>"
            ],
            "image/png": "[encoded data removed]"
          },
          "metadata": {
            "needs_background": "light"
          }
        }
      ]
    },
    {
      "cell_type": "markdown",
      "source": [
        "##### | 분석 결과\n",
        "___\n",
        "- 전체관람가에서는 다큐멘터리와 애니메이션, 공통적으로 12세, 15세 관람가에서는 드라마, 청소년 관람불가에서는 느와르 장르가 인기가 많다."
      ],
      "metadata": {
        "id": "urTou5nZ2wA5"
      }
    },
    {
      "cell_type": "markdown",
      "source": [
        "##**3) 개봉일 분석**"
      ],
      "metadata": {
        "id": "OLJVp65RlRVi"
      }
    },
    {
      "cell_type": "markdown",
      "source": [
        "### **3-1) 개봉월에 따른 관객 수**\n",
        "- 사용한 변수: release_time, box_off_num"
      ],
      "metadata": {
        "id": "awe8VVEYlvHN"
      }
    },
    {
      "cell_type": "code",
      "source": [
        "# release_time 날짜형으로 바꾸기\n",
        "train['release_time']=pd.to_datetime(train['release_time'])\n",
        "\n",
        "# release_month 달 추출\n",
        "train['release_month']=train['release_time'].dt.month"
      ],
      "metadata": {
        "id": "eaPBKrNRmCAV"
      },
      "execution_count": null,
      "outputs": []
    },
    {
      "cell_type": "code",
      "source": [
        "# seaborn 라이브러리로 그래프 그리기 전, 색깔 지정\n",
        "\n",
        "## month 색깔 지정\n",
        "color_m = sns.color_palette('hls', len(train['release_month'].unique()))\n",
        "\n",
        "## genre 색깔 지정\n",
        "order_g = train['genre'].unique()\n",
        "order_g = np.sort(order_g) # 한글 순 정렬 (범례 순서와 같게)\n",
        "color_g= sns.color_palette('hls', len(order_g))"
      ],
      "metadata": {
        "id": "iK8im8NjmDfc"
      },
      "execution_count": null,
      "outputs": []
    },
    {
      "cell_type": "code",
      "source": [
        "# 개봉월에 따른 관객수를 바차트로 나타내기\n",
        "\n",
        "train_mon = train[['release_month', 'box_off_num']].groupby('release_month').sum().sort_values('box_off_num', ascending=False).reset_index()\n",
        "ax = sns.barplot(x='release_month', y='box_off_num', data=train_mon, palette=color_m, \n",
        "                 order = train_mon['release_month'].value_counts().index)\n",
        "ax.set_title('개봉월에 따른 관객수')\n",
        "ax.set_xlabel('개봉월')\n",
        "ax.set_ylabel('관객수')"
      ],
      "metadata": {
        "colab": {
          "base_uri": "https://localhost:8080/",
          "height": 637
        },
        "id": "J-uqwn5OmE8s",
        "outputId": "189631b9-6bbe-4ddd-8ea2-c9599fd4b070"
      },
      "execution_count": null,
      "outputs": [
        {
          "output_type": "execute_result",
          "data": {
            "text/plain": [
              "Text(0, 0.5, '관객수')"
            ]
          },
          "metadata": {},
          "execution_count": 107
        },
        {
          "output_type": "display_data",
          "data": {
            "text/plain": [
              "<Figure size 720x720 with 1 Axes>"
            ],
            "image/png": "[encoded data removed]"
          },
          "metadata": {
            "needs_background": "light"
          }
        }
      ]
    },
    {
      "cell_type": "markdown",
      "source": [
        "##### | 분석 결과\n",
        "___\n",
        "  1. 연말 기간인 12월\n",
        "  2. 여름방학 기간인 7,8월\n",
        "  3. 연초 기간인 1월\n",
        "  4. 추석 기간인 9월  \n",
        "  순으로 관객수가 많은 것으로 나타났다. "
      ],
      "metadata": {
        "id": "JpPoNmzimHSW"
      }
    },
    {
      "cell_type": "markdown",
      "source": [
        "### **3-2) 개봉시기에 따른 장르의 인기도 추이**\n",
        "- 사용한 변수: release_month, genre, box_off_num\n",
        "\n",
        "* 관객수가 많은 특정 개봉시기에 어떤 장르가 인기가 많은지 알아보고자 한다. \n",
        "\n",
        ">-'인기가 많다'의 척도는 관객수로 정한다.  \n",
        ">-관객수가 많은 특정 개봉시기는 다음과 같다. \n",
        "  1. 연말 기간인 12월\n",
        "  2. 여름방학 기간인 7,8월\n",
        "  3. 연초 기간인 1월\n",
        "  4. 추석 기간인 9월 "
      ],
      "metadata": {
        "id": "pINUc3ibmUdL"
      }
    },
    {
      "cell_type": "code",
      "source": [
        "## 월별로 장르의 인기도 살펴보기\n",
        "# 연말 기간인 12월에 개봉된 영화의 장르 인기로를 바차트로 나타내기\n",
        "\n",
        "train_mon12 = train[train['release_month']==12][['title','genre', 'box_off_num']]\n",
        "train_mon12_sum = train_mon12.groupby('genre').sum().reset_index()\n",
        "train_mon12_sum.columns = ['genre', 'num_movies']\n",
        "\n",
        "ax = plt.subplots()\n",
        "ax = sns.barplot(x='genre', y='num_movies', data=train_mon12_sum, errwidth=0, order=order_g, palette=color_g)\n",
        "plt.xticks(rotation=45)\n",
        "ax.set_title('12월 개봉 영화의 장르 인기도')\n",
        "ax.set_xlabel('장르')\n",
        "ax.set_ylabel('관객수')"
      ],
      "metadata": {
        "colab": {
          "base_uri": "https://localhost:8080/",
          "height": 671
        },
        "id": "3wYHn5tMmxaU",
        "outputId": "325d7ec6-af96-40b5-de03-a00e1bcb65e4"
      },
      "execution_count": null,
      "outputs": [
        {
          "output_type": "execute_result",
          "data": {
            "text/plain": [
              "Text(0, 0.5, '관객수')"
            ]
          },
          "metadata": {},
          "execution_count": 108
        },
        {
          "output_type": "display_data",
          "data": {
            "text/plain": [
              "<Figure size 720x720 with 1 Axes>"
            ],
            "image/png": "[encoded data removed]"
          },
          "metadata": {
            "needs_background": "light"
          }
        }
      ]
    },
    {
      "cell_type": "markdown",
      "source": [
        "##### | 분석 결과\n",
        "___\n",
        "* 연말 기간인 12월에 개봉된 영화에서 드라마 장르가 인기가 압도적으로 많다. \n",
        "* 느와르, 멜로/로맨스, 코미디 장르가 그 다음으로 인기도가 높았지만 대체적으로 낮은 편이다. "
      ],
      "metadata": {
        "id": "JCzGyi3im3Bl"
      }
    },
    {
      "cell_type": "code",
      "source": [
        "## 월별로 장르의 인기도 살펴보기\n",
        "# 여름방학 기간인 7, 8월에 개봉된 영화의 장르 인기도를 바차트로 나타내기\n",
        "\n",
        "train_mon78 = train[(train['release_month']==7)|(train['release_month']==8)][['title','genre', 'box_off_num']]\n",
        "train_mon78_sum = train_mon78.groupby('genre').sum().reset_index()\n",
        "train_mon78_sum.columns = ['genre', 'num_movies']\n",
        "\n",
        "ax = plt.subplots()\n",
        "ax = sns.barplot(x='genre', y='num_movies', data=train_mon78_sum, errwidth=0, order=order_g, palette=color_g)\n",
        "plt.xticks(rotation=45)\n",
        "ax.set_title('7, 8월 개봉 영화의 장르 인기도')\n",
        "ax.set_xlabel('장르')\n",
        "ax.set_ylabel('관객수')"
      ],
      "metadata": {
        "colab": {
          "base_uri": "https://localhost:8080/",
          "height": 671
        },
        "id": "kxBPzf8Im-2X",
        "outputId": "d7c24017-6331-43ef-dda5-3f27e4c65bc8"
      },
      "execution_count": null,
      "outputs": [
        {
          "output_type": "execute_result",
          "data": {
            "text/plain": [
              "Text(0, 0.5, '관객수')"
            ]
          },
          "metadata": {},
          "execution_count": 109
        },
        {
          "output_type": "display_data",
          "data": {
            "text/plain": [
              "<Figure size 720x720 with 1 Axes>"
            ],
            "image/png": "[encoded data removed]"
          },
          "metadata": {
            "needs_background": "light"
          }
        }
      ]
    },
    {
      "cell_type": "markdown",
      "source": [
        "##### | 분석 결과\n",
        "___\n",
        "* 여름방학 기간인 7,8월에 개봉된 영화에서 액션 장르가 인기가 가장 많다. \n",
        "* 느와르, SF, 드라마 장르가 그 다음으로 인기도가 높다. "
      ],
      "metadata": {
        "id": "_eGoPpxVnAbb"
      }
    },
    {
      "cell_type": "code",
      "source": [
        "# 월별로 장르의 인기도 살펴보기\n",
        "## 설연휴 기간인 1월에 개봉된 영화의 장르 인기로를 바차트로 나타내기\n",
        "\n",
        "train_mon1 = train[train['release_month']==1][['title','genre', 'box_off_num']]\n",
        "train_mon1_sum = train_mon1.groupby('genre').sum().reset_index()\n",
        "train_mon1_sum.columns = ['genre', 'num_movies']\n",
        "\n",
        "ax = plt.subplots()\n",
        "ax = sns.barplot(x='genre', y='num_movies', data=train_mon1_sum, errwidth=0, order=order_g, palette=color_g)\n",
        "plt.xticks(rotation=45)\n",
        "ax.set_title('1월 개봉 영화의 장르 인기도')\n",
        "ax.set_xlabel('장르')\n",
        "ax.set_ylabel('관객수')"
      ],
      "metadata": {
        "colab": {
          "base_uri": "https://localhost:8080/",
          "height": 671
        },
        "id": "pwKiSIwrnDk8",
        "outputId": "624f96a7-785c-4e65-dd91-50c532bc1ea2"
      },
      "execution_count": null,
      "outputs": [
        {
          "output_type": "execute_result",
          "data": {
            "text/plain": [
              "Text(0, 0.5, '관객수')"
            ]
          },
          "metadata": {},
          "execution_count": 110
        },
        {
          "output_type": "display_data",
          "data": {
            "text/plain": [
              "<Figure size 720x720 with 1 Axes>"
            ],
            "image/png": "[encoded data removed]"
          },
          "metadata": {
            "needs_background": "light"
          }
        }
      ]
    },
    {
      "cell_type": "markdown",
      "source": [
        "##### | 분석 결과\n",
        "___\n",
        "* 연초 기간인 1월에 개봉된 영화에서 코미디 장르가 압도적으로 가장 인기가 많다.\n",
        "* 드라마, 액션 장르가 그 다음으로 인기도가 높지만 대체로 낮은 편이다. "
      ],
      "metadata": {
        "id": "mOenR2uQnElU"
      }
    },
    {
      "cell_type": "code",
      "source": [
        "# 월별로 장르의 인기도 살펴보기\n",
        "## 추석연휴 기간인 9월에 개봉된 영화의 장르 인기로를 바차트로 나타내기\n",
        "\n",
        "train_mon9 = train[train['release_month']==9][['title','genre', 'box_off_num']]\n",
        "train_mon9_sum = train_mon9.groupby('genre').sum().reset_index()\n",
        "train_mon9_sum.columns = ['genre', 'num_movies']\n",
        "\n",
        "ax = plt.subplots()\n",
        "ax = sns.barplot(x='genre', y='num_movies', data=train_mon9_sum, errwidth=0, order=order_g, palette=color_g)\n",
        "plt.xticks(rotation=45)\n",
        "ax.set_title('9월 개봉 영화의 장르 인기도')\n",
        "ax.set_xlabel('장르')\n",
        "ax.set_ylabel('관객수')"
      ],
      "metadata": {
        "colab": {
          "base_uri": "https://localhost:8080/",
          "height": 671
        },
        "id": "fjh7bDrFnLuM",
        "outputId": "e766864a-82ea-4eb4-cf16-81e1b91ee5c5"
      },
      "execution_count": null,
      "outputs": [
        {
          "output_type": "execute_result",
          "data": {
            "text/plain": [
              "Text(0, 0.5, '관객수')"
            ]
          },
          "metadata": {},
          "execution_count": 111
        },
        {
          "output_type": "display_data",
          "data": {
            "text/plain": [
              "<Figure size 720x720 with 1 Axes>"
            ],
            "image/png": "[encoded data removed]"
          },
          "metadata": {
            "needs_background": "light"
          }
        }
      ]
    },
    {
      "cell_type": "markdown",
      "source": [
        "##### | 분석 결과\n",
        "___\n",
        "* 추석 기간인 9월에 개봉된 영화에서 드라마 장르가 압도적으로 가장 인기가 많다.\n",
        "* 멜로/로맨스, 액션, 코미디가 그다음으로 인기도가 높았지만, 대체적으로 낮은 편이다.  "
      ],
      "metadata": {
        "id": "g4iiNViFnMVs"
      }
    },
    {
      "cell_type": "code",
      "source": [
        "# 월 전체의 장르 인기도를 한꺼번에 살펴보기\n",
        "## 누적 바차트로 나타내기\n",
        "\n",
        "train_mon_g = train.groupby(['release_month','genre'])['box_off_num'].sum().reset_index()\n",
        "\n",
        "train_mon_g_p = train_mon_g.pivot(index='release_month', columns='genre', values='box_off_num') # 피벗화\n",
        "train_mon_g_p = train_mon_g_p.loc[train_mon['release_month'].value_counts().index] # 관객수 많은 월 순서대로 정렬\n",
        "train_mon_g_p.plot.bar(stacked=True, color=color_g) # 누적 막대그래프로\n",
        "plt.legend(loc=2, bbox_to_anchor=(1, 1)) # 범례 위치\n",
        "plt.title('월 전체의 영화 장르 인기도')\n",
        "plt.xlabel('개봉월')\n",
        "plt.ylabel('관객수')"
      ],
      "metadata": {
        "colab": {
          "base_uri": "https://localhost:8080/",
          "height": 641
        },
        "id": "l3Mn2ch4nSDM",
        "outputId": "8bb02d40-80d4-47a2-d763-25f1ac4b56cb"
      },
      "execution_count": null,
      "outputs": [
        {
          "output_type": "execute_result",
          "data": {
            "text/plain": [
              "Text(0, 0.5, '관객수')"
            ]
          },
          "metadata": {},
          "execution_count": 112
        },
        {
          "output_type": "display_data",
          "data": {
            "text/plain": [
              "<Figure size 720x720 with 1 Axes>"
            ],
            "image/png": "[encoded data removed]"
          },
          "metadata": {
            "needs_background": "light"
          }
        }
      ]
    },
    {
      "cell_type": "markdown",
      "source": [
        "##### | 분석 결과\n",
        "___\n",
        "* 월별로 따로 분석한 그래프의 결과와 같이 12월에 드라마, 7,8월에 액션, 1월에 코미디, 9월에 드라마 장르가 인기가 가장 많은 것을 한번에 확인할 수 있다."
      ],
      "metadata": {
        "id": "CO1g0elfnUDM"
      }
    },
    {
      "cell_type": "markdown",
      "source": [
        "### **3-3) 배급사의 개봉시기 분포**\n",
        "- 사용한 변수: release_month, distributor"
      ],
      "metadata": {
        "id": "qPX2cFCrniCU"
      }
    },
    {
      "cell_type": "code",
      "source": [
        "# 영화상영수가 많은 상위5개 배급사의 개봉시기 분포 살펴보기\n",
        "## 배급사별로 개봉시기 분포 나타내기 \n",
        "\n",
        "# 영화상영수 많은 상위5 배급사 확인\n",
        "train_dist_top = train['distributor'].value_counts().head(5) \n",
        "\n",
        "# 그룹화\n",
        "train_dist_gr = train.groupby(['distributor', 'release_month'])['title'].count().reset_index() \n",
        "train_dist_gr.columns = ['distributor', 'release_month', 'num_movies']\n",
        "\n",
        "# 그룹화 중 상위5배급사에 해당하는 행추출\n",
        "train_dist_top_gr = train_dist_gr[train_dist_gr['distributor'].isin(train_dist_top.index)].copy() "
      ],
      "metadata": {
        "id": "MFHE1ojbnuCk"
      },
      "execution_count": null,
      "outputs": []
    },
    {
      "cell_type": "code",
      "source": [
        "# 상위5개 배급사 데이터셋 따로 추출\n",
        "top1 = train_dist_top_gr[train_dist_top_gr['distributor']=='CJ 엔터테인먼트']\n",
        "top2 = train_dist_top_gr[train_dist_top_gr['distributor']=='롯데엔터테인먼트']\n",
        "top3 = train_dist_top_gr[train_dist_top_gr['distributor']=='(주)NEW']\n",
        "top4 = train_dist_top_gr[train_dist_top_gr['distributor']=='(주)마운틴픽쳐스']\n",
        "top5 = train_dist_top_gr[train_dist_top_gr['distributor']=='(주)쇼박스']"
      ],
      "metadata": {
        "id": "MEiriH4ynxRk"
      },
      "execution_count": null,
      "outputs": []
    },
    {
      "cell_type": "code",
      "source": [
        "# 한면에 그래프 그리기\n",
        "fig = plt.figure(figsize=(4,8))\n",
        "\n",
        "ax1 = fig.add_subplot(5,1,1)\n",
        "ax2 = fig.add_subplot(5,1,2)\n",
        "ax3 = fig.add_subplot(5,1,3)\n",
        "ax4 = fig.add_subplot(5,1,4)\n",
        "ax5 = fig.add_subplot(5,1,5)\n",
        "\n",
        "ax1.bar(top1['release_month'], top1['num_movies'])\n",
        "ax1.set_title('CJ 엔터테인먼트')\n",
        "\n",
        "ax2.bar(top2['release_month'], top2['num_movies'])\n",
        "ax2.set_title('롯데엔터테인먼트')\n",
        "\n",
        "ax3.bar(top3['release_month'], top3['num_movies'])\n",
        "ax3.set_title('(주)NEW')\n",
        "\n",
        "ax4.bar(top4['release_month'], top4['num_movies'])\n",
        "ax4.set_title('(주)마운틴픽쳐스')\n",
        "\n",
        "ax5.bar(top5['release_month'], top5['num_movies'])\n",
        "ax5.set_title('(주)쇼박스')\n",
        "\n",
        "fig.suptitle('영화상영수 상위5 배급사의 개봉시기 분포', y=1.02)\n",
        "\n",
        "fig.tight_layout()"
      ],
      "metadata": {
        "colab": {
          "base_uri": "https://localhost:8080/",
          "height": 608
        },
        "id": "lXh52sTWnynM",
        "outputId": "0ceef2be-5a3d-4682-d7a4-ac61af50ba2f"
      },
      "execution_count": null,
      "outputs": [
        {
          "output_type": "display_data",
          "data": {
            "text/plain": [
              "<Figure size 288x576 with 5 Axes>"
            ],
            "image/png": "[encoded data removed]"
          },
          "metadata": {
            "needs_background": "light"
          }
        }
      ]
    },
    {
      "cell_type": "markdown",
      "source": [
        "##### | 분석 결과\n",
        "___\n",
        "* 영화상영수가 많은 배급사의 경우,  \n",
        "  상반기, 하반기 달에 위로 볼록하고, 중앙이 아래로 패인 쌍봉형태의 그래프를 보인다. \n",
        "* 배급사 전반적으로 상반기보다 하반기에 영화상영수가 더 많다. "
      ],
      "metadata": {
        "id": "cKERXOoUn75s"
      }
    },
    {
      "cell_type": "code",
      "source": [
        "# 영화상영수가 1개인 배급사의 개봉시기 분포 살펴보기\n",
        "## 배급사 전체의 개봉시기 분포를 바차트로 나타내기\n",
        "\n",
        "# 영화상영수가 1개인 배급사 확인\n",
        "train_dist_count = train['distributor'].value_counts().reset_index()\n",
        "train_dist_count.columns = ['distributor', 'num_movies']\n",
        "train_dist_count[train_dist_count['num_movies']==1].count()"
      ],
      "metadata": {
        "colab": {
          "base_uri": "https://localhost:8080/"
        },
        "id": "rrlgi7NXoA6z",
        "outputId": "3b1dc70d-7273-4601-ebfa-68a8805354af"
      },
      "execution_count": null,
      "outputs": [
        {
          "output_type": "execute_result",
          "data": {
            "text/plain": [
              "distributor    102\n",
              "num_movies     102\n",
              "dtype: int64"
            ]
          },
          "metadata": {},
          "execution_count": 116
        }
      ]
    },
    {
      "cell_type": "code",
      "source": [
        "# 영화상영수가 1개인 배급사 데이터셋 따로 추출\n",
        "train_dist_only1 = train['distributor'].value_counts().tail(102)\n",
        "train_dist_only1\n",
        "\n",
        "# 그룹화\n",
        "train_dist_g = train.groupby(['distributor', 'release_month'])['title'].count().reset_index()\n",
        "train_dist_g.columns = ['distributor', 'release_month', 'num_movies']\n",
        "\n",
        "# 그룹화 중 상위5배급사에 해당하는 행추출\n",
        "train_dist_only1_g = train_dist_g[train_dist_g['distributor'].isin(train_dist_only1.index)].copy()\n",
        "\n",
        "# 그래프\n",
        "a = train_dist_only1_g.groupby('release_month').sum().reset_index()\n",
        "ax = sns.barplot(x='release_month', y='num_movies', data=a)\n",
        "ax.set_title('영화상영수 1개인 배급사의 개봉시기 분포')\n",
        "ax.set_xlabel('개봉월')\n",
        "ax.set_ylabel('영화상영수')"
      ],
      "metadata": {
        "colab": {
          "base_uri": "https://localhost:8080/",
          "height": 637
        },
        "id": "AyYtYymeoEGD",
        "outputId": "120fada5-0407-410f-ffa2-a10df682c0fe"
      },
      "execution_count": null,
      "outputs": [
        {
          "output_type": "execute_result",
          "data": {
            "text/plain": [
              "Text(0, 0.5, '영화상영수')"
            ]
          },
          "metadata": {},
          "execution_count": 117
        },
        {
          "output_type": "display_data",
          "data": {
            "text/plain": [
              "<Figure size 720x720 with 1 Axes>"
            ],
            "image/png": "[encoded data removed]"
          },
          "metadata": {
            "needs_background": "light"
          }
        }
      ]
    },
    {
      "cell_type": "markdown",
      "source": [
        "##### | 분석 결과\n",
        "___\n",
        "* 영화상영수가 1개인 배급사의 경우,  \n",
        "  영화상영수가 많은 배급사와 마찬가지로,  \n",
        "  상반기, 하반기 달에 위로 볼록하고, 중앙이 아래로 패인 쌍봉형태의 그래프를 보인다.\n",
        "* 영화상영수가 1개인 배급사의 경우,  \n",
        "  영화상영수가 많은 배급사와 달리,  \n",
        "  상반기보다 하반기에 영화상영수가 더 많다고 할 수 없다."
      ],
      "metadata": {
        "id": "X_gCloZhoF6T"
      }
    },
    {
      "cell_type": "markdown",
      "source": [
        "##**4) 스텝수 분석**"
      ],
      "metadata": {
        "id": "d6YgN45EoRXb"
      }
    },
    {
      "cell_type": "markdown",
      "source": [
        "### **4-1) 주연배우수 vs 스텝수**\n",
        "- 사용한 변수: num_actor, num_staff"
      ],
      "metadata": {
        "id": "r6BXvsSRoV1C"
      }
    },
    {
      "cell_type": "code",
      "source": [
        "train['num_actor'].describe()"
      ],
      "metadata": {
        "colab": {
          "base_uri": "https://localhost:8080/"
        },
        "id": "RiL0zelMorUs",
        "outputId": "32f223bc-b186-4931-8c9b-5e66e922f9b2"
      },
      "execution_count": null,
      "outputs": [
        {
          "output_type": "execute_result",
          "data": {
            "text/plain": [
              "count    600.000000\n",
              "mean       3.706667\n",
              "std        2.446889\n",
              "min        0.000000\n",
              "25%        2.000000\n",
              "50%        3.000000\n",
              "75%        4.000000\n",
              "max       25.000000\n",
              "Name: num_actor, dtype: float64"
            ]
          },
          "metadata": {},
          "execution_count": 118
        }
      ]
    },
    {
      "cell_type": "code",
      "source": [
        "ax=plt.subplots()\n",
        "ax=sns.regplot(x='num_actor',y='num_staff',data=train)\n",
        "ax.set_title('주연배우수와 스텝수 간 산점도')\n",
        "ax.set_xlabel('주연배우수')\n",
        "ax.set_ylabel('스텝수')"
      ],
      "metadata": {
        "colab": {
          "base_uri": "https://localhost:8080/",
          "height": 637
        },
        "id": "crAJ0ZggosnV",
        "outputId": "70b44b09-fc3e-43d4-f4c2-e913d2870c61"
      },
      "execution_count": null,
      "outputs": [
        {
          "output_type": "execute_result",
          "data": {
            "text/plain": [
              "Text(0, 0.5, '스텝수')"
            ]
          },
          "metadata": {},
          "execution_count": 119
        },
        {
          "output_type": "display_data",
          "data": {
            "text/plain": [
              "<Figure size 720x720 with 1 Axes>"
            ],
            "image/png": "[encoded data removed]"
          },
          "metadata": {
            "needs_background": "light"
          }
        }
      ]
    },
    {
      "cell_type": "code",
      "source": [
        "#상관관계\n",
        "train[['num_actor','num_staff']].corr()"
      ],
      "metadata": {
        "colab": {
          "base_uri": "https://localhost:8080/",
          "height": 112
        },
        "id": "FDM84kp6ovqb",
        "outputId": "db14d35d-a07c-4744-82ae-fc8efe87a739"
      },
      "execution_count": null,
      "outputs": [
        {
          "output_type": "execute_result",
          "data": {
            "text/plain": [
              "           num_actor  num_staff\n",
              "num_actor   1.000000   0.077871\n",
              "num_staff   0.077871   1.000000"
            ],
            "text/html": [
              "\n",
              "  <div id=\"df-6cd47194-8e9f-4b6a-8903-9fd0d3bd7813\">\n",
              "    <div class=\"colab-df-container\">\n",
              "      <div>\n",
              "<style scoped>\n",
              "    .dataframe tbody tr th:only-of-type {\n",
              "        vertical-align: middle;\n",
              "    }\n",
              "\n",
              "    .dataframe tbody tr th {\n",
              "        vertical-align: top;\n",
              "    }\n",
              "\n",
              "    .dataframe thead th {\n",
              "        text-align: right;\n",
              "    }\n",
              "</style>\n",
              "<table border=\"1\" class=\"dataframe\">\n",
              "  <thead>\n",
              "    <tr style=\"text-align: right;\">\n",
              "      <th></th>\n",
              "      <th>num_actor</th>\n",
              "      <th>num_staff</th>\n",
              "    </tr>\n",
              "  </thead>\n",
              "  <tbody>\n",
              "    <tr>\n",
              "      <th>num_actor</th>\n",
              "      <td>1.000000</td>\n",
              "      <td>0.077871</td>\n",
              "    </tr>\n",
              "    <tr>\n",
              "      <th>num_staff</th>\n",
              "      <td>0.077871</td>\n",
              "      <td>1.000000</td>\n",
              "    </tr>\n",
              "  </tbody>\n",
              "</table>\n",
              "</div>\n",
              "      <button class=\"colab-df-convert\" onclick=\"convertToInteractive('df-6cd47194-8e9f-4b6a-8903-9fd0d3bd7813')\"\n",
              "              title=\"Convert this dataframe to an interactive table.\"\n",
              "              style=\"display:none;\">\n",
              "        \n",
              "  <svg xmlns=\"http://www.w3.org/2000/svg\" height=\"24px\"viewBox=\"0 0 24 24\"\n",
              "       width=\"24px\">\n",
              "    <path d=\"M0 0h24v24H0V0z\" fill=\"none\"/>\n",
              "    <path d=\"M18.56 5.44l.94 2.06.94-2.06 2.06-.94-2.06-.94-.94-2.06-.94 2.06-2.06.94zm-11 1L8.5 8.5l.94-2.06 2.06-.94-2.06-.94L8.5 2.5l-.94 2.06-2.06.94zm10 10l.94 2.06.94-2.06 2.06-.94-2.06-.94-.94-2.06-.94 2.06-2.06.94z\"/><path d=\"M17.41 7.96l-1.37-1.37c-.4-.4-.92-.59-1.43-.59-.52 0-1.04.2-1.43.59L10.3 9.45l-7.72 7.72c-.78.78-.78 2.05 0 2.83L4 21.41c.39.39.9.59 1.41.59.51 0 1.02-.2 1.41-.59l7.78-7.78 2.81-2.81c.8-.78.8-2.07 0-2.86zM5.41 20L4 18.59l7.72-7.72 1.47 1.35L5.41 20z\"/>\n",
              "  </svg>\n",
              "      </button>\n",
              "      \n",
              "  <style>\n",
              "    .colab-df-container {\n",
              "      display:flex;\n",
              "      flex-wrap:wrap;\n",
              "      gap: 12px;\n",
              "    }\n",
              "\n",
              "    .colab-df-convert {\n",
              "      background-color: #E8F0FE;\n",
              "      border: none;\n",
              "      border-radius: 50%;\n",
              "      cursor: pointer;\n",
              "      display: none;\n",
              "      fill: #1967D2;\n",
              "      height: 32px;\n",
              "      padding: 0 0 0 0;\n",
              "      width: 32px;\n",
              "    }\n",
              "\n",
              "    .colab-df-convert:hover {\n",
              "      background-color: #E2EBFA;\n",
              "      box-shadow: 0px 1px 2px rgba(60, 64, 67, 0.3), 0px 1px 3px 1px rgba(60, 64, 67, 0.15);\n",
              "      fill: #174EA6;\n",
              "    }\n",
              "\n",
              "    [theme=dark] .colab-df-convert {\n",
              "      background-color: #3B4455;\n",
              "      fill: #D2E3FC;\n",
              "    }\n",
              "\n",
              "    [theme=dark] .colab-df-convert:hover {\n",
              "      background-color: #434B5C;\n",
              "      box-shadow: 0px 1px 3px 1px rgba(0, 0, 0, 0.15);\n",
              "      filter: drop-shadow(0px 1px 2px rgba(0, 0, 0, 0.3));\n",
              "      fill: #FFFFFF;\n",
              "    }\n",
              "  </style>\n",
              "\n",
              "      <script>\n",
              "        const buttonEl =\n",
              "          document.querySelector('#df-6cd47194-8e9f-4b6a-8903-9fd0d3bd7813 button.colab-df-convert');\n",
              "        buttonEl.style.display =\n",
              "          google.colab.kernel.accessAllowed ? 'block' : 'none';\n",
              "\n",
              "        async function convertToInteractive(key) {\n",
              "          const element = document.querySelector('#df-6cd47194-8e9f-4b6a-8903-9fd0d3bd7813');\n",
              "          const dataTable =\n",
              "            await google.colab.kernel.invokeFunction('convertToInteractive',\n",
              "                                                     [key], {});\n",
              "          if (!dataTable) return;\n",
              "\n",
              "          const docLinkHtml = 'Like what you see? Visit the ' +\n",
              "            '<a target=\"_blank\" href=https://colab.research.google.com/notebooks/data_table.ipynb>data table notebook</a>'\n",
              "            + ' to learn more about interactive tables.';\n",
              "          element.innerHTML = '';\n",
              "          dataTable['output_type'] = 'display_data';\n",
              "          await google.colab.output.renderOutput(dataTable, element);\n",
              "          const docLink = document.createElement('div');\n",
              "          docLink.innerHTML = docLinkHtml;\n",
              "          element.appendChild(docLink);\n",
              "        }\n",
              "      </script>\n",
              "    </div>\n",
              "  </div>\n",
              "  "
            ]
          },
          "metadata": {},
          "execution_count": 120
        }
      ]
    },
    {
      "cell_type": "markdown",
      "source": [
        "##### | 분석 결과\n",
        "___\n",
        "*   주연배우수와 스텝수는 약한 양의 상관관계를 보이기는 하나 회귀선에 벗어나는 오차들이 많다.\n",
        "*   상관계수가 0.077871로 매우 작아 경향성 찾기 어렵다.\n",
        "\n"
      ],
      "metadata": {
        "id": "xEh3HM1lozb8"
      }
    },
    {
      "cell_type": "markdown",
      "source": [
        "###**4-2) 감독 전작 흥행도(유명도) vs 스텝수**\n",
        "- 사용한 변수: director, dir_prev_bfnum"
      ],
      "metadata": {
        "id": "Pa_s5WDko3hj"
      }
    },
    {
      "cell_type": "code",
      "source": [
        "#train['director'].unique()"
      ],
      "metadata": {
        "id": "UNmbe3M3o_wV"
      },
      "execution_count": null,
      "outputs": []
    },
    {
      "cell_type": "code",
      "source": [
        "train['dir_prev_bfnum'].describe()"
      ],
      "metadata": {
        "colab": {
          "base_uri": "https://localhost:8080/"
        },
        "id": "kp9j0xLupBJU",
        "outputId": "84d0db86-ebb1-486a-f4d5-48f1eaf426ec"
      },
      "execution_count": null,
      "outputs": [
        {
          "output_type": "execute_result",
          "data": {
            "text/plain": [
              "count    6.000000e+02\n",
              "mean     4.726993e+05\n",
              "std      1.309474e+06\n",
              "min      0.000000e+00\n",
              "25%      0.000000e+00\n",
              "50%      0.000000e+00\n",
              "75%      3.761416e+05\n",
              "max      1.761531e+07\n",
              "Name: dir_prev_bfnum, dtype: float64"
            ]
          },
          "metadata": {},
          "execution_count": 122
        }
      ]
    },
    {
      "cell_type": "code",
      "source": [
        "#유명도 변수 생성\n",
        "train['유명도']=''\n",
        "for i in range(len(train)):\n",
        "  if train['dir_prev_bfnum'][i]==0: \n",
        "    train['유명도'][i]='1'\n",
        "  elif train['dir_prev_bfnum'][i]<100000:\n",
        "    train['유명도'][i]='2'\n",
        "  elif train['dir_prev_bfnum'][i]<500000:\n",
        "    train['유명도'][i]='3'\n",
        "  elif train['dir_prev_bfnum'][i]<1000000: \n",
        "    train['유명도'][i]='4'\n",
        "  else:\n",
        "    train['유명도'][i]='5'"
      ],
      "metadata": {
        "id": "U6yexwLNpDLF"
      },
      "execution_count": null,
      "outputs": []
    },
    {
      "cell_type": "code",
      "source": [
        "train[['num_staff']].groupby(train['유명도']).mean().plot(kind='bar')\n",
        "plt.title(\"감독 유명도에 따른 스텝수 분포\")\n",
        "plt.xlabel(\"감독 유명도\")\n",
        "plt.ylabel(\"스텝수\")"
      ],
      "metadata": {
        "colab": {
          "base_uri": "https://localhost:8080/",
          "height": 634
        },
        "id": "ICpmMIBDpFan",
        "outputId": "77cfca93-1cb4-4cc0-8d57-0a6c0f2b3c5f"
      },
      "execution_count": null,
      "outputs": [
        {
          "output_type": "execute_result",
          "data": {
            "text/plain": [
              "Text(0, 0.5, '스텝수')"
            ]
          },
          "metadata": {},
          "execution_count": 124
        },
        {
          "output_type": "display_data",
          "data": {
            "text/plain": [
              "<Figure size 720x720 with 1 Axes>"
            ],
            "image/png": "[encoded data removed]"
          },
          "metadata": {
            "needs_background": "light"
          }
        }
      ]
    },
    {
      "cell_type": "code",
      "source": [
        "ax=plt.subplots()\n",
        "ax=sns.regplot(x='dir_prev_bfnum',y='num_staff',data=train)\n",
        "ax.set_title(\"감독 유명도와 스텝수 간 산점도\")\n",
        "ax.set_xlabel(\"감독 유명도\")\n",
        "ax.set_ylabel(\"스텝수\")"
      ],
      "metadata": {
        "colab": {
          "base_uri": "https://localhost:8080/",
          "height": 637
        },
        "id": "Sifyc6cEpOjz",
        "outputId": "cdcab3b2-f91b-4574-bf1a-71f02dd97eaa"
      },
      "execution_count": null,
      "outputs": [
        {
          "output_type": "execute_result",
          "data": {
            "text/plain": [
              "Text(0, 0.5, '스텝수')"
            ]
          },
          "metadata": {},
          "execution_count": 125
        },
        {
          "output_type": "display_data",
          "data": {
            "text/plain": [
              "<Figure size 720x720 with 1 Axes>"
            ],
            "image/png": "[encoded data removed]"
          },
          "metadata": {
            "needs_background": "light"
          }
        }
      ]
    },
    {
      "cell_type": "code",
      "source": [
        "train[['유명도','num_staff']].corr()"
      ],
      "metadata": {
        "colab": {
          "base_uri": "https://localhost:8080/",
          "height": 81
        },
        "id": "x2J_9rcD6JAP",
        "outputId": "adf64fd9-0fed-444d-bd42-18139d6b4394"
      },
      "execution_count": null,
      "outputs": [
        {
          "output_type": "execute_result",
          "data": {
            "text/plain": [
              "           num_staff\n",
              "num_staff        1.0"
            ],
            "text/html": [
              "\n",
              "  <div id=\"df-3157dd05-62d6-49f0-8e23-f86aa1a69492\">\n",
              "    <div class=\"colab-df-container\">\n",
              "      <div>\n",
              "<style scoped>\n",
              "    .dataframe tbody tr th:only-of-type {\n",
              "        vertical-align: middle;\n",
              "    }\n",
              "\n",
              "    .dataframe tbody tr th {\n",
              "        vertical-align: top;\n",
              "    }\n",
              "\n",
              "    .dataframe thead th {\n",
              "        text-align: right;\n",
              "    }\n",
              "</style>\n",
              "<table border=\"1\" class=\"dataframe\">\n",
              "  <thead>\n",
              "    <tr style=\"text-align: right;\">\n",
              "      <th></th>\n",
              "      <th>num_staff</th>\n",
              "    </tr>\n",
              "  </thead>\n",
              "  <tbody>\n",
              "    <tr>\n",
              "      <th>num_staff</th>\n",
              "      <td>1.0</td>\n",
              "    </tr>\n",
              "  </tbody>\n",
              "</table>\n",
              "</div>\n",
              "      <button class=\"colab-df-convert\" onclick=\"convertToInteractive('df-3157dd05-62d6-49f0-8e23-f86aa1a69492')\"\n",
              "              title=\"Convert this dataframe to an interactive table.\"\n",
              "              style=\"display:none;\">\n",
              "        \n",
              "  <svg xmlns=\"http://www.w3.org/2000/svg\" height=\"24px\"viewBox=\"0 0 24 24\"\n",
              "       width=\"24px\">\n",
              "    <path d=\"M0 0h24v24H0V0z\" fill=\"none\"/>\n",
              "    <path d=\"M18.56 5.44l.94 2.06.94-2.06 2.06-.94-2.06-.94-.94-2.06-.94 2.06-2.06.94zm-11 1L8.5 8.5l.94-2.06 2.06-.94-2.06-.94L8.5 2.5l-.94 2.06-2.06.94zm10 10l.94 2.06.94-2.06 2.06-.94-2.06-.94-.94-2.06-.94 2.06-2.06.94z\"/><path d=\"M17.41 7.96l-1.37-1.37c-.4-.4-.92-.59-1.43-.59-.52 0-1.04.2-1.43.59L10.3 9.45l-7.72 7.72c-.78.78-.78 2.05 0 2.83L4 21.41c.39.39.9.59 1.41.59.51 0 1.02-.2 1.41-.59l7.78-7.78 2.81-2.81c.8-.78.8-2.07 0-2.86zM5.41 20L4 18.59l7.72-7.72 1.47 1.35L5.41 20z\"/>\n",
              "  </svg>\n",
              "      </button>\n",
              "      \n",
              "  <style>\n",
              "    .colab-df-container {\n",
              "      display:flex;\n",
              "      flex-wrap:wrap;\n",
              "      gap: 12px;\n",
              "    }\n",
              "\n",
              "    .colab-df-convert {\n",
              "      background-color: #E8F0FE;\n",
              "      border: none;\n",
              "      border-radius: 50%;\n",
              "      cursor: pointer;\n",
              "      display: none;\n",
              "      fill: #1967D2;\n",
              "      height: 32px;\n",
              "      padding: 0 0 0 0;\n",
              "      width: 32px;\n",
              "    }\n",
              "\n",
              "    .colab-df-convert:hover {\n",
              "      background-color: #E2EBFA;\n",
              "      box-shadow: 0px 1px 2px rgba(60, 64, 67, 0.3), 0px 1px 3px 1px rgba(60, 64, 67, 0.15);\n",
              "      fill: #174EA6;\n",
              "    }\n",
              "\n",
              "    [theme=dark] .colab-df-convert {\n",
              "      background-color: #3B4455;\n",
              "      fill: #D2E3FC;\n",
              "    }\n",
              "\n",
              "    [theme=dark] .colab-df-convert:hover {\n",
              "      background-color: #434B5C;\n",
              "      box-shadow: 0px 1px 3px 1px rgba(0, 0, 0, 0.15);\n",
              "      filter: drop-shadow(0px 1px 2px rgba(0, 0, 0, 0.3));\n",
              "      fill: #FFFFFF;\n",
              "    }\n",
              "  </style>\n",
              "\n",
              "      <script>\n",
              "        const buttonEl =\n",
              "          document.querySelector('#df-3157dd05-62d6-49f0-8e23-f86aa1a69492 button.colab-df-convert');\n",
              "        buttonEl.style.display =\n",
              "          google.colab.kernel.accessAllowed ? 'block' : 'none';\n",
              "\n",
              "        async function convertToInteractive(key) {\n",
              "          const element = document.querySelector('#df-3157dd05-62d6-49f0-8e23-f86aa1a69492');\n",
              "          const dataTable =\n",
              "            await google.colab.kernel.invokeFunction('convertToInteractive',\n",
              "                                                     [key], {});\n",
              "          if (!dataTable) return;\n",
              "\n",
              "          const docLinkHtml = 'Like what you see? Visit the ' +\n",
              "            '<a target=\"_blank\" href=https://colab.research.google.com/notebooks/data_table.ipynb>data table notebook</a>'\n",
              "            + ' to learn more about interactive tables.';\n",
              "          element.innerHTML = '';\n",
              "          dataTable['output_type'] = 'display_data';\n",
              "          await google.colab.output.renderOutput(dataTable, element);\n",
              "          const docLink = document.createElement('div');\n",
              "          docLink.innerHTML = docLinkHtml;\n",
              "          element.appendChild(docLink);\n",
              "        }\n",
              "      </script>\n",
              "    </div>\n",
              "  </div>\n",
              "  "
            ]
          },
          "metadata": {},
          "execution_count": 126
        }
      ]
    },
    {
      "cell_type": "markdown",
      "source": [
        "##### | 분석 결과\n",
        "___\n",
        "*   감독 유명도별로 그룹화하여 살펴본 결과, 스텝 수는 감독의 유명도와 비례하여 증가하는 경향성을 보인다.\n",
        "* 감독 유명도와 스텝 수 간 상관계수가 1로, 양의 상관관계가 매우 높게 나타난다."
      ],
      "metadata": {
        "id": "mYfbPA-vpH0M"
      }
    },
    {
      "cell_type": "markdown",
      "source": [
        "##**5) 배급사 분석**"
      ],
      "metadata": {
        "id": "NqeiWRsPpUv0"
      }
    },
    {
      "cell_type": "markdown",
      "source": [
        "### **5-1) 배급사별 장르 추이: 상위 6개**\n",
        "- 사용한 변수: distributor, genre, num_movies"
      ],
      "metadata": {
        "id": "F_7iTcPd5CIW"
      }
    },
    {
      "cell_type": "code",
      "source": [
        "#영화를 가장 많이 제작하는 배급사 top10\n",
        "train['distributor'].value_counts().sort_values(ascending=False)[:10]"
      ],
      "metadata": {
        "id": "7tYXs5nN5EmT",
        "outputId": "30803bf3-1cd9-4388-f7dc-b760631e00e6",
        "colab": {
          "base_uri": "https://localhost:8080/"
        }
      },
      "execution_count": null,
      "outputs": [
        {
          "output_type": "execute_result",
          "data": {
            "text/plain": [
              "CJ 엔터테인먼트    54\n",
              "롯데엔터테인먼트     52\n",
              "(주)NEW       30\n",
              "(주)마운틴픽쳐스    29\n",
              "(주)쇼박스       26\n",
              "인디스토리        26\n",
              "골든타이드픽처스     15\n",
              "(주) 케이알씨지    14\n",
              "(주) 영화사조제    10\n",
              "영화사 진진       10\n",
              "Name: distributor, dtype: int64"
            ]
          },
          "metadata": {},
          "execution_count": 61
        }
      ]
    },
    {
      "cell_type": "code",
      "source": [
        "#배급사별 자료 정렬\n",
        "train_top6 = train['distributor'].value_counts().head(6)\n",
        "\n",
        "train_dt_genre = train.groupby(['distributor', 'genre'])['title'].count().reset_index()\n",
        "train_dt_genre.columns = ['distributor', 'genre', 'num_movies']\n",
        "\n",
        "train_distributor_genre = train_dt_genre[train_dt_genre['distributor'].isin(train_top6.index)].copy() #상위 배급사 자료만"
      ],
      "metadata": {
        "id": "oPC34Qsn5Hwy"
      },
      "execution_count": null,
      "outputs": []
    },
    {
      "cell_type": "code",
      "source": [
        "import matplotlib.patches as mpt\n",
        "import matplotlib.colors as mcl\n",
        "import matplotlib.pyplot as plt"
      ],
      "metadata": {
        "id": "TyzGOModqhYM"
      },
      "execution_count": null,
      "outputs": []
    },
    {
      "cell_type": "code",
      "source": [
        "#방법1 - 도넛 그래프\n",
        "\n",
        "freq_col = 'num_movies' ## 빈도수 칼럼\n",
        "outer_col = 'distributor' ## 상위 그룹 칼럼\n",
        "inner_col = 'genre' ## 하위 그룹 칼럼\n",
        " \n",
        "size = 0.3 ## 바깥쪽, 안쪽 도넛 조각 조각의 반지름 비율을 0.3으로 한다.\n",
        "threshold = 4 ## 상한선 백분율\n",
        " \n",
        "color = sns.color_palette('hls',len(train_distributor_genre[outer_col].unique())) ## 바깥쪽 도넛의 색상설정\n",
        " \n",
        "summary = train_distributor_genre.groupby(outer_col)[freq_col].sum().reset_index() ## 지역별로 득표수를 집계한다.\n",
        "outer_data = summary[freq_col] ## 바깥쪽 도넛에 해당하는 데이터\n",
        "inner_data = [] ## 안쪽 도넛에 대응하는 데이터\n",
        "for s in summary[outer_col]:\n",
        "    inner_data += list(train_distributor_genre.query('{0}==@s'.format(outer_col))[freq_col])\n",
        " \n",
        "fig = plt.figure(figsize=(8,8)) ## 캔버스 생성\n",
        "fig.set_facecolor('white') ## 캔버스 배경색을 하얀색으로 설정\n",
        "ax = fig.add_subplot() ## 프레임 생성\n",
        " \n",
        "## 바깥쪽 도넛 조각 차트 출력\n",
        "out_pie = ax.pie(outer_data,\n",
        "             radius=1,\n",
        "             colors=color,\n",
        "             wedgeprops=dict(width=size,edgecolor='w'))\n",
        " \n",
        "## 바깥쪽 도넛 백분율 텍스트 출력\n",
        "total = np.sum(outer_data) ## 바깥쪽 빈도수의 총합\n",
        " \n",
        "sum_pct = 0 ## 백분율 초기값\n",
        " \n",
        "for i in range(len(outer_data)):\n",
        "    ang1, ang2 = out_pie[0][i].theta1, out_pie[0][i].theta2 ## 각1, 각2\n",
        "    out_r = out_pie[0][i].r ## 원의 반지름\n",
        "    \n",
        "    x = ((2*out_r-size)/2)*np.cos(np.pi/180*((ang1+ang2)/2)) ## 바깥쪽 도넛 조각의 중앙쪽 x좌표\n",
        "    y = ((2*out_r-size)/2)*np.sin(np.pi/180*((ang1+ang2)/2)) ## 바깥쪽 도넛 조각의 중앙쪽 y좌표\n",
        "    \n",
        "    if i < len(outer_data) - 1:\n",
        "        sum_pct += float(f'{outer_data[i]/total*100:.2f}') ## 백분율을 누적한다.\n",
        "        ax.text(x,y,f'{outer_data[i]/total*100:.2f}%',ha='center',va='center') ## 백분율 텍스트 표시\n",
        "    else: ## 총합을 100으로 맞추기위해 마지막 백분율은 100에서 백분율 누적값을 빼준다.\n",
        "        ax.text(x,y,f'{100-sum_pct:.2f}%',ha='center',va='center')\n",
        " \n",
        "outer_color = [] ## 바깥쪽 도넛 조각의 색상을 hsv 컬러로 담을 리스트\n",
        "for p in out_pie[0]:\n",
        "    outer_color.append(p.get_facecolor()) ## 바깥쪽 도넛 조각을 rgb 컬러로 가져온다.\n",
        "outer_color_hsv = [mcl.rgb_to_hsv(x[:3]) for x in outer_color] ## rgb를 hsv로 바꾼다.\n",
        "outer_color_hsv = [(x[0],x[1],1) for x in outer_color_hsv] ## 색상 채도만 가져오고 명도는 1로 고정한다.\n",
        " \n",
        "inner_color = [] ## 안쪽 도넛 조각의 색상을 담는 리스트\n",
        "for i, g in enumerate(summary[outer_col]):\n",
        "    num_sub_group = len(train_distributor_genre.query('{0}==@g'.format(outer_col))) ## 하위 그룹 개수\n",
        "    jump = outer_color_hsv[i][1]/(num_sub_group+1) ## 채도 등분점 간격\n",
        "    temp_list = []\n",
        "    temp_s = np.arange(0,outer_color_hsv[i][1],jump) \n",
        "    temp_s = temp_s[1:] ## 채도 등분점\n",
        "    for t in temp_s:\n",
        "        h = outer_color_hsv[i][0] ## 색상\n",
        "        s = t ## 채도\n",
        "        v = outer_color_hsv[i][2] ## 명도\n",
        "        temp_list.append((h,s,v))\n",
        "    inner_color += temp_list[::-1] ## 순서를 바꿈\n",
        "    \n",
        "inner_color = [mcl.hsv_to_rgb(x) for x in inner_color] #3 hsv를 다시 rgb로 바꾼다.\n",
        " \n",
        "## 안쪽 도넛 차트 출력\n",
        "inner_pie = ax.pie(inner_data,\n",
        "       radius=1-size,\n",
        "       colors=inner_color,\n",
        "       wedgeprops=dict(width=size,edgecolor='w'))\n",
        " \n",
        "## 안쪽 도넛 백분율 텍스트 출력\n",
        "bbox_props = dict(boxstyle='square',fc='w',ec='w',alpha=0) ## annotation 박스 스타일\n",
        "config = dict(arrowprops=dict(arrowstyle='-'),bbox=bbox_props,va='center')\n",
        " \n",
        "inner_sum_pct = 0 ## 안쪽 도넛 백분율 초기값\n",
        "for i in range(len(inner_data)):\n",
        "    ang1, ang2 = inner_pie[0][i].theta1, inner_pie[0][i].theta2 ## 안쪽 각1, 안쪽 각2\n",
        "    r = inner_pie[0][i].r ## 안쪽 도넛의 반지름\n",
        "    \n",
        "    x = ((2*r-size)/2)*np.cos(np.pi/180*((ang1+ang2)/2)) ## 안쪽 도넛 조각의 중앙쪽 x좌표\n",
        "    y = ((2*r-size)/2)*np.sin(np.pi/180*((ang1+ang2)/2)) ## 안쪽 도넛 조각의 중앙쪽 y좌표\n",
        "    \n",
        "    if i < len(inner_data) - 1:\n",
        "        inner_sum_pct += float(f'{inner_data[i]/total*100:.2f}') ## 백분율을 누적한다.\n",
        "        text = f'{inner_data[i]/total*100:.2f}%' ## 백분율 텍스트 표시\n",
        "    else: ## 총합을 100으로 맞추기위해 마지막 백분율은 100에서 백분율 누적값을 빼준다.\n",
        "        text = f'{100-inner_sum_pct:.2f}%'\n",
        "        \n",
        "    ## 비율 상한선보다 작은 것들은 Annotation으로 만든다.\n",
        "    if inner_data[i]/total*100 < threshold:\n",
        "        ang = (ang1+ang2)/2 ## 중심각\n",
        "        x = out_r*np.cos(np.deg2rad(ang)) ## Annotation의 끝점에 해당하는 x좌표\n",
        "        y = out_r*np.sin(np.deg2rad(ang)) ## Annotation의 끝점에 해당하는 y좌표\n",
        "        \n",
        "        ## x좌표가 양수이면 즉 y축을 중심으로 오른쪽에 있으면 왼쪽 정렬\n",
        "        ## x좌표가 음수이면 즉 y축을 중심으로 왼쪽에 있으면 오른쪽 정렬\n",
        "        horizontalalignment = {-1: \"right\", 1: \"left\"}[int(np.sign(x))]\n",
        "        connectionstyle = \"angle,angleA=0,angleB={}\".format(ang) ## 시작점과 끝점 연결 스타일\n",
        "        config[\"arrowprops\"].update({\"connectionstyle\": connectionstyle}) ## \n",
        "        ax.annotate(text, xy=((out_r-size)*x, (out_r-size)*y), xytext=(1.5*x, 1.2*y),\n",
        "                    horizontalalignment=horizontalalignment, **config)\n",
        "    else:\n",
        "        x = ((2*r-size)/2)*np.cos(np.pi/180*((ang1+ang2)/2)) ## 텍스트 x좌표\n",
        "        y = ((2*r-size)/2)*np.sin(np.pi/180*((ang1+ang2)/2)) ## 텍스트 y좌표\n",
        "        ax.text(x,y,text,ha='center',va='center')\n",
        " \n",
        "## 범례\n",
        "## 범례는 2줄로 만든다. 왼쪽 줄에는 상위 그룹을 표시하고 오른쪽 줄에는 하위 그룹을 표시한다.\n",
        "inner_pie_index = -1 ## 안쪽 도넛 차트의 데이터에 접근할 인덱스 초기값\n",
        "right_legend_patches = [] ## 오른쪽 범례 칼럼에 들어가는 요소\n",
        "left_legend_patches = [] ## 왼쪽 범례 칼럼에 들어가는 요소\n",
        "right_labels = [] ## 오른쪽 범례 칼럼에 들어가는 라벨\n",
        "left_labels = [] ## 왼쪽 범례 칼러에 들어가는 라벨\n",
        "for i in range(len(outer_data)):\n",
        "    left_legend_patches.append(out_pie[0][i])\n",
        "    \n",
        "    outer_label = summary[outer_col][i] ## 바깥쪽 도넛 차트 라벨\n",
        " \n",
        "    left_labels.append(outer_label)\n",
        "    temp_data = train_distributor_genre.query('{0}==@outer_label'.format(outer_col)) ## 바깥쪽 라벨에 대응하는 안쪽 도넛 데이터\n",
        "    temp_data = temp_data.reset_index(drop=True)\n",
        "    \n",
        "    temp_number = len(temp_data)-1\n",
        "    \n",
        "    ## 오른쪽 범례 개수와 맞추기 위해 빈 범례를 만듬\n",
        "    for k in range(temp_number):\n",
        "        rect = mpt.Rectangle((0,0),1,1.1,facecolor='None')\n",
        "        left_legend_patches.append(rect)\n",
        "        left_labels.append('')\n",
        "    \n",
        "    ## 오른쪽 범례 칼럼을 만든다.\n",
        "    for j in range(len(temp_data)):\n",
        "        inner_pie_index += 1\n",
        "        \n",
        "        right_legend_patches.append(inner_pie[0][inner_pie_index])\n",
        "        right_labels.append(temp_data[inner_col][j])\n",
        "        \n",
        "    ## 범례 요소와 라벨을 합친다.\n",
        "    legend_patches = left_legend_patches+right_legend_patches\n",
        "    labels = left_labels + right_labels\n",
        "        \n",
        "## 범례 출력\n",
        "plt.legend(legend_patches,\n",
        "           labels,\n",
        "           ncol=2,\n",
        "           loc='upper right',\n",
        "           handleheight=1, ## 범례 줄 맞춤\n",
        "           labelspacing=0.5, ## 범례 줄 간격\n",
        "           bbox_to_anchor=(1.2,1))\n",
        "\n",
        "ax.set_title(\"상위 배급사별 장르 추이\")\n",
        "plt.show()"
      ],
      "metadata": {
        "id": "UwnWkSUs5Mzl",
        "outputId": "5beea423-10fa-461a-b9e6-356ae493aaaf",
        "colab": {
          "base_uri": "https://localhost:8080/",
          "height": 754
        }
      },
      "execution_count": null,
      "outputs": [
        {
          "output_type": "display_data",
          "data": {
            "text/plain": [
              "<Figure size 576x576 with 1 Axes>"
            ],
            "image/png": "[encoded data removed]"
          },
          "metadata": {}
        }
      ]
    },
    {
      "cell_type": "code",
      "source": [
        "#방법2 - 배급사별 막대 그래프\n",
        "ax = sns.catplot(data=train_distributor_genre, x='num_movies', y='genre', kind='bar', col='distributor', col_wrap=3)\n",
        "ax.fig.subplots_adjust(top=0.9) # adjust the Figure in rp\n",
        "ax.fig.suptitle('상위 배급사별 장르 추이')"
      ],
      "metadata": {
        "id": "cR0wPYwl5VdW",
        "outputId": "af34091a-b26e-4584-c115-01ff0f2eaaca",
        "colab": {
          "base_uri": "https://localhost:8080/",
          "height": 744
        }
      },
      "execution_count": null,
      "outputs": [
        {
          "output_type": "execute_result",
          "data": {
            "text/plain": [
              "Text(0.5, 0.98, '상위 배급사별 장르 추이')"
            ]
          },
          "metadata": {},
          "execution_count": 66
        },
        {
          "output_type": "display_data",
          "data": {
            "text/plain": [
              "<Figure size 1080x720 with 6 Axes>"
            ],
            "image/png": "[encoded data removed]"
          },
          "metadata": {
            "needs_background": "light"
          }
        }
      ]
    },
    {
      "cell_type": "markdown",
      "source": [
        "##### | 분석 결과\n",
        "___\n",
        "*   도넛 그래프를 통해 상위 6개 배급사 간의 점유율과 각 배급사의 영화 장르 비율을 볼 수 있다.\n",
        "*   배급사별 영화 장르 비율은 막대 그래프를 통해 더 자세히 확인할 수 있는데, 전체적으로 드라마 장르가 우세한 경향을 보이고 SF, 미스터리 등의 장르가 약세인 것을 관찰할 수 있다.\n"
      ],
      "metadata": {
        "id": "KRBhxDos5YJ2"
      }
    },
    {
      "cell_type": "markdown",
      "source": [
        "### **5-2) 배급사별 장르 추이: 하위 15개 합**\n",
        "- 사용한 변수: distributor,genre, num_movies"
      ],
      "metadata": {
        "id": "uhj-2ZXf5bAX"
      }
    },
    {
      "cell_type": "code",
      "source": [
        "#영화를 가장 적게 제작하는 배급사 top15\n",
        "train['distributor'].value_counts().sort_values(ascending=True)[:15]"
      ],
      "metadata": {
        "id": "fHkq3HLB5eVL",
        "outputId": "16bdc3da-bd85-4218-9fc8-984f1d187426",
        "colab": {
          "base_uri": "https://localhost:8080/"
        }
      },
      "execution_count": null,
      "outputs": [
        {
          "output_type": "execute_result",
          "data": {
            "text/plain": [
              "이달투            1\n",
              "(주)씨엠닉스        1\n",
              "팜코리아미디어        1\n",
              "(주)로드하우스       1\n",
              "미라클 필름         1\n",
              "위드시네마          1\n",
              "더 피플           1\n",
              "인피니티엔터테인먼트     1\n",
              "쟈비스미디어         1\n",
              "에이블엔터테인먼트      1\n",
              "(주)이스트스카이필름    1\n",
              "(주)JK필름        1\n",
              "사람과 사람들        1\n",
              "(주)고앤고 필름      1\n",
              "오퍼스픽쳐스         1\n",
              "Name: distributor, dtype: int64"
            ]
          },
          "metadata": {},
          "execution_count": 67
        }
      ]
    },
    {
      "cell_type": "code",
      "source": [
        "#배급사별 자료 정렬\n",
        "train_bottom15 = train['distributor'].value_counts().tail(15)\n",
        "\n",
        "train_dt_genre2 = train.groupby(['distributor', 'genre'])['title'].count().reset_index()\n",
        "train_dt_genre2.columns = ['distributor', 'genre', 'num_movies']\n",
        "\n",
        "train_distributor_genre2 = train_dt_genre2[train_dt_genre2['distributor'].isin(train_bottom15.index)].copy() #하위 배급사 자료만\n",
        "\n",
        "train_distributor_genre2 = pd.DataFrame(train_distributor_genre2.groupby(['genre'])['num_movies'].sum())\n",
        "train_distributor_genre2"
      ],
      "metadata": {
        "id": "dB3cAC9f5c0X",
        "outputId": "9c9c3a36-bcc9-49d9-b04f-02a677149bd1",
        "colab": {
          "base_uri": "https://localhost:8080/",
          "height": 300
        }
      },
      "execution_count": null,
      "outputs": [
        {
          "output_type": "execute_result",
          "data": {
            "text/plain": [
              "        num_movies\n",
              "genre             \n",
              "공포               2\n",
              "느와르              2\n",
              "다큐멘터리            3\n",
              "드라마              5\n",
              "멜로/로맨스           1\n",
              "미스터리             1\n",
              "애니메이션            1"
            ],
            "text/html": [
              "\n",
              "  <div id=\"df-798e3abc-2c38-45ba-828b-c2412bc92b1f\">\n",
              "    <div class=\"colab-df-container\">\n",
              "      <div>\n",
              "<style scoped>\n",
              "    .dataframe tbody tr th:only-of-type {\n",
              "        vertical-align: middle;\n",
              "    }\n",
              "\n",
              "    .dataframe tbody tr th {\n",
              "        vertical-align: top;\n",
              "    }\n",
              "\n",
              "    .dataframe thead th {\n",
              "        text-align: right;\n",
              "    }\n",
              "</style>\n",
              "<table border=\"1\" class=\"dataframe\">\n",
              "  <thead>\n",
              "    <tr style=\"text-align: right;\">\n",
              "      <th></th>\n",
              "      <th>num_movies</th>\n",
              "    </tr>\n",
              "    <tr>\n",
              "      <th>genre</th>\n",
              "      <th></th>\n",
              "    </tr>\n",
              "  </thead>\n",
              "  <tbody>\n",
              "    <tr>\n",
              "      <th>공포</th>\n",
              "      <td>2</td>\n",
              "    </tr>\n",
              "    <tr>\n",
              "      <th>느와르</th>\n",
              "      <td>2</td>\n",
              "    </tr>\n",
              "    <tr>\n",
              "      <th>다큐멘터리</th>\n",
              "      <td>3</td>\n",
              "    </tr>\n",
              "    <tr>\n",
              "      <th>드라마</th>\n",
              "      <td>5</td>\n",
              "    </tr>\n",
              "    <tr>\n",
              "      <th>멜로/로맨스</th>\n",
              "      <td>1</td>\n",
              "    </tr>\n",
              "    <tr>\n",
              "      <th>미스터리</th>\n",
              "      <td>1</td>\n",
              "    </tr>\n",
              "    <tr>\n",
              "      <th>애니메이션</th>\n",
              "      <td>1</td>\n",
              "    </tr>\n",
              "  </tbody>\n",
              "</table>\n",
              "</div>\n",
              "      <button class=\"colab-df-convert\" onclick=\"convertToInteractive('df-798e3abc-2c38-45ba-828b-c2412bc92b1f')\"\n",
              "              title=\"Convert this dataframe to an interactive table.\"\n",
              "              style=\"display:none;\">\n",
              "        \n",
              "  <svg xmlns=\"http://www.w3.org/2000/svg\" height=\"24px\"viewBox=\"0 0 24 24\"\n",
              "       width=\"24px\">\n",
              "    <path d=\"M0 0h24v24H0V0z\" fill=\"none\"/>\n",
              "    <path d=\"M18.56 5.44l.94 2.06.94-2.06 2.06-.94-2.06-.94-.94-2.06-.94 2.06-2.06.94zm-11 1L8.5 8.5l.94-2.06 2.06-.94-2.06-.94L8.5 2.5l-.94 2.06-2.06.94zm10 10l.94 2.06.94-2.06 2.06-.94-2.06-.94-.94-2.06-.94 2.06-2.06.94z\"/><path d=\"M17.41 7.96l-1.37-1.37c-.4-.4-.92-.59-1.43-.59-.52 0-1.04.2-1.43.59L10.3 9.45l-7.72 7.72c-.78.78-.78 2.05 0 2.83L4 21.41c.39.39.9.59 1.41.59.51 0 1.02-.2 1.41-.59l7.78-7.78 2.81-2.81c.8-.78.8-2.07 0-2.86zM5.41 20L4 18.59l7.72-7.72 1.47 1.35L5.41 20z\"/>\n",
              "  </svg>\n",
              "      </button>\n",
              "      \n",
              "  <style>\n",
              "    .colab-df-container {\n",
              "      display:flex;\n",
              "      flex-wrap:wrap;\n",
              "      gap: 12px;\n",
              "    }\n",
              "\n",
              "    .colab-df-convert {\n",
              "      background-color: #E8F0FE;\n",
              "      border: none;\n",
              "      border-radius: 50%;\n",
              "      cursor: pointer;\n",
              "      display: none;\n",
              "      fill: #1967D2;\n",
              "      height: 32px;\n",
              "      padding: 0 0 0 0;\n",
              "      width: 32px;\n",
              "    }\n",
              "\n",
              "    .colab-df-convert:hover {\n",
              "      background-color: #E2EBFA;\n",
              "      box-shadow: 0px 1px 2px rgba(60, 64, 67, 0.3), 0px 1px 3px 1px rgba(60, 64, 67, 0.15);\n",
              "      fill: #174EA6;\n",
              "    }\n",
              "\n",
              "    [theme=dark] .colab-df-convert {\n",
              "      background-color: #3B4455;\n",
              "      fill: #D2E3FC;\n",
              "    }\n",
              "\n",
              "    [theme=dark] .colab-df-convert:hover {\n",
              "      background-color: #434B5C;\n",
              "      box-shadow: 0px 1px 3px 1px rgba(0, 0, 0, 0.15);\n",
              "      filter: drop-shadow(0px 1px 2px rgba(0, 0, 0, 0.3));\n",
              "      fill: #FFFFFF;\n",
              "    }\n",
              "  </style>\n",
              "\n",
              "      <script>\n",
              "        const buttonEl =\n",
              "          document.querySelector('#df-798e3abc-2c38-45ba-828b-c2412bc92b1f button.colab-df-convert');\n",
              "        buttonEl.style.display =\n",
              "          google.colab.kernel.accessAllowed ? 'block' : 'none';\n",
              "\n",
              "        async function convertToInteractive(key) {\n",
              "          const element = document.querySelector('#df-798e3abc-2c38-45ba-828b-c2412bc92b1f');\n",
              "          const dataTable =\n",
              "            await google.colab.kernel.invokeFunction('convertToInteractive',\n",
              "                                                     [key], {});\n",
              "          if (!dataTable) return;\n",
              "\n",
              "          const docLinkHtml = 'Like what you see? Visit the ' +\n",
              "            '<a target=\"_blank\" href=https://colab.research.google.com/notebooks/data_table.ipynb>data table notebook</a>'\n",
              "            + ' to learn more about interactive tables.';\n",
              "          element.innerHTML = '';\n",
              "          dataTable['output_type'] = 'display_data';\n",
              "          await google.colab.output.renderOutput(dataTable, element);\n",
              "          const docLink = document.createElement('div');\n",
              "          docLink.innerHTML = docLinkHtml;\n",
              "          element.appendChild(docLink);\n",
              "        }\n",
              "      </script>\n",
              "    </div>\n",
              "  </div>\n",
              "  "
            ]
          },
          "metadata": {},
          "execution_count": 68
        }
      ]
    },
    {
      "cell_type": "code",
      "source": [
        "#파이차트 그리기\n",
        "ratio = train_distributor_genre2['num_movies']\n",
        "labels = train_distributor_genre2.index\n",
        "\n",
        "plt.pie(ratio, labels=labels, autopct='%.2f%%')\n",
        "plt.title('하위 배급사들의 장르 추이')\n",
        "plt.show()"
      ],
      "metadata": {
        "id": "X5C9iz_x5jIf",
        "outputId": "79fbde45-4113-453e-ca19-f89088f0cdf8",
        "colab": {
          "base_uri": "https://localhost:8080/",
          "height": 589
        }
      },
      "execution_count": null,
      "outputs": [
        {
          "output_type": "display_data",
          "data": {
            "text/plain": [
              "<Figure size 720x720 with 1 Axes>"
            ],
            "image/png": "[encoded data removed]"
          },
          "metadata": {}
        }
      ]
    },
    {
      "cell_type": "markdown",
      "source": [
        "##### | 분석 결과\n",
        "___\n",
        "*   영화 수가 적은 하위 배급사들은 배급사별로 영화를 한 편 씩만 상영하였기에 이들을 합쳐 하위 배급사 전체의 장르 수를 비교하였다.\n",
        "*   하위 배급사 역시 드라마 장르를 가장 많이 상영하였다.\n",
        "*   다만, 상위 배급사와는 다르게 다큐멘터리 장르가 상위권을 차지하고 멜로/로맨스 장르가 하위권을 차지한 것을 통해 상위 배급사와 하위 배급사의 경향성이 다름을 확인할 수 있다."
      ],
      "metadata": {
        "id": "W5ZFG_KT5oB_"
      }
    },
    {
      "cell_type": "markdown",
      "source": [
        "### **5-3) 배급사 점유율과 관객수 비교**\n",
        "- 사용한 변수: distributor, box_off_num"
      ],
      "metadata": {
        "id": "dTYvU50Z5rPQ"
      }
    },
    {
      "cell_type": "code",
      "source": [
        "movie_count_by_dist = pd.DataFrame(train['distributor'].value_counts())\n",
        "movie_count_by_dist"
      ],
      "metadata": {
        "id": "Ha4fG5JB5tjC",
        "outputId": "a6ca089a-9725-47d6-b3e9-2309dcb8c708",
        "colab": {
          "base_uri": "https://localhost:8080/",
          "height": 424
        }
      },
      "execution_count": null,
      "outputs": [
        {
          "output_type": "execute_result",
          "data": {
            "text/plain": [
              "               distributor\n",
              "CJ 엔터테인먼트               54\n",
              "롯데엔터테인먼트                52\n",
              "(주)NEW                  30\n",
              "(주)마운틴픽쳐스               29\n",
              "(주)쇼박스                  26\n",
              "...                    ...\n",
              "OAL(올)                   1\n",
              "(주)에이원 엔터테인먼트            1\n",
              "(주)콘텐츠 윙                 1\n",
              "위더스필름                    1\n",
              "퍼스트런                     1\n",
              "\n",
              "[169 rows x 1 columns]"
            ],
            "text/html": [
              "\n",
              "  <div id=\"df-fd9c91fd-abbc-4338-b645-0fb9a2d49a07\">\n",
              "    <div class=\"colab-df-container\">\n",
              "      <div>\n",
              "<style scoped>\n",
              "    .dataframe tbody tr th:only-of-type {\n",
              "        vertical-align: middle;\n",
              "    }\n",
              "\n",
              "    .dataframe tbody tr th {\n",
              "        vertical-align: top;\n",
              "    }\n",
              "\n",
              "    .dataframe thead th {\n",
              "        text-align: right;\n",
              "    }\n",
              "</style>\n",
              "<table border=\"1\" class=\"dataframe\">\n",
              "  <thead>\n",
              "    <tr style=\"text-align: right;\">\n",
              "      <th></th>\n",
              "      <th>distributor</th>\n",
              "    </tr>\n",
              "  </thead>\n",
              "  <tbody>\n",
              "    <tr>\n",
              "      <th>CJ 엔터테인먼트</th>\n",
              "      <td>54</td>\n",
              "    </tr>\n",
              "    <tr>\n",
              "      <th>롯데엔터테인먼트</th>\n",
              "      <td>52</td>\n",
              "    </tr>\n",
              "    <tr>\n",
              "      <th>(주)NEW</th>\n",
              "      <td>30</td>\n",
              "    </tr>\n",
              "    <tr>\n",
              "      <th>(주)마운틴픽쳐스</th>\n",
              "      <td>29</td>\n",
              "    </tr>\n",
              "    <tr>\n",
              "      <th>(주)쇼박스</th>\n",
              "      <td>26</td>\n",
              "    </tr>\n",
              "    <tr>\n",
              "      <th>...</th>\n",
              "      <td>...</td>\n",
              "    </tr>\n",
              "    <tr>\n",
              "      <th>OAL(올)</th>\n",
              "      <td>1</td>\n",
              "    </tr>\n",
              "    <tr>\n",
              "      <th>(주)에이원 엔터테인먼트</th>\n",
              "      <td>1</td>\n",
              "    </tr>\n",
              "    <tr>\n",
              "      <th>(주)콘텐츠 윙</th>\n",
              "      <td>1</td>\n",
              "    </tr>\n",
              "    <tr>\n",
              "      <th>위더스필름</th>\n",
              "      <td>1</td>\n",
              "    </tr>\n",
              "    <tr>\n",
              "      <th>퍼스트런</th>\n",
              "      <td>1</td>\n",
              "    </tr>\n",
              "  </tbody>\n",
              "</table>\n",
              "<p>169 rows × 1 columns</p>\n",
              "</div>\n",
              "      <button class=\"colab-df-convert\" onclick=\"convertToInteractive('df-fd9c91fd-abbc-4338-b645-0fb9a2d49a07')\"\n",
              "              title=\"Convert this dataframe to an interactive table.\"\n",
              "              style=\"display:none;\">\n",
              "        \n",
              "  <svg xmlns=\"http://www.w3.org/2000/svg\" height=\"24px\"viewBox=\"0 0 24 24\"\n",
              "       width=\"24px\">\n",
              "    <path d=\"M0 0h24v24H0V0z\" fill=\"none\"/>\n",
              "    <path d=\"M18.56 5.44l.94 2.06.94-2.06 2.06-.94-2.06-.94-.94-2.06-.94 2.06-2.06.94zm-11 1L8.5 8.5l.94-2.06 2.06-.94-2.06-.94L8.5 2.5l-.94 2.06-2.06.94zm10 10l.94 2.06.94-2.06 2.06-.94-2.06-.94-.94-2.06-.94 2.06-2.06.94z\"/><path d=\"M17.41 7.96l-1.37-1.37c-.4-.4-.92-.59-1.43-.59-.52 0-1.04.2-1.43.59L10.3 9.45l-7.72 7.72c-.78.78-.78 2.05 0 2.83L4 21.41c.39.39.9.59 1.41.59.51 0 1.02-.2 1.41-.59l7.78-7.78 2.81-2.81c.8-.78.8-2.07 0-2.86zM5.41 20L4 18.59l7.72-7.72 1.47 1.35L5.41 20z\"/>\n",
              "  </svg>\n",
              "      </button>\n",
              "      \n",
              "  <style>\n",
              "    .colab-df-container {\n",
              "      display:flex;\n",
              "      flex-wrap:wrap;\n",
              "      gap: 12px;\n",
              "    }\n",
              "\n",
              "    .colab-df-convert {\n",
              "      background-color: #E8F0FE;\n",
              "      border: none;\n",
              "      border-radius: 50%;\n",
              "      cursor: pointer;\n",
              "      display: none;\n",
              "      fill: #1967D2;\n",
              "      height: 32px;\n",
              "      padding: 0 0 0 0;\n",
              "      width: 32px;\n",
              "    }\n",
              "\n",
              "    .colab-df-convert:hover {\n",
              "      background-color: #E2EBFA;\n",
              "      box-shadow: 0px 1px 2px rgba(60, 64, 67, 0.3), 0px 1px 3px 1px rgba(60, 64, 67, 0.15);\n",
              "      fill: #174EA6;\n",
              "    }\n",
              "\n",
              "    [theme=dark] .colab-df-convert {\n",
              "      background-color: #3B4455;\n",
              "      fill: #D2E3FC;\n",
              "    }\n",
              "\n",
              "    [theme=dark] .colab-df-convert:hover {\n",
              "      background-color: #434B5C;\n",
              "      box-shadow: 0px 1px 3px 1px rgba(0, 0, 0, 0.15);\n",
              "      filter: drop-shadow(0px 1px 2px rgba(0, 0, 0, 0.3));\n",
              "      fill: #FFFFFF;\n",
              "    }\n",
              "  </style>\n",
              "\n",
              "      <script>\n",
              "        const buttonEl =\n",
              "          document.querySelector('#df-fd9c91fd-abbc-4338-b645-0fb9a2d49a07 button.colab-df-convert');\n",
              "        buttonEl.style.display =\n",
              "          google.colab.kernel.accessAllowed ? 'block' : 'none';\n",
              "\n",
              "        async function convertToInteractive(key) {\n",
              "          const element = document.querySelector('#df-fd9c91fd-abbc-4338-b645-0fb9a2d49a07');\n",
              "          const dataTable =\n",
              "            await google.colab.kernel.invokeFunction('convertToInteractive',\n",
              "                                                     [key], {});\n",
              "          if (!dataTable) return;\n",
              "\n",
              "          const docLinkHtml = 'Like what you see? Visit the ' +\n",
              "            '<a target=\"_blank\" href=https://colab.research.google.com/notebooks/data_table.ipynb>data table notebook</a>'\n",
              "            + ' to learn more about interactive tables.';\n",
              "          element.innerHTML = '';\n",
              "          dataTable['output_type'] = 'display_data';\n",
              "          await google.colab.output.renderOutput(dataTable, element);\n",
              "          const docLink = document.createElement('div');\n",
              "          docLink.innerHTML = docLinkHtml;\n",
              "          element.appendChild(docLink);\n",
              "        }\n",
              "      </script>\n",
              "    </div>\n",
              "  </div>\n",
              "  "
            ]
          },
          "metadata": {},
          "execution_count": 70
        }
      ]
    },
    {
      "cell_type": "code",
      "source": [
        "box_num_by_dist = pd.DataFrame(train.groupby(['distributor'])['box_off_num'].sum())\n",
        "box_num_by_dist"
      ],
      "metadata": {
        "id": "x0GZJrBb5x0C",
        "outputId": "2f772869-cbf8-4351-bf6b-74a2fed39c0e",
        "colab": {
          "base_uri": "https://localhost:8080/",
          "height": 455
        }
      },
      "execution_count": null,
      "outputs": [
        {
          "output_type": "execute_result",
          "data": {
            "text/plain": [
              "                box_off_num\n",
              "distributor                \n",
              "(주) 브릿지웍스             10795\n",
              "(주) 액티버스엔터테인먼트         1220\n",
              "(주) 영화사조제             67718\n",
              "(주) 영화제작전원사          139540\n",
              "(주) 케이알씨지             14382\n",
              "...                     ...\n",
              "필름라인                   5100\n",
              "하준사                     600\n",
              "한국YWCA연합회                71\n",
              "홀리가든                   6886\n",
              "화앤담이엔티               344393\n",
              "\n",
              "[169 rows x 1 columns]"
            ],
            "text/html": [
              "\n",
              "  <div id=\"df-b6ef4b45-c6f3-4719-a3bd-d34cd6f0c87b\">\n",
              "    <div class=\"colab-df-container\">\n",
              "      <div>\n",
              "<style scoped>\n",
              "    .dataframe tbody tr th:only-of-type {\n",
              "        vertical-align: middle;\n",
              "    }\n",
              "\n",
              "    .dataframe tbody tr th {\n",
              "        vertical-align: top;\n",
              "    }\n",
              "\n",
              "    .dataframe thead th {\n",
              "        text-align: right;\n",
              "    }\n",
              "</style>\n",
              "<table border=\"1\" class=\"dataframe\">\n",
              "  <thead>\n",
              "    <tr style=\"text-align: right;\">\n",
              "      <th></th>\n",
              "      <th>box_off_num</th>\n",
              "    </tr>\n",
              "    <tr>\n",
              "      <th>distributor</th>\n",
              "      <th></th>\n",
              "    </tr>\n",
              "  </thead>\n",
              "  <tbody>\n",
              "    <tr>\n",
              "      <th>(주) 브릿지웍스</th>\n",
              "      <td>10795</td>\n",
              "    </tr>\n",
              "    <tr>\n",
              "      <th>(주) 액티버스엔터테인먼트</th>\n",
              "      <td>1220</td>\n",
              "    </tr>\n",
              "    <tr>\n",
              "      <th>(주) 영화사조제</th>\n",
              "      <td>67718</td>\n",
              "    </tr>\n",
              "    <tr>\n",
              "      <th>(주) 영화제작전원사</th>\n",
              "      <td>139540</td>\n",
              "    </tr>\n",
              "    <tr>\n",
              "      <th>(주) 케이알씨지</th>\n",
              "      <td>14382</td>\n",
              "    </tr>\n",
              "    <tr>\n",
              "      <th>...</th>\n",
              "      <td>...</td>\n",
              "    </tr>\n",
              "    <tr>\n",
              "      <th>필름라인</th>\n",
              "      <td>5100</td>\n",
              "    </tr>\n",
              "    <tr>\n",
              "      <th>하준사</th>\n",
              "      <td>600</td>\n",
              "    </tr>\n",
              "    <tr>\n",
              "      <th>한국YWCA연합회</th>\n",
              "      <td>71</td>\n",
              "    </tr>\n",
              "    <tr>\n",
              "      <th>홀리가든</th>\n",
              "      <td>6886</td>\n",
              "    </tr>\n",
              "    <tr>\n",
              "      <th>화앤담이엔티</th>\n",
              "      <td>344393</td>\n",
              "    </tr>\n",
              "  </tbody>\n",
              "</table>\n",
              "<p>169 rows × 1 columns</p>\n",
              "</div>\n",
              "      <button class=\"colab-df-convert\" onclick=\"convertToInteractive('df-b6ef4b45-c6f3-4719-a3bd-d34cd6f0c87b')\"\n",
              "              title=\"Convert this dataframe to an interactive table.\"\n",
              "              style=\"display:none;\">\n",
              "        \n",
              "  <svg xmlns=\"http://www.w3.org/2000/svg\" height=\"24px\"viewBox=\"0 0 24 24\"\n",
              "       width=\"24px\">\n",
              "    <path d=\"M0 0h24v24H0V0z\" fill=\"none\"/>\n",
              "    <path d=\"M18.56 5.44l.94 2.06.94-2.06 2.06-.94-2.06-.94-.94-2.06-.94 2.06-2.06.94zm-11 1L8.5 8.5l.94-2.06 2.06-.94-2.06-.94L8.5 2.5l-.94 2.06-2.06.94zm10 10l.94 2.06.94-2.06 2.06-.94-2.06-.94-.94-2.06-.94 2.06-2.06.94z\"/><path d=\"M17.41 7.96l-1.37-1.37c-.4-.4-.92-.59-1.43-.59-.52 0-1.04.2-1.43.59L10.3 9.45l-7.72 7.72c-.78.78-.78 2.05 0 2.83L4 21.41c.39.39.9.59 1.41.59.51 0 1.02-.2 1.41-.59l7.78-7.78 2.81-2.81c.8-.78.8-2.07 0-2.86zM5.41 20L4 18.59l7.72-7.72 1.47 1.35L5.41 20z\"/>\n",
              "  </svg>\n",
              "      </button>\n",
              "      \n",
              "  <style>\n",
              "    .colab-df-container {\n",
              "      display:flex;\n",
              "      flex-wrap:wrap;\n",
              "      gap: 12px;\n",
              "    }\n",
              "\n",
              "    .colab-df-convert {\n",
              "      background-color: #E8F0FE;\n",
              "      border: none;\n",
              "      border-radius: 50%;\n",
              "      cursor: pointer;\n",
              "      display: none;\n",
              "      fill: #1967D2;\n",
              "      height: 32px;\n",
              "      padding: 0 0 0 0;\n",
              "      width: 32px;\n",
              "    }\n",
              "\n",
              "    .colab-df-convert:hover {\n",
              "      background-color: #E2EBFA;\n",
              "      box-shadow: 0px 1px 2px rgba(60, 64, 67, 0.3), 0px 1px 3px 1px rgba(60, 64, 67, 0.15);\n",
              "      fill: #174EA6;\n",
              "    }\n",
              "\n",
              "    [theme=dark] .colab-df-convert {\n",
              "      background-color: #3B4455;\n",
              "      fill: #D2E3FC;\n",
              "    }\n",
              "\n",
              "    [theme=dark] .colab-df-convert:hover {\n",
              "      background-color: #434B5C;\n",
              "      box-shadow: 0px 1px 3px 1px rgba(0, 0, 0, 0.15);\n",
              "      filter: drop-shadow(0px 1px 2px rgba(0, 0, 0, 0.3));\n",
              "      fill: #FFFFFF;\n",
              "    }\n",
              "  </style>\n",
              "\n",
              "      <script>\n",
              "        const buttonEl =\n",
              "          document.querySelector('#df-b6ef4b45-c6f3-4719-a3bd-d34cd6f0c87b button.colab-df-convert');\n",
              "        buttonEl.style.display =\n",
              "          google.colab.kernel.accessAllowed ? 'block' : 'none';\n",
              "\n",
              "        async function convertToInteractive(key) {\n",
              "          const element = document.querySelector('#df-b6ef4b45-c6f3-4719-a3bd-d34cd6f0c87b');\n",
              "          const dataTable =\n",
              "            await google.colab.kernel.invokeFunction('convertToInteractive',\n",
              "                                                     [key], {});\n",
              "          if (!dataTable) return;\n",
              "\n",
              "          const docLinkHtml = 'Like what you see? Visit the ' +\n",
              "            '<a target=\"_blank\" href=https://colab.research.google.com/notebooks/data_table.ipynb>data table notebook</a>'\n",
              "            + ' to learn more about interactive tables.';\n",
              "          element.innerHTML = '';\n",
              "          dataTable['output_type'] = 'display_data';\n",
              "          await google.colab.output.renderOutput(dataTable, element);\n",
              "          const docLink = document.createElement('div');\n",
              "          docLink.innerHTML = docLinkHtml;\n",
              "          element.appendChild(docLink);\n",
              "        }\n",
              "      </script>\n",
              "    </div>\n",
              "  </div>\n",
              "  "
            ]
          },
          "metadata": {},
          "execution_count": 71
        }
      ]
    },
    {
      "cell_type": "code",
      "source": [
        "dist_box = pd.concat([movie_count_by_dist,box_num_by_dist],axis=1)\n",
        "dist_box"
      ],
      "metadata": {
        "colab": {
          "base_uri": "https://localhost:8080/",
          "height": 424
        },
        "id": "ZGh5rj5urgrs",
        "outputId": "ee1853dc-6fc9-47ac-fdfa-e9d1f247c6dc"
      },
      "execution_count": null,
      "outputs": [
        {
          "output_type": "execute_result",
          "data": {
            "text/plain": [
              "               distributor  box_off_num\n",
              "CJ 엔터테인먼트               54    116788093\n",
              "롯데엔터테인먼트                52     64383745\n",
              "(주)NEW                  30     65532145\n",
              "(주)마운틴픽쳐스               29       937924\n",
              "(주)쇼박스                  26     88053064\n",
              "...                    ...          ...\n",
              "OAL(올)                   1       497994\n",
              "(주)에이원 엔터테인먼트            1        53235\n",
              "(주)콘텐츠 윙                 1         1079\n",
              "위더스필름                    1           90\n",
              "퍼스트런                     1         1132\n",
              "\n",
              "[169 rows x 2 columns]"
            ],
            "text/html": [
              "\n",
              "  <div id=\"df-fe10cbad-2d9f-4838-b08e-56d9a394c958\">\n",
              "    <div class=\"colab-df-container\">\n",
              "      <div>\n",
              "<style scoped>\n",
              "    .dataframe tbody tr th:only-of-type {\n",
              "        vertical-align: middle;\n",
              "    }\n",
              "\n",
              "    .dataframe tbody tr th {\n",
              "        vertical-align: top;\n",
              "    }\n",
              "\n",
              "    .dataframe thead th {\n",
              "        text-align: right;\n",
              "    }\n",
              "</style>\n",
              "<table border=\"1\" class=\"dataframe\">\n",
              "  <thead>\n",
              "    <tr style=\"text-align: right;\">\n",
              "      <th></th>\n",
              "      <th>distributor</th>\n",
              "      <th>box_off_num</th>\n",
              "    </tr>\n",
              "  </thead>\n",
              "  <tbody>\n",
              "    <tr>\n",
              "      <th>CJ 엔터테인먼트</th>\n",
              "      <td>54</td>\n",
              "      <td>116788093</td>\n",
              "    </tr>\n",
              "    <tr>\n",
              "      <th>롯데엔터테인먼트</th>\n",
              "      <td>52</td>\n",
              "      <td>64383745</td>\n",
              "    </tr>\n",
              "    <tr>\n",
              "      <th>(주)NEW</th>\n",
              "      <td>30</td>\n",
              "      <td>65532145</td>\n",
              "    </tr>\n",
              "    <tr>\n",
              "      <th>(주)마운틴픽쳐스</th>\n",
              "      <td>29</td>\n",
              "      <td>937924</td>\n",
              "    </tr>\n",
              "    <tr>\n",
              "      <th>(주)쇼박스</th>\n",
              "      <td>26</td>\n",
              "      <td>88053064</td>\n",
              "    </tr>\n",
              "    <tr>\n",
              "      <th>...</th>\n",
              "      <td>...</td>\n",
              "      <td>...</td>\n",
              "    </tr>\n",
              "    <tr>\n",
              "      <th>OAL(올)</th>\n",
              "      <td>1</td>\n",
              "      <td>497994</td>\n",
              "    </tr>\n",
              "    <tr>\n",
              "      <th>(주)에이원 엔터테인먼트</th>\n",
              "      <td>1</td>\n",
              "      <td>53235</td>\n",
              "    </tr>\n",
              "    <tr>\n",
              "      <th>(주)콘텐츠 윙</th>\n",
              "      <td>1</td>\n",
              "      <td>1079</td>\n",
              "    </tr>\n",
              "    <tr>\n",
              "      <th>위더스필름</th>\n",
              "      <td>1</td>\n",
              "      <td>90</td>\n",
              "    </tr>\n",
              "    <tr>\n",
              "      <th>퍼스트런</th>\n",
              "      <td>1</td>\n",
              "      <td>1132</td>\n",
              "    </tr>\n",
              "  </tbody>\n",
              "</table>\n",
              "<p>169 rows × 2 columns</p>\n",
              "</div>\n",
              "      <button class=\"colab-df-convert\" onclick=\"convertToInteractive('df-fe10cbad-2d9f-4838-b08e-56d9a394c958')\"\n",
              "              title=\"Convert this dataframe to an interactive table.\"\n",
              "              style=\"display:none;\">\n",
              "        \n",
              "  <svg xmlns=\"http://www.w3.org/2000/svg\" height=\"24px\"viewBox=\"0 0 24 24\"\n",
              "       width=\"24px\">\n",
              "    <path d=\"M0 0h24v24H0V0z\" fill=\"none\"/>\n",
              "    <path d=\"M18.56 5.44l.94 2.06.94-2.06 2.06-.94-2.06-.94-.94-2.06-.94 2.06-2.06.94zm-11 1L8.5 8.5l.94-2.06 2.06-.94-2.06-.94L8.5 2.5l-.94 2.06-2.06.94zm10 10l.94 2.06.94-2.06 2.06-.94-2.06-.94-.94-2.06-.94 2.06-2.06.94z\"/><path d=\"M17.41 7.96l-1.37-1.37c-.4-.4-.92-.59-1.43-.59-.52 0-1.04.2-1.43.59L10.3 9.45l-7.72 7.72c-.78.78-.78 2.05 0 2.83L4 21.41c.39.39.9.59 1.41.59.51 0 1.02-.2 1.41-.59l7.78-7.78 2.81-2.81c.8-.78.8-2.07 0-2.86zM5.41 20L4 18.59l7.72-7.72 1.47 1.35L5.41 20z\"/>\n",
              "  </svg>\n",
              "      </button>\n",
              "      \n",
              "  <style>\n",
              "    .colab-df-container {\n",
              "      display:flex;\n",
              "      flex-wrap:wrap;\n",
              "      gap: 12px;\n",
              "    }\n",
              "\n",
              "    .colab-df-convert {\n",
              "      background-color: #E8F0FE;\n",
              "      border: none;\n",
              "      border-radius: 50%;\n",
              "      cursor: pointer;\n",
              "      display: none;\n",
              "      fill: #1967D2;\n",
              "      height: 32px;\n",
              "      padding: 0 0 0 0;\n",
              "      width: 32px;\n",
              "    }\n",
              "\n",
              "    .colab-df-convert:hover {\n",
              "      background-color: #E2EBFA;\n",
              "      box-shadow: 0px 1px 2px rgba(60, 64, 67, 0.3), 0px 1px 3px 1px rgba(60, 64, 67, 0.15);\n",
              "      fill: #174EA6;\n",
              "    }\n",
              "\n",
              "    [theme=dark] .colab-df-convert {\n",
              "      background-color: #3B4455;\n",
              "      fill: #D2E3FC;\n",
              "    }\n",
              "\n",
              "    [theme=dark] .colab-df-convert:hover {\n",
              "      background-color: #434B5C;\n",
              "      box-shadow: 0px 1px 3px 1px rgba(0, 0, 0, 0.15);\n",
              "      filter: drop-shadow(0px 1px 2px rgba(0, 0, 0, 0.3));\n",
              "      fill: #FFFFFF;\n",
              "    }\n",
              "  </style>\n",
              "\n",
              "      <script>\n",
              "        const buttonEl =\n",
              "          document.querySelector('#df-fe10cbad-2d9f-4838-b08e-56d9a394c958 button.colab-df-convert');\n",
              "        buttonEl.style.display =\n",
              "          google.colab.kernel.accessAllowed ? 'block' : 'none';\n",
              "\n",
              "        async function convertToInteractive(key) {\n",
              "          const element = document.querySelector('#df-fe10cbad-2d9f-4838-b08e-56d9a394c958');\n",
              "          const dataTable =\n",
              "            await google.colab.kernel.invokeFunction('convertToInteractive',\n",
              "                                                     [key], {});\n",
              "          if (!dataTable) return;\n",
              "\n",
              "          const docLinkHtml = 'Like what you see? Visit the ' +\n",
              "            '<a target=\"_blank\" href=https://colab.research.google.com/notebooks/data_table.ipynb>data table notebook</a>'\n",
              "            + ' to learn more about interactive tables.';\n",
              "          element.innerHTML = '';\n",
              "          dataTable['output_type'] = 'display_data';\n",
              "          await google.colab.output.renderOutput(dataTable, element);\n",
              "          const docLink = document.createElement('div');\n",
              "          docLink.innerHTML = docLinkHtml;\n",
              "          element.appendChild(docLink);\n",
              "        }\n",
              "      </script>\n",
              "    </div>\n",
              "  </div>\n",
              "  "
            ]
          },
          "metadata": {},
          "execution_count": 72
        }
      ]
    },
    {
      "cell_type": "code",
      "source": [
        "ax = plt.subplots()\n",
        "ax = sns.regplot(dist_box['distributor'],dist_box['box_off_num'],logx=True)\n",
        "ax.set_title('배급사 점유율과 관객 수 간의 산점도')\n",
        "ax.set_xlabel('상영한 영화 수')\n",
        "ax.set_ylabel('관객수')"
      ],
      "metadata": {
        "colab": {
          "base_uri": "https://localhost:8080/",
          "height": 637
        },
        "id": "gobyUCbxrj2C",
        "outputId": "c6a54aa9-2c4d-441a-bbeb-3dc1ac651101"
      },
      "execution_count": null,
      "outputs": [
        {
          "output_type": "execute_result",
          "data": {
            "text/plain": [
              "Text(0, 0.5, '관객수')"
            ]
          },
          "metadata": {},
          "execution_count": 73
        },
        {
          "output_type": "display_data",
          "data": {
            "text/plain": [
              "<Figure size 720x720 with 1 Axes>"
            ],
            "image/png": "[encoded data removed]"
          },
          "metadata": {
            "needs_background": "light"
          }
        }
      ]
    },
    {
      "cell_type": "code",
      "source": [
        "dist_box[['distributor', 'box_off_num']].corr()"
      ],
      "metadata": {
        "colab": {
          "base_uri": "https://localhost:8080/",
          "height": 112
        },
        "id": "hqDMvzlQrl9V",
        "outputId": "c5a8e7a7-6482-47d3-8a81-577e80c02b79"
      },
      "execution_count": null,
      "outputs": [
        {
          "output_type": "execute_result",
          "data": {
            "text/plain": [
              "             distributor  box_off_num\n",
              "distributor     1.000000     0.808073\n",
              "box_off_num     0.808073     1.000000"
            ],
            "text/html": [
              "\n",
              "  <div id=\"df-ce9c5ae2-bd52-4df5-8258-b7daaaaa9162\">\n",
              "    <div class=\"colab-df-container\">\n",
              "      <div>\n",
              "<style scoped>\n",
              "    .dataframe tbody tr th:only-of-type {\n",
              "        vertical-align: middle;\n",
              "    }\n",
              "\n",
              "    .dataframe tbody tr th {\n",
              "        vertical-align: top;\n",
              "    }\n",
              "\n",
              "    .dataframe thead th {\n",
              "        text-align: right;\n",
              "    }\n",
              "</style>\n",
              "<table border=\"1\" class=\"dataframe\">\n",
              "  <thead>\n",
              "    <tr style=\"text-align: right;\">\n",
              "      <th></th>\n",
              "      <th>distributor</th>\n",
              "      <th>box_off_num</th>\n",
              "    </tr>\n",
              "  </thead>\n",
              "  <tbody>\n",
              "    <tr>\n",
              "      <th>distributor</th>\n",
              "      <td>1.000000</td>\n",
              "      <td>0.808073</td>\n",
              "    </tr>\n",
              "    <tr>\n",
              "      <th>box_off_num</th>\n",
              "      <td>0.808073</td>\n",
              "      <td>1.000000</td>\n",
              "    </tr>\n",
              "  </tbody>\n",
              "</table>\n",
              "</div>\n",
              "      <button class=\"colab-df-convert\" onclick=\"convertToInteractive('df-ce9c5ae2-bd52-4df5-8258-b7daaaaa9162')\"\n",
              "              title=\"Convert this dataframe to an interactive table.\"\n",
              "              style=\"display:none;\">\n",
              "        \n",
              "  <svg xmlns=\"http://www.w3.org/2000/svg\" height=\"24px\"viewBox=\"0 0 24 24\"\n",
              "       width=\"24px\">\n",
              "    <path d=\"M0 0h24v24H0V0z\" fill=\"none\"/>\n",
              "    <path d=\"M18.56 5.44l.94 2.06.94-2.06 2.06-.94-2.06-.94-.94-2.06-.94 2.06-2.06.94zm-11 1L8.5 8.5l.94-2.06 2.06-.94-2.06-.94L8.5 2.5l-.94 2.06-2.06.94zm10 10l.94 2.06.94-2.06 2.06-.94-2.06-.94-.94-2.06-.94 2.06-2.06.94z\"/><path d=\"M17.41 7.96l-1.37-1.37c-.4-.4-.92-.59-1.43-.59-.52 0-1.04.2-1.43.59L10.3 9.45l-7.72 7.72c-.78.78-.78 2.05 0 2.83L4 21.41c.39.39.9.59 1.41.59.51 0 1.02-.2 1.41-.59l7.78-7.78 2.81-2.81c.8-.78.8-2.07 0-2.86zM5.41 20L4 18.59l7.72-7.72 1.47 1.35L5.41 20z\"/>\n",
              "  </svg>\n",
              "      </button>\n",
              "      \n",
              "  <style>\n",
              "    .colab-df-container {\n",
              "      display:flex;\n",
              "      flex-wrap:wrap;\n",
              "      gap: 12px;\n",
              "    }\n",
              "\n",
              "    .colab-df-convert {\n",
              "      background-color: #E8F0FE;\n",
              "      border: none;\n",
              "      border-radius: 50%;\n",
              "      cursor: pointer;\n",
              "      display: none;\n",
              "      fill: #1967D2;\n",
              "      height: 32px;\n",
              "      padding: 0 0 0 0;\n",
              "      width: 32px;\n",
              "    }\n",
              "\n",
              "    .colab-df-convert:hover {\n",
              "      background-color: #E2EBFA;\n",
              "      box-shadow: 0px 1px 2px rgba(60, 64, 67, 0.3), 0px 1px 3px 1px rgba(60, 64, 67, 0.15);\n",
              "      fill: #174EA6;\n",
              "    }\n",
              "\n",
              "    [theme=dark] .colab-df-convert {\n",
              "      background-color: #3B4455;\n",
              "      fill: #D2E3FC;\n",
              "    }\n",
              "\n",
              "    [theme=dark] .colab-df-convert:hover {\n",
              "      background-color: #434B5C;\n",
              "      box-shadow: 0px 1px 3px 1px rgba(0, 0, 0, 0.15);\n",
              "      filter: drop-shadow(0px 1px 2px rgba(0, 0, 0, 0.3));\n",
              "      fill: #FFFFFF;\n",
              "    }\n",
              "  </style>\n",
              "\n",
              "      <script>\n",
              "        const buttonEl =\n",
              "          document.querySelector('#df-ce9c5ae2-bd52-4df5-8258-b7daaaaa9162 button.colab-df-convert');\n",
              "        buttonEl.style.display =\n",
              "          google.colab.kernel.accessAllowed ? 'block' : 'none';\n",
              "\n",
              "        async function convertToInteractive(key) {\n",
              "          const element = document.querySelector('#df-ce9c5ae2-bd52-4df5-8258-b7daaaaa9162');\n",
              "          const dataTable =\n",
              "            await google.colab.kernel.invokeFunction('convertToInteractive',\n",
              "                                                     [key], {});\n",
              "          if (!dataTable) return;\n",
              "\n",
              "          const docLinkHtml = 'Like what you see? Visit the ' +\n",
              "            '<a target=\"_blank\" href=https://colab.research.google.com/notebooks/data_table.ipynb>data table notebook</a>'\n",
              "            + ' to learn more about interactive tables.';\n",
              "          element.innerHTML = '';\n",
              "          dataTable['output_type'] = 'display_data';\n",
              "          await google.colab.output.renderOutput(dataTable, element);\n",
              "          const docLink = document.createElement('div');\n",
              "          docLink.innerHTML = docLinkHtml;\n",
              "          element.appendChild(docLink);\n",
              "        }\n",
              "      </script>\n",
              "    </div>\n",
              "  </div>\n",
              "  "
            ]
          },
          "metadata": {},
          "execution_count": 74
        }
      ]
    },
    {
      "cell_type": "markdown",
      "source": [
        "##### | 분석 결과\n",
        "___\n",
        "*   배급사 점유율과 배급사별 전체 관객 수의 산점도를 보면, 전체적으로 우상향임을 확인할 수 있다.\n",
        "*   전체적으로 자료가 좌측 하단에 모여있는 경향성을 보이지만, 상관계수가 0.808로 작지 않아 배급사 점유율과 배급사별 관객 수에는 유의미한 관계가 있다고 볼 수 있다."
      ],
      "metadata": {
        "id": "Q5MuB5hmrn7W"
      }
    }
  ]
}