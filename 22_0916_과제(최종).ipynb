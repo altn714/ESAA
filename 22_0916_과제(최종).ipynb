{
  "nbformat": 4,
  "nbformat_minor": 0,
  "metadata": {
    "colab": {
      "provenance": [],
      "collapsed_sections": [],
      "authorship_tag": "ABX9TyNRZXHPDHVYcaN/7dShp1ts",
      "include_colab_link": true
    },
    "kernelspec": {
      "name": "python3",
      "display_name": "Python 3"
    },
    "language_info": {
      "name": "python"
    }
  },
  "cells": [
    {
      "cell_type": "markdown",
      "metadata": {
        "id": "view-in-github",
        "colab_type": "text"
      },
      "source": [
        "<a href=\"https://colab.research.google.com/github/altn714/ESAA/blob/main/22_0916_%EA%B3%BC%EC%A0%9C(%EC%B5%9C%EC%A2%85).ipynb\" target=\"_parent\"><img src=\"https://colab.research.google.com/assets/colab-badge.svg\" alt=\"Open In Colab\"/></a>"
      ]
    },
    {
      "cell_type": "markdown",
      "source": [
        "\n",
        "# 01. 머신러닝의 개념\n",
        "\n",
        "\n",
        "*   데이터를 관통하는 패턴 학습 (수학적 \n",
        "기법을 적용 -> 통계적 신뢰도 결과 도출 및 예측 오류 최소화) \n",
        "\n",
        "*   머신러닝 알고리즘 기반의 새로운 예측 모델 이용 -> (1) 정확한 예측 및 의사결정 도출 / (2) 데이터의 새로운 의미와 인사이트 발굴\n",
        "\n",
        "> ## 머신러닝의 분류\n",
        "*   지도학습 :  분류, 회귀,추천 시스템,시각/음성 감지/인지, 텍스트 분석 NPL,클러스터링,차원 축소, 강화학습\n",
        "*   비지도학습\n",
        "*   강화학습\n",
        "\n",
        ">## 데이터 전쟁\n",
        "*   머신러닝 중요 요소: 데이터, 머신러닝 알고리즘 정확도\n",
        "*   머신러닝의 큰 단점: 데이터에 의존적\n",
        "*   __결론__: 최적의 머신러닝 알고리즘, 모델 파라미터를 구축하는 능력도 중요 하지만,데이터 이해 & 효율적으로 가공,처리,추출한 최적의 데이터를 기반으로 머신러닝 모델 만들기.\n",
        "\n",
        ">## 머신러닝 프로그램: __파이썬, R__ \n",
        "(C++,JAVA도 가능 but, 파이썬과 R에 비해 개발생산성 떨어짐)\n",
        "\n",
        "*   R : 통계 전용 프로그램 언어 (SPSS,SAS,MATLAB 통계 및 마이닝 패키지의 고비용 단점 극복)\n",
        "\n",
        "*   파이썬: 직관적인 문법, 객체지향, 함수형 프로그래밍, 아키텍처, 다양한 라이브러리 (유연함)\n",
        "\n",
        "# 02. 파이썬 머신러닝 생태계를 구성하는 주요 패키지\n",
        "\n",
        "*   머신러닝 패키지: 사이킷런(Scikit-Learn) *데이터 마이닝 기반의 머신러닝에서 독보적인 위치\n",
        "\n",
        "*   행렬/선형대수/통계 패키지: 넘파이(NumPy)\n",
        "\n",
        "*   데이터 핸들링: 2차원 데이터 처리 특화 *맷플롯립을 호출해 시각화 기능 지원\n",
        "\n",
        "*   시각화: 맷플롯립 (대표적 시각화 라이브러리) -> 시본 (맷플롯립의 API 이용하여 효율 개선)\n",
        "\n",
        "*   오픈소스 라이브러리: 편한 해결책 제공\n",
        "*   주피터 노트북: 예제 소스 구동을 통해서 쉽게 사용법 익힘\n",
        "\n",
        "## Anaconda 설치:  (직접해야함)\n",
        "머신러닝을 위한 패키지 모두 설치됨. (넘파이,판다스,맷플롯립,시본,주피터 노트북) \n",
        "\n",
        "*   주피터 노트북의 디폴트 디렉터리 'C:/Users/사용자명'\n",
        "\n",
        "\n",
        "# 배움 목적: \n",
        "*   넘파이와 판다스가 머신러닝의 예제에서 데이터 가공에 어떻게  사용되는지\n",
        "*   기본 프레임워크와 중요 API 습득. 코드로 부딪히기\n",
        "\n",
        "\n"
      ],
      "metadata": {
        "id": "HO3ERaiiPJsG"
      }
    },
    {
      "cell_type": "markdown",
      "source": [
        "#03. 넘파이\n",
        "루프 사용 X, 대량 데이터 배열 빠른 연산, 많은 파이썬 패키지가 넘파이 통해 데이터 처리\n",
        "단점: 편의성,다양한 API 지원 측면의 단점 *데이터는 2차원 형태의 행과 열로 구성, 다양한 가공과 변환, 통계 함수의 적용이 필요함. -> 판다스의 데이터프레임을 자주 사용할 것\n",
        "\n",
        "## 넘파이 ndarray 개요\n"
      ],
      "metadata": {
        "id": "GL5yLvpTk7I9"
      }
    },
    {
      "cell_type": "code",
      "source": [
        "#np.array() 변환 객체를 인자로 입력 시, ndarray 반환\n",
        "#ndarray.shape는 ndarray의 차원 크기를 튜플 형태로 나타냄\n",
        "import numpy as np\n",
        "array1 =np.array([1,2,3])\n",
        "print('array1 type:', type(array1))\n",
        "print('array1 array 형태:', array1.shape) #(3,) 1차원 array로 3개 데이터\n",
        "array2 = np.array([[1,2,3],\n",
        "                  [2,3,4]]) #(2,3) 2차원 array로, 2개의 행, 3개의 열 총 6개의 데이터\n",
        "print('array2 type:', type(array2))\n",
        "print('array2 array:', array2.shape)\n",
        "\n",
        "array3 = np.array([[1,2,3]])\n",
        "print('array3 type:', type(array3))\n",
        "print('array3 array 형태:', array3.shape) # array3의 shape는 (1,3) 명확한 2차원 데이터"
      ],
      "metadata": {
        "colab": {
          "base_uri": "https://localhost:8080/"
        },
        "id": "b6I_9v_WlXZS",
        "outputId": "35088926-4854-4d39-a51b-b21f778bf42c"
      },
      "execution_count": null,
      "outputs": [
        {
          "output_type": "stream",
          "name": "stdout",
          "text": [
            "array1 type: <class 'numpy.ndarray'>\n",
            "array1 array 형태: (3,)\n",
            "array2 type: <class 'numpy.ndarray'>\n",
            "array2 array: (2, 3)\n",
            "array3 type: <class 'numpy.ndarray'>\n",
            "array3 array 형태: (1, 3)\n"
          ]
        }
      ]
    },
    {
      "cell_type": "markdown",
      "source": [
        "#ndarray.ndim \n",
        ":각 array의 차원\n",
        "\n",
        "\n",
        "\n"
      ],
      "metadata": {
        "id": "XgeU7U_5pgML"
      }
    },
    {
      "cell_type": "code",
      "source": [
        "print('array1: {:0}차원, array2: {:1}차원, array3: {:2}차원'.format(array1.ndim, array2.ndim, array3.ndim))\n",
        "\n",
        "#array1은 1차원 리스트 등등\n",
        "# 리스트 []는 1차원, 리스트의 리스트[[]]는 2차원\n"
      ],
      "metadata": {
        "colab": {
          "base_uri": "https://localhost:8080/"
        },
        "id": "MSMciUCNpsTe",
        "outputId": "42eac92b-b9c0-48b2-fcd8-aaab300e0577"
      },
      "execution_count": null,
      "outputs": [
        {
          "output_type": "stream",
          "name": "stdout",
          "text": [
            "array1: 1차원, array2: 2차원, array3:  2차원\n"
          ]
        }
      ]
    },
    {
      "cell_type": "markdown",
      "source": [
        "ndarray의 데이터 타입 \n",
        "*   숫자값 *int형/unsigned int형/float형/complex 타입, 문자열 값, 불 값 모두 가능\n",
        "*   같은 데이터 타입만 가능\n",
        "\n"
      ],
      "metadata": {
        "id": "2jitn5e9qlZ2"
      }
    },
    {
      "cell_type": "code",
      "source": [
        "#데이터 타입 동일\n",
        "list1 = [1,2,3]\n",
        "print(type(list1))\n",
        "array1 = np.array(list1)\n",
        "print(type(array1))\n",
        "print(array1, array1.dtype)\n",
        "#리스트 자료형 list1 은 integer 숫자 1,2,3 가짐. ndarray 내의 데이터 값은 모두 int64형임.\n",
        "\n",
        "#데이터 타입 다름 \n",
        "#int와 string 혼합\n",
        "list2 = [1, 2, 'test']\n",
        "array2 = np.array(list2)\n",
        "print(array2, array2.dtype) #더 큰 데이터 타입으로 변환 int형 -> 유니코드 문자\n",
        "\n",
        "#int와 float 혼합\n",
        "list3 = [1, 2, 3.0]\n",
        "array3 = np.array(list3)\n",
        "print(array3, array3.dtype) # float 64형 변환\n",
        "\n"
      ],
      "metadata": {
        "colab": {
          "base_uri": "https://localhost:8080/"
        },
        "id": "Ta9aaToMr1R5",
        "outputId": "0d53e4d6-26ce-412f-b031-86796a5617d7"
      },
      "execution_count": null,
      "outputs": [
        {
          "output_type": "stream",
          "name": "stdout",
          "text": [
            "<class 'list'>\n",
            "<class 'numpy.ndarray'>\n",
            "[1 2 3] int64\n",
            "['1' '2' 'test'] <U21\n",
            "[1. 2. 3.] float64\n"
          ]
        }
      ]
    },
    {
      "cell_type": "markdown",
      "source": [
        "# astype() \n",
        "*  괄호 안에 인자로 원하는 타입을 문자열로 지정 \n",
        "*   데이터 타입 변경   \n",
        "\n"
      ],
      "metadata": {
        "id": "RmMgMUvkvjzl"
      }
    },
    {
      "cell_type": "code",
      "source": [
        "# int32를 float64로 변환\n",
        "array_int = np.array([1,2,3])\n",
        "array_float = array_int.astype('float64')\n",
        "print(array_float, array_float.dtype)\n",
        "#int1을 int32로 변환\n",
        "array_int1 = array_float.astype('int32')\n",
        "print(array_int1, array_int1.dtype)\n",
        "#float를 int32로 변환\n",
        "array_float1 = np.array([1.1, 2.1, 3.1])\n",
        "array_int2= array_float1.astype('int32')\n",
        "print(array_int2, array_int2.dtype)\n",
        "\n"
      ],
      "metadata": {
        "colab": {
          "base_uri": "https://localhost:8080/"
        },
        "id": "-YN7fr_ev2x6",
        "outputId": "51bfa2fe-a94a-461e-a444-b170db51be22"
      },
      "execution_count": null,
      "outputs": [
        {
          "output_type": "stream",
          "name": "stdout",
          "text": [
            "[1. 2. 3.] float64\n",
            "[1 2 3] int32\n",
            "[1 2 3] int32\n"
          ]
        }
      ]
    },
    {
      "cell_type": "markdown",
      "source": [
        "#ndarray 생성\n",
        "대규모의 데이터 초기화 혹은 데이터 생성\n",
        "\n",
        "##1. arange() \n",
        "array를 range로 표현, 0부터 함수 인자 값 -1까지의 값 순차적 표현\n",
        "\n",
        "\n"
      ],
      "metadata": {
        "id": "4WkwDAG0w1d3"
      }
    },
    {
      "cell_type": "code",
      "source": [
        "sequence_array = np.arange(10)\n",
        "print(sequence_array)\n",
        "print(sequence_array.dtype, sequence_array.shape) \n",
        "# 1차원 ndarray값을 만듦 여기서는 stop값만 부여했으나, range와 유사하게 start값도 부여해 0이 아닌 다른 값부터 시작할 수 있음."
      ],
      "metadata": {
        "colab": {
          "base_uri": "https://localhost:8080/"
        },
        "id": "ZLvULdPDxYlP",
        "outputId": "0dde4910-ce25-490f-8fd9-f52c515099cb"
      },
      "execution_count": null,
      "outputs": [
        {
          "output_type": "stream",
          "name": "stdout",
          "text": [
            "[0 1 2 3 4 5 6 7 8 9]\n",
            "int64 (10,)\n"
          ]
        }
      ]
    },
    {
      "cell_type": "markdown",
      "source": [
        "##2. zeros()\n",
        "모든 값을 0으로 채워 해당 shape를 가진 ndarray를 반환\n",
        "\n",
        "\n",
        "##3. ones() \n",
        "모든 값을 1로 채움\n",
        "-> 함수 인자로 dtype를 정해주지 않으면 default로 float64형의 데이터로 ndarray를 채움"
      ],
      "metadata": {
        "id": "---PCagEyHcN"
      }
    },
    {
      "cell_type": "code",
      "source": [
        "zero_array = np.zeros((3,2), dtype='int32')\n",
        "print(zero_array)\n",
        "print(zero_array.dtype, zero_array.shape)\n",
        "\n",
        "one_array = np.ones((3,2))\n",
        "print(one_array)\n",
        "print(one_array.dtype, one_array.shape)"
      ],
      "metadata": {
        "colab": {
          "base_uri": "https://localhost:8080/"
        },
        "id": "4yqSY8Epytmx",
        "outputId": "c97e28de-fccc-4856-80f7-4a69a159be64"
      },
      "execution_count": null,
      "outputs": [
        {
          "output_type": "stream",
          "name": "stdout",
          "text": [
            "[[0 0]\n",
            " [0 0]\n",
            " [0 0]]\n",
            "int32 (3, 2)\n",
            "[[1. 1.]\n",
            " [1. 1.]\n",
            " [1. 1.]]\n",
            "float64 (3, 2)\n"
          ]
        }
      ]
    },
    {
      "cell_type": "markdown",
      "source": [
        "# reshape()\n",
        "ndarray의 특정 차원 및 크기로 변환 \n",
        "\n"
      ],
      "metadata": {
        "id": "--9mYZaOzI2i"
      }
    },
    {
      "cell_type": "code",
      "source": [
        "# 0~9까지의 1차원 ndarray -> 2로우X5칼럼 2차원 ndarray로 변환\n",
        "\n",
        "\n",
        "# 0~9까지의 1차원 ndarray -> 5로우X2칼럼 2차원 ndarray로 변환"
      ],
      "metadata": {
        "id": "YjfQ2CeJzW8j"
      },
      "execution_count": null,
      "outputs": []
    },
    {
      "cell_type": "code",
      "source": [
        "array1 = np.arange(10)\n",
        "print('array:\\n', array1)\n",
        "\n",
        "array2 = array1.reshape(2,5)\n",
        "print('array2:\\n', array2)\n",
        "\n",
        "array3 = array1.reshape(5,2)\n",
        "print('array3:\\n', array3)\n",
        "\n",
        "array1.reshape(4,3)\n",
        "#reshape()는 지정된 사이즈로 변경이 불가능하면 오류 발생\n",
        "# cf) (10,)를 (4,3) shape로 변경할 수 없음 \n"
      ],
      "metadata": {
        "colab": {
          "base_uri": "https://localhost:8080/",
          "height": 456
        },
        "id": "S16r3m0mzyBA",
        "outputId": "74f0d8ac-153e-403c-e92a-704f278abec9"
      },
      "execution_count": null,
      "outputs": [
        {
          "output_type": "stream",
          "name": "stdout",
          "text": [
            "array:\n",
            " [0 1 2 3 4 5 6 7 8 9]\n",
            "array2:\n",
            " [[0 1 2 3 4]\n",
            " [5 6 7 8 9]]\n",
            "array3:\n",
            " [[0 1]\n",
            " [2 3]\n",
            " [4 5]\n",
            " [6 7]\n",
            " [8 9]]\n"
          ]
        },
        {
          "output_type": "error",
          "ename": "ValueError",
          "evalue": "ignored",
          "traceback": [
            "\u001b[0;31m---------------------------------------------------------------------------\u001b[0m",
            "\u001b[0;31mValueError\u001b[0m                                Traceback (most recent call last)",
            "\u001b[0;32m<ipython-input-18-68825b1c5387>\u001b[0m in \u001b[0;36m<module>\u001b[0;34m\u001b[0m\n\u001b[1;32m      8\u001b[0m \u001b[0mprint\u001b[0m\u001b[0;34m(\u001b[0m\u001b[0;34m'array3:\\n'\u001b[0m\u001b[0;34m,\u001b[0m \u001b[0marray3\u001b[0m\u001b[0;34m)\u001b[0m\u001b[0;34m\u001b[0m\u001b[0;34m\u001b[0m\u001b[0m\n\u001b[1;32m      9\u001b[0m \u001b[0;34m\u001b[0m\u001b[0m\n\u001b[0;32m---> 10\u001b[0;31m \u001b[0marray1\u001b[0m\u001b[0;34m.\u001b[0m\u001b[0mreshape\u001b[0m\u001b[0;34m(\u001b[0m\u001b[0;36m4\u001b[0m\u001b[0;34m,\u001b[0m\u001b[0;36m3\u001b[0m\u001b[0;34m)\u001b[0m\u001b[0;34m\u001b[0m\u001b[0;34m\u001b[0m\u001b[0m\n\u001b[0m\u001b[1;32m     11\u001b[0m \u001b[0;31m#reshape()는 지정된 사이즈로 변경이 불가능하면 오류 발생\u001b[0m\u001b[0;34m\u001b[0m\u001b[0;34m\u001b[0m\u001b[0;34m\u001b[0m\u001b[0m\n\u001b[1;32m     12\u001b[0m \u001b[0;31m# cf) (10,)를 (4,3) shape로 변경할 수 없음\u001b[0m\u001b[0;34m\u001b[0m\u001b[0;34m\u001b[0m\u001b[0;34m\u001b[0m\u001b[0m\n",
            "\u001b[0;31mValueError\u001b[0m: cannot reshape array of size 10 into shape (4,3)"
          ]
        }
      ]
    },
    {
      "cell_type": "code",
      "source": [
        "#reshape() 인자 -1 적용\n",
        "# ndarray와 호환되는 새로운 shape로 변환해줌\n",
        "\n",
        "array1 = np.arange(10)\n",
        "print(array1)\n",
        "\n",
        "array2= array1.reshape(-1,5)\n",
        "print('array2 shape:', array2.shape)\n",
        "#로우 인자가 -1 칼럼 인자가 5임 array1과 호환될 수 있는 2차원 ndarray로 변환하되, 고정된 5개의 칼럼에 맞는 로우를 자동으로 생성해 변환\n",
        "#따라서, 2X5의 2차원 ndarray로 변환\n",
        "\n",
        "array3 = array2.reshape(5,-1)\n",
        "print('array3 shape:', array3. shape)\n",
        "#고정된 5개의 로우에 맞는 칼럼은 2이므로 5X2의 2차원 ndarray로 반환\n",
        "\n",
        "#error 발생 건\n",
        "array1= np.arange(10)\n",
        "array4 = array1.reshape(-1,4)\n",
        "\n",
        "#reshape의 -1 인자 빈출 사용법\n",
        "#reshape(-1,1) : 원본 ndarray는 2차원, 여러개의 로우를 가져도 반드시 1개 칼럼\n",
        "#여러 개의 넘파이 ndarray는 stack이나 concat으로 결합할 때 각각의 ndarray의 형태를 통일"
      ],
      "metadata": {
        "colab": {
          "base_uri": "https://localhost:8080/",
          "height": 269
        },
        "id": "dl_8h8cs2Oam",
        "outputId": "6f1237c9-68b0-4a7f-d096-368fa68a8ee4"
      },
      "execution_count": null,
      "outputs": [
        {
          "output_type": "stream",
          "name": "stdout",
          "text": [
            "[0 1 2 3 4 5 6 7 8 9]\n",
            "array2 shape: (2, 5)\n",
            "array3 shape: (5, 2)\n"
          ]
        },
        {
          "output_type": "error",
          "ename": "ValueError",
          "evalue": "ignored",
          "traceback": [
            "\u001b[0;31m---------------------------------------------------------------------------\u001b[0m",
            "\u001b[0;31mValueError\u001b[0m                                Traceback (most recent call last)",
            "\u001b[0;32m<ipython-input-19-8eb0d7c0d59b>\u001b[0m in \u001b[0;36m<module>\u001b[0;34m\u001b[0m\n\u001b[1;32m     16\u001b[0m \u001b[0;31m#error 발생 건\u001b[0m\u001b[0;34m\u001b[0m\u001b[0;34m\u001b[0m\u001b[0;34m\u001b[0m\u001b[0m\n\u001b[1;32m     17\u001b[0m \u001b[0marray1\u001b[0m\u001b[0;34m=\u001b[0m \u001b[0mnp\u001b[0m\u001b[0;34m.\u001b[0m\u001b[0marange\u001b[0m\u001b[0;34m(\u001b[0m\u001b[0;36m10\u001b[0m\u001b[0;34m)\u001b[0m\u001b[0;34m\u001b[0m\u001b[0;34m\u001b[0m\u001b[0m\n\u001b[0;32m---> 18\u001b[0;31m \u001b[0marray4\u001b[0m \u001b[0;34m=\u001b[0m \u001b[0marray1\u001b[0m\u001b[0;34m.\u001b[0m\u001b[0mreshape\u001b[0m\u001b[0;34m(\u001b[0m\u001b[0;34m-\u001b[0m\u001b[0;36m1\u001b[0m\u001b[0;34m,\u001b[0m\u001b[0;36m4\u001b[0m\u001b[0;34m)\u001b[0m\u001b[0;34m\u001b[0m\u001b[0;34m\u001b[0m\u001b[0m\n\u001b[0m",
            "\u001b[0;31mValueError\u001b[0m: cannot reshape array of size 10 into shape (4)"
          ]
        }
      ]
    },
    {
      "cell_type": "markdown",
      "source": [
        "# tolist() \n",
        "ndarray는 tolist() 메서드를 이용해 print 시, 시각적으로 보기 편하려고 리스트 자료형으로 변환 \n",
        "\n",
        "\n",
        "\n"
      ],
      "metadata": {
        "id": "jK3sEpqo4_Ek"
      }
    },
    {
      "cell_type": "code",
      "source": [
        "#reshape(-1,1)이용 #무조건 2차원으로 바꿔줌\n",
        "\n",
        "array1 = np.arange(8) #1차원 \n",
        "array3d = array1.reshape((2, 2, 2)) #3차원\n",
        "print('array3d:\\n', array3d.tolist())\n",
        "\n",
        "#3차원 ndarray를 2차원 ndarray로 변환\n",
        "array5= array3d.reshape(-1,1) #2차원\n",
        "print('array5:\\n', array5.tolist())\n",
        "print('array5 shape:', array5.shape)\n",
        "\n",
        "#1차원 ndarray를 2차원 ndarray로 변환\n",
        "array6 = array1.reshape(-1,1) #2차원\n",
        "print('array6:\\n', array6.tolist()) #리스트로 바꿔줌\n",
        "print('array5 shape:', array6.shape)"
      ],
      "metadata": {
        "colab": {
          "base_uri": "https://localhost:8080/"
        },
        "id": "SpyGoTOa6whO",
        "outputId": "338fed03-7bf8-49c0-f6a2-71896590f7a1"
      },
      "execution_count": null,
      "outputs": [
        {
          "output_type": "stream",
          "name": "stdout",
          "text": [
            "array3d:\n",
            " [[[0, 1], [2, 3]], [[4, 5], [6, 7]]]\n",
            "array5:\n",
            " [[0], [1], [2], [3], [4], [5], [6], [7]]\n",
            "array5 shape: (8, 1)\n",
            "array6:\n",
            " [[0], [1], [2], [3], [4], [5], [6], [7]]\n",
            "array5 shape: (8, 1)\n"
          ]
        }
      ]
    },
    {
      "cell_type": "markdown",
      "source": [
        "# ndarray 인덱싱\n",
        "*   특정 데이터 추출: 원하는 위치의 인덱스 값 지정 -> 해당 위치 데이터 반환\n",
        "*   슬라이싱: 연속된 ndarray 추출 ':' 기호 사이의 시작 인덱스와 종료 인덱스 표시하면 시작 인덱스 ~ 종료인덱스 -1 위치 데이터의 ndarray 반환 \n",
        "ex) 1:5면 1과 종료 인덱스 4까지 해당하는 ndarray 반환\n",
        "*   팬시 인덱싱: 일정한 인덱싱 집합을 리스트 혹은 ndarray 형태로 지정하여 데이터의 ndarray 반환\n",
        "*   불린 인덱싱: True/False 값의 인덱싱 집합을 기반으로 True에 해당하는 인덱스 위치에 있는 데이터의 ndarray를 반환 \n",
        "\n"
      ],
      "metadata": {
        "id": "NUK5r1AP9_CO"
      }
    },
    {
      "cell_type": "code",
      "source": [
        "# 단차원 단일 값 추출\n",
        "array1 = np.arange(start=1, stop=10) # 1부터 9까지의 1차원 ndarray 생성\n",
        "print('array1:', array1) \n",
        "value = array1[2] #위치의 인덱스 값 []안에 입력,  3번째 index 위치의 데이터 값 의미\n",
        "print('value:', value)\n",
        "print(type(value)) #더 이상 ndarray 타입이 아니라 ndarray 내의 데이터 값을 의미 즉 int64형임\n",
        "#인덱스 -1은 맨 뒤의 데이터 값 의미 -2는 맨 뒤에서 두 번째 있는 데이터 값\n",
        "\n",
        "#데이터 값 수정\n",
        "array1[0]=9\n",
        "array1[8]=0\n",
        "print('array1:', array1)\n",
        "\n",
        "# 다차원 ndarray의 단일 값 추출 (2차원, 3차원 큰 차이 없음)\n",
        "array1d= np.arange(start=1, stop=10)\n",
        "array2d = array1d.reshape(3,3)\n",
        "print(array2d)\n",
        "\n",
        "print('(row=0, col=0) index 가리키는 값:', array2d[0,0])\n",
        "print('(row=0, col=1) index 가리키는 값:', array2d[0,1])\n",
        "print('(row=1, col=0 index 가리키는 값:', array2d[1,0])\n",
        "print('(row=2, col=2) index 가리키는 값:', array2d[2,2])\n",
        "\n",
        "#axis 0은 로우 방향의 축\n",
        "#axis 1은 칼럼 방향의 축\n",
        "# 넘파이에서는 로우와 칼럼 표현 쓰지 않음 즉, [row=0, col=1] 인덱싱은 [axis 0=0, axis 1=1]\n",
        "# 3차원 ndarray는 axis 0 (행), axis 1(열), axis 2(높이)\n",
        "#축 기반의 연산에서 axis 가 생략되면 axis 0을 의미함. \n",
        "\n"
      ],
      "metadata": {
        "colab": {
          "base_uri": "https://localhost:8080/"
        },
        "id": "DKJ-H4ab-9BH",
        "outputId": "ceec6084-b888-48bf-d06c-e10439796f7e"
      },
      "execution_count": null,
      "outputs": [
        {
          "output_type": "stream",
          "name": "stdout",
          "text": [
            "array1: [1 2 3 4 5 6 7 8 9]\n",
            "value: 3\n",
            "<class 'numpy.int64'>\n",
            "array1: [9 2 3 4 5 6 7 8 0]\n",
            "[[1 2 3]\n",
            " [4 5 6]\n",
            " [7 8 9]]\n",
            "(row=0, col=0) index 가리키는 값: 1\n",
            "(row=0, col=1) index 가리키는 값: 2\n",
            "(row=1, col=0 index 가리키는 값: 4\n",
            "(row=2, col=2) index 가리키는 값: 9\n"
          ]
        }
      ]
    },
    {
      "cell_type": "markdown",
      "source": [
        "# 슬라이싱\n",
        "*   ':' 연속한 데이터를 슬라이싱해서 추출 (시작 인덱스에서 종료 인덱스 -1의 위치에 있는 데이터의 ndarray를 반환)\n",
        "*   단일 데이터값 추출을 제외, 슬라이싱/팬시 인덱싱/불린 인덱싱으로 추출된 데이터 세트는 모두 ndarray 타입임.\n",
        "\n",
        "\n",
        "\n",
        "\n"
      ],
      "metadata": {
        "id": "9vhpmmn6EI5c"
      }
    },
    {
      "cell_type": "code",
      "source": [
        "# <<1차원 슬라이싱>>\n",
        "array1 = np.arange(start=1, stop=10)\n",
        "array3 = array1[0:3]\n",
        "print(array3)\n",
        "print(type(array3))\n",
        "\n",
        "# ':' 주의사항\n",
        "# 1) 시작 인덱스 생략하면 맨 처음 인덱스인 0으로 간주\n",
        "# 2) 종료 인덱스 생략하면 맨 마지막 인덱스로 간주\n",
        "# 3) 기호 앞/뒤에 시작/종료 인덱스를 생략하면 자동으로 맨 처음/맨 마지막 인덱스로 간주\n",
        "\n",
        "array1 = np.arange(start=1, stop=10)\n",
        "array4 = array1[:3]\n",
        "print(array4)\n",
        "\n",
        "array5 = array1[3:]\n",
        "print(array5)\n",
        "\n",
        "array6 = array1[:]\n",
        "print(array6)\n",
        "\n",
        "#<<2차원 ndarray 슬라이싱>>\n",
        "array1d = np.arange(start=1, stop=10)\n",
        "array2d = array1d.reshape(3,3)\n",
        "print('array2d:\\n', array2d)\n",
        "\n",
        "print('array2d[0:2, 0:2]\\n', array2d[0:2, 0:2])\n",
        "print('array2d[1:3, 0:3]\\n', array2d[1:3, 0:3])\n",
        "print('array2d[1:3, :]\\n', array2d[1:3, :])\n",
        "print('array2d[:, :]\\n', array2d[:, :])\n",
        "print('array2d[:2, 1:]\\n', array2d[:2, 1:])\n",
        "print('array2d[:2, 0]\\n', array2d[:2, 0]) #2차원 ndarray에서 뒤에 오는 인덱스를 없애면 1차원 ndarray를 반환함 \n",
        "#즉, array2d[0]와 같아짐 2차원에서 뒤에 오는 인덱스를 없애면 axis 0의 첫번째 로우 ndarray 반환\n",
        "\n",
        "# 3차원 ndarray에서 뒤에 오는 인덱스를 없애면 2차원 ndarray를 반환함\n",
        "print(array2d[0])\n",
        "print(array2d[1])\n",
        "print('array2d[0] shape:', array2d[0].shape, 'array2d[1] shape:', array2d[1].shape)\n"
      ],
      "metadata": {
        "colab": {
          "base_uri": "https://localhost:8080/"
        },
        "id": "19RAE7ddFMeq",
        "outputId": "b33b52f5-ec5f-40ec-9520-7fe8bd92ff7e"
      },
      "execution_count": null,
      "outputs": [
        {
          "output_type": "stream",
          "name": "stdout",
          "text": [
            "[1 2 3]\n",
            "<class 'numpy.ndarray'>\n",
            "[1 2 3]\n",
            "[4 5 6 7 8 9]\n",
            "[1 2 3 4 5 6 7 8 9]\n",
            "array2d:\n",
            " [[1 2 3]\n",
            " [4 5 6]\n",
            " [7 8 9]]\n",
            "array2d[0:2, 0:2]\n",
            " [[1 2]\n",
            " [4 5]]\n",
            "array2d[1:3, 0:3]\n",
            " [[4 5 6]\n",
            " [7 8 9]]\n",
            "array2d[1:3, :]\n",
            " [[4 5 6]\n",
            " [7 8 9]]\n",
            "array2d[:, :]\n",
            " [[1 2 3]\n",
            " [4 5 6]\n",
            " [7 8 9]]\n",
            "array2d[:2, 1:]\n",
            " [[2 3]\n",
            " [5 6]]\n",
            "array2d[:2, 0]\n",
            " [1 4]\n",
            "[1 2 3]\n",
            "[4 5 6]\n",
            "array2d[0] shape: (3,) array2d[1] shape: (3,)\n"
          ]
        }
      ]
    },
    {
      "cell_type": "markdown",
      "source": [
        "# 팬시 인덱싱\n",
        "리스트나 ndarray로 인덱스 집합을 지정하면 해당 위치의 인덱스에 해당하는 ndarray를 반환하는 인덱싱 방식\n",
        "\n"
      ],
      "metadata": {
        "id": "JsWT8uLOJcdb"
      }
    },
    {
      "cell_type": "code",
      "source": [
        "array1d =  np.arange(start=1, stop=10)\n",
        "array2d = array1d.reshape(3, 3)\n",
        "\n",
        "array3 = array2d[[0,1], 2]\n",
        "print('array2d[[0,2], 2]=>', array3.tolist()) #(0,2),(1,2)로 적용 됨\n",
        "\n",
        "array4 = array2d[[0,1], 0:2] #((0,0), (0,1)), ((1.0), (1,1))\n",
        "print('array2d[[0,1], 0:2]=>', array4.tolist())\n",
        "\n",
        "array5 = array2d[[0,1]]\n",
        "print('array2d[[0, 1]]=>', array5.tolist()) #((0, :),(1, :))\n",
        "\n"
      ],
      "metadata": {
        "id": "usYj_SpzMxPe",
        "colab": {
          "base_uri": "https://localhost:8080/"
        },
        "outputId": "9b598cf6-c123-4be7-9587-d2f64eb4630b"
      },
      "execution_count": 35,
      "outputs": [
        {
          "output_type": "stream",
          "name": "stdout",
          "text": [
            "array2d[[0,2], 2]=> [3, 6]\n",
            "array2d[[0,1], 0:2]=> [[1, 2], [4, 5]]\n",
            "array2d[[0, 1]]=> [[1, 2, 3], [4, 5, 6]]\n"
          ]
        }
      ]
    },
    {
      "cell_type": "markdown",
      "source": [
        "# 불린 인덱싱 \n",
        "*   조건 필터링과 검색 동시 가능/ for loop/if else 문보다 훨씬 간단함\n",
        "*   ndarray의 인덱스를 지정하는 []내에 조건문 기재\n",
        "\n"
      ],
      "metadata": {
        "id": "Q6kkeD_pO-mU"
      }
    },
    {
      "cell_type": "code",
      "source": [
        "array1d = np.arange(start=1, stop=10)\n",
        "#[] 안에 array1d > 5 boolean indexing 적용\n",
        "\n",
        "array3 = array1d[array1d > 5]\n",
        "print('array1d > 5 불린 인덱싱 결과 값:', array3) #저장된 인덱스 데이터 세트로 ndarray 조회\n",
        "\n",
        "#작동원리 \n",
        "array1d > 5\n",
        "#False 값은 무시하고 True 값이 있는 위치 인덱스 값으로 자동 변환해 해당하는 인덱스 위치의 데이터만 반환,\n",
        "#즉, 인덱스[5,6,7,8]의 위치 인덱스에 해당하는 데이터 세트 [6,7,8,9] 반환\n",
        "\n",
        "boolean_indexes = np.array([False, False, False, False, False,  True,  True,  True,  True])\n",
        "array3 = array1d[boolean_indexes]\n",
        "print('불린 인덱스로 필터링 결과:', array3)\n",
        "\n",
        "#같은 결과(직접 인덱스 집합)\n",
        "indexes = np.array([5, 6, 7, 8])\n",
        "array4 = array1d[indexes]\n",
        "print('일반 인덱스로 필터링 결과:', array4)\n"
      ],
      "metadata": {
        "colab": {
          "base_uri": "https://localhost:8080/"
        },
        "id": "6E315L1kPpS0",
        "outputId": "9d635a11-be70-4568-9a08-496038610f5d"
      },
      "execution_count": 39,
      "outputs": [
        {
          "output_type": "stream",
          "name": "stdout",
          "text": [
            "array1d > 5 불린 인덱싱 결과 값: [6 7 8 9]\n",
            "불린 인덱스로 필터링 결과: [6 7 8 9]\n"
          ]
        }
      ]
    },
    {
      "cell_type": "markdown",
      "source": [
        "# 행렬 정렬\n",
        "\n",
        "np.sort() *넘파이에서 sort() 호출 (원 행렬의 정렬된 행렬 반환)\n",
        " \n",
        "ndarray.sort() *행렬 자체에서 sort() 호출 (원행렬 자체를 정렬한 형태로 반환하며 반환 값은 None)\n",
        "\n"
      ],
      "metadata": {
        "id": "KvvR1ZvQReVy"
      }
    },
    {
      "cell_type": "code",
      "source": [
        "org_array = np.array([3, 1, 9, 5])\n",
        "print('원본 행렬:', org_array)\n",
        "\n",
        "#오름차순 정렬\n",
        "#np.sort()로 정렬\n",
        "sort_array1 = np.sort(org_array)\n",
        "print('np.sort() 호출 후 반환된 정렬 행렬:', sort_array1)\n",
        "print('np.sort() 호출 후 원본 행렬:', org_array)\n",
        "\n",
        "#ndarray.sort()로 정렬\n",
        "sort_array2 = org_array.sort()\n",
        "print('org_array.sort() 호출 후 반환된 행렬:', sort_array2)\n",
        "print('org_array.sort() 호출 후 원본 행렬:', org_array)\n",
        "\n",
        "#내림차순 정렬\n",
        "sort_array1_desc = np.sort(org_array)[::-1]\n",
        "print('내림차순으로 정렬:', sort_array1_desc)\n",
        "\n",
        "#행렬 2차원 이상일 때 axis 축 값 설정\n",
        "array2d = np.array([[8,12],\n",
        "                    [7,1]])\n",
        "#로우 방향 axis=0\n",
        "sort_array2d_axis0 = np.sort(array2d, axis=0)\n",
        "print('로우 방향으로 정렬:\\n', sort_array2d_axis0)\n",
        "#칼럼 방향 axis=1\n",
        "sort_array2d_axis1 = np.sort(array2d, axis=1)\n",
        "print('칼럼 방향으로 정렬:\\n', sort_array2d_axis1)"
      ],
      "metadata": {
        "colab": {
          "base_uri": "https://localhost:8080/"
        },
        "id": "twqBXL2fSPJM",
        "outputId": "6a366840-75b5-4468-c28a-8819d6c57549"
      },
      "execution_count": 42,
      "outputs": [
        {
          "output_type": "stream",
          "name": "stdout",
          "text": [
            "원본 행렬: [3 1 9 5]\n",
            "np.sort() 호출 후 반환된 정렬 행렬: [1 3 5 9]\n",
            "np.sort() 호출 후 원본 행렬: [3 1 9 5]\n",
            "org_array.sort() 호출 후 반환된 행렬: None\n",
            "org_array.sort() 호출 후 원본 행렬: [1 3 5 9]\n",
            "내림차순으로 정렬: [9 5 3 1]\n",
            "로우 방향으로 정렬:\n",
            " [[ 7  1]\n",
            " [ 8 12]]\n",
            "칼럼 방향으로 정렬:\n",
            " [[ 8 12]\n",
            " [ 1  7]]\n"
          ]
        }
      ]
    },
    {
      "cell_type": "markdown",
      "source": [
        "#정렬된 행렬의 인덱스를 반환\n",
        "#argsort()"
      ],
      "metadata": {
        "id": "_B8x5FREVMTy"
      }
    },
    {
      "cell_type": "code",
      "source": [
        "#오름차순\n",
        "org_array = np.array([3, 1, 9, 5])\n",
        "sort_indices = np.argsort(org_array)\n",
        "print(type(sort_indices))\n",
        "print('행렬 정렬 시 원본 행렬의 인덱스:', sort_indices)\n",
        "\n",
        "#내림차순\n",
        "org_array=np.array([3, 1, 9, 5])\n",
        "sort_indices_desc = np.argsort(org_array)[::-1]\n",
        "print('행렬 내림차순 정렬 시 원본 행렬의 인덱스:', sort_indices_desc)\n",
        "\n",
        "# 문제) 시험 성적 순으로 학생 이름을 출력\n",
        "# np.argsort(score_array)를 이용해 반환된 인덱스를 name_array에 팬시 인덱스로 적용해 추출.\n",
        "\n",
        "import numpy as np\n",
        "\n",
        "name_array = np.array(['John', 'Mike', 'Sarah', 'Kate', 'Samuel'])\n",
        "score_array = np.array([78, 95, 84, 98, 88])\n",
        "\n",
        "sort_indices_asc = np.argsort(score_array)\n",
        "print('성적 오름차순 정렬 시 score_array의 인덱스:', sort_indices_asc)\n",
        "print('성적 오름차순으로 name_array의 이름 출력:', name_array[sort_indices_asc])\n"
      ],
      "metadata": {
        "colab": {
          "base_uri": "https://localhost:8080/"
        },
        "id": "N40DbGvHYpXT",
        "outputId": "24a74ffc-ff79-4ada-8243-cba252a46885"
      },
      "execution_count": 45,
      "outputs": [
        {
          "output_type": "stream",
          "name": "stdout",
          "text": [
            "<class 'numpy.ndarray'>\n",
            "행렬 정렬 시 원본 행렬의 인덱스: [1 0 3 2]\n",
            "행렬 내림차순 정렬 시 원본 행렬의 인덱스: [2 3 0 1]\n",
            "성적 오름차순 정렬 시 score_array의 인덱스: [0 2 4 1 3]\n",
            "성적 오름차순으로 name_array의 이름 출력: ['John' 'Sarah' 'Samuel' 'Mike' 'Kate']\n"
          ]
        }
      ]
    },
    {
      "cell_type": "markdown",
      "source": [
        "#선형대수 연산 - 행렬 내적과 전치 행렬 구하기\n",
        "\n"
      ],
      "metadata": {
        "id": "xBvYMV_MawlJ"
      }
    },
    {
      "cell_type": "code",
      "source": [
        "#행렬 내적(행렬 곱)\n",
        "#np.dot()\n",
        "\n",
        "A = np.array([[1, 2, 3],\n",
        "              [4, 5, 6]])\n",
        "B = np.array([[7, 8],\n",
        "              [9, 10],\n",
        "              [11, 12]])\n",
        "dot_product = np.dot(A,B)\n",
        "print('행렬 내적 결과:\\n', dot_product)\n",
        "\n",
        "#전치 행렬 (A^T) #transpose()\n",
        "#행과 열 위치를 교환한 원소로 구성된 행렬\n",
        "\n",
        "A = np.array([[1,2],\n",
        "              [3,4]])\n",
        "transpose_mat = np.transpose(A)\n",
        "print('A의 전치 행렬:\\n', transpose_mat)"
      ],
      "metadata": {
        "colab": {
          "base_uri": "https://localhost:8080/"
        },
        "id": "2mxsiyoPbTBr",
        "outputId": "3a44916e-4cb4-492b-e61c-efd00d30a23c"
      },
      "execution_count": 55,
      "outputs": [
        {
          "output_type": "stream",
          "name": "stdout",
          "text": [
            "행렬 내적 결과:\n",
            " [[ 58  64]\n",
            " [139 154]]\n",
            "A의 전치 행렬:\n",
            " [[1 3]\n",
            " [2 4]]\n"
          ]
        }
      ]
    }
  ]
}