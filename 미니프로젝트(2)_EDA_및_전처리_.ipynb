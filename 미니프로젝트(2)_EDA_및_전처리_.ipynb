{
  "nbformat": 4,
  "nbformat_minor": 0,
  "metadata": {
    "colab": {
      "provenance": [],
      "authorship_tag": "ABX9TyPO/02Bgv1uImf+DFDzB+V1",
      "include_colab_link": true
    },
    "kernelspec": {
      "name": "python3",
      "display_name": "Python 3"
    },
    "language_info": {
      "name": "python"
    }
  },
  "cells": [
    {
      "cell_type": "markdown",
      "metadata": {
        "id": "view-in-github",
        "colab_type": "text"
      },
      "source": [
        "<a href=\"https://colab.research.google.com/github/altn714/ESAA/blob/main/%EB%AF%B8%EB%8B%88%ED%94%84%EB%A1%9C%EC%A0%9D%ED%8A%B8(2)_EDA_%EB%B0%8F_%EC%A0%84%EC%B2%98%EB%A6%AC_.ipynb\" target=\"_parent\"><img src=\"https://colab.research.google.com/assets/colab-badge.svg\" alt=\"Open In Colab\"/></a>"
      ]
    },
    {
      "cell_type": "markdown",
      "source": [
        "# **employee1, employee2 아직 못함**"
      ],
      "metadata": {
        "id": "TPdl6H3mdgjM"
      }
    },
    {
      "cell_type": "code",
      "source": [
        "train.isnull().sum()"
      ],
      "metadata": {
        "colab": {
          "base_uri": "https://localhost:8080/"
        },
        "id": "RXAgZniWeTiz",
        "outputId": "6c913507-dbf3-45da-da61-a96e84ea365d"
      },
      "execution_count": null,
      "outputs": [
        {
          "output_type": "execute_result",
          "data": {
            "text/plain": [
              "inst_id                0\n",
              "OC                     0\n",
              "sido                   0\n",
              "sgg                    0\n",
              "openDate               0\n",
              "bedCount               1\n",
              "instkind               1\n",
              "revenue1               8\n",
              "salescost1             8\n",
              "sga1                   8\n",
              "salary1                8\n",
              "noi1                   8\n",
              "noe1                   8\n",
              "interest1              8\n",
              "ctax1                  8\n",
              "profit1                8\n",
              "liquidAsset1           8\n",
              "quickAsset1            8\n",
              "receivableS1           8\n",
              "inventoryAsset1        8\n",
              "nonCAsset1             8\n",
              "tanAsset1              8\n",
              "OnonCAsset1            8\n",
              "receivableL1           8\n",
              "debt1                  8\n",
              "liquidLiabilities1     8\n",
              "shortLoan1             8\n",
              "NCLiabilities1         8\n",
              "longLoan1              8\n",
              "netAsset1              8\n",
              "surplus1               8\n",
              "revenue2               8\n",
              "salescost2             8\n",
              "sga2                   8\n",
              "salary2                8\n",
              "noi2                   8\n",
              "noe2                   8\n",
              "interest2              8\n",
              "ctax2                  8\n",
              "profit2                8\n",
              "liquidAsset2           8\n",
              "quickAsset2            8\n",
              "receivableS2           8\n",
              "inventoryAsset2        8\n",
              "nonCAsset2             8\n",
              "tanAsset2              8\n",
              "OnonCAsset2            8\n",
              "receivableL2           8\n",
              "debt2                  8\n",
              "liquidLiabilities2     8\n",
              "shortLoan2             8\n",
              "NCLiabilities2         8\n",
              "longLoan2              8\n",
              "netAsset2              8\n",
              "surplus2               8\n",
              "employee1             10\n",
              "employee2             13\n",
              "ownerChange           12\n",
              "dtype: int64"
            ]
          },
          "metadata": {},
          "execution_count": 99
        }
      ]
    },
    {
      "cell_type": "markdown",
      "source": [],
      "metadata": {
        "id": "iBCCHjokdeax"
      }
    },
    {
      "cell_type": "code",
      "source": [
        "train['bedCount']"
      ],
      "metadata": {
        "colab": {
          "base_uri": "https://localhost:8080/"
        },
        "id": "T3_zcS67elU7",
        "outputId": "84c2c011-6630-4d96-e906-a8ad3f28df4a"
      },
      "execution_count": null,
      "outputs": [
        {
          "output_type": "execute_result",
          "data": {
            "text/plain": [
              "0      175.0\n",
              "2      468.0\n",
              "3      353.0\n",
              "4      196.0\n",
              "5      243.0\n",
              "       ...  \n",
              "296    214.0\n",
              "297      NaN\n",
              "298      NaN\n",
              "299    180.0\n",
              "300      NaN\n",
              "Name: bedCount, Length: 292, dtype: float64"
            ]
          },
          "metadata": {},
          "execution_count": 52
        }
      ]
    },
    {
      "cell_type": "markdown",
      "source": [
        "# **데이터 로딩 및 확인**"
      ],
      "metadata": {
        "id": "C59BTgy8XXkZ"
      }
    },
    {
      "cell_type": "code",
      "execution_count": 3,
      "metadata": {
        "id": "Cl95qqmFxlOV"
      },
      "outputs": [],
      "source": [
        "import pandas as pd\n",
        "import numpy as np\n",
        "\n",
        "train = pd.read_csv(\"/content/train 지역변수 추가.csv\")\n",
        "te = pd.read_csv(\"/content/test 지역변수 추가.csv\")\n",
        "sd = pd.read_csv(\"/content/submission_sample.csv\")"
      ]
    },
    {
      "cell_type": "code",
      "source": [
        "train.head(3)\n",
        "train.shape"
      ],
      "metadata": {
        "colab": {
          "base_uri": "https://localhost:8080/"
        },
        "id": "wb3LKiGSzs-E",
        "outputId": "b8a8d1ac-57c7-47e8-9407-36124a1d3ba2"
      },
      "execution_count": 4,
      "outputs": [
        {
          "output_type": "execute_result",
          "data": {
            "text/plain": [
              "(301, 59)"
            ]
          },
          "metadata": {},
          "execution_count": 4
        }
      ]
    },
    {
      "cell_type": "code",
      "source": [
        "te.head(3)\n",
        "te.shape"
      ],
      "metadata": {
        "colab": {
          "base_uri": "https://localhost:8080/"
        },
        "id": "nDrF0A36TeUt",
        "outputId": "0de86e81-8795-4c40-a458-2199b84db717"
      },
      "execution_count": 5,
      "outputs": [
        {
          "output_type": "execute_result",
          "data": {
            "text/plain": [
              "(127, 59)"
            ]
          },
          "metadata": {},
          "execution_count": 5
        }
      ]
    },
    {
      "cell_type": "code",
      "source": [
        "sd.head(3)\n",
        "sd.shape"
      ],
      "metadata": {
        "colab": {
          "base_uri": "https://localhost:8080/"
        },
        "id": "OEzuOp6eTfsl",
        "outputId": "15fe7245-3634-437b-dfc5-e87df51ec94b"
      },
      "execution_count": 6,
      "outputs": [
        {
          "output_type": "execute_result",
          "data": {
            "text/plain": [
              "(127, 2)"
            ]
          },
          "metadata": {},
          "execution_count": 6
        }
      ]
    },
    {
      "cell_type": "markdown",
      "source": [
        "# **데이터 전처리**"
      ],
      "metadata": {
        "id": "gZJlhTyWXfnf"
      }
    },
    {
      "cell_type": "code",
      "source": [
        "# inst_id, sgg 열 삭제\n",
        "train.drop(['inst_id','sgg'],axis=1,inplace=True)\n",
        "te.drop(['inst_id','sgg'],axis=1,inplace=True)"
      ],
      "metadata": {
        "id": "PMonkS8CVzFl"
      },
      "execution_count": 7,
      "outputs": []
    },
    {
      "cell_type": "markdown",
      "source": [
        "# **1. 결측치 처리** \n",
        "\n",
        "1) (문자형) ownerchange: 전체 비율 고려한 대체 *4조\n",
        "\n",
        "3) (숫자형) bedcount, employee -> eda 해보기 -> 고민,, *4조 평균 대체, 1등 코드: 결측 처리 안함"
      ],
      "metadata": {
        "id": "yNGfSsS9YSGh"
      }
    },
    {
      "cell_type": "markdown",
      "source": [
        "결측치 처리 방법\n",
        "\n",
        "1. instkind\n",
        "> instkind 병원 별로 병원의 규모가 나뉨 -> groupby(tr[\"instkind\"]) 통해 병원 별 평균값 넣음.\n",
        "> 전체 평균값 넣음.\n",
        "\n",
        "2. bedCount\n",
        "> 병원 별 평균값\n",
        "> 전체 평균값\n",
        "\n",
        "\n",
        "병원종류(instkind)의 결측치 채우는 방법에 대한 고찰\n",
        "\n",
        "병원 종류는 입원환자 수용정도에 따라 달라진다. 따라서 bedCount가 아주 중요하다. 그러나 bedCount가 동시에 없는 row도 있다.\n",
        "일단 bedCount를 기준으로 나눠서 채워준다.\n",
        "bedCount가 없을 경우 employee를 통해 유추할 수 밖에 없다.\n",
        "마지막 방법은, 어렵겠지만, 회계 데이터 분석을 통해 대표변경 여부를 분류 분석하는 것이다.\n",
        "임직원 수(employee)의 결측치 채우는 방법에 대한 고찰\n",
        "\n",
        "마찬가지로 병원 종류에 맞춰 평균값을 넣어주는 방법이 있다.\n",
        "만약 병원 종류가 없다면, 급여액을 통해서 몇명일지를 유추할 수 있다.\n",
        "대표변경(ownerChange)의 결측치 채우는 방법에 대한 고찰\n",
        "\n",
        "첫 번째 방법은, 가장 높은 빈도수를 가지는 밸류로 채우는 것이다. 아마도 same 일 것이다.\n",
        "두 번째 방법은, 바로 전 데이터 포인트의 밸류로 채우는 것이다.\n",
        "세 번째 방법은, 어렵겠지만, 회계데이터 분석을 통해 대표변경 여부를 분류 분석하는 것이다.\n",
        "마지막 방법은, 지워버리는 것이다. 그러나 애초에 데이터가 400개도 안되는데 지우면 더더욱 분석이 힘들어진다.\n",
        "오픈시기(openDate)의 결측치 채우는 방법에 대한 고찰\n",
        "\n",
        "te 테이블에 openDate 결측치가 딱 하나 있는데, 이걸 어떻게 채워야 될 것인가 고민해보자.\n",
        "openDate는 다른 자료를 통해 유추하기 가장 힘든 변수이다. ffill, bfill을 통해서 넣은 게 나을 것 같다."
      ],
      "metadata": {
        "id": "0yoO98D2pc-_"
      }
    },
    {
      "cell_type": "markdown",
      "source": [
        "**1) (문자형) inst_kind 삭제, ownerchange 최빈 값? 0? 평균? 중앙값?**"
      ],
      "metadata": {
        "id": "V-tuLmkJMDgw"
      }
    },
    {
      "cell_type": "code",
      "source": [
        "train['ownerChange']"
      ],
      "metadata": {
        "colab": {
          "base_uri": "https://localhost:8080/"
        },
        "id": "DKHRBSCJdpjF",
        "outputId": "95a77687-b5a2-4fe4-b767-1b3a882fbe04"
      },
      "execution_count": 8,
      "outputs": [
        {
          "output_type": "execute_result",
          "data": {
            "text/plain": [
              "0      same\n",
              "1      same\n",
              "2      same\n",
              "3      same\n",
              "4      same\n",
              "       ... \n",
              "296    same\n",
              "297    same\n",
              "298     NaN\n",
              "299     NaN\n",
              "300    same\n",
              "Name: ownerChange, Length: 301, dtype: object"
            ]
          },
          "metadata": {},
          "execution_count": 8
        }
      ]
    },
    {
      "cell_type": "code",
      "source": [
        "# instkind 결측치 행 전체 삭제\n",
        "train.dropna(subset=['instkind'],axis=0,inplace=True)\n",
        "te.dropna(subset=['instkind'],axis=0,inplace=True)"
      ],
      "metadata": {
        "id": "76vlPkAZ855b"
      },
      "execution_count": 9,
      "outputs": []
    },
    {
      "cell_type": "markdown",
      "source": [
        "1) Owner change EDA"
      ],
      "metadata": {
        "id": "IzavG0tdvKUx"
      }
    },
    {
      "cell_type": "code",
      "source": [
        "#target값 분석\n",
        "train['OC'].value_counts().plot.bar()"
      ],
      "metadata": {
        "colab": {
          "base_uri": "https://localhost:8080/",
          "height": 306
        },
        "id": "ltircY6jMkT8",
        "outputId": "b8856087-bee8-4215-95ff-d7caf0080cbd"
      },
      "execution_count": 10,
      "outputs": [
        {
          "output_type": "execute_result",
          "data": {
            "text/plain": [
              "<matplotlib.axes._subplots.AxesSubplot at 0x7f958c017550>"
            ]
          },
          "metadata": {},
          "execution_count": 10
        },
        {
          "output_type": "display_data",
          "data": {
            "text/plain": [
              "<Figure size 432x288 with 1 Axes>"
            ],
            "image/png": "[encoded data removed]"
          },
          "metadata": {
            "needs_background": "light"
          }
        }
      ]
    },
    {
      "cell_type": "code",
      "source": [
        "train['ownerChange'].mode()[0]\n",
        "train.loc[train['ownerChange'].isna(),'ownerChange'] = train['ownerChange'].mode()[0]\n",
        "train['ownerChange'].isna().sum()"
      ],
      "metadata": {
        "colab": {
          "base_uri": "https://localhost:8080/"
        },
        "id": "U_CMIWK2zIGz",
        "outputId": "618b7930-9a03-414c-c135-8fde9920ac45"
      },
      "execution_count": 11,
      "outputs": [
        {
          "output_type": "execute_result",
          "data": {
            "text/plain": [
              "0"
            ]
          },
          "metadata": {},
          "execution_count": 11
        }
      ]
    },
    {
      "cell_type": "markdown",
      "source": [
        "**2) 금융변수: 모든 누락 행 삭제 *1등 코드, 4조**"
      ],
      "metadata": {
        "id": "pjPThYEIMLq4"
      }
    },
    {
      "cell_type": "code",
      "source": [
        "import matplotlib.pyplot as plt\n",
        "import seaborn as sns\n",
        "%matplotlib inline\n",
        "sns.heatmap(train.isnull(),cbar=False)"
      ],
      "metadata": {
        "colab": {
          "base_uri": "https://localhost:8080/",
          "height": 351
        },
        "id": "BRBzPf6iI4yh",
        "outputId": "eace3962-f9e1-419a-97a6-67bfe79449de"
      },
      "execution_count": 12,
      "outputs": [
        {
          "output_type": "execute_result",
          "data": {
            "text/plain": [
              "<matplotlib.axes._subplots.AxesSubplot at 0x7f957f7ecc10>"
            ]
          },
          "metadata": {},
          "execution_count": 12
        },
        {
          "output_type": "display_data",
          "data": {
            "text/plain": [
              "<Figure size 432x288 with 1 Axes>"
            ],
            "image/png": "[encoded data removed]"
          },
          "metadata": {
            "needs_background": "light"
          }
        }
      ]
    },
    {
      "cell_type": "markdown",
      "source": [
        "결론: 모든 금융변수는 동일한 행의 누락이 있다. 따라서, 누락이 있는 행들을 모두 삭제"
      ],
      "metadata": {
        "id": "HqaxbVa_JLL4"
      }
    },
    {
      "cell_type": "code",
      "source": [
        "#금융변수들의 누락 행 삭제 \n",
        "train.dropna(subset=['salescost1'],axis=0,inplace=True)\n",
        "te.dropna(subset=['salescost1'],axis=0,inplace=True)"
      ],
      "metadata": {
        "id": "xLs72u53KyME"
      },
      "execution_count": 13,
      "outputs": []
    },
    {
      "cell_type": "code",
      "source": [
        "sns.heatmap(train.isnull(),cbar=False)"
      ],
      "metadata": {
        "colab": {
          "base_uri": "https://localhost:8080/",
          "height": 351
        },
        "id": "cQQUVGHWLZnd",
        "outputId": "36a6a510-c918-40d5-c095-8a503ff93088"
      },
      "execution_count": 14,
      "outputs": [
        {
          "output_type": "execute_result",
          "data": {
            "text/plain": [
              "<matplotlib.axes._subplots.AxesSubplot at 0x7f957cefddd0>"
            ]
          },
          "metadata": {},
          "execution_count": 14
        },
        {
          "output_type": "display_data",
          "data": {
            "text/plain": [
              "<Figure size 432x288 with 1 Axes>"
            ],
            "image/png": "[encoded data removed]"
          },
          "metadata": {
            "needs_background": "light"
          }
        }
      ]
    },
    {
      "cell_type": "code",
      "source": [
        "sns.heatmap(te.isnull(),cbar=False)"
      ],
      "metadata": {
        "colab": {
          "base_uri": "https://localhost:8080/",
          "height": 350
        },
        "id": "DV9devkDLj5v",
        "outputId": "e0955259-0ced-4164-bb2f-7ed3cccd63e3"
      },
      "execution_count": 15,
      "outputs": [
        {
          "output_type": "execute_result",
          "data": {
            "text/plain": [
              "<matplotlib.axes._subplots.AxesSubplot at 0x7f957ce16a10>"
            ]
          },
          "metadata": {},
          "execution_count": 15
        },
        {
          "output_type": "display_data",
          "data": {
            "text/plain": [
              "<Figure size 432x288 with 1 Axes>"
            ],
            "image/png": "[encoded data removed]"
          },
          "metadata": {
            "needs_background": "light"
          }
        }
      ]
    },
    {
      "cell_type": "markdown",
      "source": [
        "**3) (숫자형) bedcount, employee**"
      ],
      "metadata": {
        "id": "9EHkgCPMM4qn"
      }
    },
    {
      "cell_type": "markdown",
      "source": [
        "3)-1 bedcount 결측치 처리"
      ],
      "metadata": {
        "id": "70ON3NI6pMvd"
      }
    },
    {
      "cell_type": "code",
      "source": [
        "from statsmodels.formula.api import ols\n",
        "from statsmodels.stats.anova import anova_lm\n",
        "\n",
        "formula = 'bedCount ~ C(instkind)'\n",
        "lm = ols(formula, train).fit()\n",
        "print(anova_lm(lm))\n",
        "#F검정결과, p-value 극소해서 병원 별 병상 수의 관계 유의 -> 병상수의 결측값을 병원 별 평균값 또는 중앙값, 최빈값으로 채울 수 있다. "
      ],
      "metadata": {
        "colab": {
          "base_uri": "https://localhost:8080/"
        },
        "id": "VAjcypYKkz2s",
        "outputId": "cbd39ba6-a83f-40dd-8338-c8f089a421c1"
      },
      "execution_count": 16,
      "outputs": [
        {
          "output_type": "stream",
          "name": "stdout",
          "text": [
            "                df        sum_sq        mean_sq          F        PR(>F)\n",
            "C(instkind)    6.0  1.229828e+06  204971.363109  20.788425  3.790328e-20\n",
            "Residual     281.0  2.770626e+06    9859.879542        NaN           NaN\n"
          ]
        }
      ]
    },
    {
      "cell_type": "code",
      "source": [
        "import seaborn as sns\n",
        "sns.boxplot(data=train, x='bedCount', y='instkind')\n",
        "#이상치가 많아서 평균값 대신 중앙값 또는 최빈값으로 결측치 처리하는게 좋을 것 같음."
      ],
      "metadata": {
        "colab": {
          "base_uri": "https://localhost:8080/",
          "height": 297
        },
        "id": "n4y2IHean5mJ",
        "outputId": "71b17b13-1eb0-4303-cb97-3c58ff8c2f73"
      },
      "execution_count": 17,
      "outputs": [
        {
          "output_type": "execute_result",
          "data": {
            "text/plain": [
              "<matplotlib.axes._subplots.AxesSubplot at 0x7f9577c44dd0>"
            ]
          },
          "metadata": {},
          "execution_count": 17
        },
        {
          "output_type": "display_data",
          "data": {
            "text/plain": [
              "<Figure size 432x288 with 1 Axes>"
            ],
            "image/png": "[encoded data removed]"
          },
          "metadata": {
            "needs_background": "light"
          }
        }
      ]
    },
    {
      "cell_type": "code",
      "source": [
        "train.groupby('instkind')['bedCount'].mean()\n",
        "train['bedCount'] = train['bedCount'].fillna(train.groupby('instkind')['bedCount'].transform('mean')) \n",
        "\n",
        "train['bedCount'].isnull().sum()"
      ],
      "metadata": {
        "colab": {
          "base_uri": "https://localhost:8080/"
        },
        "id": "CAn1tk0ApRLZ",
        "outputId": "6ce8d23d-2312-4dc1-e144-831e0ea438fa"
      },
      "execution_count": 18,
      "outputs": [
        {
          "output_type": "execute_result",
          "data": {
            "text/plain": [
              "0"
            ]
          },
          "metadata": {},
          "execution_count": 18
        }
      ]
    },
    {
      "cell_type": "code",
      "source": [
        "te.groupby('instkind')['bedCount'].mean()\n",
        "te['bedCount'] = te['bedCount'].fillna(te.groupby('instkind')['bedCount'].transform('mean')) \n",
        "te['bedCount'].isnull().sum()"
      ],
      "metadata": {
        "colab": {
          "base_uri": "https://localhost:8080/"
        },
        "id": "OcnOYwYCbhHC",
        "outputId": "3f4d21ee-7338-4315-f1e3-a83a3bb365ff"
      },
      "execution_count": 19,
      "outputs": [
        {
          "output_type": "execute_result",
          "data": {
            "text/plain": [
              "1"
            ]
          },
          "metadata": {},
          "execution_count": 19
        }
      ]
    },
    {
      "cell_type": "markdown",
      "source": [
        "# 2. 문자형 숫자형으로 대체  \n",
        "적용 변수: OC, ownerChange"
      ],
      "metadata": {
        "id": "N3f7csqQGxaN"
      }
    },
    {
      "cell_type": "code",
      "source": [
        "#OC open 1, close 0 대체\n",
        "# 레이블 OC 0 또는 1로 변환\n",
        "for i in range(0,len(train[\"OC\"])):\n",
        "  if train.iloc[i,0] == \"open\":\n",
        "    train.iloc[i, 0]=1\n",
        "  else:\n",
        "    train.iloc[i, 0]=0  "
      ],
      "metadata": {
        "id": "vv5h5elOHh5m"
      },
      "execution_count": 20,
      "outputs": []
    },
    {
      "cell_type": "code",
      "source": [
        "#ownerChange 전체 비율로 대체\n",
        "round(train['ownerChange'].value_counts(normalize=True),3)\n",
        "train['ownerChange'] = train['ownerChange'].fillna(pd.Series(np.random.choice(['same','change'], p=[0.85,0.15],size = 300)))"
      ],
      "metadata": {
        "id": "PRIsNC7fX9MV"
      },
      "execution_count": 21,
      "outputs": []
    }
  ]
}