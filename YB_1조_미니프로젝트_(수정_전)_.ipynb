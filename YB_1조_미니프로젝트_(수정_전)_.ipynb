{
  "nbformat": 4,
  "nbformat_minor": 0,
  "metadata": {
    "colab": {
      "provenance": [],
      "authorship_tag": "ABX9TyPmgSXx28fYcWQTXhHERThD",
      "include_colab_link": true
    },
    "kernelspec": {
      "name": "python3",
      "display_name": "Python 3"
    },
    "language_info": {
      "name": "python"
    }
  },
  "cells": [
    {
      "cell_type": "markdown",
      "metadata": {
        "id": "view-in-github",
        "colab_type": "text"
      },
      "source": [
        "<a href=\"https://colab.research.google.com/github/altn714/ESAA/blob/main/YB_1%EC%A1%B0_%EB%AF%B8%EB%8B%88%ED%94%84%EB%A1%9C%EC%A0%9D%ED%8A%B8_(%EC%88%98%EC%A0%95_%EC%A0%84)_.ipynb\" target=\"_parent\"><img src=\"https://colab.research.google.com/assets/colab-badge.svg\" alt=\"Open In Colab\"/></a>"
      ]
    },
    {
      "cell_type": "markdown",
      "source": [
        "#**미니 프로젝트 : 2010년대 영화 산업 현황**\n",
        "- 관련 사이트: https://dacon.io/competitions/open/235536/data\n",
        "\n",
        "- 과제: 지금까지 배운 pandas 코드를 통해 유의미한 결과 10개 이상 출력하고, 그래프 그리기 (데이터 전처리는 예시 참고)\n",
        "\n",
        "- 조건: 변수 2개 이상 연결한 결과값 포함"
      ],
      "metadata": {
        "id": "b8FMkiLcdZtF"
      }
    },
    {
      "cell_type": "code",
      "execution_count": null,
      "metadata": {
        "colab": {
          "base_uri": "https://localhost:8080/"
        },
        "id": "lzkDa1sCinWX",
        "outputId": "83a3eab5-780e-42cc-fe3d-539e9b5e1021"
      },
      "outputs": [
        {
          "output_type": "stream",
          "name": "stdout",
          "text": [
            "Reading package lists... Done\n",
            "Building dependency tree       \n",
            "Reading state information... Done\n",
            "fonts-nanum is already the newest version (20170925-1).\n",
            "The following package was automatically installed and is no longer required:\n",
            "  libnvidia-common-460\n",
            "Use 'sudo apt autoremove' to remove it.\n",
            "0 upgraded, 0 newly installed, 0 to remove and 20 not upgraded.\n",
            "/usr/share/fonts: caching, new cache contents: 0 fonts, 1 dirs\n",
            "/usr/share/fonts/truetype: caching, new cache contents: 0 fonts, 3 dirs\n",
            "/usr/share/fonts/truetype/humor-sans: caching, new cache contents: 1 fonts, 0 dirs\n",
            "/usr/share/fonts/truetype/liberation: caching, new cache contents: 16 fonts, 0 dirs\n",
            "/usr/share/fonts/truetype/nanum: caching, new cache contents: 10 fonts, 0 dirs\n",
            "/usr/local/share/fonts: caching, new cache contents: 0 fonts, 0 dirs\n",
            "/root/.local/share/fonts: skipping, no such directory\n",
            "/root/.fonts: skipping, no such directory\n",
            "/var/cache/fontconfig: cleaning cache directory\n",
            "/root/.cache/fontconfig: not cleaning non-existent cache directory\n",
            "/root/.fontconfig: not cleaning non-existent cache directory\n",
            "fc-cache: succeeded\n"
          ]
        }
      ],
      "source": [
        "# 나눔 폰트 설치\n",
        "!sudo apt-get install -y fonts-nanum\n",
        "!sudo fc-cache -fv\n",
        "!rm ~/.cache/matplotlib -rf"
      ]
    },
    {
      "cell_type": "markdown",
      "source": [
        "# **1. 라이브러리 및 데이터 불러오기**\n",
        "___"
      ],
      "metadata": {
        "id": "H32GHEDXi7M1"
      }
    },
    {
      "cell_type": "code",
      "source": [
        "from google.colab import drive\n",
        "drive.mount('/content/drive') #드라이브에 접근해서 파일 가져오기"
      ],
      "metadata": {
        "colab": {
          "base_uri": "https://localhost:8080/"
        },
        "id": "fW1PmGLOkZpg",
        "outputId": "2df0f90c-4827-4d87-aaa2-ae5144588cbe"
      },
      "execution_count": null,
      "outputs": [
        {
          "output_type": "stream",
          "name": "stdout",
          "text": [
            "Drive already mounted at /content/drive; to attempt to forcibly remount, call drive.mount(\"/content/drive\", force_remount=True).\n"
          ]
        }
      ]
    },
    {
      "cell_type": "code",
      "source": [
        "import pandas as pd\n",
        "import numpy as np\n",
        "import matplotlib.pyplot as plt\n",
        "import seaborn as sns\n",
        "plt.rcParams['font.family'] = 'NanumGothic' #matplotlib  한글 깨짐 방지\n",
        "\n",
        "#그래픽 출력 결과를 셀 아래 표시\n",
        "%matplotlib inline\n",
        "\n",
        "import warnings\n",
        "warnings.filterwarnings(action = 'ignore')"
      ],
      "metadata": {
        "id": "KARB2174i-3N"
      },
      "execution_count": null,
      "outputs": []
    },
    {
      "cell_type": "code",
      "source": [
        "# 데이터 불러오기\n",
        "train=pd.read_csv(\"/content/movies_train.csv\")"
      ],
      "metadata": {
        "id": "Q56gxqfMl2-i"
      },
      "execution_count": null,
      "outputs": []
    },
    {
      "cell_type": "markdown",
      "source": [
        "# **2. 탐색적 자료 분석(EDA)**"
      ],
      "metadata": {
        "id": "sxSf7yREc9eg"
      }
    },
    {
      "cell_type": "markdown",
      "source": [
        "###**1) 데이터 미리보기**"
      ],
      "metadata": {
        "id": "7Fa3bBGidu0b"
      }
    },
    {
      "cell_type": "code",
      "source": [
        "train.head(10)"
      ],
      "metadata": {
        "id": "ffmiZ-l-dwx0"
      },
      "execution_count": null,
      "outputs": []
    },
    {
      "cell_type": "markdown",
      "source": [
        "###**2) 데이터 확인**"
      ],
      "metadata": {
        "id": "MMXF6jKKd1ar"
      }
    },
    {
      "cell_type": "markdown",
      "source": [
        "##### **변수 설명**\n",
        "+ `title` : 영화의 제목\n",
        "+ `distributor` : 배급사\n",
        "+ `genre` : 장르\n",
        "+ `release_time` : 개봉일\n",
        "+ `time` : 상영시간(분)\n",
        "+ `screening_rat` : 상영등급\n",
        "+ `director` : 감독이름\n",
        "+ `dir_prev_bfnum` : 해당 감독이 이 영화를 만들기 전 제작에 참여한 영화에서의 평균 관객수(단 관객수가 알려지지 않은 영화 제외)\n",
        "+ `dir_prev_num` : 해당 감독이 이 영화를 만들기 전 제작에 참여한 영화의 개수(단 관객수가 알려지지 않은 영화 제외)\n",
        "+ `num_staff` : 스텝수\n",
        "+ `num_actor` : 주연배우수\n",
        "+ `box_off_num` : 관객수"
      ],
      "metadata": {
        "id": "kydCl09yd6Rr"
      }
    },
    {
      "cell_type": "code",
      "source": [
        "print(train.shape)"
      ],
      "metadata": {
        "id": "u6AnfF-Nd9Ok"
      },
      "execution_count": null,
      "outputs": []
    },
    {
      "cell_type": "code",
      "source": [
        "train.describe()"
      ],
      "metadata": {
        "id": "arenyWmWd-wM"
      },
      "execution_count": null,
      "outputs": []
    },
    {
      "cell_type": "markdown",
      "source": [
        "###**3) 결측치 확인 및 데이터 전처리**"
      ],
      "metadata": {
        "id": "4DL1v6rPeBll"
      }
    },
    {
      "cell_type": "code",
      "source": [
        "#결측치 확인\n",
        "train.isna().sum()"
      ],
      "metadata": {
        "colab": {
          "base_uri": "https://localhost:8080/"
        },
        "id": "yiad7OQweDwc",
        "outputId": "4b3a1e89-5149-4e5f-ba77-a42c9128e215"
      },
      "execution_count": null,
      "outputs": [
        {
          "output_type": "execute_result",
          "data": {
            "text/plain": [
              "title             0\n",
              "distributor       0\n",
              "genre             0\n",
              "release_time      0\n",
              "time              0\n",
              "screening_rat     0\n",
              "director          0\n",
              "dir_prev_bfnum    0\n",
              "dir_prev_num      0\n",
              "num_staff         0\n",
              "num_actor         0\n",
              "box_off_num       0\n",
              "dtype: int64"
            ]
          },
          "metadata": {},
          "execution_count": 94
        }
      ]
    },
    {
      "cell_type": "code",
      "source": [
        "# 결측값의 특성 확인\n",
        "train[train['dir_prev_bfnum'].isna()].head(3)"
      ],
      "metadata": {
        "colab": {
          "base_uri": "https://localhost:8080/",
          "height": 113
        },
        "id": "RVqWN1dLeEgU",
        "outputId": "7a18df87-daec-4648-b7a5-7093624c9639"
      },
      "execution_count": null,
      "outputs": [
        {
          "output_type": "execute_result",
          "data": {
            "text/plain": [
              "Empty DataFrame\n",
              "Columns: [title, distributor, genre, release_time, time, screening_rat, director, dir_prev_bfnum, dir_prev_num, num_staff, num_actor, box_off_num]\n",
              "Index: []"
            ],
            "text/html": [
              "\n",
              "  <div id=\"df-09da6c51-c9a6-4a52-b88b-ba8b8f918a34\">\n",
              "    <div class=\"colab-df-container\">\n",
              "      <div>\n",
              "<style scoped>\n",
              "    .dataframe tbody tr th:only-of-type {\n",
              "        vertical-align: middle;\n",
              "    }\n",
              "\n",
              "    .dataframe tbody tr th {\n",
              "        vertical-align: top;\n",
              "    }\n",
              "\n",
              "    .dataframe thead th {\n",
              "        text-align: right;\n",
              "    }\n",
              "</style>\n",
              "<table border=\"1\" class=\"dataframe\">\n",
              "  <thead>\n",
              "    <tr style=\"text-align: right;\">\n",
              "      <th></th>\n",
              "      <th>title</th>\n",
              "      <th>distributor</th>\n",
              "      <th>genre</th>\n",
              "      <th>release_time</th>\n",
              "      <th>time</th>\n",
              "      <th>screening_rat</th>\n",
              "      <th>director</th>\n",
              "      <th>dir_prev_bfnum</th>\n",
              "      <th>dir_prev_num</th>\n",
              "      <th>num_staff</th>\n",
              "      <th>num_actor</th>\n",
              "      <th>box_off_num</th>\n",
              "    </tr>\n",
              "  </thead>\n",
              "  <tbody>\n",
              "  </tbody>\n",
              "</table>\n",
              "</div>\n",
              "      <button class=\"colab-df-convert\" onclick=\"convertToInteractive('df-09da6c51-c9a6-4a52-b88b-ba8b8f918a34')\"\n",
              "              title=\"Convert this dataframe to an interactive table.\"\n",
              "              style=\"display:none;\">\n",
              "        \n",
              "  <svg xmlns=\"http://www.w3.org/2000/svg\" height=\"24px\"viewBox=\"0 0 24 24\"\n",
              "       width=\"24px\">\n",
              "    <path d=\"M0 0h24v24H0V0z\" fill=\"none\"/>\n",
              "    <path d=\"M18.56 5.44l.94 2.06.94-2.06 2.06-.94-2.06-.94-.94-2.06-.94 2.06-2.06.94zm-11 1L8.5 8.5l.94-2.06 2.06-.94-2.06-.94L8.5 2.5l-.94 2.06-2.06.94zm10 10l.94 2.06.94-2.06 2.06-.94-2.06-.94-.94-2.06-.94 2.06-2.06.94z\"/><path d=\"M17.41 7.96l-1.37-1.37c-.4-.4-.92-.59-1.43-.59-.52 0-1.04.2-1.43.59L10.3 9.45l-7.72 7.72c-.78.78-.78 2.05 0 2.83L4 21.41c.39.39.9.59 1.41.59.51 0 1.02-.2 1.41-.59l7.78-7.78 2.81-2.81c.8-.78.8-2.07 0-2.86zM5.41 20L4 18.59l7.72-7.72 1.47 1.35L5.41 20z\"/>\n",
              "  </svg>\n",
              "      </button>\n",
              "      \n",
              "  <style>\n",
              "    .colab-df-container {\n",
              "      display:flex;\n",
              "      flex-wrap:wrap;\n",
              "      gap: 12px;\n",
              "    }\n",
              "\n",
              "    .colab-df-convert {\n",
              "      background-color: #E8F0FE;\n",
              "      border: none;\n",
              "      border-radius: 50%;\n",
              "      cursor: pointer;\n",
              "      display: none;\n",
              "      fill: #1967D2;\n",
              "      height: 32px;\n",
              "      padding: 0 0 0 0;\n",
              "      width: 32px;\n",
              "    }\n",
              "\n",
              "    .colab-df-convert:hover {\n",
              "      background-color: #E2EBFA;\n",
              "      box-shadow: 0px 1px 2px rgba(60, 64, 67, 0.3), 0px 1px 3px 1px rgba(60, 64, 67, 0.15);\n",
              "      fill: #174EA6;\n",
              "    }\n",
              "\n",
              "    [theme=dark] .colab-df-convert {\n",
              "      background-color: #3B4455;\n",
              "      fill: #D2E3FC;\n",
              "    }\n",
              "\n",
              "    [theme=dark] .colab-df-convert:hover {\n",
              "      background-color: #434B5C;\n",
              "      box-shadow: 0px 1px 3px 1px rgba(0, 0, 0, 0.15);\n",
              "      filter: drop-shadow(0px 1px 2px rgba(0, 0, 0, 0.3));\n",
              "      fill: #FFFFFF;\n",
              "    }\n",
              "  </style>\n",
              "\n",
              "      <script>\n",
              "        const buttonEl =\n",
              "          document.querySelector('#df-09da6c51-c9a6-4a52-b88b-ba8b8f918a34 button.colab-df-convert');\n",
              "        buttonEl.style.display =\n",
              "          google.colab.kernel.accessAllowed ? 'block' : 'none';\n",
              "\n",
              "        async function convertToInteractive(key) {\n",
              "          const element = document.querySelector('#df-09da6c51-c9a6-4a52-b88b-ba8b8f918a34');\n",
              "          const dataTable =\n",
              "            await google.colab.kernel.invokeFunction('convertToInteractive',\n",
              "                                                     [key], {});\n",
              "          if (!dataTable) return;\n",
              "\n",
              "          const docLinkHtml = 'Like what you see? Visit the ' +\n",
              "            '<a target=\"_blank\" href=https://colab.research.google.com/notebooks/data_table.ipynb>data table notebook</a>'\n",
              "            + ' to learn more about interactive tables.';\n",
              "          element.innerHTML = '';\n",
              "          dataTable['output_type'] = 'display_data';\n",
              "          await google.colab.output.renderOutput(dataTable, element);\n",
              "          const docLink = document.createElement('div');\n",
              "          docLink.innerHTML = docLinkHtml;\n",
              "          element.appendChild(docLink);\n",
              "        }\n",
              "      </script>\n",
              "    </div>\n",
              "  </div>\n",
              "  "
            ]
          },
          "metadata": {},
          "execution_count": 95
        }
      ]
    },
    {
      "cell_type": "code",
      "source": [
        "print(train[train['dir_prev_bfnum'].isna()]['dir_prev_num'].sum()) #모두 dir_prev_num이 0이다"
      ],
      "metadata": {
        "colab": {
          "base_uri": "https://localhost:8080/"
        },
        "id": "0YrQps_ZeJa8",
        "outputId": "b41017da-c1c8-4d74-cb5f-48cfb22e8b0a"
      },
      "execution_count": null,
      "outputs": [
        {
          "output_type": "stream",
          "name": "stdout",
          "text": [
            "0\n"
          ]
        }
      ]
    },
    {
      "cell_type": "code",
      "source": [
        "train['dir_prev_bfnum'].fillna(0, inplace=True)"
      ],
      "metadata": {
        "id": "8p5jHiuAeLTN"
      },
      "execution_count": null,
      "outputs": []
    },
    {
      "cell_type": "code",
      "source": [
        "#release_time을 int -> datetime 형태로 변환\n",
        "train['release_time']=pd.to_datetime(train['release_time'])"
      ],
      "metadata": {
        "id": "YpyQGlmXeNVM"
      },
      "execution_count": null,
      "outputs": []
    },
    {
      "cell_type": "code",
      "source": [
        "train.head()"
      ],
      "metadata": {
        "id": "DIMyqb5veOnt"
      },
      "execution_count": null,
      "outputs": []
    },
    {
      "cell_type": "code",
      "source": [
        "#release_time을 int -> datatime 형태로 변환\n",
        "train['release_time']=pd.to_datetime(train['release_time'])"
      ],
      "metadata": {
        "id": "Mp3EFrVgpr-b"
      },
      "execution_count": null,
      "outputs": []
    },
    {
      "cell_type": "markdown",
      "source": [
        "##**3. 데이터 시각화 및 분석**"
      ],
      "metadata": {
        "id": "_MuYlaI0fhss"
      }
    },
    {
      "cell_type": "markdown",
      "source": [
        "##**1) 관객수 분석**"
      ],
      "metadata": {
        "id": "WQz2zX3dfl-8"
      }
    },
    {
      "cell_type": "markdown",
      "source": [
        "### **1-1) 관객수 - 배급사**\n",
        "\n",
        "- 사용한 변수:  distributor, box_off_num \n",
        "- 가설:  대형 배급사에서 제작한 영화일수록 그 작품들의 관객수가 많을 것이다. \n",
        "- 배급사 규모에 따라 관객수가 어떻게 다른지 파악하기 위해 다음 과정 수행."
      ],
      "metadata": {
        "id": "PDAHCMjGu5O9"
      }
    },
    {
      "cell_type": "code",
      "source": [
        "## 배급사 규모 별 분할 기준 설정\n",
        "\n",
        "# 배급사의 규모는 상영 영화 수를 기준으로 판단\n",
        "# 배급사별 상영 영화 수를 dist_aud_movie라는 열 이름으로 train dataframe에 추가\n",
        "train['dist_aud_movie'] = train.groupby(['distributor'])['distributor'].transform('count') # distributor로 묶어서, distributor의 갯수를 count 해서 transform을 이용해 열 추가. \n",
        "train.head()\n",
        "\n",
        "aa = train.loc[:,\"dist_aud_movie\"] #모든 행의 dist_aud_movie 를 인덱싱함.\n",
        "sns.displot(data=aa, kde=True) #dist_aud_movie의 숫자에 대한 분포를 나타내준다.\n",
        "\n",
        "((train['dist_aud_movie']>=0) & (train['dist_aud_movie']< 4)).sum() #184\n",
        "((train['dist_aud_movie']>=4) & (train['dist_aud_movie']<25)).sum() #199\n",
        "(train['dist_aud_movie']>=25).sum() #217\n",
        "\n",
        "#빈도수를 비슷하게 가지는 범위로 분할하면 '중형,소형 분할 기준:4' / '대형,중형 분할 기준:25' 이다."
      ],
      "metadata": {
        "colab": {
          "base_uri": "https://localhost:8080/",
          "height": 406
        },
        "id": "L8yc92tCG72r",
        "outputId": "4d89965d-07f3-4acf-cf1b-c5a44c57cef0"
      },
      "execution_count": null,
      "outputs": [
        {
          "output_type": "stream",
          "name": "stderr",
          "text": [
            "WARNING:matplotlib.font_manager:findfont: Font family ['NanumGothic'] not found. Falling back to DejaVu Sans.\n"
          ]
        },
        {
          "output_type": "execute_result",
          "data": {
            "text/plain": [
              "217"
            ]
          },
          "metadata": {},
          "execution_count": 11
        },
        {
          "output_type": "display_data",
          "data": {
            "text/plain": [
              "<Figure size 360x360 with 1 Axes>"
            ],
            "image/png": "[encoded data removed]"
          },
          "metadata": {
            "needs_background": "light"
          }
        }
      ]
    },
    {
      "cell_type": "code",
      "source": [
        "# dist_aud_movie가 25 이상이면 대형 배급사, 4 이상 25 미만이면 중형 배급사, 4 미만이면 소형 배급사로 구분하여 dist_size라는 열 이름으로 movies dataframe에 추가\n",
        "condlist = [( train['dist_aud_movie'] >= 25),( train['dist_aud_movie'] < 25) & ( train['dist_aud_movie'] >= 4),( movies['dist_aud_movie'] < 4)]\n",
        "choicelist = ['대형','중형','소형']\n",
        "train['dist_size'] = np.select(condlist, choicelist)\n",
        "train.head()\n",
        "\n",
        "# 배급사 규모(대형, 중형, 소형)와 관객수의 관계\n",
        "plt.rcParams['figure.figsize'] = [10, 10]\n",
        "ax=plt.subplots()\n",
        "ax=sns.boxplot(x='dist_size',y='box_off_num',data= train,order=['대형','중형','소형'])\n",
        "\n",
        "#제목 및 라벨 추가\n",
        "ax.set_title('배급사 규모와 관객수의 관계를 나타내는 boxplot')\n",
        "ax.set_xlabel('배급사 규모')\n",
        "ax.set_ylabel('관객수')"
      ],
      "metadata": {
        "colab": {
          "base_uri": "https://localhost:8080/",
          "height": 679
        },
        "id": "2of38iAK1CUe",
        "outputId": "88db2640-e58f-4c7f-ee52-077cdc42a7ca"
      },
      "execution_count": null,
      "outputs": [
        {
          "output_type": "execute_result",
          "data": {
            "text/plain": [
              "Text(0, 0.5, 'box_off_num')"
            ]
          },
          "metadata": {},
          "execution_count": 12
        },
        {
          "output_type": "stream",
          "name": "stderr",
          "text": [
            "WARNING:matplotlib.font_manager:findfont: Font family ['NanumGothic'] not found. Falling back to DejaVu Sans.\n"
          ]
        },
        {
          "output_type": "display_data",
          "data": {
            "text/plain": [
              "<Figure size 720x720 with 1 Axes>"
            ],
            "image/png": "[encoded data removed]"
          },
          "metadata": {
            "needs_background": "light"
          }
        }
      ]
    },
    {
      "cell_type": "markdown",
      "source": [
        "##### | 분석 결과\n",
        "___\n",
        "- 드라마, 코미디, 액션, 그리고 느와르 순으로 총 관객 수가 많다.\n",
        "대형 배급사에서 제작하는 영화의 경우 중형, 소형 배급사보다 관객수가 월등히 많다. 반면, 중형 배급사와 소형 배급사의 경우 관객 수가 유의미한 차이를 보이지는 않았다."
      ],
      "metadata": {
        "id": "WK41iRZ15B7T"
      }
    },
    {
      "cell_type": "markdown",
      "source": [
        "### **1-2) 관객수 - 장르**\n",
        "\n",
        "\n",
        "- 사용한 변수:  genre, box_off_num "
      ],
      "metadata": {
        "id": "ORBjLqsx50M_"
      }
    },
    {
      "cell_type": "code",
      "source": [
        "# 장르별 총 관객 수 구하기\n",
        "train.groupby('genre')['box_off_num'].sum().sort_values(ascending=False)"
      ],
      "metadata": {
        "colab": {
          "base_uri": "https://localhost:8080/"
        },
        "id": "2HdqFMkZQr4m",
        "outputId": "9a5f4b19-c28b-46b4-aeaf-5b168cb7d7e6"
      },
      "execution_count": null,
      "outputs": [
        {
          "output_type": "execute_result",
          "data": {
            "text/plain": [
              "genre\n",
              "드라마       138277444\n",
              "코미디        63277442\n",
              "액션         61711274\n",
              "느와르        61119768\n",
              "멜로/로맨스     33225507\n",
              "공포         24814966\n",
              "SF         23248494\n",
              "미스터리        8968319\n",
              "다큐멘터리       6247020\n",
              "애니메이션       3820460\n",
              "서스펜스         165222\n",
              "뮤지컬           33135\n",
              "Name: box_off_num, dtype: int64"
            ]
          },
          "metadata": {},
          "execution_count": 33
        }
      ]
    },
    {
      "cell_type": "code",
      "source": [
        "# 장르별 총 관객 수 박스 플랏\n",
        "genre_aud = train.groupby('genre')['box_off_num'].sum().sort_values(ascending=False)\n",
        "df = pd.DataFrame(genre_aud)\n",
        "df[\"genre\"]= df.index #genre 열 생성\n",
        "plt.rcParams['figure.figsize'] = [10,10] \n",
        "ax = plt.subplots()\n",
        "ax = sns.barplot(x='genre', y='box_off_num',data = df)\n",
        "\n",
        "#제목 및 라벨 추가\n",
        "ax.set_title('장르 별 관객 수의 관계를 나타내는 boxplot')\n",
        "ax.set_xlabel('장르')\n",
        "ax.set_ylabel('관객수')"
      ],
      "metadata": {
        "colab": {
          "base_uri": "https://localhost:8080/",
          "height": 614
        },
        "id": "YmJ03vERI_om",
        "outputId": "c74c825e-1cdc-4618-e54f-e79d4a4c863a"
      },
      "execution_count": null,
      "outputs": [
        {
          "output_type": "display_data",
          "data": {
            "text/plain": [
              "<Figure size 720x720 with 1 Axes>"
            ],
            "image/png": "[encoded data removed]"
          },
          "metadata": {
            "needs_background": "light"
          }
        }
      ]
    },
    {
      "cell_type": "markdown",
      "source": [
        "##### | 분석 결과\n",
        "___\n",
        "- 드라마, 코미디, 액션, 그리고 느와르 순으로 총 관객 수가 많다."
      ],
      "metadata": {
        "id": "yb8Tzc7v997_"
      }
    },
    {
      "cell_type": "markdown",
      "source": [
        "### **1-3) 관객수 - 감독유명도**\n",
        "- 사용한 변수:  dir_prev_bfnum, box_off_num \n"
      ],
      "metadata": {
        "id": "llEODIDLyXjl"
      }
    },
    {
      "cell_type": "code",
      "source": [
        "train['유명도']=''\n",
        "for i in range(len(train)):\n",
        "  if train['dir_prev_bfnum'][i]==0: \n",
        "    train['유명도'][i]='1'\n",
        "  elif train['dir_prev_bfnum'][i]<100000:\n",
        "    train['유명도'][i]='2'\n",
        "  elif train['dir_prev_bfnum'][i]<500000:\n",
        "    train['유명도'][i]='3'\n",
        "  elif train['dir_prev_bfnum'][i]<1000000: \n",
        "    train['유명도'][i]='4'\n",
        "  else:\n",
        "    train['유명도'][i]='5'"
      ],
      "metadata": {
        "id": "0mywzJIsOGw9"
      },
      "execution_count": null,
      "outputs": []
    },
    {
      "cell_type": "code",
      "source": [
        "plt.figure()\n",
        "train[['box_off_num']].groupby(train['유명도']).mean().plot(kind='bar')\n",
        "\n",
        "plt.title('감독유명도 별 평균 관객 수')\n",
        "plt.xlabel('감독의 유명도')\n",
        "plt.ylabel('평균 관객 수')\n",
        "plt.legend('평균 관객 수')\n",
        "\n",
        "plt.show()"
      ],
      "metadata": {
        "colab": {
          "base_uri": "https://localhost:8080/",
          "height": 634
        },
        "id": "kq3ShwcEOjtO",
        "outputId": "341597fe-395b-453e-9e21-c934cfaf1016"
      },
      "execution_count": null,
      "outputs": [
        {
          "output_type": "display_data",
          "data": {
            "text/plain": [
              "<Figure size 720x720 with 0 Axes>"
            ]
          },
          "metadata": {}
        },
        {
          "output_type": "display_data",
          "data": {
            "text/plain": [
              "<Figure size 720x720 with 1 Axes>"
            ],
            "image/png": "[encoded data removed]"
          },
          "metadata": {
            "needs_background": "light"
          }
        }
      ]
    },
    {
      "cell_type": "code",
      "source": [
        "pip install pingouin"
      ],
      "metadata": {
        "id": "AK_24RLRV9Z_"
      },
      "execution_count": null,
      "outputs": []
    },
    {
      "cell_type": "code",
      "source": [
        "#상관관계 검정 (감독의 유명도:범주형 변수/평균 관객 수:연속형 변수) => 비모수 검정 (스피어만)\n",
        "import pingouin as pg\n",
        "pg.corr(train.유명도.astype(int), train.box_off_num, method=\"spearman\")"
      ],
      "metadata": {
        "colab": {
          "base_uri": "https://localhost:8080/",
          "height": 81
        },
        "id": "6nNHYyyLUtpF",
        "outputId": "4bdb47e7-5683-4ad1-a5ba-0dfef078ab73"
      },
      "execution_count": null,
      "outputs": [
        {
          "output_type": "execute_result",
          "data": {
            "text/plain": [
              "            n         r          CI95%     p-val     power\n",
              "spearman  600 -0.053554  [-0.13, 0.03]  0.190193  0.258599"
            ],
            "text/html": [
              "\n",
              "  <div id=\"df-b01c4467-49cb-4504-84f8-553eefe29165\">\n",
              "    <div class=\"colab-df-container\">\n",
              "      <div>\n",
              "<style scoped>\n",
              "    .dataframe tbody tr th:only-of-type {\n",
              "        vertical-align: middle;\n",
              "    }\n",
              "\n",
              "    .dataframe tbody tr th {\n",
              "        vertical-align: top;\n",
              "    }\n",
              "\n",
              "    .dataframe thead th {\n",
              "        text-align: right;\n",
              "    }\n",
              "</style>\n",
              "<table border=\"1\" class=\"dataframe\">\n",
              "  <thead>\n",
              "    <tr style=\"text-align: right;\">\n",
              "      <th></th>\n",
              "      <th>n</th>\n",
              "      <th>r</th>\n",
              "      <th>CI95%</th>\n",
              "      <th>p-val</th>\n",
              "      <th>power</th>\n",
              "    </tr>\n",
              "  </thead>\n",
              "  <tbody>\n",
              "    <tr>\n",
              "      <th>spearman</th>\n",
              "      <td>600</td>\n",
              "      <td>-0.053554</td>\n",
              "      <td>[-0.13, 0.03]</td>\n",
              "      <td>0.190193</td>\n",
              "      <td>0.258599</td>\n",
              "    </tr>\n",
              "  </tbody>\n",
              "</table>\n",
              "</div>\n",
              "      <button class=\"colab-df-convert\" onclick=\"convertToInteractive('df-b01c4467-49cb-4504-84f8-553eefe29165')\"\n",
              "              title=\"Convert this dataframe to an interactive table.\"\n",
              "              style=\"display:none;\">\n",
              "        \n",
              "  <svg xmlns=\"http://www.w3.org/2000/svg\" height=\"24px\"viewBox=\"0 0 24 24\"\n",
              "       width=\"24px\">\n",
              "    <path d=\"M0 0h24v24H0V0z\" fill=\"none\"/>\n",
              "    <path d=\"M18.56 5.44l.94 2.06.94-2.06 2.06-.94-2.06-.94-.94-2.06-.94 2.06-2.06.94zm-11 1L8.5 8.5l.94-2.06 2.06-.94-2.06-.94L8.5 2.5l-.94 2.06-2.06.94zm10 10l.94 2.06.94-2.06 2.06-.94-2.06-.94-.94-2.06-.94 2.06-2.06.94z\"/><path d=\"M17.41 7.96l-1.37-1.37c-.4-.4-.92-.59-1.43-.59-.52 0-1.04.2-1.43.59L10.3 9.45l-7.72 7.72c-.78.78-.78 2.05 0 2.83L4 21.41c.39.39.9.59 1.41.59.51 0 1.02-.2 1.41-.59l7.78-7.78 2.81-2.81c.8-.78.8-2.07 0-2.86zM5.41 20L4 18.59l7.72-7.72 1.47 1.35L5.41 20z\"/>\n",
              "  </svg>\n",
              "      </button>\n",
              "      \n",
              "  <style>\n",
              "    .colab-df-container {\n",
              "      display:flex;\n",
              "      flex-wrap:wrap;\n",
              "      gap: 12px;\n",
              "    }\n",
              "\n",
              "    .colab-df-convert {\n",
              "      background-color: #E8F0FE;\n",
              "      border: none;\n",
              "      border-radius: 50%;\n",
              "      cursor: pointer;\n",
              "      display: none;\n",
              "      fill: #1967D2;\n",
              "      height: 32px;\n",
              "      padding: 0 0 0 0;\n",
              "      width: 32px;\n",
              "    }\n",
              "\n",
              "    .colab-df-convert:hover {\n",
              "      background-color: #E2EBFA;\n",
              "      box-shadow: 0px 1px 2px rgba(60, 64, 67, 0.3), 0px 1px 3px 1px rgba(60, 64, 67, 0.15);\n",
              "      fill: #174EA6;\n",
              "    }\n",
              "\n",
              "    [theme=dark] .colab-df-convert {\n",
              "      background-color: #3B4455;\n",
              "      fill: #D2E3FC;\n",
              "    }\n",
              "\n",
              "    [theme=dark] .colab-df-convert:hover {\n",
              "      background-color: #434B5C;\n",
              "      box-shadow: 0px 1px 3px 1px rgba(0, 0, 0, 0.15);\n",
              "      filter: drop-shadow(0px 1px 2px rgba(0, 0, 0, 0.3));\n",
              "      fill: #FFFFFF;\n",
              "    }\n",
              "  </style>\n",
              "\n",
              "      <script>\n",
              "        const buttonEl =\n",
              "          document.querySelector('#df-b01c4467-49cb-4504-84f8-553eefe29165 button.colab-df-convert');\n",
              "        buttonEl.style.display =\n",
              "          google.colab.kernel.accessAllowed ? 'block' : 'none';\n",
              "\n",
              "        async function convertToInteractive(key) {\n",
              "          const element = document.querySelector('#df-b01c4467-49cb-4504-84f8-553eefe29165');\n",
              "          const dataTable =\n",
              "            await google.colab.kernel.invokeFunction('convertToInteractive',\n",
              "                                                     [key], {});\n",
              "          if (!dataTable) return;\n",
              "\n",
              "          const docLinkHtml = 'Like what you see? Visit the ' +\n",
              "            '<a target=\"_blank\" href=https://colab.research.google.com/notebooks/data_table.ipynb>data table notebook</a>'\n",
              "            + ' to learn more about interactive tables.';\n",
              "          element.innerHTML = '';\n",
              "          dataTable['output_type'] = 'display_data';\n",
              "          await google.colab.output.renderOutput(dataTable, element);\n",
              "          const docLink = document.createElement('div');\n",
              "          docLink.innerHTML = docLinkHtml;\n",
              "          element.appendChild(docLink);\n",
              "        }\n",
              "      </script>\n",
              "    </div>\n",
              "  </div>\n",
              "  "
            ]
          },
          "metadata": {},
          "execution_count": 81
        }
      ]
    },
    {
      "cell_type": "markdown",
      "source": [
        "##### | 분석 결과\n",
        "___\n",
        "- 감독의 전작 관객 수가 많은 4와 5의 범주에서 평균 관객 수가 많은 것은 사실이다.\n",
        "- 하지만, 전작 관객 수가 제일 많다고 해서 평균 관객 수가 제일 많은 것은 아니다. \n",
        "- 통계분석 결과: r=-0.053554,  p-value > 0.005, 신뢰구간 95%에서 [-0.13, 0.03]로 두 변수 사이의 관계가 유의하다고 할 수 없다. (스피어만) \n",
        "\n",
        "###### 상관관계 분석 참고사이트: [링크 텍스트](https://eigenvector.tistory.com/37)"
      ],
      "metadata": {
        "id": "5leFeODWP2eL"
      }
    },
    {
      "cell_type": "markdown",
      "source": [
        "##**2) 상영등급 분석**"
      ],
      "metadata": {
        "id": "4tMtQbU8ixSC"
      }
    },
    {
      "cell_type": "code",
      "source": [
        "train['screening_rat'].value_counts()"
      ],
      "metadata": {
        "colab": {
          "base_uri": "https://localhost:8080/"
        },
        "id": "gE7ZljYAjE58",
        "outputId": "ddcfbce2-579b-4176-c5c1-00e8b7daca1f"
      },
      "execution_count": null,
      "outputs": [
        {
          "output_type": "execute_result",
          "data": {
            "text/plain": [
              "청소년 관람불가    204\n",
              "15세 관람가     202\n",
              "12세 관람가     102\n",
              "전체 관람가       92\n",
              "Name: screening_rat, dtype: int64"
            ]
          },
          "metadata": {},
          "execution_count": 91
        }
      ]
    },
    {
      "cell_type": "code",
      "source": [
        "train['screening_rat'].value_counts().plot(kind='bar')\n",
        "plt.title('상영등급에 따른 영화 개수')\n",
        "plt.xlabel('상영등급')\n",
        "plt.ylabel('count')"
      ],
      "metadata": {
        "colab": {
          "base_uri": "https://localhost:8080/",
          "height": 370
        },
        "id": "wJgPi1IYjNPL",
        "outputId": "6d3dface-7cf2-44c6-c7e2-ab7a374a5779"
      },
      "execution_count": null,
      "outputs": [
        {
          "output_type": "execute_result",
          "data": {
            "text/plain": [
              "Text(0, 0.5, 'count')"
            ]
          },
          "metadata": {},
          "execution_count": 98
        },
        {
          "output_type": "display_data",
          "data": {
            "text/plain": [
              "<Figure size 432x288 with 1 Axes>"
            ],
            "image/png": "[encoded data removed]"
          },
          "metadata": {
            "needs_background": "light"
          }
        }
      ]
    },
    {
      "cell_type": "markdown",
      "source": [
        "##### | 분석 결과\n",
        "___\n",
        "- 청소년 관람불가, 15세 관람가, 12세 관람가, 전체 관람가 순으로 많다. 청소년 관람불가, 15세 관람가 영화 수는 12세 관람가, 전체 관람가의 2배 정도이다."
      ],
      "metadata": {
        "id": "pfE4xWDCkv9d"
      }
    },
    {
      "cell_type": "markdown",
      "source": [
        "### **2-1) 상영등급 별 관객수**\n",
        "- 사용한 변수:  screening_rat, box_off_num"
      ],
      "metadata": {
        "id": "GUF-zFpwjbbD"
      }
    },
    {
      "cell_type": "code",
      "source": [
        "ax=plt.subplots()\n",
        "ax=sns.boxplot(x='screening_rat',y='box_off_num',data=train)\n",
        "plt.title(\"상영등급 별 관객수\")\n",
        "plt.xlabel('상영등급')\n",
        "plt.ylabel('관객수')"
      ],
      "metadata": {
        "colab": {
          "base_uri": "https://localhost:8080/",
          "height": 312
        },
        "id": "EHXaBWRKjpaV",
        "outputId": "e9d66b35-62b0-4542-ec8a-b7ff47e3a198"
      },
      "execution_count": null,
      "outputs": [
        {
          "output_type": "execute_result",
          "data": {
            "text/plain": [
              "Text(0, 0.5, '관객수')"
            ]
          },
          "metadata": {},
          "execution_count": 99
        },
        {
          "output_type": "display_data",
          "data": {
            "text/plain": [
              "<Figure size 432x288 with 1 Axes>"
            ],
            "image/png": "[encoded data removed]"
          },
          "metadata": {
            "needs_background": "light"
          }
        }
      ]
    },
    {
      "cell_type": "code",
      "source": [
        "ax=plt.subplots()\n",
        "ax=sns.boxplot(x='screening_rat',y='box_off_num',data=train)\n",
        "plt.title(\"상영등급 별 관객수\")\n",
        "plt.xlabel('상영등급')\n",
        "plt.ylabel('관객수')\n",
        "plt.ylim(0,4000000) #ylim 조정해서 작은 값들의 그래프가 더 잘 보이게"
      ],
      "metadata": {
        "colab": {
          "base_uri": "https://localhost:8080/",
          "height": 312
        },
        "id": "-q5Njmp9jr-s",
        "outputId": "ec24397a-eeee-40f2-e022-d7c6af5ae7eb"
      },
      "execution_count": null,
      "outputs": [
        {
          "output_type": "execute_result",
          "data": {
            "text/plain": [
              "(0.0, 4000000.0)"
            ]
          },
          "metadata": {},
          "execution_count": 101
        },
        {
          "output_type": "display_data",
          "data": {
            "text/plain": [
              "<Figure size 432x288 with 1 Axes>"
            ],
            "image/png": "[encoded data removed]"
          },
          "metadata": {
            "needs_background": "light"
          }
        }
      ]
    },
    {
      "cell_type": "markdown",
      "source": [
        "##### | 분석 결과\n",
        "___\n",
        "- 전체 관람가와 청소년 관람불가보다 15세, 12세의 관측치 크기가 더 크다."
      ],
      "metadata": {
        "id": "ZIgTXMjIk3Pz"
      }
    },
    {
      "cell_type": "markdown",
      "source": [
        "### **2-2) 상영등급 별 인기있는 장르**\n",
        "- 사용한 변수: box_off_num, screening_rate, genre"
      ],
      "metadata": {
        "id": "ZVi72ZlakEts"
      }
    },
    {
      "cell_type": "code",
      "source": [
        "a=train.groupby(['screening_rat','genre']).sum()\n",
        "a=pd.DataFrame(a.reset_index())\n",
        "a = a.pivot(index='screening_rat', columns='genre', values='box_off_num')\n",
        "a.plot.bar(stacked=True)\n",
        "plt.legend(loc='center left', bbox_to_anchor=(1, 0.5))\n",
        "plt.title('상영등급 별 장르가 차지하는 비율')\n",
        "plt.xlabel('상영등급')\n",
        "plt.ylabel('관객수')\n",
        "color_m = sns.color_palette('hls', len(train['screening_rat'].unique()))\n",
        "order_g = train['genre'].unique()\n",
        "color_g= sns.color_palette('hls', len(order_g))"
      ],
      "metadata": {
        "colab": {
          "base_uri": "https://localhost:8080/",
          "height": 352
        },
        "id": "fptRTVXckLcl",
        "outputId": "50b36dc8-4d91-481e-e4c3-735d7e4ef0e8"
      },
      "execution_count": null,
      "outputs": [
        {
          "output_type": "display_data",
          "data": {
            "text/plain": [
              "<Figure size 432x288 with 1 Axes>"
            ],
            "image/png": "[encoded data removed]"
          },
          "metadata": {
            "needs_background": "light"
          }
        }
      ]
    },
    {
      "cell_type": "markdown",
      "source": [
        "##### | 분석 결과\n",
        "___\n",
        "- 전체관람가에서는 빨간색이 가장 많고, 12세 관람가, 15세 관람가에서는 보라색이 제일 많고, 청소년 관람불가에서는 초록색이 가장 많다."
      ],
      "metadata": {
        "id": "U6WymujVlFCD"
      }
    },
    {
      "cell_type": "markdown",
      "source": [
        "##**3) 개봉일 분석**"
      ],
      "metadata": {
        "id": "OLJVp65RlRVi"
      }
    },
    {
      "cell_type": "markdown",
      "source": [
        "### **3-1) 개봉월에 따른 평균 관객 수**\n",
        "- 사용한 변수: release_time, box_off_num"
      ],
      "metadata": {
        "id": "awe8VVEYlvHN"
      }
    },
    {
      "cell_type": "code",
      "source": [
        "# release_time 날짜형으로 바꾸기\n",
        "train['release_time']=pd.to_datetime(train['release_time'])\n",
        "\n",
        "# release_month 달 추출\n",
        "train['release_month']=train['release_time'].dt.month"
      ],
      "metadata": {
        "id": "eaPBKrNRmCAV"
      },
      "execution_count": null,
      "outputs": []
    },
    {
      "cell_type": "code",
      "source": [
        "# seaborn 라이브러리로 그래프 그리기 전, 색깔 지정\n",
        "\n",
        "## month 색깔 지정\n",
        "color_m = sns.color_palette('hls', len(train['release_month'].unique()))\n",
        "\n",
        "## genre 색깔 지정\n",
        "order_g = train['genre'].unique()\n",
        "order_g = np.sort(order_g) # 한글 순 정렬 (범례 순서와 같게)\n",
        "color_g= sns.color_palette('hls', len(order_g))"
      ],
      "metadata": {
        "id": "iK8im8NjmDfc"
      },
      "execution_count": null,
      "outputs": []
    },
    {
      "cell_type": "code",
      "source": [
        "# 개봉월에 따른 관객수를 바차트로 나타내기\n",
        "\n",
        "train_mon = train[['release_month', 'box_off_num']].groupby('release_month').sum().sort_values('box_off_num', ascending=False).reset_index()\n",
        "ax = sns.barplot(x='release_month', y='box_off_num', data=train_mon, palette=color_m, \n",
        "                 order = train_mon['release_month'].value_counts().index)\n",
        "ax.set_title('개봉월에 따른 관객수')\n",
        "ax.set_xlabel('개봉월')\n",
        "ax.set_ylabel('관객수')"
      ],
      "metadata": {
        "colab": {
          "base_uri": "https://localhost:8080/",
          "height": 311
        },
        "id": "J-uqwn5OmE8s",
        "outputId": "86a6df12-66e7-41b3-f7eb-2f98095dc4cc"
      },
      "execution_count": null,
      "outputs": [
        {
          "output_type": "execute_result",
          "data": {
            "text/plain": [
              "Text(0, 0.5, '관객수')"
            ]
          },
          "metadata": {},
          "execution_count": 106
        },
        {
          "output_type": "display_data",
          "data": {
            "text/plain": [
              "<Figure size 432x288 with 1 Axes>"
            ],
            "image/png": "[encoded data removed]"
          },
          "metadata": {
            "needs_background": "light"
          }
        }
      ]
    },
    {
      "cell_type": "markdown",
      "source": [
        "##### | 분석 결과\n",
        "___\n",
        "  1. 연말 기간인 12월\n",
        "  2. 여름방학 기간인 7,8월\n",
        "  3. 연초 기간인 1월\n",
        "  4. 추석 기간인 9월  \n",
        "  순으로 관객수가 많은 것으로 나타났다. "
      ],
      "metadata": {
        "id": "JpPoNmzimHSW"
      }
    },
    {
      "cell_type": "markdown",
      "source": [
        "### **3-2) 개봉시기에 따른 장르의 인기도 추이**\n",
        "- 사용한 변수: release_month, genre\n",
        "\n",
        "* 관객수가 많은 특정 개봉시기에 어떤 장르가 인기가 많은지 알아보고자 한다. \n",
        "\n",
        ">-'인기가 많다'의 척도는 관객수로 정한다.  \n",
        ">-관객수가 많은 특정 개봉시기는 다음과 같다. \n",
        "  1. 연말 기간인 12월\n",
        "  2. 여름방학 기간인 7,8월\n",
        "  3. 연초 기간인 1월\n",
        "  4. 추석 기간인 9월 "
      ],
      "metadata": {
        "id": "pINUc3ibmUdL"
      }
    },
    {
      "cell_type": "code",
      "source": [
        "## 월별로 장르의 인기도 살펴보기\n",
        "# 연말 기간인 12월에 개봉된 영화의 장르 인기로를 바차트로 나타내기\n",
        "\n",
        "train_mon12 = train[train['release_month']==12][['title','genre', 'box_off_num']]\n",
        "train_mon12_sum = train_mon12.groupby('genre').sum().reset_index()\n",
        "train_mon12_sum.columns = ['genre', 'num_movies']\n",
        "\n",
        "ax = plt.subplots()\n",
        "ax = sns.barplot(x='genre', y='num_movies', data=train_mon12_sum, errwidth=0, order=order_g, palette=color_g)\n",
        "plt.xticks(rotation=45)\n",
        "ax.set_title('12월 개봉 영화의 장르 인기도')\n",
        "ax.set_xlabel('장르')\n",
        "ax.set_ylabel('관객수')"
      ],
      "metadata": {
        "colab": {
          "base_uri": "https://localhost:8080/",
          "height": 345
        },
        "id": "3wYHn5tMmxaU",
        "outputId": "88414181-7a25-4331-eba9-b718227f6f6a"
      },
      "execution_count": null,
      "outputs": [
        {
          "output_type": "execute_result",
          "data": {
            "text/plain": [
              "Text(0, 0.5, '관객수')"
            ]
          },
          "metadata": {},
          "execution_count": 107
        },
        {
          "output_type": "display_data",
          "data": {
            "text/plain": [
              "<Figure size 432x288 with 1 Axes>"
            ],
            "image/png": "[encoded data removed]"
          },
          "metadata": {
            "needs_background": "light"
          }
        }
      ]
    },
    {
      "cell_type": "markdown",
      "source": [
        "##### | 분석 결과\n",
        "___\n",
        "* 연말 기간인 12월에 개봉된 영화에서 드라마 장르가 인기가 압도적으로 많다. \n",
        "* 느와르, 멜로/로맨스, 코미디 장르가 그 다음으로 인기도가 높았지만 대체적으로 낮은 편이다. "
      ],
      "metadata": {
        "id": "JCzGyi3im3Bl"
      }
    },
    {
      "cell_type": "code",
      "source": [
        "## 월별로 장르의 인기도 살펴보기\n",
        "# 여름방학 기간인 7, 8월에 개봉된 영화의 장르 인기도를 바차트로 나타내기\n",
        "\n",
        "train_mon78 = train[(train['release_month']==7)|(train['release_month']==8)][['title','genre', 'box_off_num']]\n",
        "train_mon78_sum = train_mon78.groupby('genre').sum().reset_index()\n",
        "train_mon78_sum.columns = ['genre', 'num_movies']\n",
        "\n",
        "ax = plt.subplots()\n",
        "ax = sns.barplot(x='genre', y='num_movies', data=train_mon78_sum, errwidth=0, order=order_g, palette=color_g)\n",
        "plt.xticks(rotation=45)\n",
        "ax.set_title('7, 8월 개봉 영화의 장르 인기도')\n",
        "ax.set_xlabel('장르')\n",
        "ax.set_ylabel('관객수')"
      ],
      "metadata": {
        "colab": {
          "base_uri": "https://localhost:8080/",
          "height": 345
        },
        "id": "kxBPzf8Im-2X",
        "outputId": "546c4426-dfce-40e5-cc81-3221df249e01"
      },
      "execution_count": null,
      "outputs": [
        {
          "output_type": "execute_result",
          "data": {
            "text/plain": [
              "Text(0, 0.5, '관객수')"
            ]
          },
          "metadata": {},
          "execution_count": 108
        },
        {
          "output_type": "display_data",
          "data": {
            "text/plain": [
              "<Figure size 432x288 with 1 Axes>"
            ],
            "image/png": "[encoded data removed]"
          },
          "metadata": {
            "needs_background": "light"
          }
        }
      ]
    },
    {
      "cell_type": "markdown",
      "source": [
        "##### | 분석 결과\n",
        "___\n",
        "* 여름방학 기간인 7,8월에 개봉된 영화에서 액션 장르가 인기가 가장 많다. \n",
        "* 느와르, SF, 드라마 장르가 그 다음으로 인기도가 높다. "
      ],
      "metadata": {
        "id": "_eGoPpxVnAbb"
      }
    },
    {
      "cell_type": "code",
      "source": [
        "# 월별로 장르의 인기도 살펴보기\n",
        "## 설연휴 기간인 1월에 개봉된 영화의 장르 인기로를 바차트로 나타내기\n",
        "\n",
        "train_mon1 = train[train['release_month']==1][['title','genre', 'box_off_num']]\n",
        "train_mon1_sum = train_mon1.groupby('genre').sum().reset_index()\n",
        "train_mon1_sum.columns = ['genre', 'num_movies']\n",
        "\n",
        "ax = plt.subplots()\n",
        "ax = sns.barplot(x='genre', y='num_movies', data=train_mon1_sum, errwidth=0, order=order_g, palette=color_g)\n",
        "plt.xticks(rotation=45)\n",
        "ax.set_title('1월 개봉 영화의 장르 인기도')\n",
        "ax.set_xlabel('장르')\n",
        "ax.set_ylabel('관객수')"
      ],
      "metadata": {
        "colab": {
          "base_uri": "https://localhost:8080/",
          "height": 345
        },
        "id": "pwKiSIwrnDk8",
        "outputId": "0b1e95a4-1303-430f-ae8a-b9b3db952056"
      },
      "execution_count": null,
      "outputs": [
        {
          "output_type": "execute_result",
          "data": {
            "text/plain": [
              "Text(0, 0.5, '관객수')"
            ]
          },
          "metadata": {},
          "execution_count": 109
        },
        {
          "output_type": "display_data",
          "data": {
            "text/plain": [
              "<Figure size 432x288 with 1 Axes>"
            ],
            "image/png": "[encoded data removed]"
          },
          "metadata": {
            "needs_background": "light"
          }
        }
      ]
    },
    {
      "cell_type": "markdown",
      "source": [
        "##### | 분석 결과\n",
        "___\n",
        "* 연초 기간인 1월에 개봉된 영화에서 코미디 장르가 압도적으로 가장 인기가 많다.\n",
        "* 드라마, 액션 장르가 그 다음으로 인기도가 높지만 대체로 낮은 편이다. "
      ],
      "metadata": {
        "id": "mOenR2uQnElU"
      }
    },
    {
      "cell_type": "code",
      "source": [
        "# 월별로 장르의 인기도 살펴보기\n",
        "## 추석연휴 기간인 9월에 개봉된 영화의 장르 인기로를 바차트로 나타내기\n",
        "\n",
        "train_mon9 = train[train['release_month']==9][['title','genre', 'box_off_num']]\n",
        "train_mon9_sum = train_mon9.groupby('genre').sum().reset_index()\n",
        "train_mon9_sum.columns = ['genre', 'num_movies']\n",
        "\n",
        "ax = plt.subplots()\n",
        "ax = sns.barplot(x='genre', y='num_movies', data=train_mon9_sum, errwidth=0, order=order_g, palette=color_g)\n",
        "plt.xticks(rotation=45)\n",
        "ax.set_title('9월 개봉 영화의 장르 인기도')\n",
        "ax.set_xlabel('장르')\n",
        "ax.set_ylabel('관객수')"
      ],
      "metadata": {
        "colab": {
          "base_uri": "https://localhost:8080/",
          "height": 345
        },
        "id": "fjh7bDrFnLuM",
        "outputId": "c961539e-86bc-4011-964d-6d9ec8d2f101"
      },
      "execution_count": null,
      "outputs": [
        {
          "output_type": "execute_result",
          "data": {
            "text/plain": [
              "Text(0, 0.5, '관객수')"
            ]
          },
          "metadata": {},
          "execution_count": 110
        },
        {
          "output_type": "display_data",
          "data": {
            "text/plain": [
              "<Figure size 432x288 with 1 Axes>"
            ],
            "image/png": "[encoded data removed]"
          },
          "metadata": {
            "needs_background": "light"
          }
        }
      ]
    },
    {
      "cell_type": "markdown",
      "source": [
        "##### | 분석 결과\n",
        "___\n",
        "* 추석 기간인 9월에 개봉된 영화에서 드라마 장르가 압도적으로 가장 인기가 많다.\n",
        "* 멜로/로맨스, 액션, 코미디가 그다음으로 인기도가 높았지만, 대체적으로 낮은 편이다.  "
      ],
      "metadata": {
        "id": "g4iiNViFnMVs"
      }
    },
    {
      "cell_type": "code",
      "source": [
        "# 월 전체의 장르 인기도를 한꺼번에 살펴보기\n",
        "## 누적 바차트로 나타내기\n",
        "\n",
        "train_mon_g = train.groupby(['release_month','genre'])['box_off_num'].sum().reset_index()\n",
        "\n",
        "train_mon_g_p = train_mon_g.pivot(index='release_month', columns='genre', values='box_off_num') # 피벗화\n",
        "train_mon_g_p = train_mon_g_p.loc[train_mon['release_month'].value_counts().index] # 관객수 많은 월 순서대로 정렬\n",
        "train_mon_g_p.plot.bar(stacked=True, color=color_g) # 누적 막대그래프로\n",
        "plt.legend(loc=2, bbox_to_anchor=(1, 1)) # 범례 위치\n",
        "plt.title('월 전체의 영화 장르 인기도')\n",
        "plt.xlabel('개봉월')\n",
        "plt.ylabel('관객수')"
      ],
      "metadata": {
        "colab": {
          "base_uri": "https://localhost:8080/",
          "height": 314
        },
        "id": "l3Mn2ch4nSDM",
        "outputId": "5f0844e6-8bbf-4e2b-de2e-35b1b7bd7cf1"
      },
      "execution_count": null,
      "outputs": [
        {
          "output_type": "execute_result",
          "data": {
            "text/plain": [
              "Text(0, 0.5, '관객수')"
            ]
          },
          "metadata": {},
          "execution_count": 111
        },
        {
          "output_type": "display_data",
          "data": {
            "text/plain": [
              "<Figure size 432x288 with 1 Axes>"
            ],
            "image/png": "[encoded data removed]"
          },
          "metadata": {
            "needs_background": "light"
          }
        }
      ]
    },
    {
      "cell_type": "markdown",
      "source": [
        "##### | 분석 결과\n",
        "___\n",
        "* 월별로 따로 분석한 그래프의 결과와 같이 12월에 드라마, 7,8월에 액션, 1월에 코미디, 9월에 드라마 장르가 인기가 가장 많은 것을 한번에 확인할 수 있다."
      ],
      "metadata": {
        "id": "CO1g0elfnUDM"
      }
    },
    {
      "cell_type": "markdown",
      "source": [
        "### **3-3) 배급사의 개봉시기 분포**\n",
        "- 사용한 변수: release_month, distributor, num_movies"
      ],
      "metadata": {
        "id": "qPX2cFCrniCU"
      }
    },
    {
      "cell_type": "code",
      "source": [
        "# 영화상영수가 많은 상위5개 배급사의 개봉시기 분포 살펴보기\n",
        "## 배급사별로 개봉시기 분포 나타내기 \n",
        "\n",
        "# 영화상영수 많은 상위5 배급사 확인\n",
        "train_dist_top = train['distributor'].value_counts().head(5) \n",
        "\n",
        "# 그룹화\n",
        "train_dist_gr = train.groupby(['distributor', 'release_month'])['title'].count().reset_index() \n",
        "train_dist_gr.columns = ['distributor', 'release_month', 'num_movies']\n",
        "\n",
        "# 그룹화 중 상위5배급사에 해당하는 행추출\n",
        "train_dist_top_gr = train_dist_gr[train_dist_gr['distributor'].isin(train_dist_top.index)].copy() "
      ],
      "metadata": {
        "id": "MFHE1ojbnuCk"
      },
      "execution_count": null,
      "outputs": []
    },
    {
      "cell_type": "code",
      "source": [
        "# 상위5개 배급사 데이터셋 따로 추출\n",
        "top1 = train_dist_top_gr[train_dist_top_gr['distributor']=='CJ 엔터테인먼트']\n",
        "top2 = train_dist_top_gr[train_dist_top_gr['distributor']=='롯데엔터테인먼트']\n",
        "top3 = train_dist_top_gr[train_dist_top_gr['distributor']=='(주)NEW']\n",
        "top4 = train_dist_top_gr[train_dist_top_gr['distributor']=='(주)마운틴픽쳐스']\n",
        "top5 = train_dist_top_gr[train_dist_top_gr['distributor']=='(주)쇼박스']"
      ],
      "metadata": {
        "id": "MEiriH4ynxRk"
      },
      "execution_count": null,
      "outputs": []
    },
    {
      "cell_type": "code",
      "source": [
        "# 한면에 그래프 그리기\n",
        "fig = plt.figure(figsize=(4,8))\n",
        "\n",
        "ax1 = fig.add_subplot(5,1,1)\n",
        "ax2 = fig.add_subplot(5,1,2)\n",
        "ax3 = fig.add_subplot(5,1,3)\n",
        "ax4 = fig.add_subplot(5,1,4)\n",
        "ax5 = fig.add_subplot(5,1,5)\n",
        "\n",
        "ax1.bar(top1['release_month'], top1['num_movies'])\n",
        "ax1.set_title('CJ 엔터테인먼트')\n",
        "\n",
        "ax2.bar(top2['release_month'], top2['num_movies'])\n",
        "ax2.set_title('롯데엔터테인먼트')\n",
        "\n",
        "ax3.bar(top3['release_month'], top3['num_movies'])\n",
        "ax3.set_title('(주)NEW')\n",
        "\n",
        "ax4.bar(top4['release_month'], top4['num_movies'])\n",
        "ax4.set_title('(주)마운틴픽쳐스')\n",
        "\n",
        "ax5.bar(top5['release_month'], top5['num_movies'])\n",
        "ax5.set_title('(주)쇼박스')\n",
        "\n",
        "fig.suptitle('영화상영수 상위5 배급사의 개봉시기 분포', y=1.02)\n",
        "\n",
        "fig.tight_layout()"
      ],
      "metadata": {
        "colab": {
          "base_uri": "https://localhost:8080/",
          "height": 608
        },
        "id": "lXh52sTWnynM",
        "outputId": "5a18f3c2-123f-485f-88d3-b252f23a60b0"
      },
      "execution_count": null,
      "outputs": [
        {
          "output_type": "display_data",
          "data": {
            "text/plain": [
              "<Figure size 288x576 with 5 Axes>"
            ],
            "image/png": "[encoded data removed]"
          },
          "metadata": {
            "needs_background": "light"
          }
        }
      ]
    },
    {
      "cell_type": "markdown",
      "source": [
        "##### | 분석 결과\n",
        "___\n",
        "* 영화상영수가 많은 배급사의 경우,  \n",
        "  상반기, 하반기 달에 위로 볼록하고, 중앙이 아래로 패인 쌍봉형태의 그래프를 보인다. \n",
        "* 배급사 전반적으로 상반기보다 하반기에 영화상영수가 더 많다. "
      ],
      "metadata": {
        "id": "cKERXOoUn75s"
      }
    },
    {
      "cell_type": "code",
      "source": [
        "# 영화상영수가 1개인 배급사의 개봉시기 분포 살펴보기\n",
        "## 배급사 전체의 개봉시기 분포를 바차트로 나타내기\n",
        "\n",
        "# 영화상영수가 1개인 배급사 확인\n",
        "train_dist_count = train['distributor'].value_counts().reset_index()\n",
        "train_dist_count.columns = ['distributor', 'num_movies']\n",
        "train_dist_count[train_dist_count['num_movies']==1].count()"
      ],
      "metadata": {
        "colab": {
          "base_uri": "https://localhost:8080/"
        },
        "id": "rrlgi7NXoA6z",
        "outputId": "c89e7a1c-32c6-4b82-aa26-338b6dd7de4e"
      },
      "execution_count": null,
      "outputs": [
        {
          "output_type": "execute_result",
          "data": {
            "text/plain": [
              "distributor    102\n",
              "num_movies     102\n",
              "dtype: int64"
            ]
          },
          "metadata": {},
          "execution_count": 119
        }
      ]
    },
    {
      "cell_type": "code",
      "source": [
        "# 영화상영수가 1개인 배급사 데이터셋 따로 추출\n",
        "train_dist_only1 = train['distributor'].value_counts().tail(102)\n",
        "train_dist_only1\n",
        "\n",
        "# 그룹화\n",
        "train_dist_g = train.groupby(['distributor', 'release_month'])['title'].count().reset_index()\n",
        "train_dist_g.columns = ['distributor', 'release_month', 'num_movies']\n",
        "\n",
        "# 그룹화 중 상위5배급사에 해당하는 행추출\n",
        "train_dist_only1_g = train_dist_g[train_dist_g['distributor'].isin(train_dist_only1.index)].copy()\n",
        "\n",
        "# 그래프\n",
        "a = train_dist_only1_g.groupby('release_month').sum().reset_index()\n",
        "ax = sns.barplot(x='release_month', y='num_movies', data=a)\n",
        "ax.set_title('영화상영수 1개인 배급사의 개봉시기 분포')\n",
        "ax.set_xlabel('개봉월')\n",
        "ax.set_ylabel('영화상영수')"
      ],
      "metadata": {
        "colab": {
          "base_uri": "https://localhost:8080/",
          "height": 311
        },
        "id": "AyYtYymeoEGD",
        "outputId": "4ce48c07-8bdd-43d3-e451-f9672d1dde16"
      },
      "execution_count": null,
      "outputs": [
        {
          "output_type": "execute_result",
          "data": {
            "text/plain": [
              "Text(0, 0.5, '영화상영수')"
            ]
          },
          "metadata": {},
          "execution_count": 120
        },
        {
          "output_type": "display_data",
          "data": {
            "text/plain": [
              "<Figure size 432x288 with 1 Axes>"
            ],
            "image/png": "[encoded data removed]"
          },
          "metadata": {
            "needs_background": "light"
          }
        }
      ]
    },
    {
      "cell_type": "markdown",
      "source": [
        "##### | 분석 결과\n",
        "___\n",
        "* 영화상영수가 1개인 배급사의 경우,  \n",
        "  영화상영수가 많은 배급사와 마찬가지로,  \n",
        "  상반기, 하반기 달에 위로 볼록하고, 중앙이 아래로 패인 쌍봉형태의 그래프를 보인다.\n",
        "* 영화상영수가 1개인 배급사의 경우,  \n",
        "  영화상영수가 많은 배급사와 달리,  \n",
        "  상반기보다 하반기에 영화상영수가 더 많다고 할 수 없다."
      ],
      "metadata": {
        "id": "X_gCloZhoF6T"
      }
    },
    {
      "cell_type": "markdown",
      "source": [
        "##**4) 스텝수 분석**"
      ],
      "metadata": {
        "id": "d6YgN45EoRXb"
      }
    },
    {
      "cell_type": "markdown",
      "source": [
        "### **4-1) 주연배우수 vs 스텝수**\n",
        "- 사용한 변수: num_actor, num_staff"
      ],
      "metadata": {
        "id": "r6BXvsSRoV1C"
      }
    },
    {
      "cell_type": "code",
      "source": [
        "train['num_actor'].describe()"
      ],
      "metadata": {
        "colab": {
          "base_uri": "https://localhost:8080/"
        },
        "id": "RiL0zelMorUs",
        "outputId": "7c518cc6-e3af-474b-f58f-47779fe7b426"
      },
      "execution_count": null,
      "outputs": [
        {
          "output_type": "execute_result",
          "data": {
            "text/plain": [
              "count    600.000000\n",
              "mean       3.706667\n",
              "std        2.446889\n",
              "min        0.000000\n",
              "25%        2.000000\n",
              "50%        3.000000\n",
              "75%        4.000000\n",
              "max       25.000000\n",
              "Name: num_actor, dtype: float64"
            ]
          },
          "metadata": {},
          "execution_count": 122
        }
      ]
    },
    {
      "cell_type": "code",
      "source": [
        "ax=plt.subplots()\n",
        "ax=sns.regplot(x='num_actor',y='num_staff',data=train)\n",
        "ax.set_title('Scatterplot of ㄴㄴㄴnum_actor and num_staff')\n",
        "ax.set_xlabel('num_actor')\n",
        "ax.set_ylabel('num_staff')"
      ],
      "metadata": {
        "colab": {
          "base_uri": "https://localhost:8080/",
          "height": 310
        },
        "id": "crAJ0ZggosnV",
        "outputId": "350f1064-d5ee-41c5-9eef-ddeb0a060338"
      },
      "execution_count": null,
      "outputs": [
        {
          "output_type": "execute_result",
          "data": {
            "text/plain": [
              "Text(0, 0.5, 'num_staff')"
            ]
          },
          "metadata": {},
          "execution_count": 121
        },
        {
          "output_type": "display_data",
          "data": {
            "text/plain": [
              "<Figure size 432x288 with 1 Axes>"
            ],
            "image/png": "[encoded data removed]"
          },
          "metadata": {
            "needs_background": "light"
          }
        }
      ]
    },
    {
      "cell_type": "code",
      "source": [
        "#상관관계\n",
        "train[['num_actor','num_staff']].corr()"
      ],
      "metadata": {
        "colab": {
          "base_uri": "https://localhost:8080/",
          "height": 112
        },
        "id": "FDM84kp6ovqb",
        "outputId": "16f9caf1-c91e-457b-a907-3b18ca23c4cb"
      },
      "execution_count": null,
      "outputs": [
        {
          "output_type": "execute_result",
          "data": {
            "text/plain": [
              "           num_actor  num_staff\n",
              "num_actor   1.000000   0.077871\n",
              "num_staff   0.077871   1.000000"
            ],
            "text/html": [
              "\n",
              "  <div id=\"df-9dfbe376-0b77-4a6d-b9c7-99f4b62e0107\">\n",
              "    <div class=\"colab-df-container\">\n",
              "      <div>\n",
              "<style scoped>\n",
              "    .dataframe tbody tr th:only-of-type {\n",
              "        vertical-align: middle;\n",
              "    }\n",
              "\n",
              "    .dataframe tbody tr th {\n",
              "        vertical-align: top;\n",
              "    }\n",
              "\n",
              "    .dataframe thead th {\n",
              "        text-align: right;\n",
              "    }\n",
              "</style>\n",
              "<table border=\"1\" class=\"dataframe\">\n",
              "  <thead>\n",
              "    <tr style=\"text-align: right;\">\n",
              "      <th></th>\n",
              "      <th>num_actor</th>\n",
              "      <th>num_staff</th>\n",
              "    </tr>\n",
              "  </thead>\n",
              "  <tbody>\n",
              "    <tr>\n",
              "      <th>num_actor</th>\n",
              "      <td>1.000000</td>\n",
              "      <td>0.077871</td>\n",
              "    </tr>\n",
              "    <tr>\n",
              "      <th>num_staff</th>\n",
              "      <td>0.077871</td>\n",
              "      <td>1.000000</td>\n",
              "    </tr>\n",
              "  </tbody>\n",
              "</table>\n",
              "</div>\n",
              "      <button class=\"colab-df-convert\" onclick=\"convertToInteractive('df-9dfbe376-0b77-4a6d-b9c7-99f4b62e0107')\"\n",
              "              title=\"Convert this dataframe to an interactive table.\"\n",
              "              style=\"display:none;\">\n",
              "        \n",
              "  <svg xmlns=\"http://www.w3.org/2000/svg\" height=\"24px\"viewBox=\"0 0 24 24\"\n",
              "       width=\"24px\">\n",
              "    <path d=\"M0 0h24v24H0V0z\" fill=\"none\"/>\n",
              "    <path d=\"M18.56 5.44l.94 2.06.94-2.06 2.06-.94-2.06-.94-.94-2.06-.94 2.06-2.06.94zm-11 1L8.5 8.5l.94-2.06 2.06-.94-2.06-.94L8.5 2.5l-.94 2.06-2.06.94zm10 10l.94 2.06.94-2.06 2.06-.94-2.06-.94-.94-2.06-.94 2.06-2.06.94z\"/><path d=\"M17.41 7.96l-1.37-1.37c-.4-.4-.92-.59-1.43-.59-.52 0-1.04.2-1.43.59L10.3 9.45l-7.72 7.72c-.78.78-.78 2.05 0 2.83L4 21.41c.39.39.9.59 1.41.59.51 0 1.02-.2 1.41-.59l7.78-7.78 2.81-2.81c.8-.78.8-2.07 0-2.86zM5.41 20L4 18.59l7.72-7.72 1.47 1.35L5.41 20z\"/>\n",
              "  </svg>\n",
              "      </button>\n",
              "      \n",
              "  <style>\n",
              "    .colab-df-container {\n",
              "      display:flex;\n",
              "      flex-wrap:wrap;\n",
              "      gap: 12px;\n",
              "    }\n",
              "\n",
              "    .colab-df-convert {\n",
              "      background-color: #E8F0FE;\n",
              "      border: none;\n",
              "      border-radius: 50%;\n",
              "      cursor: pointer;\n",
              "      display: none;\n",
              "      fill: #1967D2;\n",
              "      height: 32px;\n",
              "      padding: 0 0 0 0;\n",
              "      width: 32px;\n",
              "    }\n",
              "\n",
              "    .colab-df-convert:hover {\n",
              "      background-color: #E2EBFA;\n",
              "      box-shadow: 0px 1px 2px rgba(60, 64, 67, 0.3), 0px 1px 3px 1px rgba(60, 64, 67, 0.15);\n",
              "      fill: #174EA6;\n",
              "    }\n",
              "\n",
              "    [theme=dark] .colab-df-convert {\n",
              "      background-color: #3B4455;\n",
              "      fill: #D2E3FC;\n",
              "    }\n",
              "\n",
              "    [theme=dark] .colab-df-convert:hover {\n",
              "      background-color: #434B5C;\n",
              "      box-shadow: 0px 1px 3px 1px rgba(0, 0, 0, 0.15);\n",
              "      filter: drop-shadow(0px 1px 2px rgba(0, 0, 0, 0.3));\n",
              "      fill: #FFFFFF;\n",
              "    }\n",
              "  </style>\n",
              "\n",
              "      <script>\n",
              "        const buttonEl =\n",
              "          document.querySelector('#df-9dfbe376-0b77-4a6d-b9c7-99f4b62e0107 button.colab-df-convert');\n",
              "        buttonEl.style.display =\n",
              "          google.colab.kernel.accessAllowed ? 'block' : 'none';\n",
              "\n",
              "        async function convertToInteractive(key) {\n",
              "          const element = document.querySelector('#df-9dfbe376-0b77-4a6d-b9c7-99f4b62e0107');\n",
              "          const dataTable =\n",
              "            await google.colab.kernel.invokeFunction('convertToInteractive',\n",
              "                                                     [key], {});\n",
              "          if (!dataTable) return;\n",
              "\n",
              "          const docLinkHtml = 'Like what you see? Visit the ' +\n",
              "            '<a target=\"_blank\" href=https://colab.research.google.com/notebooks/data_table.ipynb>data table notebook</a>'\n",
              "            + ' to learn more about interactive tables.';\n",
              "          element.innerHTML = '';\n",
              "          dataTable['output_type'] = 'display_data';\n",
              "          await google.colab.output.renderOutput(dataTable, element);\n",
              "          const docLink = document.createElement('div');\n",
              "          docLink.innerHTML = docLinkHtml;\n",
              "          element.appendChild(docLink);\n",
              "        }\n",
              "      </script>\n",
              "    </div>\n",
              "  </div>\n",
              "  "
            ]
          },
          "metadata": {},
          "execution_count": 123
        }
      ]
    },
    {
      "cell_type": "markdown",
      "source": [
        "##### | 분석 결과\n",
        "___\n",
        "*   주연배우수와 스텝수는 약한 양의 상관관계를 보이기는 하나 회귀선에 벗어나는 오차들이 많다.\n",
        "*   상관계수가 0.077871로 매우 작아 경향성 찾기 어렵다.\n",
        "\n"
      ],
      "metadata": {
        "id": "xEh3HM1lozb8"
      }
    },
    {
      "cell_type": "markdown",
      "source": [
        "###**4-2) 감독 전작 흥행도(유명도) vs 스텝수**\n",
        "- 사용한 변수: director, dir_prev_bfnum"
      ],
      "metadata": {
        "id": "Pa_s5WDko3hj"
      }
    },
    {
      "cell_type": "code",
      "source": [
        "#train['director'].unique()"
      ],
      "metadata": {
        "id": "UNmbe3M3o_wV"
      },
      "execution_count": null,
      "outputs": []
    },
    {
      "cell_type": "code",
      "source": [
        "train['dir_prev_bfnum'].describe()"
      ],
      "metadata": {
        "colab": {
          "base_uri": "https://localhost:8080/"
        },
        "id": "kp9j0xLupBJU",
        "outputId": "55fb914c-9541-4c48-c24f-bad7ea086ebe"
      },
      "execution_count": null,
      "outputs": [
        {
          "output_type": "execute_result",
          "data": {
            "text/plain": [
              "count    6.000000e+02\n",
              "mean     4.726993e+05\n",
              "std      1.309474e+06\n",
              "min      0.000000e+00\n",
              "25%      0.000000e+00\n",
              "50%      0.000000e+00\n",
              "75%      3.761416e+05\n",
              "max      1.761531e+07\n",
              "Name: dir_prev_bfnum, dtype: float64"
            ]
          },
          "metadata": {},
          "execution_count": 126
        }
      ]
    },
    {
      "cell_type": "code",
      "source": [
        "#유명도 변수 생성\n",
        "train['유명도']=''\n",
        "for i in range(len(train)):\n",
        "  if train['dir_prev_bfnum'][i]==0: \n",
        "    train['유명도'][i]='1'\n",
        "  elif train['dir_prev_bfnum'][i]<100000:\n",
        "    train['유명도'][i]='2'\n",
        "  elif train['dir_prev_bfnum'][i]<500000:\n",
        "    train['유명도'][i]='3'\n",
        "  elif train['dir_prev_bfnum'][i]<1000000: \n",
        "    train['유명도'][i]='4'\n",
        "  else:\n",
        "    train['유명도'][i]='5'"
      ],
      "metadata": {
        "id": "U6yexwLNpDLF"
      },
      "execution_count": null,
      "outputs": []
    },
    {
      "cell_type": "code",
      "source": [
        "train[['num_staff']].groupby(train['유명도']).mean().plot(kind='bar')"
      ],
      "metadata": {
        "colab": {
          "base_uri": "https://localhost:8080/",
          "height": 293
        },
        "id": "ICpmMIBDpFan",
        "outputId": "7653ca54-e14a-49d8-cf8d-119f5f84a11e"
      },
      "execution_count": null,
      "outputs": [
        {
          "output_type": "execute_result",
          "data": {
            "text/plain": [
              "<matplotlib.axes._subplots.AxesSubplot at 0x7f836d6bead0>"
            ]
          },
          "metadata": {},
          "execution_count": 128
        },
        {
          "output_type": "display_data",
          "data": {
            "text/plain": [
              "<Figure size 432x288 with 1 Axes>"
            ],
            "image/png": "[encoded data removed]"
          },
          "metadata": {
            "needs_background": "light"
          }
        }
      ]
    },
    {
      "cell_type": "markdown",
      "source": [
        "##### | 분석 결과\n",
        "___\n",
        "*   감독 유명도별로 그룹화하여 살펴본 결과, 스텝 수는 감독의 유명도와 비례하여 증가하는 경향성을 보인다."
      ],
      "metadata": {
        "id": "mYfbPA-vpH0M"
      }
    },
    {
      "cell_type": "code",
      "source": [
        "ax=plt.subplots()\n",
        "ax=sns.regplot(x='dir_prev_bfnum',y='num_staff',data=train)"
      ],
      "metadata": {
        "colab": {
          "base_uri": "https://localhost:8080/",
          "height": 277
        },
        "id": "Sifyc6cEpOjz",
        "outputId": "6ee70167-e969-4b53-dfa7-3717aa431f37"
      },
      "execution_count": null,
      "outputs": [
        {
          "output_type": "display_data",
          "data": {
            "text/plain": [
              "<Figure size 432x288 with 1 Axes>"
            ],
            "image/png": "[encoded data removed]"
          },
          "metadata": {
            "needs_background": "light"
          }
        }
      ]
    },
    {
      "cell_type": "markdown",
      "source": [
        "##**5) 배급사 분석**"
      ],
      "metadata": {
        "id": "NqeiWRsPpUv0"
      }
    },
    {
      "cell_type": "markdown",
      "source": [
        "### **5-1) 배급사별 장르 추이: 상위 6개**\n",
        "- 사용한 변수: distributor, genre"
      ],
      "metadata": {
        "id": "33EFm9MvpxiU"
      }
    },
    {
      "cell_type": "code",
      "source": [
        "#영화를 가장 많이 제작하는 배급사 top10\n",
        "train['distributor'].value_counts().sort_values(ascending=False)[:10]"
      ],
      "metadata": {
        "colab": {
          "base_uri": "https://localhost:8080/"
        },
        "id": "8jVfqi2RqeFc",
        "outputId": "44d95ada-5d44-4499-e5ec-77a07c3e3841"
      },
      "execution_count": null,
      "outputs": [
        {
          "output_type": "execute_result",
          "data": {
            "text/plain": [
              "CJ 엔터테인먼트    54\n",
              "롯데엔터테인먼트     52\n",
              "(주)NEW       30\n",
              "(주)마운틴픽쳐스    29\n",
              "(주)쇼박스       26\n",
              "인디스토리        26\n",
              "골든타이드픽처스     15\n",
              "(주) 케이알씨지    14\n",
              "(주) 영화사조제    10\n",
              "영화사 진진       10\n",
              "Name: distributor, dtype: int64"
            ]
          },
          "metadata": {},
          "execution_count": 131
        }
      ]
    },
    {
      "cell_type": "code",
      "source": [
        "#배급사별 자료 정렬\n",
        "train_top6 = train['distributor'].value_counts().head(6)\n",
        "\n",
        "train_dt_genre = train.groupby(['distributor', 'genre'])['title'].count().reset_index()\n",
        "train_dt_genre.columns = ['distributor', 'genre', 'num_movies']\n",
        "\n",
        "train_distributor_genre = train_dt_genre[train_dt_genre['distributor'].isin(train_top6.index)].copy() #상위 배급사 자료만"
      ],
      "metadata": {
        "id": "oVBBPIPCqgOm"
      },
      "execution_count": null,
      "outputs": []
    },
    {
      "cell_type": "code",
      "source": [
        "import matplotlib.patches as mpt\n",
        "import matplotlib.colors as mcl\n",
        "import matplotlib.pyplot as plt"
      ],
      "metadata": {
        "id": "TyzGOModqhYM"
      },
      "execution_count": null,
      "outputs": []
    },
    {
      "cell_type": "code",
      "source": [
        "#방법1 - 도넛 그래프\n",
        "\n",
        "freq_col = 'num_movies' ## 빈도수 칼럼\n",
        "outer_col = 'distributor' ## 상위 그룹 칼럼\n",
        "inner_col = 'genre' ## 하위 그룹 칼럼\n",
        " \n",
        "size = 0.3 ## 바깥쪽, 안쪽 도넛 조각 조각의 반지름 비율을 0.3으로 한다.\n",
        "threshold = 4 ## 상한선 백분율\n",
        " \n",
        "color = sns.color_palette('hls',len(train_distributor_genre[outer_col].unique())) ## 바깥쪽 도넛의 색상설정\n",
        " \n",
        "summary = train_distributor_genre.groupby(outer_col)[freq_col].sum().reset_index() ## 지역별로 득표수를 집계한다.\n",
        "outer_data = summary[freq_col] ## 바깥쪽 도넛에 해당하는 데이터\n",
        "inner_data = [] ## 안쪽 도넛에 대응하는 데이터\n",
        "for s in summary[outer_col]:\n",
        "    inner_data += list(train_distributor_genre.query('{0}==@s'.format(outer_col))[freq_col])\n",
        " \n",
        "fig = plt.figure(figsize=(8,8)) ## 캔버스 생성\n",
        "fig.set_facecolor('white') ## 캔버스 배경색을 하얀색으로 설정\n",
        "ax = fig.add_subplot() ## 프레임 생성\n",
        " \n",
        "## 바깥쪽 도넛 조각 차트 출력\n",
        "out_pie = ax.pie(outer_data,\n",
        "             radius=1,\n",
        "             colors=color,\n",
        "             wedgeprops=dict(width=size,edgecolor='w'))\n",
        " \n",
        "## 바깥쪽 도넛 백분율 텍스트 출력\n",
        "total = np.sum(outer_data) ## 바깥쪽 빈도수의 총합\n",
        " \n",
        "sum_pct = 0 ## 백분율 초기값\n",
        " \n",
        "for i in range(len(outer_data)):\n",
        "    ang1, ang2 = out_pie[0][i].theta1, out_pie[0][i].theta2 ## 각1, 각2\n",
        "    out_r = out_pie[0][i].r ## 원의 반지름\n",
        "    \n",
        "    x = ((2*out_r-size)/2)*np.cos(np.pi/180*((ang1+ang2)/2)) ## 바깥쪽 도넛 조각의 중앙쪽 x좌표\n",
        "    y = ((2*out_r-size)/2)*np.sin(np.pi/180*((ang1+ang2)/2)) ## 바깥쪽 도넛 조각의 중앙쪽 y좌표\n",
        "    \n",
        "    if i < len(outer_data) - 1:\n",
        "        sum_pct += float(f'{outer_data[i]/total*100:.2f}') ## 백분율을 누적한다.\n",
        "        ax.text(x,y,f'{outer_data[i]/total*100:.2f}%',ha='center',va='center') ## 백분율 텍스트 표시\n",
        "    else: ## 총합을 100으로 맞추기위해 마지막 백분율은 100에서 백분율 누적값을 빼준다.\n",
        "        ax.text(x,y,f'{100-sum_pct:.2f}%',ha='center',va='center')\n",
        " \n",
        "outer_color = [] ## 바깥쪽 도넛 조각의 색상을 hsv 컬러로 담을 리스트\n",
        "for p in out_pie[0]:\n",
        "    outer_color.append(p.get_facecolor()) ## 바깥쪽 도넛 조각을 rgb 컬러로 가져온다.\n",
        "outer_color_hsv = [mcl.rgb_to_hsv(x[:3]) for x in outer_color] ## rgb를 hsv로 바꾼다.\n",
        "outer_color_hsv = [(x[0],x[1],1) for x in outer_color_hsv] ## 색상 채도만 가져오고 명도는 1로 고정한다.\n",
        " \n",
        "inner_color = [] ## 안쪽 도넛 조각의 색상을 담는 리스트\n",
        "for i, g in enumerate(summary[outer_col]):\n",
        "    num_sub_group = len(train_distributor_genre.query('{0}==@g'.format(outer_col))) ## 하위 그룹 개수\n",
        "    jump = outer_color_hsv[i][1]/(num_sub_group+1) ## 채도 등분점 간격\n",
        "    temp_list = []\n",
        "    temp_s = np.arange(0,outer_color_hsv[i][1],jump) \n",
        "    temp_s = temp_s[1:] ## 채도 등분점\n",
        "    for t in temp_s:\n",
        "        h = outer_color_hsv[i][0] ## 색상\n",
        "        s = t ## 채도\n",
        "        v = outer_color_hsv[i][2] ## 명도\n",
        "        temp_list.append((h,s,v))\n",
        "    inner_color += temp_list[::-1] ## 순서를 바꿈\n",
        "    \n",
        "inner_color = [mcl.hsv_to_rgb(x) for x in inner_color] #3 hsv를 다시 rgb로 바꾼다.\n",
        " \n",
        "## 안쪽 도넛 차트 출력\n",
        "inner_pie = ax.pie(inner_data,\n",
        "       radius=1-size,\n",
        "       colors=inner_color,\n",
        "       wedgeprops=dict(width=size,edgecolor='w'))\n",
        " \n",
        "## 안쪽 도넛 백분율 텍스트 출력\n",
        "bbox_props = dict(boxstyle='square',fc='w',ec='w',alpha=0) ## annotation 박스 스타일\n",
        "config = dict(arrowprops=dict(arrowstyle='-'),bbox=bbox_props,va='center')\n",
        " \n",
        "inner_sum_pct = 0 ## 안쪽 도넛 백분율 초기값\n",
        "for i in range(len(inner_data)):\n",
        "    ang1, ang2 = inner_pie[0][i].theta1, inner_pie[0][i].theta2 ## 안쪽 각1, 안쪽 각2\n",
        "    r = inner_pie[0][i].r ## 안쪽 도넛의 반지름\n",
        "    \n",
        "    x = ((2*r-size)/2)*np.cos(np.pi/180*((ang1+ang2)/2)) ## 안쪽 도넛 조각의 중앙쪽 x좌표\n",
        "    y = ((2*r-size)/2)*np.sin(np.pi/180*((ang1+ang2)/2)) ## 안쪽 도넛 조각의 중앙쪽 y좌표\n",
        "    \n",
        "    if i < len(inner_data) - 1:\n",
        "        inner_sum_pct += float(f'{inner_data[i]/total*100:.2f}') ## 백분율을 누적한다.\n",
        "        text = f'{inner_data[i]/total*100:.2f}%' ## 백분율 텍스트 표시\n",
        "    else: ## 총합을 100으로 맞추기위해 마지막 백분율은 100에서 백분율 누적값을 빼준다.\n",
        "        text = f'{100-inner_sum_pct:.2f}%'\n",
        "        \n",
        "    ## 비율 상한선보다 작은 것들은 Annotation으로 만든다.\n",
        "    if inner_data[i]/total*100 < threshold:\n",
        "        ang = (ang1+ang2)/2 ## 중심각\n",
        "        x = out_r*np.cos(np.deg2rad(ang)) ## Annotation의 끝점에 해당하는 x좌표\n",
        "        y = out_r*np.sin(np.deg2rad(ang)) ## Annotation의 끝점에 해당하는 y좌표\n",
        "        \n",
        "        ## x좌표가 양수이면 즉 y축을 중심으로 오른쪽에 있으면 왼쪽 정렬\n",
        "        ## x좌표가 음수이면 즉 y축을 중심으로 왼쪽에 있으면 오른쪽 정렬\n",
        "        horizontalalignment = {-1: \"right\", 1: \"left\"}[int(np.sign(x))]\n",
        "        connectionstyle = \"angle,angleA=0,angleB={}\".format(ang) ## 시작점과 끝점 연결 스타일\n",
        "        config[\"arrowprops\"].update({\"connectionstyle\": connectionstyle}) ## \n",
        "        ax.annotate(text, xy=((out_r-size)*x, (out_r-size)*y), xytext=(1.5*x, 1.2*y),\n",
        "                    horizontalalignment=horizontalalignment, **config)\n",
        "    else:\n",
        "        x = ((2*r-size)/2)*np.cos(np.pi/180*((ang1+ang2)/2)) ## 텍스트 x좌표\n",
        "        y = ((2*r-size)/2)*np.sin(np.pi/180*((ang1+ang2)/2)) ## 텍스트 y좌표\n",
        "        ax.text(x,y,text,ha='center',va='center')\n",
        " \n",
        "## 범례\n",
        "## 범례는 2줄로 만든다. 왼쪽 줄에는 상위 그룹을 표시하고 오른쪽 줄에는 하위 그룹을 표시한다.\n",
        "inner_pie_index = -1 ## 안쪽 도넛 차트의 데이터에 접근할 인덱스 초기값\n",
        "right_legend_patches = [] ## 오른쪽 범례 칼럼에 들어가는 요소\n",
        "left_legend_patches = [] ## 왼쪽 범례 칼럼에 들어가는 요소\n",
        "right_labels = [] ## 오른쪽 범례 칼럼에 들어가는 라벨\n",
        "left_labels = [] ## 왼쪽 범례 칼러에 들어가는 라벨\n",
        "for i in range(len(outer_data)):\n",
        "    left_legend_patches.append(out_pie[0][i])\n",
        "    \n",
        "    outer_label = summary[outer_col][i] ## 바깥쪽 도넛 차트 라벨\n",
        " \n",
        "    left_labels.append(outer_label)\n",
        "    temp_data = train_distributor_genre.query('{0}==@outer_label'.format(outer_col)) ## 바깥쪽 라벨에 대응하는 안쪽 도넛 데이터\n",
        "    temp_data = temp_data.reset_index(drop=True)\n",
        "    \n",
        "    temp_number = len(temp_data)-1\n",
        "    \n",
        "    ## 오른쪽 범례 개수와 맞추기 위해 빈 범례를 만듬\n",
        "    for k in range(temp_number):\n",
        "        rect = mpt.Rectangle((0,0),1,1.1,facecolor='None')\n",
        "        left_legend_patches.append(rect)\n",
        "        left_labels.append('')\n",
        "    \n",
        "    ## 오른쪽 범례 칼럼을 만든다.\n",
        "    for j in range(len(temp_data)):\n",
        "        inner_pie_index += 1\n",
        "        \n",
        "        right_legend_patches.append(inner_pie[0][inner_pie_index])\n",
        "        right_labels.append(temp_data[inner_col][j])\n",
        "        \n",
        "    ## 범례 요소와 라벨을 합친다.\n",
        "    legend_patches = left_legend_patches+right_legend_patches\n",
        "    labels = left_labels + right_labels\n",
        "        \n",
        "## 범례 출력\n",
        "plt.legend(legend_patches,\n",
        "           labels,\n",
        "           ncol=2,\n",
        "           loc='upper right',\n",
        "           handleheight=1, ## 범례 줄 맞춤\n",
        "           labelspacing=0.5, ## 범례 줄 간격\n",
        "           bbox_to_anchor=(1.2,1))\n",
        " \n",
        "plt.show()"
      ],
      "metadata": {
        "colab": {
          "base_uri": "https://localhost:8080/",
          "height": 739
        },
        "id": "Vo-MseQPqlp9",
        "outputId": "6af37b90-a891-4b0d-d313-96754c262abd"
      },
      "execution_count": null,
      "outputs": [
        {
          "output_type": "display_data",
          "data": {
            "text/plain": [
              "<Figure size 576x576 with 1 Axes>"
            ],
            "image/png": "[encoded data removed]"
          },
          "metadata": {}
        }
      ]
    },
    {
      "cell_type": "code",
      "source": [
        "#방법2 - 배급사별 막대 그래프\n",
        "ax = sns.catplot(data=train_distributor_genre, x='num_movies', y='genre', kind='bar', col='distributor', col_wrap=3)"
      ],
      "metadata": {
        "colab": {
          "base_uri": "https://localhost:8080/",
          "height": 749
        },
        "id": "OG6jTj7dqpJs",
        "outputId": "42bf5c93-5c33-40ed-8860-01ea6bbb3005"
      },
      "execution_count": null,
      "outputs": [
        {
          "output_type": "display_data",
          "data": {
            "text/plain": [
              "<Figure size 1080x720 with 6 Axes>"
            ],
            "image/png": "[encoded data removed]"
          },
          "metadata": {
            "needs_background": "light"
          }
        }
      ]
    },
    {
      "cell_type": "markdown",
      "source": [
        "##### | 분석 결과\n",
        "___\n",
        "*   도넛 그래프를 통해 상위 6개 배급사 간의 점유율과 각 배급사의 영화 장르 비율을 볼 수 있다.\n",
        "*   배급사별 영화 장르 비율은 막대 그래프를 통해 더 자세히 확인할 수 있는데, 전체적으로 드라마 장르가 우세한 경향을 보이고 SF, 미스터리 등의 장르가 약세인 것을 관찰할 수 있다.\n"
      ],
      "metadata": {
        "id": "yZMES6bYqu8d"
      }
    },
    {
      "cell_type": "markdown",
      "source": [
        "### **5-2) 배급사별 장르 추이: 하위 15개 합**\n",
        "- 사용한 변수: distributor,genre"
      ],
      "metadata": {
        "id": "4G72sttRq-M0"
      }
    },
    {
      "cell_type": "code",
      "source": [
        "#영화를 가장 적게 제작하는 배급사 top15\n",
        "train['distributor'].value_counts().sort_values(ascending=True)[:15]"
      ],
      "metadata": {
        "colab": {
          "base_uri": "https://localhost:8080/"
        },
        "id": "lEHy3_ySrAzd",
        "outputId": "f73ba50b-f9c1-42e4-b763-d5f34c4703d6"
      },
      "execution_count": null,
      "outputs": [
        {
          "output_type": "execute_result",
          "data": {
            "text/plain": [
              "이달투            1\n",
              "(주)씨엠닉스        1\n",
              "팜코리아미디어        1\n",
              "(주)로드하우스       1\n",
              "미라클 필름         1\n",
              "위드시네마          1\n",
              "더 피플           1\n",
              "인피니티엔터테인먼트     1\n",
              "쟈비스미디어         1\n",
              "에이블엔터테인먼트      1\n",
              "(주)이스트스카이필름    1\n",
              "(주)JK필름        1\n",
              "사람과 사람들        1\n",
              "(주)고앤고 필름      1\n",
              "오퍼스픽쳐스         1\n",
              "Name: distributor, dtype: int64"
            ]
          },
          "metadata": {},
          "execution_count": 137
        }
      ]
    },
    {
      "cell_type": "code",
      "source": [
        "#배급사별 자료 정렬\n",
        "train_bottom15 = train['distributor'].value_counts().tail(15)\n",
        "\n",
        "train_dt_genre2 = train.groupby(['distributor', 'genre'])['title'].count().reset_index()\n",
        "train_dt_genre2.columns = ['distributor', 'genre', 'num_movies']\n",
        "\n",
        "train_distributor_genre2 = train_dt_genre2[train_dt_genre2['distributor'].isin(train_bottom15.index)].copy() #하위 배급사 자료만\n",
        "\n",
        "train_distributor_genre2 = pd.DataFrame(train_distributor_genre2.groupby(['genre'])['num_movies'].sum())\n",
        "train_distributor_genre2"
      ],
      "metadata": {
        "colab": {
          "base_uri": "https://localhost:8080/",
          "height": 300
        },
        "id": "Hhmq9MKprCXE",
        "outputId": "a062c242-e0e9-40a9-9a93-7b7bef644268"
      },
      "execution_count": null,
      "outputs": [
        {
          "output_type": "execute_result",
          "data": {
            "text/plain": [
              "        num_movies\n",
              "genre             \n",
              "공포               2\n",
              "느와르              2\n",
              "다큐멘터리            3\n",
              "드라마              5\n",
              "멜로/로맨스           1\n",
              "미스터리             1\n",
              "애니메이션            1"
            ],
            "text/html": [
              "\n",
              "  <div id=\"df-f6e9ac65-e2f2-4f44-a9ec-a1e42e95ca51\">\n",
              "    <div class=\"colab-df-container\">\n",
              "      <div>\n",
              "<style scoped>\n",
              "    .dataframe tbody tr th:only-of-type {\n",
              "        vertical-align: middle;\n",
              "    }\n",
              "\n",
              "    .dataframe tbody tr th {\n",
              "        vertical-align: top;\n",
              "    }\n",
              "\n",
              "    .dataframe thead th {\n",
              "        text-align: right;\n",
              "    }\n",
              "</style>\n",
              "<table border=\"1\" class=\"dataframe\">\n",
              "  <thead>\n",
              "    <tr style=\"text-align: right;\">\n",
              "      <th></th>\n",
              "      <th>num_movies</th>\n",
              "    </tr>\n",
              "    <tr>\n",
              "      <th>genre</th>\n",
              "      <th></th>\n",
              "    </tr>\n",
              "  </thead>\n",
              "  <tbody>\n",
              "    <tr>\n",
              "      <th>공포</th>\n",
              "      <td>2</td>\n",
              "    </tr>\n",
              "    <tr>\n",
              "      <th>느와르</th>\n",
              "      <td>2</td>\n",
              "    </tr>\n",
              "    <tr>\n",
              "      <th>다큐멘터리</th>\n",
              "      <td>3</td>\n",
              "    </tr>\n",
              "    <tr>\n",
              "      <th>드라마</th>\n",
              "      <td>5</td>\n",
              "    </tr>\n",
              "    <tr>\n",
              "      <th>멜로/로맨스</th>\n",
              "      <td>1</td>\n",
              "    </tr>\n",
              "    <tr>\n",
              "      <th>미스터리</th>\n",
              "      <td>1</td>\n",
              "    </tr>\n",
              "    <tr>\n",
              "      <th>애니메이션</th>\n",
              "      <td>1</td>\n",
              "    </tr>\n",
              "  </tbody>\n",
              "</table>\n",
              "</div>\n",
              "      <button class=\"colab-df-convert\" onclick=\"convertToInteractive('df-f6e9ac65-e2f2-4f44-a9ec-a1e42e95ca51')\"\n",
              "              title=\"Convert this dataframe to an interactive table.\"\n",
              "              style=\"display:none;\">\n",
              "        \n",
              "  <svg xmlns=\"http://www.w3.org/2000/svg\" height=\"24px\"viewBox=\"0 0 24 24\"\n",
              "       width=\"24px\">\n",
              "    <path d=\"M0 0h24v24H0V0z\" fill=\"none\"/>\n",
              "    <path d=\"M18.56 5.44l.94 2.06.94-2.06 2.06-.94-2.06-.94-.94-2.06-.94 2.06-2.06.94zm-11 1L8.5 8.5l.94-2.06 2.06-.94-2.06-.94L8.5 2.5l-.94 2.06-2.06.94zm10 10l.94 2.06.94-2.06 2.06-.94-2.06-.94-.94-2.06-.94 2.06-2.06.94z\"/><path d=\"M17.41 7.96l-1.37-1.37c-.4-.4-.92-.59-1.43-.59-.52 0-1.04.2-1.43.59L10.3 9.45l-7.72 7.72c-.78.78-.78 2.05 0 2.83L4 21.41c.39.39.9.59 1.41.59.51 0 1.02-.2 1.41-.59l7.78-7.78 2.81-2.81c.8-.78.8-2.07 0-2.86zM5.41 20L4 18.59l7.72-7.72 1.47 1.35L5.41 20z\"/>\n",
              "  </svg>\n",
              "      </button>\n",
              "      \n",
              "  <style>\n",
              "    .colab-df-container {\n",
              "      display:flex;\n",
              "      flex-wrap:wrap;\n",
              "      gap: 12px;\n",
              "    }\n",
              "\n",
              "    .colab-df-convert {\n",
              "      background-color: #E8F0FE;\n",
              "      border: none;\n",
              "      border-radius: 50%;\n",
              "      cursor: pointer;\n",
              "      display: none;\n",
              "      fill: #1967D2;\n",
              "      height: 32px;\n",
              "      padding: 0 0 0 0;\n",
              "      width: 32px;\n",
              "    }\n",
              "\n",
              "    .colab-df-convert:hover {\n",
              "      background-color: #E2EBFA;\n",
              "      box-shadow: 0px 1px 2px rgba(60, 64, 67, 0.3), 0px 1px 3px 1px rgba(60, 64, 67, 0.15);\n",
              "      fill: #174EA6;\n",
              "    }\n",
              "\n",
              "    [theme=dark] .colab-df-convert {\n",
              "      background-color: #3B4455;\n",
              "      fill: #D2E3FC;\n",
              "    }\n",
              "\n",
              "    [theme=dark] .colab-df-convert:hover {\n",
              "      background-color: #434B5C;\n",
              "      box-shadow: 0px 1px 3px 1px rgba(0, 0, 0, 0.15);\n",
              "      filter: drop-shadow(0px 1px 2px rgba(0, 0, 0, 0.3));\n",
              "      fill: #FFFFFF;\n",
              "    }\n",
              "  </style>\n",
              "\n",
              "      <script>\n",
              "        const buttonEl =\n",
              "          document.querySelector('#df-f6e9ac65-e2f2-4f44-a9ec-a1e42e95ca51 button.colab-df-convert');\n",
              "        buttonEl.style.display =\n",
              "          google.colab.kernel.accessAllowed ? 'block' : 'none';\n",
              "\n",
              "        async function convertToInteractive(key) {\n",
              "          const element = document.querySelector('#df-f6e9ac65-e2f2-4f44-a9ec-a1e42e95ca51');\n",
              "          const dataTable =\n",
              "            await google.colab.kernel.invokeFunction('convertToInteractive',\n",
              "                                                     [key], {});\n",
              "          if (!dataTable) return;\n",
              "\n",
              "          const docLinkHtml = 'Like what you see? Visit the ' +\n",
              "            '<a target=\"_blank\" href=https://colab.research.google.com/notebooks/data_table.ipynb>data table notebook</a>'\n",
              "            + ' to learn more about interactive tables.';\n",
              "          element.innerHTML = '';\n",
              "          dataTable['output_type'] = 'display_data';\n",
              "          await google.colab.output.renderOutput(dataTable, element);\n",
              "          const docLink = document.createElement('div');\n",
              "          docLink.innerHTML = docLinkHtml;\n",
              "          element.appendChild(docLink);\n",
              "        }\n",
              "      </script>\n",
              "    </div>\n",
              "  </div>\n",
              "  "
            ]
          },
          "metadata": {},
          "execution_count": 138
        }
      ]
    },
    {
      "cell_type": "code",
      "source": [
        "#파이차트 그리기\n",
        "ratio = train_distributor_genre2['num_movies']\n",
        "labels = train_distributor_genre2.index\n",
        "\n",
        "plt.pie(ratio, labels=labels, autopct='%.2f%%')\n",
        "plt.show()"
      ],
      "metadata": {
        "colab": {
          "base_uri": "https://localhost:8080/",
          "height": 248
        },
        "id": "cfs6vvryrGWd",
        "outputId": "1ff35d7b-55be-4233-e062-99741cc7a404"
      },
      "execution_count": null,
      "outputs": [
        {
          "output_type": "display_data",
          "data": {
            "text/plain": [
              "<Figure size 432x288 with 1 Axes>"
            ],
            "image/png": "[encoded data removed]"
          },
          "metadata": {}
        }
      ]
    },
    {
      "cell_type": "markdown",
      "source": [
        "##### | 분석 결과\n",
        "___\n",
        "*   영화 수가 적은 하위 배급사들은 배급사별로 영화를 한 편 씩만 상영하였기에 이들을 합쳐 하위 배급사 전체의 장르 수를 비교하였다.\n",
        "*   하위 배급사 역시 드라마 장르를 가장 많이 상영하였다.\n",
        "*   다만, 상위 배급사와는 다르게 다큐멘터리 장르가 상위권을 차지하고 멜로/로맨스 장르가 하위권을 차지한 것을 통해 상위 배급사와 하위 배급사의 경향성이 다름을 확인할 수 있다."
      ],
      "metadata": {
        "id": "RZ9NmtivrIyV"
      }
    },
    {
      "cell_type": "markdown",
      "source": [
        "### **5-3) 배급사 점유율과 관객수 비교**"
      ],
      "metadata": {
        "id": "PWDXX-vMrL9l"
      }
    },
    {
      "cell_type": "code",
      "source": [
        "movie_count_by_dist = pd.DataFrame(train['distributor'].value_counts())\n",
        "movie_count_by_dist"
      ],
      "metadata": {
        "colab": {
          "base_uri": "https://localhost:8080/",
          "height": 424
        },
        "id": "iaOHV9wirOvV",
        "outputId": "889d6dd4-4c4d-4afd-de5f-962c792555fb"
      },
      "execution_count": null,
      "outputs": [
        {
          "output_type": "execute_result",
          "data": {
            "text/plain": [
              "               distributor\n",
              "CJ 엔터테인먼트               54\n",
              "롯데엔터테인먼트                52\n",
              "(주)NEW                  30\n",
              "(주)마운틴픽쳐스               29\n",
              "(주)쇼박스                  26\n",
              "...                    ...\n",
              "OAL(올)                   1\n",
              "(주)에이원 엔터테인먼트            1\n",
              "(주)콘텐츠 윙                 1\n",
              "위더스필름                    1\n",
              "퍼스트런                     1\n",
              "\n",
              "[169 rows x 1 columns]"
            ],
            "text/html": [
              "\n",
              "  <div id=\"df-407bb4e9-278f-49ad-a868-b82ab7d442a2\">\n",
              "    <div class=\"colab-df-container\">\n",
              "      <div>\n",
              "<style scoped>\n",
              "    .dataframe tbody tr th:only-of-type {\n",
              "        vertical-align: middle;\n",
              "    }\n",
              "\n",
              "    .dataframe tbody tr th {\n",
              "        vertical-align: top;\n",
              "    }\n",
              "\n",
              "    .dataframe thead th {\n",
              "        text-align: right;\n",
              "    }\n",
              "</style>\n",
              "<table border=\"1\" class=\"dataframe\">\n",
              "  <thead>\n",
              "    <tr style=\"text-align: right;\">\n",
              "      <th></th>\n",
              "      <th>distributor</th>\n",
              "    </tr>\n",
              "  </thead>\n",
              "  <tbody>\n",
              "    <tr>\n",
              "      <th>CJ 엔터테인먼트</th>\n",
              "      <td>54</td>\n",
              "    </tr>\n",
              "    <tr>\n",
              "      <th>롯데엔터테인먼트</th>\n",
              "      <td>52</td>\n",
              "    </tr>\n",
              "    <tr>\n",
              "      <th>(주)NEW</th>\n",
              "      <td>30</td>\n",
              "    </tr>\n",
              "    <tr>\n",
              "      <th>(주)마운틴픽쳐스</th>\n",
              "      <td>29</td>\n",
              "    </tr>\n",
              "    <tr>\n",
              "      <th>(주)쇼박스</th>\n",
              "      <td>26</td>\n",
              "    </tr>\n",
              "    <tr>\n",
              "      <th>...</th>\n",
              "      <td>...</td>\n",
              "    </tr>\n",
              "    <tr>\n",
              "      <th>OAL(올)</th>\n",
              "      <td>1</td>\n",
              "    </tr>\n",
              "    <tr>\n",
              "      <th>(주)에이원 엔터테인먼트</th>\n",
              "      <td>1</td>\n",
              "    </tr>\n",
              "    <tr>\n",
              "      <th>(주)콘텐츠 윙</th>\n",
              "      <td>1</td>\n",
              "    </tr>\n",
              "    <tr>\n",
              "      <th>위더스필름</th>\n",
              "      <td>1</td>\n",
              "    </tr>\n",
              "    <tr>\n",
              "      <th>퍼스트런</th>\n",
              "      <td>1</td>\n",
              "    </tr>\n",
              "  </tbody>\n",
              "</table>\n",
              "<p>169 rows × 1 columns</p>\n",
              "</div>\n",
              "      <button class=\"colab-df-convert\" onclick=\"convertToInteractive('df-407bb4e9-278f-49ad-a868-b82ab7d442a2')\"\n",
              "              title=\"Convert this dataframe to an interactive table.\"\n",
              "              style=\"display:none;\">\n",
              "        \n",
              "  <svg xmlns=\"http://www.w3.org/2000/svg\" height=\"24px\"viewBox=\"0 0 24 24\"\n",
              "       width=\"24px\">\n",
              "    <path d=\"M0 0h24v24H0V0z\" fill=\"none\"/>\n",
              "    <path d=\"M18.56 5.44l.94 2.06.94-2.06 2.06-.94-2.06-.94-.94-2.06-.94 2.06-2.06.94zm-11 1L8.5 8.5l.94-2.06 2.06-.94-2.06-.94L8.5 2.5l-.94 2.06-2.06.94zm10 10l.94 2.06.94-2.06 2.06-.94-2.06-.94-.94-2.06-.94 2.06-2.06.94z\"/><path d=\"M17.41 7.96l-1.37-1.37c-.4-.4-.92-.59-1.43-.59-.52 0-1.04.2-1.43.59L10.3 9.45l-7.72 7.72c-.78.78-.78 2.05 0 2.83L4 21.41c.39.39.9.59 1.41.59.51 0 1.02-.2 1.41-.59l7.78-7.78 2.81-2.81c.8-.78.8-2.07 0-2.86zM5.41 20L4 18.59l7.72-7.72 1.47 1.35L5.41 20z\"/>\n",
              "  </svg>\n",
              "      </button>\n",
              "      \n",
              "  <style>\n",
              "    .colab-df-container {\n",
              "      display:flex;\n",
              "      flex-wrap:wrap;\n",
              "      gap: 12px;\n",
              "    }\n",
              "\n",
              "    .colab-df-convert {\n",
              "      background-color: #E8F0FE;\n",
              "      border: none;\n",
              "      border-radius: 50%;\n",
              "      cursor: pointer;\n",
              "      display: none;\n",
              "      fill: #1967D2;\n",
              "      height: 32px;\n",
              "      padding: 0 0 0 0;\n",
              "      width: 32px;\n",
              "    }\n",
              "\n",
              "    .colab-df-convert:hover {\n",
              "      background-color: #E2EBFA;\n",
              "      box-shadow: 0px 1px 2px rgba(60, 64, 67, 0.3), 0px 1px 3px 1px rgba(60, 64, 67, 0.15);\n",
              "      fill: #174EA6;\n",
              "    }\n",
              "\n",
              "    [theme=dark] .colab-df-convert {\n",
              "      background-color: #3B4455;\n",
              "      fill: #D2E3FC;\n",
              "    }\n",
              "\n",
              "    [theme=dark] .colab-df-convert:hover {\n",
              "      background-color: #434B5C;\n",
              "      box-shadow: 0px 1px 3px 1px rgba(0, 0, 0, 0.15);\n",
              "      filter: drop-shadow(0px 1px 2px rgba(0, 0, 0, 0.3));\n",
              "      fill: #FFFFFF;\n",
              "    }\n",
              "  </style>\n",
              "\n",
              "      <script>\n",
              "        const buttonEl =\n",
              "          document.querySelector('#df-407bb4e9-278f-49ad-a868-b82ab7d442a2 button.colab-df-convert');\n",
              "        buttonEl.style.display =\n",
              "          google.colab.kernel.accessAllowed ? 'block' : 'none';\n",
              "\n",
              "        async function convertToInteractive(key) {\n",
              "          const element = document.querySelector('#df-407bb4e9-278f-49ad-a868-b82ab7d442a2');\n",
              "          const dataTable =\n",
              "            await google.colab.kernel.invokeFunction('convertToInteractive',\n",
              "                                                     [key], {});\n",
              "          if (!dataTable) return;\n",
              "\n",
              "          const docLinkHtml = 'Like what you see? Visit the ' +\n",
              "            '<a target=\"_blank\" href=https://colab.research.google.com/notebooks/data_table.ipynb>data table notebook</a>'\n",
              "            + ' to learn more about interactive tables.';\n",
              "          element.innerHTML = '';\n",
              "          dataTable['output_type'] = 'display_data';\n",
              "          await google.colab.output.renderOutput(dataTable, element);\n",
              "          const docLink = document.createElement('div');\n",
              "          docLink.innerHTML = docLinkHtml;\n",
              "          element.appendChild(docLink);\n",
              "        }\n",
              "      </script>\n",
              "    </div>\n",
              "  </div>\n",
              "  "
            ]
          },
          "metadata": {},
          "execution_count": 140
        }
      ]
    },
    {
      "cell_type": "code",
      "source": [
        "box_num_by_dist = pd.DataFrame(train.groupby(['distributor'])['box_off_num'].sum())\n",
        "box_num_by_dist"
      ],
      "metadata": {
        "colab": {
          "base_uri": "https://localhost:8080/",
          "height": 455
        },
        "id": "4GD3d0yNreC8",
        "outputId": "bb020e17-8196-4aac-b45b-3f72f7545f6c"
      },
      "execution_count": null,
      "outputs": [
        {
          "output_type": "execute_result",
          "data": {
            "text/plain": [
              "                box_off_num\n",
              "distributor                \n",
              "(주) 브릿지웍스             10795\n",
              "(주) 액티버스엔터테인먼트         1220\n",
              "(주) 영화사조제             67718\n",
              "(주) 영화제작전원사          139540\n",
              "(주) 케이알씨지             14382\n",
              "...                     ...\n",
              "필름라인                   5100\n",
              "하준사                     600\n",
              "한국YWCA연합회                71\n",
              "홀리가든                   6886\n",
              "화앤담이엔티               344393\n",
              "\n",
              "[169 rows x 1 columns]"
            ],
            "text/html": [
              "\n",
              "  <div id=\"df-329080cf-4cc6-4cab-aca5-424088c4d485\">\n",
              "    <div class=\"colab-df-container\">\n",
              "      <div>\n",
              "<style scoped>\n",
              "    .dataframe tbody tr th:only-of-type {\n",
              "        vertical-align: middle;\n",
              "    }\n",
              "\n",
              "    .dataframe tbody tr th {\n",
              "        vertical-align: top;\n",
              "    }\n",
              "\n",
              "    .dataframe thead th {\n",
              "        text-align: right;\n",
              "    }\n",
              "</style>\n",
              "<table border=\"1\" class=\"dataframe\">\n",
              "  <thead>\n",
              "    <tr style=\"text-align: right;\">\n",
              "      <th></th>\n",
              "      <th>box_off_num</th>\n",
              "    </tr>\n",
              "    <tr>\n",
              "      <th>distributor</th>\n",
              "      <th></th>\n",
              "    </tr>\n",
              "  </thead>\n",
              "  <tbody>\n",
              "    <tr>\n",
              "      <th>(주) 브릿지웍스</th>\n",
              "      <td>10795</td>\n",
              "    </tr>\n",
              "    <tr>\n",
              "      <th>(주) 액티버스엔터테인먼트</th>\n",
              "      <td>1220</td>\n",
              "    </tr>\n",
              "    <tr>\n",
              "      <th>(주) 영화사조제</th>\n",
              "      <td>67718</td>\n",
              "    </tr>\n",
              "    <tr>\n",
              "      <th>(주) 영화제작전원사</th>\n",
              "      <td>139540</td>\n",
              "    </tr>\n",
              "    <tr>\n",
              "      <th>(주) 케이알씨지</th>\n",
              "      <td>14382</td>\n",
              "    </tr>\n",
              "    <tr>\n",
              "      <th>...</th>\n",
              "      <td>...</td>\n",
              "    </tr>\n",
              "    <tr>\n",
              "      <th>필름라인</th>\n",
              "      <td>5100</td>\n",
              "    </tr>\n",
              "    <tr>\n",
              "      <th>하준사</th>\n",
              "      <td>600</td>\n",
              "    </tr>\n",
              "    <tr>\n",
              "      <th>한국YWCA연합회</th>\n",
              "      <td>71</td>\n",
              "    </tr>\n",
              "    <tr>\n",
              "      <th>홀리가든</th>\n",
              "      <td>6886</td>\n",
              "    </tr>\n",
              "    <tr>\n",
              "      <th>화앤담이엔티</th>\n",
              "      <td>344393</td>\n",
              "    </tr>\n",
              "  </tbody>\n",
              "</table>\n",
              "<p>169 rows × 1 columns</p>\n",
              "</div>\n",
              "      <button class=\"colab-df-convert\" onclick=\"convertToInteractive('df-329080cf-4cc6-4cab-aca5-424088c4d485')\"\n",
              "              title=\"Convert this dataframe to an interactive table.\"\n",
              "              style=\"display:none;\">\n",
              "        \n",
              "  <svg xmlns=\"http://www.w3.org/2000/svg\" height=\"24px\"viewBox=\"0 0 24 24\"\n",
              "       width=\"24px\">\n",
              "    <path d=\"M0 0h24v24H0V0z\" fill=\"none\"/>\n",
              "    <path d=\"M18.56 5.44l.94 2.06.94-2.06 2.06-.94-2.06-.94-.94-2.06-.94 2.06-2.06.94zm-11 1L8.5 8.5l.94-2.06 2.06-.94-2.06-.94L8.5 2.5l-.94 2.06-2.06.94zm10 10l.94 2.06.94-2.06 2.06-.94-2.06-.94-.94-2.06-.94 2.06-2.06.94z\"/><path d=\"M17.41 7.96l-1.37-1.37c-.4-.4-.92-.59-1.43-.59-.52 0-1.04.2-1.43.59L10.3 9.45l-7.72 7.72c-.78.78-.78 2.05 0 2.83L4 21.41c.39.39.9.59 1.41.59.51 0 1.02-.2 1.41-.59l7.78-7.78 2.81-2.81c.8-.78.8-2.07 0-2.86zM5.41 20L4 18.59l7.72-7.72 1.47 1.35L5.41 20z\"/>\n",
              "  </svg>\n",
              "      </button>\n",
              "      \n",
              "  <style>\n",
              "    .colab-df-container {\n",
              "      display:flex;\n",
              "      flex-wrap:wrap;\n",
              "      gap: 12px;\n",
              "    }\n",
              "\n",
              "    .colab-df-convert {\n",
              "      background-color: #E8F0FE;\n",
              "      border: none;\n",
              "      border-radius: 50%;\n",
              "      cursor: pointer;\n",
              "      display: none;\n",
              "      fill: #1967D2;\n",
              "      height: 32px;\n",
              "      padding: 0 0 0 0;\n",
              "      width: 32px;\n",
              "    }\n",
              "\n",
              "    .colab-df-convert:hover {\n",
              "      background-color: #E2EBFA;\n",
              "      box-shadow: 0px 1px 2px rgba(60, 64, 67, 0.3), 0px 1px 3px 1px rgba(60, 64, 67, 0.15);\n",
              "      fill: #174EA6;\n",
              "    }\n",
              "\n",
              "    [theme=dark] .colab-df-convert {\n",
              "      background-color: #3B4455;\n",
              "      fill: #D2E3FC;\n",
              "    }\n",
              "\n",
              "    [theme=dark] .colab-df-convert:hover {\n",
              "      background-color: #434B5C;\n",
              "      box-shadow: 0px 1px 3px 1px rgba(0, 0, 0, 0.15);\n",
              "      filter: drop-shadow(0px 1px 2px rgba(0, 0, 0, 0.3));\n",
              "      fill: #FFFFFF;\n",
              "    }\n",
              "  </style>\n",
              "\n",
              "      <script>\n",
              "        const buttonEl =\n",
              "          document.querySelector('#df-329080cf-4cc6-4cab-aca5-424088c4d485 button.colab-df-convert');\n",
              "        buttonEl.style.display =\n",
              "          google.colab.kernel.accessAllowed ? 'block' : 'none';\n",
              "\n",
              "        async function convertToInteractive(key) {\n",
              "          const element = document.querySelector('#df-329080cf-4cc6-4cab-aca5-424088c4d485');\n",
              "          const dataTable =\n",
              "            await google.colab.kernel.invokeFunction('convertToInteractive',\n",
              "                                                     [key], {});\n",
              "          if (!dataTable) return;\n",
              "\n",
              "          const docLinkHtml = 'Like what you see? Visit the ' +\n",
              "            '<a target=\"_blank\" href=https://colab.research.google.com/notebooks/data_table.ipynb>data table notebook</a>'\n",
              "            + ' to learn more about interactive tables.';\n",
              "          element.innerHTML = '';\n",
              "          dataTable['output_type'] = 'display_data';\n",
              "          await google.colab.output.renderOutput(dataTable, element);\n",
              "          const docLink = document.createElement('div');\n",
              "          docLink.innerHTML = docLinkHtml;\n",
              "          element.appendChild(docLink);\n",
              "        }\n",
              "      </script>\n",
              "    </div>\n",
              "  </div>\n",
              "  "
            ]
          },
          "metadata": {},
          "execution_count": 141
        }
      ]
    },
    {
      "cell_type": "code",
      "source": [
        "dist_box = pd.concat([movie_count_by_dist,box_num_by_dist],axis=1)\n",
        "dist_box"
      ],
      "metadata": {
        "colab": {
          "base_uri": "https://localhost:8080/",
          "height": 424
        },
        "id": "ZGh5rj5urgrs",
        "outputId": "b1fc654a-d4a8-40e4-ec71-204967d5382c"
      },
      "execution_count": null,
      "outputs": [
        {
          "output_type": "execute_result",
          "data": {
            "text/plain": [
              "               distributor  box_off_num\n",
              "CJ 엔터테인먼트               54    116788093\n",
              "롯데엔터테인먼트                52     64383745\n",
              "(주)NEW                  30     65532145\n",
              "(주)마운틴픽쳐스               29       937924\n",
              "(주)쇼박스                  26     88053064\n",
              "...                    ...          ...\n",
              "OAL(올)                   1       497994\n",
              "(주)에이원 엔터테인먼트            1        53235\n",
              "(주)콘텐츠 윙                 1         1079\n",
              "위더스필름                    1           90\n",
              "퍼스트런                     1         1132\n",
              "\n",
              "[169 rows x 2 columns]"
            ],
            "text/html": [
              "\n",
              "  <div id=\"df-a455472d-dba1-477d-845f-6278830f3926\">\n",
              "    <div class=\"colab-df-container\">\n",
              "      <div>\n",
              "<style scoped>\n",
              "    .dataframe tbody tr th:only-of-type {\n",
              "        vertical-align: middle;\n",
              "    }\n",
              "\n",
              "    .dataframe tbody tr th {\n",
              "        vertical-align: top;\n",
              "    }\n",
              "\n",
              "    .dataframe thead th {\n",
              "        text-align: right;\n",
              "    }\n",
              "</style>\n",
              "<table border=\"1\" class=\"dataframe\">\n",
              "  <thead>\n",
              "    <tr style=\"text-align: right;\">\n",
              "      <th></th>\n",
              "      <th>distributor</th>\n",
              "      <th>box_off_num</th>\n",
              "    </tr>\n",
              "  </thead>\n",
              "  <tbody>\n",
              "    <tr>\n",
              "      <th>CJ 엔터테인먼트</th>\n",
              "      <td>54</td>\n",
              "      <td>116788093</td>\n",
              "    </tr>\n",
              "    <tr>\n",
              "      <th>롯데엔터테인먼트</th>\n",
              "      <td>52</td>\n",
              "      <td>64383745</td>\n",
              "    </tr>\n",
              "    <tr>\n",
              "      <th>(주)NEW</th>\n",
              "      <td>30</td>\n",
              "      <td>65532145</td>\n",
              "    </tr>\n",
              "    <tr>\n",
              "      <th>(주)마운틴픽쳐스</th>\n",
              "      <td>29</td>\n",
              "      <td>937924</td>\n",
              "    </tr>\n",
              "    <tr>\n",
              "      <th>(주)쇼박스</th>\n",
              "      <td>26</td>\n",
              "      <td>88053064</td>\n",
              "    </tr>\n",
              "    <tr>\n",
              "      <th>...</th>\n",
              "      <td>...</td>\n",
              "      <td>...</td>\n",
              "    </tr>\n",
              "    <tr>\n",
              "      <th>OAL(올)</th>\n",
              "      <td>1</td>\n",
              "      <td>497994</td>\n",
              "    </tr>\n",
              "    <tr>\n",
              "      <th>(주)에이원 엔터테인먼트</th>\n",
              "      <td>1</td>\n",
              "      <td>53235</td>\n",
              "    </tr>\n",
              "    <tr>\n",
              "      <th>(주)콘텐츠 윙</th>\n",
              "      <td>1</td>\n",
              "      <td>1079</td>\n",
              "    </tr>\n",
              "    <tr>\n",
              "      <th>위더스필름</th>\n",
              "      <td>1</td>\n",
              "      <td>90</td>\n",
              "    </tr>\n",
              "    <tr>\n",
              "      <th>퍼스트런</th>\n",
              "      <td>1</td>\n",
              "      <td>1132</td>\n",
              "    </tr>\n",
              "  </tbody>\n",
              "</table>\n",
              "<p>169 rows × 2 columns</p>\n",
              "</div>\n",
              "      <button class=\"colab-df-convert\" onclick=\"convertToInteractive('df-a455472d-dba1-477d-845f-6278830f3926')\"\n",
              "              title=\"Convert this dataframe to an interactive table.\"\n",
              "              style=\"display:none;\">\n",
              "        \n",
              "  <svg xmlns=\"http://www.w3.org/2000/svg\" height=\"24px\"viewBox=\"0 0 24 24\"\n",
              "       width=\"24px\">\n",
              "    <path d=\"M0 0h24v24H0V0z\" fill=\"none\"/>\n",
              "    <path d=\"M18.56 5.44l.94 2.06.94-2.06 2.06-.94-2.06-.94-.94-2.06-.94 2.06-2.06.94zm-11 1L8.5 8.5l.94-2.06 2.06-.94-2.06-.94L8.5 2.5l-.94 2.06-2.06.94zm10 10l.94 2.06.94-2.06 2.06-.94-2.06-.94-.94-2.06-.94 2.06-2.06.94z\"/><path d=\"M17.41 7.96l-1.37-1.37c-.4-.4-.92-.59-1.43-.59-.52 0-1.04.2-1.43.59L10.3 9.45l-7.72 7.72c-.78.78-.78 2.05 0 2.83L4 21.41c.39.39.9.59 1.41.59.51 0 1.02-.2 1.41-.59l7.78-7.78 2.81-2.81c.8-.78.8-2.07 0-2.86zM5.41 20L4 18.59l7.72-7.72 1.47 1.35L5.41 20z\"/>\n",
              "  </svg>\n",
              "      </button>\n",
              "      \n",
              "  <style>\n",
              "    .colab-df-container {\n",
              "      display:flex;\n",
              "      flex-wrap:wrap;\n",
              "      gap: 12px;\n",
              "    }\n",
              "\n",
              "    .colab-df-convert {\n",
              "      background-color: #E8F0FE;\n",
              "      border: none;\n",
              "      border-radius: 50%;\n",
              "      cursor: pointer;\n",
              "      display: none;\n",
              "      fill: #1967D2;\n",
              "      height: 32px;\n",
              "      padding: 0 0 0 0;\n",
              "      width: 32px;\n",
              "    }\n",
              "\n",
              "    .colab-df-convert:hover {\n",
              "      background-color: #E2EBFA;\n",
              "      box-shadow: 0px 1px 2px rgba(60, 64, 67, 0.3), 0px 1px 3px 1px rgba(60, 64, 67, 0.15);\n",
              "      fill: #174EA6;\n",
              "    }\n",
              "\n",
              "    [theme=dark] .colab-df-convert {\n",
              "      background-color: #3B4455;\n",
              "      fill: #D2E3FC;\n",
              "    }\n",
              "\n",
              "    [theme=dark] .colab-df-convert:hover {\n",
              "      background-color: #434B5C;\n",
              "      box-shadow: 0px 1px 3px 1px rgba(0, 0, 0, 0.15);\n",
              "      filter: drop-shadow(0px 1px 2px rgba(0, 0, 0, 0.3));\n",
              "      fill: #FFFFFF;\n",
              "    }\n",
              "  </style>\n",
              "\n",
              "      <script>\n",
              "        const buttonEl =\n",
              "          document.querySelector('#df-a455472d-dba1-477d-845f-6278830f3926 button.colab-df-convert');\n",
              "        buttonEl.style.display =\n",
              "          google.colab.kernel.accessAllowed ? 'block' : 'none';\n",
              "\n",
              "        async function convertToInteractive(key) {\n",
              "          const element = document.querySelector('#df-a455472d-dba1-477d-845f-6278830f3926');\n",
              "          const dataTable =\n",
              "            await google.colab.kernel.invokeFunction('convertToInteractive',\n",
              "                                                     [key], {});\n",
              "          if (!dataTable) return;\n",
              "\n",
              "          const docLinkHtml = 'Like what you see? Visit the ' +\n",
              "            '<a target=\"_blank\" href=https://colab.research.google.com/notebooks/data_table.ipynb>data table notebook</a>'\n",
              "            + ' to learn more about interactive tables.';\n",
              "          element.innerHTML = '';\n",
              "          dataTable['output_type'] = 'display_data';\n",
              "          await google.colab.output.renderOutput(dataTable, element);\n",
              "          const docLink = document.createElement('div');\n",
              "          docLink.innerHTML = docLinkHtml;\n",
              "          element.appendChild(docLink);\n",
              "        }\n",
              "      </script>\n",
              "    </div>\n",
              "  </div>\n",
              "  "
            ]
          },
          "metadata": {},
          "execution_count": 142
        }
      ]
    },
    {
      "cell_type": "code",
      "source": [
        "ax = plt.subplots()\n",
        "ax = sns.regplot(dist_box['distributor'],dist_box['box_off_num'],logx=True)\n",
        "ax.set_title('배급사 점유율과 관객 수 간의 산점도')\n",
        "ax.set_xlabel('상영한 영화 수')\n",
        "ax.set_ylabel('관객수')"
      ],
      "metadata": {
        "colab": {
          "base_uri": "https://localhost:8080/",
          "height": 311
        },
        "id": "gobyUCbxrj2C",
        "outputId": "fd8c3d98-152d-454f-82f9-5c120389e235"
      },
      "execution_count": null,
      "outputs": [
        {
          "output_type": "execute_result",
          "data": {
            "text/plain": [
              "Text(0, 0.5, '관객수')"
            ]
          },
          "metadata": {},
          "execution_count": 143
        },
        {
          "output_type": "display_data",
          "data": {
            "text/plain": [
              "<Figure size 432x288 with 1 Axes>"
            ],
            "image/png": "[encoded data removed]"
          },
          "metadata": {
            "needs_background": "light"
          }
        }
      ]
    },
    {
      "cell_type": "code",
      "source": [
        "dist_box[['distributor', 'box_off_num']].corr()"
      ],
      "metadata": {
        "colab": {
          "base_uri": "https://localhost:8080/",
          "height": 112
        },
        "id": "hqDMvzlQrl9V",
        "outputId": "c90205d5-9c15-43ee-c61e-c4f949035471"
      },
      "execution_count": null,
      "outputs": [
        {
          "output_type": "execute_result",
          "data": {
            "text/plain": [
              "             distributor  box_off_num\n",
              "distributor     1.000000     0.808073\n",
              "box_off_num     0.808073     1.000000"
            ],
            "text/html": [
              "\n",
              "  <div id=\"df-fe46f864-3249-42a8-8eee-0a48410713f0\">\n",
              "    <div class=\"colab-df-container\">\n",
              "      <div>\n",
              "<style scoped>\n",
              "    .dataframe tbody tr th:only-of-type {\n",
              "        vertical-align: middle;\n",
              "    }\n",
              "\n",
              "    .dataframe tbody tr th {\n",
              "        vertical-align: top;\n",
              "    }\n",
              "\n",
              "    .dataframe thead th {\n",
              "        text-align: right;\n",
              "    }\n",
              "</style>\n",
              "<table border=\"1\" class=\"dataframe\">\n",
              "  <thead>\n",
              "    <tr style=\"text-align: right;\">\n",
              "      <th></th>\n",
              "      <th>distributor</th>\n",
              "      <th>box_off_num</th>\n",
              "    </tr>\n",
              "  </thead>\n",
              "  <tbody>\n",
              "    <tr>\n",
              "      <th>distributor</th>\n",
              "      <td>1.000000</td>\n",
              "      <td>0.808073</td>\n",
              "    </tr>\n",
              "    <tr>\n",
              "      <th>box_off_num</th>\n",
              "      <td>0.808073</td>\n",
              "      <td>1.000000</td>\n",
              "    </tr>\n",
              "  </tbody>\n",
              "</table>\n",
              "</div>\n",
              "      <button class=\"colab-df-convert\" onclick=\"convertToInteractive('df-fe46f864-3249-42a8-8eee-0a48410713f0')\"\n",
              "              title=\"Convert this dataframe to an interactive table.\"\n",
              "              style=\"display:none;\">\n",
              "        \n",
              "  <svg xmlns=\"http://www.w3.org/2000/svg\" height=\"24px\"viewBox=\"0 0 24 24\"\n",
              "       width=\"24px\">\n",
              "    <path d=\"M0 0h24v24H0V0z\" fill=\"none\"/>\n",
              "    <path d=\"M18.56 5.44l.94 2.06.94-2.06 2.06-.94-2.06-.94-.94-2.06-.94 2.06-2.06.94zm-11 1L8.5 8.5l.94-2.06 2.06-.94-2.06-.94L8.5 2.5l-.94 2.06-2.06.94zm10 10l.94 2.06.94-2.06 2.06-.94-2.06-.94-.94-2.06-.94 2.06-2.06.94z\"/><path d=\"M17.41 7.96l-1.37-1.37c-.4-.4-.92-.59-1.43-.59-.52 0-1.04.2-1.43.59L10.3 9.45l-7.72 7.72c-.78.78-.78 2.05 0 2.83L4 21.41c.39.39.9.59 1.41.59.51 0 1.02-.2 1.41-.59l7.78-7.78 2.81-2.81c.8-.78.8-2.07 0-2.86zM5.41 20L4 18.59l7.72-7.72 1.47 1.35L5.41 20z\"/>\n",
              "  </svg>\n",
              "      </button>\n",
              "      \n",
              "  <style>\n",
              "    .colab-df-container {\n",
              "      display:flex;\n",
              "      flex-wrap:wrap;\n",
              "      gap: 12px;\n",
              "    }\n",
              "\n",
              "    .colab-df-convert {\n",
              "      background-color: #E8F0FE;\n",
              "      border: none;\n",
              "      border-radius: 50%;\n",
              "      cursor: pointer;\n",
              "      display: none;\n",
              "      fill: #1967D2;\n",
              "      height: 32px;\n",
              "      padding: 0 0 0 0;\n",
              "      width: 32px;\n",
              "    }\n",
              "\n",
              "    .colab-df-convert:hover {\n",
              "      background-color: #E2EBFA;\n",
              "      box-shadow: 0px 1px 2px rgba(60, 64, 67, 0.3), 0px 1px 3px 1px rgba(60, 64, 67, 0.15);\n",
              "      fill: #174EA6;\n",
              "    }\n",
              "\n",
              "    [theme=dark] .colab-df-convert {\n",
              "      background-color: #3B4455;\n",
              "      fill: #D2E3FC;\n",
              "    }\n",
              "\n",
              "    [theme=dark] .colab-df-convert:hover {\n",
              "      background-color: #434B5C;\n",
              "      box-shadow: 0px 1px 3px 1px rgba(0, 0, 0, 0.15);\n",
              "      filter: drop-shadow(0px 1px 2px rgba(0, 0, 0, 0.3));\n",
              "      fill: #FFFFFF;\n",
              "    }\n",
              "  </style>\n",
              "\n",
              "      <script>\n",
              "        const buttonEl =\n",
              "          document.querySelector('#df-fe46f864-3249-42a8-8eee-0a48410713f0 button.colab-df-convert');\n",
              "        buttonEl.style.display =\n",
              "          google.colab.kernel.accessAllowed ? 'block' : 'none';\n",
              "\n",
              "        async function convertToInteractive(key) {\n",
              "          const element = document.querySelector('#df-fe46f864-3249-42a8-8eee-0a48410713f0');\n",
              "          const dataTable =\n",
              "            await google.colab.kernel.invokeFunction('convertToInteractive',\n",
              "                                                     [key], {});\n",
              "          if (!dataTable) return;\n",
              "\n",
              "          const docLinkHtml = 'Like what you see? Visit the ' +\n",
              "            '<a target=\"_blank\" href=https://colab.research.google.com/notebooks/data_table.ipynb>data table notebook</a>'\n",
              "            + ' to learn more about interactive tables.';\n",
              "          element.innerHTML = '';\n",
              "          dataTable['output_type'] = 'display_data';\n",
              "          await google.colab.output.renderOutput(dataTable, element);\n",
              "          const docLink = document.createElement('div');\n",
              "          docLink.innerHTML = docLinkHtml;\n",
              "          element.appendChild(docLink);\n",
              "        }\n",
              "      </script>\n",
              "    </div>\n",
              "  </div>\n",
              "  "
            ]
          },
          "metadata": {},
          "execution_count": 144
        }
      ]
    },
    {
      "cell_type": "markdown",
      "source": [
        "##### | 분석 결과\n",
        "___\n",
        "- 배급사 점유율과 배급사별 전체 관객 수의 산점도를 보면, 전체적으로 우상향임을 확인할 수 있다.\n",
        "- 전체적으로 자료가 좌측 하단에 모여있는 경향성을 보이지만, 상관계수가 0.808로 작지 않아 배급사 점유율과 배급사별 관객 수에는 유의미한 관계가 있다고 볼 수 있다."
      ],
      "metadata": {
        "id": "Q5MuB5hmrn7W"
      }
    }
  ]
}