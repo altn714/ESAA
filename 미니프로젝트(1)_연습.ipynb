{
  "nbformat": 4,
  "nbformat_minor": 0,
  "metadata": {
    "colab": {
      "provenance": [],
      "authorship_tag": "ABX9TyNhOm80CsdM7Q6GQ9TXPOZ5",
      "include_colab_link": true
    },
    "kernelspec": {
      "name": "python3",
      "display_name": "Python 3"
    },
    "language_info": {
      "name": "python"
    }
  },
  "cells": [
    {
      "cell_type": "markdown",
      "metadata": {
        "id": "view-in-github",
        "colab_type": "text"
      },
      "source": [
        "<a href=\"https://colab.research.google.com/github/altn714/ESAA/blob/main/%EB%AF%B8%EB%8B%88%ED%94%84%EB%A1%9C%EC%A0%9D%ED%8A%B8(1)_%EC%97%B0%EC%8A%B5.ipynb\" target=\"_parent\"><img src=\"https://colab.research.google.com/assets/colab-badge.svg\" alt=\"Open In Colab\"/></a>"
      ]
    },
    {
      "cell_type": "code",
      "execution_count": 1,
      "metadata": {
        "colab": {
          "base_uri": "https://localhost:8080/"
        },
        "id": "lzkDa1sCinWX",
        "outputId": "9f14ca2a-badd-48be-9b42-71c426a31353"
      },
      "outputs": [
        {
          "output_type": "stream",
          "name": "stdout",
          "text": [
            "Reading package lists... Done\n",
            "Building dependency tree       \n",
            "Reading state information... Done\n",
            "fonts-nanum is already the newest version (20170925-1).\n",
            "The following package was automatically installed and is no longer required:\n",
            "  libnvidia-common-460\n",
            "Use 'sudo apt autoremove' to remove it.\n",
            "0 upgraded, 0 newly installed, 0 to remove and 20 not upgraded.\n",
            "/usr/share/fonts: caching, new cache contents: 0 fonts, 1 dirs\n",
            "/usr/share/fonts/truetype: caching, new cache contents: 0 fonts, 3 dirs\n",
            "/usr/share/fonts/truetype/humor-sans: caching, new cache contents: 1 fonts, 0 dirs\n",
            "/usr/share/fonts/truetype/liberation: caching, new cache contents: 16 fonts, 0 dirs\n",
            "/usr/share/fonts/truetype/nanum: caching, new cache contents: 10 fonts, 0 dirs\n",
            "/usr/local/share/fonts: caching, new cache contents: 0 fonts, 0 dirs\n",
            "/root/.local/share/fonts: skipping, no such directory\n",
            "/root/.fonts: skipping, no such directory\n",
            "/var/cache/fontconfig: cleaning cache directory\n",
            "/root/.cache/fontconfig: not cleaning non-existent cache directory\n",
            "/root/.fontconfig: not cleaning non-existent cache directory\n",
            "fc-cache: succeeded\n"
          ]
        }
      ],
      "source": [
        "# 나눔 폰트 설치\n",
        "!sudo apt-get install -y fonts-nanum\n",
        "!sudo fc-cache -fv\n",
        "!rm ~/.cache/matplotlib -rf"
      ]
    },
    {
      "cell_type": "markdown",
      "source": [
        "## 라이브러리 및 데이터 불러오기\n",
        "___"
      ],
      "metadata": {
        "id": "H32GHEDXi7M1"
      }
    },
    {
      "cell_type": "code",
      "source": [
        "import pandas as pd\n",
        "import numpy as np\n",
        "import matplotlib.pyplot as plt\n",
        "import seaborn as sns\n",
        "plt.rcParams['font.family'] = 'NanumGothic' #matplotlib  한글 깨짐 방지\n",
        "\n",
        "#그래픽 출력 결과를 셀 아래 표시\n",
        "%matplotlib inline\n",
        "\n",
        "import warnings\n",
        "warnings.filterwarnings(action = 'ignore')"
      ],
      "metadata": {
        "id": "KARB2174i-3N"
      },
      "execution_count": 3,
      "outputs": []
    },
    {
      "cell_type": "markdown",
      "source": [
        "2. Import the dataset and assign it to a variable calld 'movies'"
      ],
      "metadata": {
        "id": "ESXIAMrZj-0Z"
      }
    },
    {
      "cell_type": "code",
      "source": [
        "from google.colab import drive\n",
        "drive.mount('/content/drive') #드라이브에 접근해서 파일 가져오기"
      ],
      "metadata": {
        "colab": {
          "base_uri": "https://localhost:8080/"
        },
        "id": "fW1PmGLOkZpg",
        "outputId": "207900f3-4925-4dbf-b325-5ceebe658937"
      },
      "execution_count": 4,
      "outputs": [
        {
          "output_type": "stream",
          "name": "stdout",
          "text": [
            "Drive already mounted at /content/drive; to attempt to forcibly remount, call drive.mount(\"/content/drive\", force_remount=True).\n"
          ]
        }
      ]
    },
    {
      "cell_type": "code",
      "source": [
        "movies = pd.read_csv('/content/movies_train.csv')"
      ],
      "metadata": {
        "id": "Q56gxqfMl2-i"
      },
      "execution_count": 5,
      "outputs": []
    },
    {
      "cell_type": "code",
      "source": [
        "#결측치 메우기\n",
        "movies['dir_prev_bfnum'].fillna(0, inplace=True)"
      ],
      "metadata": {
        "id": "7yi_g8UKqPny"
      },
      "execution_count": 58,
      "outputs": []
    },
    {
      "cell_type": "markdown",
      "source": [
        "# 데이터 시각화 및 분석"
      ],
      "metadata": {
        "id": "pIjpv57UrZX4"
      }
    },
    {
      "cell_type": "code",
      "source": [
        "!sudo apt-get install -y fonts-nanum\n",
        "!sudo fc-cache -fv\n",
        "!rm ~/.cache/matplotlib -rf"
      ],
      "metadata": {
        "colab": {
          "base_uri": "https://localhost:8080/"
        },
        "id": "5isZRpiOuKdL",
        "outputId": "a61b9e65-cc68-4a53-8149-384169a4fa06"
      },
      "execution_count": 6,
      "outputs": [
        {
          "output_type": "stream",
          "name": "stdout",
          "text": [
            "Reading package lists... Done\n",
            "Building dependency tree       \n",
            "Reading state information... Done\n",
            "fonts-nanum is already the newest version (20170925-1).\n",
            "The following package was automatically installed and is no longer required:\n",
            "  libnvidia-common-460\n",
            "Use 'sudo apt autoremove' to remove it.\n",
            "0 upgraded, 0 newly installed, 0 to remove and 20 not upgraded.\n",
            "/usr/share/fonts: caching, new cache contents: 0 fonts, 1 dirs\n",
            "/usr/share/fonts/truetype: caching, new cache contents: 0 fonts, 3 dirs\n",
            "/usr/share/fonts/truetype/humor-sans: caching, new cache contents: 1 fonts, 0 dirs\n",
            "/usr/share/fonts/truetype/liberation: caching, new cache contents: 16 fonts, 0 dirs\n",
            "/usr/share/fonts/truetype/nanum: caching, new cache contents: 10 fonts, 0 dirs\n",
            "/usr/local/share/fonts: caching, new cache contents: 0 fonts, 0 dirs\n",
            "/root/.local/share/fonts: skipping, no such directory\n",
            "/root/.fonts: skipping, no such directory\n",
            "/var/cache/fontconfig: cleaning cache directory\n",
            "/root/.cache/fontconfig: not cleaning non-existent cache directory\n",
            "/root/.fontconfig: not cleaning non-existent cache directory\n",
            "fc-cache: succeeded\n"
          ]
        }
      ]
    },
    {
      "cell_type": "markdown",
      "source": [
        "# 관객수 분석\n",
        "# 1-1) 관객수 - 배급사\n",
        "\n",
        "- 사용한 변수:  distributor, box_off_num \n",
        "- 가설:  대형 배급사에서 제작한 영화일수록 그 작품들의 관객수가 많을 것이다. \n",
        "- 배급사 규모에 따라 관객수가 어떻게 다른지 파악하기 위해 다음 과정 수행."
      ],
      "metadata": {
        "id": "PDAHCMjGu5O9"
      }
    },
    {
      "cell_type": "code",
      "source": [
        "# 배급사별 상영 영화 수를 dist_aud_movie라는 열 이름으로 movies dataframe에 추가\n",
        "movies['dist_aud_movie'] = movies.groupby(['distributor'])['distributor'].transform('count')\n",
        "movies.head()\n",
        "\n",
        "# 상영 영화 수에 따라 배급사의 규모를 구별 \n",
        "# dist_aud_movie가 26 이상이면 대형 배급사, 6 이상 26 미만이면 중형 배급사, 6 미만이면 소형 배급사로 구분하여 dist_size라는 열 이름으로 movies dataframe에 추가\n",
        "condlist = [( movies['dist_aud_movie'] >= 26),( movies['dist_aud_movie'] < 26) & ( movies['dist_aud_movie'] >= 6),( movies['dist_aud_movie'] < 6)]\n",
        "choicelist = ['대형','중형','소형']\n",
        "movies['dist_size'] = np.select(condlist, choicelist)\n",
        "movies.head()\n",
        "\n",
        "# 배급사 규모(대형, 중형, 소형)와 관객수의 관계\n",
        "plt.rcParams['figure.figsize'] = [10, 10]\n",
        "ax=plt.subplots()\n",
        "ax=sns.boxplot(x='dist_size',y='box_off_num',data= movies,order=['대형','중형','소형'])\n",
        "ax.set_title('배급사 규모와 관객수의 관계를 나타내는 boxplot')\n",
        "ax.set_xlabel('dist_size')\n",
        "ax.set_ylabel('box_off_num')"
      ],
      "metadata": {
        "colab": {
          "base_uri": "https://localhost:8080/",
          "height": 637
        },
        "id": "2of38iAK1CUe",
        "outputId": "cfb0f80f-6f84-43cc-c5e9-84fac7a619ae"
      },
      "execution_count": 29,
      "outputs": [
        {
          "output_type": "execute_result",
          "data": {
            "text/plain": [
              "Text(0, 0.5, 'box_off_num')"
            ]
          },
          "metadata": {},
          "execution_count": 29
        },
        {
          "output_type": "display_data",
          "data": {
            "text/plain": [
              "<Figure size 720x720 with 1 Axes>"
            ],
            "image/png": "[encoded data removed]"
          },
          "metadata": {
            "needs_background": "light"
          }
        }
      ]
    },
    {
      "cell_type": "markdown",
      "source": [
        "결론 : 대형 배급사에서 제작하는 영화의 경우 중형, 소형 배급사보다 관객수가 월등히 많다. 이는 아마 대형 배급사일수록 광고효과가 좋아서 일 것이다. 반면 중형 배급사와 소형 배급사의 경우 관객 수가 유의미한 차이를 보이지는 않았다."
      ],
      "metadata": {
        "id": "WK41iRZ15B7T"
      }
    },
    {
      "cell_type": "markdown",
      "source": [
        "# 1-2) 관객수 - 장르\n",
        "\n",
        "- 사용한 변수:  genre, box_off_num "
      ],
      "metadata": {
        "id": "ORBjLqsx50M_"
      }
    },
    {
      "cell_type": "code",
      "source": [
        "#장르 개수 확인\n",
        "movies['genre'].value_counts()"
      ],
      "metadata": {
        "id": "tf2Lxhob58XQ",
        "colab": {
          "base_uri": "https://localhost:8080/"
        },
        "outputId": "d587e70e-5723-4f00-f13c-443fe1fb749f"
      },
      "execution_count": 12,
      "outputs": [
        {
          "output_type": "execute_result",
          "data": {
            "text/plain": [
              "드라마       221\n",
              "다큐멘터리      93\n",
              "멜로/로맨스     78\n",
              "코미디        53\n",
              "공포         42\n",
              "액션         28\n",
              "느와르        27\n",
              "애니메이션      21\n",
              "미스터리       17\n",
              "SF         13\n",
              "뮤지컬         5\n",
              "서스펜스        2\n",
              "Name: genre, dtype: int64"
            ]
          },
          "metadata": {},
          "execution_count": 12
        }
      ]
    },
    {
      "cell_type": "code",
      "source": [
        "# 장르별 평균 관객 수 구하기\n",
        "genre_aud = movies.groupby('genre')['box_off_num'].mean()\n",
        "print(genre_aud)"
      ],
      "metadata": {
        "colab": {
          "base_uri": "https://localhost:8080/"
        },
        "id": "ez-dIF_u7V82",
        "outputId": "8d3f49e1-ac15-49f1-8969-0111fe28ea77"
      },
      "execution_count": 13,
      "outputs": [
        {
          "output_type": "stream",
          "name": "stdout",
          "text": [
            "genre\n",
            "SF        1.788346e+06\n",
            "공포        5.908325e+05\n",
            "느와르       2.263695e+06\n",
            "다큐멘터리     6.717226e+04\n",
            "드라마       6.256898e+05\n",
            "멜로/로맨스    4.259680e+05\n",
            "뮤지컬       6.627000e+03\n",
            "미스터리      5.275482e+05\n",
            "서스펜스      8.261100e+04\n",
            "애니메이션     1.819267e+05\n",
            "액션        2.203974e+06\n",
            "코미디       1.193914e+06\n",
            "Name: box_off_num, dtype: float64\n"
          ]
        }
      ]
    },
    {
      "cell_type": "code",
      "source": [
        "#장르별 총 관객 수 Boxplot 그리기\n",
        "plt.rcParams['figure.figsize'] = [10,10]\n",
        "ax = plt.subplots()\n",
        "ax = sns.barplot(x='genre', y='box_off_num',data = movies)\n",
        "ax.set_title('장르별 총 관객 수')\n",
        "ax.set_xlabel('장르')\n",
        "ax.set_ylabel('관객 수')"
      ],
      "metadata": {
        "colab": {
          "base_uri": "https://localhost:8080/",
          "height": 638
        },
        "id": "4sESog1L75YR",
        "outputId": "c1c4cd49-8758-46fa-f29b-3aa96c240a72"
      },
      "execution_count": 14,
      "outputs": [
        {
          "output_type": "execute_result",
          "data": {
            "text/plain": [
              "Text(0, 0.5, '관객 수')"
            ]
          },
          "metadata": {},
          "execution_count": 14
        },
        {
          "output_type": "display_data",
          "data": {
            "text/plain": [
              "<Figure size 720x720 with 1 Axes>"
            ],
            "image/png": "[encoded data removed]"
          },
          "metadata": {
            "needs_background": "light"
          }
        }
      ]
    },
    {
      "cell_type": "code",
      "source": [
        "#장르별 평균 관객 수 Histogram 그리기\n",
        "plt.figure()\n",
        "genre_aud.plot(kind = 'bar')\n",
        "# 제목 및 라벨 추가\n",
        "plt.title('장르 별 평균 관객 수')\n",
        "plt.xlabel('장르')\n",
        "plt.ylabel('평균 관객 수')\n",
        "plt.legend()\n",
        "\n",
        "plt.show()"
      ],
      "metadata": {
        "colab": {
          "base_uri": "https://localhost:8080/",
          "height": 661
        },
        "id": "mVKkOD6n9V1V",
        "outputId": "deecf065-d1f2-47f2-cf62-f646e5dcaa91"
      },
      "execution_count": 15,
      "outputs": [
        {
          "output_type": "display_data",
          "data": {
            "text/plain": [
              "<Figure size 720x720 with 1 Axes>"
            ],
            "image/png": "[encoded data removed]"
          },
          "metadata": {
            "needs_background": "light"
          }
        }
      ]
    },
    {
      "cell_type": "markdown",
      "source": [
        "##### | 분석 결과\n",
        "___\n",
        "- 느와르, 액션, SF, 그리고 코미디 순으로 총 관객 수가 많다.\n",
        "- 느와르, 액션, SF, 그리고 코미디 순으로 평균 관객 수가 많다."
      ],
      "metadata": {
        "id": "yb8Tzc7v997_"
      }
    },
    {
      "cell_type": "markdown",
      "source": [],
      "metadata": {
        "id": "SO0jb3ZnPyj8"
      }
    },
    {
      "cell_type": "markdown",
      "source": [
        "# 1-3) 관객수 - 감독유명도 \n"
      ],
      "metadata": {
        "id": "llEODIDLyXjl"
      }
    },
    {
      "cell_type": "code",
      "source": [
        "movies['유명도']=''\n",
        "for i in range(len(movies)):\n",
        "  if movies['dir_prev_bfnum'][i]==0: \n",
        "    movies['유명도'][i]='1'\n",
        "  elif movies['dir_prev_bfnum'][i]<100000:\n",
        "    movies['유명도'][i]='2'\n",
        "  elif movies['dir_prev_bfnum'][i]<500000:\n",
        "    movies['유명도'][i]='3'\n",
        "  elif movies['dir_prev_bfnum'][i]<1000000: \n",
        "    movies['유명도'][i]='4'\n",
        "  else:\n",
        "    movies['유명도'][i]='5'"
      ],
      "metadata": {
        "colab": {
          "base_uri": "https://localhost:8080/",
          "height": 346
        },
        "id": "0mywzJIsOGw9",
        "outputId": "aecbfe3b-30a2-4f13-91df-87662934cbd9"
      },
      "execution_count": 9,
      "outputs": [
        {
          "output_type": "execute_result",
          "data": {
            "text/plain": [
              "       title distributor genre release_time  time screening_rat director  \\\n",
              "0     개들의 전쟁    롯데엔터테인먼트    액션   2012-11-22    96      청소년 관람불가      조병옥   \n",
              "1       내부자들      (주)쇼박스   느와르   2015-11-19   130      청소년 관람불가      우민호   \n",
              "2  은밀하게 위대하게      (주)쇼박스    액션   2013-06-05   123       15세 관람가      장철수   \n",
              "\n",
              "   dir_prev_bfnum  dir_prev_num  num_staff  num_actor  box_off_num 유명도  \n",
              "0             NaN             0         91          2        23398   5  \n",
              "1      1161602.50             2        387          3      7072501   5  \n",
              "2       220775.25             4        343          4      6959083   3  "
            ],
            "text/html": [
              "\n",
              "  <div id=\"df-3099b8f7-a37c-4ff5-a028-8a161b5529e8\">\n",
              "    <div class=\"colab-df-container\">\n",
              "      <div>\n",
              "<style scoped>\n",
              "    .dataframe tbody tr th:only-of-type {\n",
              "        vertical-align: middle;\n",
              "    }\n",
              "\n",
              "    .dataframe tbody tr th {\n",
              "        vertical-align: top;\n",
              "    }\n",
              "\n",
              "    .dataframe thead th {\n",
              "        text-align: right;\n",
              "    }\n",
              "</style>\n",
              "<table border=\"1\" class=\"dataframe\">\n",
              "  <thead>\n",
              "    <tr style=\"text-align: right;\">\n",
              "      <th></th>\n",
              "      <th>title</th>\n",
              "      <th>distributor</th>\n",
              "      <th>genre</th>\n",
              "      <th>release_time</th>\n",
              "      <th>time</th>\n",
              "      <th>screening_rat</th>\n",
              "      <th>director</th>\n",
              "      <th>dir_prev_bfnum</th>\n",
              "      <th>dir_prev_num</th>\n",
              "      <th>num_staff</th>\n",
              "      <th>num_actor</th>\n",
              "      <th>box_off_num</th>\n",
              "      <th>유명도</th>\n",
              "    </tr>\n",
              "  </thead>\n",
              "  <tbody>\n",
              "    <tr>\n",
              "      <th>0</th>\n",
              "      <td>개들의 전쟁</td>\n",
              "      <td>롯데엔터테인먼트</td>\n",
              "      <td>액션</td>\n",
              "      <td>2012-11-22</td>\n",
              "      <td>96</td>\n",
              "      <td>청소년 관람불가</td>\n",
              "      <td>조병옥</td>\n",
              "      <td>NaN</td>\n",
              "      <td>0</td>\n",
              "      <td>91</td>\n",
              "      <td>2</td>\n",
              "      <td>23398</td>\n",
              "      <td>5</td>\n",
              "    </tr>\n",
              "    <tr>\n",
              "      <th>1</th>\n",
              "      <td>내부자들</td>\n",
              "      <td>(주)쇼박스</td>\n",
              "      <td>느와르</td>\n",
              "      <td>2015-11-19</td>\n",
              "      <td>130</td>\n",
              "      <td>청소년 관람불가</td>\n",
              "      <td>우민호</td>\n",
              "      <td>1161602.50</td>\n",
              "      <td>2</td>\n",
              "      <td>387</td>\n",
              "      <td>3</td>\n",
              "      <td>7072501</td>\n",
              "      <td>5</td>\n",
              "    </tr>\n",
              "    <tr>\n",
              "      <th>2</th>\n",
              "      <td>은밀하게 위대하게</td>\n",
              "      <td>(주)쇼박스</td>\n",
              "      <td>액션</td>\n",
              "      <td>2013-06-05</td>\n",
              "      <td>123</td>\n",
              "      <td>15세 관람가</td>\n",
              "      <td>장철수</td>\n",
              "      <td>220775.25</td>\n",
              "      <td>4</td>\n",
              "      <td>343</td>\n",
              "      <td>4</td>\n",
              "      <td>6959083</td>\n",
              "      <td>3</td>\n",
              "    </tr>\n",
              "  </tbody>\n",
              "</table>\n",
              "</div>\n",
              "      <button class=\"colab-df-convert\" onclick=\"convertToInteractive('df-3099b8f7-a37c-4ff5-a028-8a161b5529e8')\"\n",
              "              title=\"Convert this dataframe to an interactive table.\"\n",
              "              style=\"display:none;\">\n",
              "        \n",
              "  <svg xmlns=\"http://www.w3.org/2000/svg\" height=\"24px\"viewBox=\"0 0 24 24\"\n",
              "       width=\"24px\">\n",
              "    <path d=\"M0 0h24v24H0V0z\" fill=\"none\"/>\n",
              "    <path d=\"M18.56 5.44l.94 2.06.94-2.06 2.06-.94-2.06-.94-.94-2.06-.94 2.06-2.06.94zm-11 1L8.5 8.5l.94-2.06 2.06-.94-2.06-.94L8.5 2.5l-.94 2.06-2.06.94zm10 10l.94 2.06.94-2.06 2.06-.94-2.06-.94-.94-2.06-.94 2.06-2.06.94z\"/><path d=\"M17.41 7.96l-1.37-1.37c-.4-.4-.92-.59-1.43-.59-.52 0-1.04.2-1.43.59L10.3 9.45l-7.72 7.72c-.78.78-.78 2.05 0 2.83L4 21.41c.39.39.9.59 1.41.59.51 0 1.02-.2 1.41-.59l7.78-7.78 2.81-2.81c.8-.78.8-2.07 0-2.86zM5.41 20L4 18.59l7.72-7.72 1.47 1.35L5.41 20z\"/>\n",
              "  </svg>\n",
              "      </button>\n",
              "      \n",
              "  <style>\n",
              "    .colab-df-container {\n",
              "      display:flex;\n",
              "      flex-wrap:wrap;\n",
              "      gap: 12px;\n",
              "    }\n",
              "\n",
              "    .colab-df-convert {\n",
              "      background-color: #E8F0FE;\n",
              "      border: none;\n",
              "      border-radius: 50%;\n",
              "      cursor: pointer;\n",
              "      display: none;\n",
              "      fill: #1967D2;\n",
              "      height: 32px;\n",
              "      padding: 0 0 0 0;\n",
              "      width: 32px;\n",
              "    }\n",
              "\n",
              "    .colab-df-convert:hover {\n",
              "      background-color: #E2EBFA;\n",
              "      box-shadow: 0px 1px 2px rgba(60, 64, 67, 0.3), 0px 1px 3px 1px rgba(60, 64, 67, 0.15);\n",
              "      fill: #174EA6;\n",
              "    }\n",
              "\n",
              "    [theme=dark] .colab-df-convert {\n",
              "      background-color: #3B4455;\n",
              "      fill: #D2E3FC;\n",
              "    }\n",
              "\n",
              "    [theme=dark] .colab-df-convert:hover {\n",
              "      background-color: #434B5C;\n",
              "      box-shadow: 0px 1px 3px 1px rgba(0, 0, 0, 0.15);\n",
              "      filter: drop-shadow(0px 1px 2px rgba(0, 0, 0, 0.3));\n",
              "      fill: #FFFFFF;\n",
              "    }\n",
              "  </style>\n",
              "\n",
              "      <script>\n",
              "        const buttonEl =\n",
              "          document.querySelector('#df-3099b8f7-a37c-4ff5-a028-8a161b5529e8 button.colab-df-convert');\n",
              "        buttonEl.style.display =\n",
              "          google.colab.kernel.accessAllowed ? 'block' : 'none';\n",
              "\n",
              "        async function convertToInteractive(key) {\n",
              "          const element = document.querySelector('#df-3099b8f7-a37c-4ff5-a028-8a161b5529e8');\n",
              "          const dataTable =\n",
              "            await google.colab.kernel.invokeFunction('convertToInteractive',\n",
              "                                                     [key], {});\n",
              "          if (!dataTable) return;\n",
              "\n",
              "          const docLinkHtml = 'Like what you see? Visit the ' +\n",
              "            '<a target=\"_blank\" href=https://colab.research.google.com/notebooks/data_table.ipynb>data table notebook</a>'\n",
              "            + ' to learn more about interactive tables.';\n",
              "          element.innerHTML = '';\n",
              "          dataTable['output_type'] = 'display_data';\n",
              "          await google.colab.output.renderOutput(dataTable, element);\n",
              "          const docLink = document.createElement('div');\n",
              "          docLink.innerHTML = docLinkHtml;\n",
              "          element.appendChild(docLink);\n",
              "        }\n",
              "      </script>\n",
              "    </div>\n",
              "  </div>\n",
              "  "
            ]
          },
          "metadata": {},
          "execution_count": 9
        }
      ]
    },
    {
      "cell_type": "code",
      "source": [
        "plt.figure()\n",
        "movies[['box_off_num']].groupby(movies['유명도']).mean().plot(kind='bar')\n",
        "\n",
        "plt.title('감독유명도 별 평균 관객 수')\n",
        "plt.xlabel('감독의 유명도')\n",
        "plt.ylabel('평균 관객 수')\n",
        "plt.legend('평균 관객 수')\n",
        "\n",
        "plt.show()"
      ],
      "metadata": {
        "colab": {
          "base_uri": "https://localhost:8080/",
          "height": 308
        },
        "id": "kq3ShwcEOjtO",
        "outputId": "457b826c-e81f-4963-9093-681dd0a8288d"
      },
      "execution_count": 20,
      "outputs": [
        {
          "output_type": "display_data",
          "data": {
            "text/plain": [
              "<Figure size 432x288 with 0 Axes>"
            ]
          },
          "metadata": {}
        },
        {
          "output_type": "display_data",
          "data": {
            "text/plain": [
              "<Figure size 432x288 with 1 Axes>"
            ],
            "image/png": "[encoded data removed]"
          },
          "metadata": {
            "needs_background": "light"
          }
        }
      ]
    },
    {
      "cell_type": "markdown",
      "source": [
        "##### | 분석 결과\n",
        "___\n",
        "- 감독의 전작 관객 수가 많은 4와 5의 범주에서 평균 관객 수가 많은 것은 사실이다.\n",
        "- 하지만, 전작 관객 수가 제일 많다고 해서 평균 관객 수가 제일 많은 것은 아니다. \n",
        "- 두 변수 사이의 뚜렷한 인과관계가 있다고 할 수 없다. "
      ],
      "metadata": {
        "id": "5leFeODWP2eL"
      }
    }
  ]
}