{
  "nbformat": 4,
  "nbformat_minor": 0,
  "metadata": {
    "colab": {
      "provenance": [],
      "authorship_tag": "ABX9TyMKTd+Dd17P63Y++wRZT8dM",
      "include_colab_link": true
    },
    "kernelspec": {
      "name": "python3",
      "display_name": "Python 3"
    },
    "language_info": {
      "name": "python"
    }
  },
  "cells": [
    {
      "cell_type": "markdown",
      "metadata": {
        "id": "view-in-github",
        "colab_type": "text"
      },
      "source": [
        "<a href=\"https://colab.research.google.com/github/altn714/ESAA/blob/main/p256_263.ipynb\" target=\"_parent\"><img src=\"https://colab.research.google.com/assets/colab-badge.svg\" alt=\"Open In Colab\"/></a>"
      ]
    },
    {
      "cell_type": "markdown",
      "source": [
        "# 시계열 데이터 : 일정 시간 간격으로 어떤 값을 기록\n",
        "\n",
        "날씨 관측 데이터, 에볼라 전염병으로 인한 사망저 수 관측 데이터, 빌보드 차트 데이터 (모두 시계열 데이터 포함)"
      ],
      "metadata": {
        "id": "fQs3MT4Q7Uqs"
      }
    },
    {
      "cell_type": "markdown",
      "source": [
        "# datetime 오브젝트\n",
        "- datetime 라이브러리 : 날짜와 시간을 처리하는 다양한 기능 제공\n",
        "- date 오브젝트: 날짜 처리\n",
        "- time 오브젝트: 시간처리\n",
        "- datetime 오브젝트 : 날짜와 시간 모두 처리"
      ],
      "metadata": {
        "id": "fhmkUrpc785X"
      }
    },
    {
      "cell_type": "code",
      "source": [
        "#datetime 오브젝트 사용하기 \n",
        "\n",
        "#datetime 라이브러리 불러옴\n",
        "from datetime import datetime\n",
        "\n",
        "#now,today 메서드 (현재 시간 출력)\n",
        "now1=datetime.now()\n",
        "print(now1)\n",
        "\n",
        "now2=datetime.today()\n",
        "print(now2)"
      ],
      "metadata": {
        "colab": {
          "base_uri": "https://localhost:8080/"
        },
        "id": "v651-in278K-",
        "outputId": "d614efbe-4951-43ba-9cb6-5c4f13a6a06c"
      },
      "execution_count": 47,
      "outputs": [
        {
          "output_type": "stream",
          "name": "stdout",
          "text": [
            "2022-10-10 08:50:30.011869\n",
            "2022-10-10 08:50:30.012000\n"
          ]
        }
      ]
    },
    {
      "cell_type": "markdown",
      "source": [
        "datetime 오브젝트 : 시간 직접 입력하여 인자 전달"
      ],
      "metadata": {
        "id": "lJAigpUK89vv"
      }
    },
    {
      "cell_type": "code",
      "source": [
        "t1 = datetime.now()\n",
        "print(t1)\n",
        "#now 메서드는 밀리초 단위까지 구별\n",
        "\n",
        "t2=datetime(1970,1,1)\n",
        "print(t2)\n",
        "\n",
        "t3=datetime(1970,12,12,13,24,34)\n",
        "print(t3)"
      ],
      "metadata": {
        "colab": {
          "base_uri": "https://localhost:8080/"
        },
        "id": "9gGRqvnE9UX8",
        "outputId": "d40fe811-7177-4718-e77d-10bdc36cc812"
      },
      "execution_count": 48,
      "outputs": [
        {
          "output_type": "stream",
          "name": "stdout",
          "text": [
            "2022-10-10 08:50:30.417501\n",
            "1970-01-01 00:00:00\n",
            "1970-12-12 13:24:34\n"
          ]
        }
      ]
    },
    {
      "cell_type": "markdown",
      "source": [
        "datetime 쓰는 이유: 시간계산 할 수 있음."
      ],
      "metadata": {
        "id": "HI6JELvC9kS3"
      }
    },
    {
      "cell_type": "code",
      "source": [
        "#datetime 오브젝트의 차이 \n",
        "\n",
        "diff1=t1-t2\n",
        "print(diff1)\n",
        "print(type(diff1))\n",
        "\n",
        "diff2 = t2-t1\n",
        "print(diff2)\n",
        "print(type(diff2))\n",
        "#마이너스로 결과값 나옴."
      ],
      "metadata": {
        "colab": {
          "base_uri": "https://localhost:8080/"
        },
        "id": "OwqKdx2T9ok4",
        "outputId": "70a8e9a1-ab37-41d4-b723-d11b1e0c9860"
      },
      "execution_count": 49,
      "outputs": [
        {
          "output_type": "stream",
          "name": "stdout",
          "text": [
            "19275 days, 8:50:30.417501\n",
            "<class 'datetime.timedelta'>\n",
            "-19276 days, 15:09:29.582499\n",
            "<class 'datetime.timedelta'>\n"
          ]
        }
      ]
    },
    {
      "cell_type": "markdown",
      "source": [
        "# 테슬라 주식 데이터로 시간 계산"
      ],
      "metadata": {
        "id": "Qwl-0Ggt-F7A"
      }
    },
    {
      "cell_type": "code",
      "source": [
        "pip install pandas-datareader"
      ],
      "metadata": {
        "colab": {
          "base_uri": "https://localhost:8080/"
        },
        "id": "AZUlZihf-Dmt",
        "outputId": "3e3d3573-a974-4308-974e-eba19bd152ea"
      },
      "execution_count": 50,
      "outputs": [
        {
          "output_type": "stream",
          "name": "stdout",
          "text": [
            "Looking in indexes: https://pypi.org/simple, https://us-python.pkg.dev/colab-wheels/public/simple/\n",
            "Requirement already satisfied: pandas-datareader in /usr/local/lib/python3.7/dist-packages (0.9.0)\n",
            "Requirement already satisfied: lxml in /usr/local/lib/python3.7/dist-packages (from pandas-datareader) (4.9.1)\n",
            "Requirement already satisfied: requests>=2.19.0 in /usr/local/lib/python3.7/dist-packages (from pandas-datareader) (2.23.0)\n",
            "Requirement already satisfied: pandas>=0.23 in /usr/local/lib/python3.7/dist-packages (from pandas-datareader) (1.3.5)\n",
            "Requirement already satisfied: pytz>=2017.3 in /usr/local/lib/python3.7/dist-packages (from pandas>=0.23->pandas-datareader) (2022.4)\n",
            "Requirement already satisfied: numpy>=1.17.3 in /usr/local/lib/python3.7/dist-packages (from pandas>=0.23->pandas-datareader) (1.21.6)\n",
            "Requirement already satisfied: python-dateutil>=2.7.3 in /usr/local/lib/python3.7/dist-packages (from pandas>=0.23->pandas-datareader) (2.8.2)\n",
            "Requirement already satisfied: six>=1.5 in /usr/local/lib/python3.7/dist-packages (from python-dateutil>=2.7.3->pandas>=0.23->pandas-datareader) (1.15.0)\n",
            "Requirement already satisfied: idna<3,>=2.5 in /usr/local/lib/python3.7/dist-packages (from requests>=2.19.0->pandas-datareader) (2.10)\n",
            "Requirement already satisfied: urllib3!=1.25.0,!=1.25.1,<1.26,>=1.21.1 in /usr/local/lib/python3.7/dist-packages (from requests>=2.19.0->pandas-datareader) (1.24.3)\n",
            "Requirement already satisfied: chardet<4,>=3.0.2 in /usr/local/lib/python3.7/dist-packages (from requests>=2.19.0->pandas-datareader) (3.0.4)\n",
            "Requirement already satisfied: certifi>=2017.4.17 in /usr/local/lib/python3.7/dist-packages (from requests>=2.19.0->pandas-datareader) (2022.9.24)\n"
          ]
        }
      ]
    },
    {
      "cell_type": "code",
      "source": [
        "import pandas as pd\n",
        "pd.core.common.is_list_like = pd.api.types.is_list_like\n",
        "import pandas_datareader as pdr"
      ],
      "metadata": {
        "id": "b_3HgMJPA1ow"
      },
      "execution_count": 51,
      "outputs": []
    },
    {
      "cell_type": "code",
      "source": [
        "#get_data_quanal 메서드에 TSLA 문자열 전달\n",
        "#tesla에는 데이터프레임이 저장\n",
        "#나스닥 사이트에서 키 받기(로그인 해야함)\n",
        "tesla = pdr.get_data_quandl('TSLA', api_key = '5acEiZm2yGGsAsFGQLWf')\n",
        "\n",
        "#tesla에 저장된 데이터프레임을 파일로 저장\n",
        "tesla.to_csv('/content/tesla')\n",
        "\n",
        "#tesla 데이터 프래임의 date열은 문자열로 저장됨, 즉, datetime 오브젝트로 자료형 변환해야 계산 가능."
      ],
      "metadata": {
        "id": "hQGt-ANy-LUB"
      },
      "execution_count": 52,
      "outputs": []
    },
    {
      "cell_type": "code",
      "source": [
        "print(tesla.head())"
      ],
      "metadata": {
        "colab": {
          "base_uri": "https://localhost:8080/"
        },
        "id": "TLzlp-zZCssN",
        "outputId": "b85f5216-9010-4913-c03f-e5112bf3f28f"
      },
      "execution_count": 53,
      "outputs": [
        {
          "output_type": "stream",
          "name": "stdout",
          "text": [
            "              Open    High     Low   Close      Volume  ExDividend  \\\n",
            "Date                                                                 \n",
            "2018-03-27  304.00  304.27  277.18  279.18  13696168.0         0.0   \n",
            "2018-03-26  307.34  307.59  291.36  304.18   8324639.0         0.0   \n",
            "2018-03-23  311.25  311.61  300.45  301.54   6600538.0         0.0   \n",
            "2018-03-22  313.89  318.82  308.18  309.10   4914307.0         0.0   \n",
            "2018-03-21  310.25  322.44  310.19  316.53   5927881.0         0.0   \n",
            "\n",
            "            SplitRatio  AdjOpen  AdjHigh  AdjLow  AdjClose   AdjVolume  \n",
            "Date                                                                    \n",
            "2018-03-27         1.0   304.00   304.27  277.18    279.18  13696168.0  \n",
            "2018-03-26         1.0   307.34   307.59  291.36    304.18   8324639.0  \n",
            "2018-03-23         1.0   311.25   311.61  300.45    301.54   6600538.0  \n",
            "2018-03-22         1.0   313.89   318.82  308.18    309.10   4914307.0  \n",
            "2018-03-21         1.0   310.25   322.44  310.19    316.53   5927881.0  \n"
          ]
        }
      ]
    },
    {
      "cell_type": "markdown",
      "source": [
        "# date열 datetime 형으로 변환"
      ],
      "metadata": {
        "id": "UDl5chB8C_g2"
      }
    },
    {
      "cell_type": "code",
      "source": [
        "#read_csv 메서드로 데이터 집합 불러올 때, parse_dates 인자에 date 열 전달\n",
        "tesla = pd.read_csv('/content/tesla',parse_dates=[0])\n",
        "print(tesla.info())"
      ],
      "metadata": {
        "colab": {
          "base_uri": "https://localhost:8080/"
        },
        "id": "9Td-pDNVC7Af",
        "outputId": "1ae5266d-25fb-4b17-a3fc-13631f955d75"
      },
      "execution_count": 54,
      "outputs": [
        {
          "output_type": "stream",
          "name": "stdout",
          "text": [
            "<class 'pandas.core.frame.DataFrame'>\n",
            "RangeIndex: 114 entries, 0 to 113\n",
            "Data columns (total 13 columns):\n",
            " #   Column      Non-Null Count  Dtype         \n",
            "---  ------      --------------  -----         \n",
            " 0   Date        114 non-null    datetime64[ns]\n",
            " 1   Open        114 non-null    float64       \n",
            " 2   High        114 non-null    float64       \n",
            " 3   Low         114 non-null    float64       \n",
            " 4   Close       114 non-null    float64       \n",
            " 5   Volume      114 non-null    float64       \n",
            " 6   ExDividend  114 non-null    float64       \n",
            " 7   SplitRatio  114 non-null    float64       \n",
            " 8   AdjOpen     114 non-null    float64       \n",
            " 9   AdjHigh     114 non-null    float64       \n",
            " 10  AdjLow      114 non-null    float64       \n",
            " 11  AdjClose    114 non-null    float64       \n",
            " 12  AdjVolume   114 non-null    float64       \n",
            "dtypes: datetime64[ns](1), float64(12)\n",
            "memory usage: 11.7 KB\n",
            "None\n"
          ]
        }
      ]
    },
    {
      "cell_type": "markdown",
      "source": [
        "- date열의 자료형이 datetime 오브젝트로 변환\n",
        "- dt 접근자 사용 가능"
      ],
      "metadata": {
        "id": "fhzDc2pcDZxk"
      }
    },
    {
      "cell_type": "code",
      "source": [
        "#불린 추출로 2018년 3월 데이터 추출\n",
        "tesla.loc[(tesla.Date.dt.year==2018) & (tesla.Date.dt.month==3)]"
      ],
      "metadata": {
        "colab": {
          "base_uri": "https://localhost:8080/",
          "height": 1000
        },
        "id": "zOocsMlfDnV7",
        "outputId": "bc22bbcc-0a2f-4aa7-c295-743c15848cfb"
      },
      "execution_count": 55,
      "outputs": [
        {
          "output_type": "execute_result",
          "data": {
            "text/plain": [
              "         Date    Open    High       Low   Close      Volume  ExDividend  \\\n",
              "0  2018-03-27  304.00  304.27  277.1800  279.18  13696168.0         0.0   \n",
              "1  2018-03-26  307.34  307.59  291.3600  304.18   8324639.0         0.0   \n",
              "2  2018-03-23  311.25  311.61  300.4500  301.54   6600538.0         0.0   \n",
              "3  2018-03-22  313.89  318.82  308.1800  309.10   4914307.0         0.0   \n",
              "4  2018-03-21  310.25  322.44  310.1900  316.53   5927881.0         0.0   \n",
              "5  2018-03-20  314.87  316.25  308.7600  310.55   4726182.0         0.0   \n",
              "6  2018-03-19  316.50  320.75  309.6700  313.56   7440766.0         0.0   \n",
              "7  2018-03-16  325.96  327.40  319.0700  321.35   6058612.0         0.0   \n",
              "8  2018-03-15  329.38  332.85  321.1000  325.60   6366922.0         0.0   \n",
              "9  2018-03-14  336.76  339.81  323.9300  326.63   7932511.0         0.0   \n",
              "10 2018-03-13  344.92  345.12  336.2635  341.84   5932110.0         0.0   \n",
              "11 2018-03-12  328.61  347.21  326.5000  345.51   8212156.0         0.0   \n",
              "12 2018-03-09  324.10  328.49  322.3700  327.17   5479716.0         0.0   \n",
              "13 2018-03-08  332.86  333.30  326.2740  329.10   3476944.0         0.0   \n",
              "14 2018-03-07  325.44  332.50  321.7400  332.30   5007297.0         0.0   \n",
              "15 2018-03-06  333.75  336.37  327.0300  328.20   4285744.0         0.0   \n",
              "16 2018-03-05  332.39  337.75  329.2929  333.35   3823769.0         0.0   \n",
              "17 2018-03-02  326.98  335.22  322.9700  335.12   5092829.0         0.0   \n",
              "18 2018-03-01  345.01  348.67  330.0700  330.93   6885601.0         0.0   \n",
              "\n",
              "    SplitRatio  AdjOpen  AdjHigh    AdjLow  AdjClose   AdjVolume  \n",
              "0          1.0   304.00   304.27  277.1800    279.18  13696168.0  \n",
              "1          1.0   307.34   307.59  291.3600    304.18   8324639.0  \n",
              "2          1.0   311.25   311.61  300.4500    301.54   6600538.0  \n",
              "3          1.0   313.89   318.82  308.1800    309.10   4914307.0  \n",
              "4          1.0   310.25   322.44  310.1900    316.53   5927881.0  \n",
              "5          1.0   314.87   316.25  308.7600    310.55   4726182.0  \n",
              "6          1.0   316.50   320.75  309.6700    313.56   7440766.0  \n",
              "7          1.0   325.96   327.40  319.0700    321.35   6058612.0  \n",
              "8          1.0   329.38   332.85  321.1000    325.60   6366922.0  \n",
              "9          1.0   336.76   339.81  323.9300    326.63   7932511.0  \n",
              "10         1.0   344.92   345.12  336.2635    341.84   5932110.0  \n",
              "11         1.0   328.61   347.21  326.5000    345.51   8212156.0  \n",
              "12         1.0   324.10   328.49  322.3700    327.17   5479716.0  \n",
              "13         1.0   332.86   333.30  326.2740    329.10   3476944.0  \n",
              "14         1.0   325.44   332.50  321.7400    332.30   5007297.0  \n",
              "15         1.0   333.75   336.37  327.0300    328.20   4285744.0  \n",
              "16         1.0   332.39   337.75  329.2929    333.35   3823769.0  \n",
              "17         1.0   326.98   335.22  322.9700    335.12   5092829.0  \n",
              "18         1.0   345.01   348.67  330.0700    330.93   6885601.0  "
            ],
            "text/html": [
              "\n",
              "  <div id=\"df-65e73518-eb56-424e-9d7d-ae69602d8baa\">\n",
              "    <div class=\"colab-df-container\">\n",
              "      <div>\n",
              "<style scoped>\n",
              "    .dataframe tbody tr th:only-of-type {\n",
              "        vertical-align: middle;\n",
              "    }\n",
              "\n",
              "    .dataframe tbody tr th {\n",
              "        vertical-align: top;\n",
              "    }\n",
              "\n",
              "    .dataframe thead th {\n",
              "        text-align: right;\n",
              "    }\n",
              "</style>\n",
              "<table border=\"1\" class=\"dataframe\">\n",
              "  <thead>\n",
              "    <tr style=\"text-align: right;\">\n",
              "      <th></th>\n",
              "      <th>Date</th>\n",
              "      <th>Open</th>\n",
              "      <th>High</th>\n",
              "      <th>Low</th>\n",
              "      <th>Close</th>\n",
              "      <th>Volume</th>\n",
              "      <th>ExDividend</th>\n",
              "      <th>SplitRatio</th>\n",
              "      <th>AdjOpen</th>\n",
              "      <th>AdjHigh</th>\n",
              "      <th>AdjLow</th>\n",
              "      <th>AdjClose</th>\n",
              "      <th>AdjVolume</th>\n",
              "    </tr>\n",
              "  </thead>\n",
              "  <tbody>\n",
              "    <tr>\n",
              "      <th>0</th>\n",
              "      <td>2018-03-27</td>\n",
              "      <td>304.00</td>\n",
              "      <td>304.27</td>\n",
              "      <td>277.1800</td>\n",
              "      <td>279.18</td>\n",
              "      <td>13696168.0</td>\n",
              "      <td>0.0</td>\n",
              "      <td>1.0</td>\n",
              "      <td>304.00</td>\n",
              "      <td>304.27</td>\n",
              "      <td>277.1800</td>\n",
              "      <td>279.18</td>\n",
              "      <td>13696168.0</td>\n",
              "    </tr>\n",
              "    <tr>\n",
              "      <th>1</th>\n",
              "      <td>2018-03-26</td>\n",
              "      <td>307.34</td>\n",
              "      <td>307.59</td>\n",
              "      <td>291.3600</td>\n",
              "      <td>304.18</td>\n",
              "      <td>8324639.0</td>\n",
              "      <td>0.0</td>\n",
              "      <td>1.0</td>\n",
              "      <td>307.34</td>\n",
              "      <td>307.59</td>\n",
              "      <td>291.3600</td>\n",
              "      <td>304.18</td>\n",
              "      <td>8324639.0</td>\n",
              "    </tr>\n",
              "    <tr>\n",
              "      <th>2</th>\n",
              "      <td>2018-03-23</td>\n",
              "      <td>311.25</td>\n",
              "      <td>311.61</td>\n",
              "      <td>300.4500</td>\n",
              "      <td>301.54</td>\n",
              "      <td>6600538.0</td>\n",
              "      <td>0.0</td>\n",
              "      <td>1.0</td>\n",
              "      <td>311.25</td>\n",
              "      <td>311.61</td>\n",
              "      <td>300.4500</td>\n",
              "      <td>301.54</td>\n",
              "      <td>6600538.0</td>\n",
              "    </tr>\n",
              "    <tr>\n",
              "      <th>3</th>\n",
              "      <td>2018-03-22</td>\n",
              "      <td>313.89</td>\n",
              "      <td>318.82</td>\n",
              "      <td>308.1800</td>\n",
              "      <td>309.10</td>\n",
              "      <td>4914307.0</td>\n",
              "      <td>0.0</td>\n",
              "      <td>1.0</td>\n",
              "      <td>313.89</td>\n",
              "      <td>318.82</td>\n",
              "      <td>308.1800</td>\n",
              "      <td>309.10</td>\n",
              "      <td>4914307.0</td>\n",
              "    </tr>\n",
              "    <tr>\n",
              "      <th>4</th>\n",
              "      <td>2018-03-21</td>\n",
              "      <td>310.25</td>\n",
              "      <td>322.44</td>\n",
              "      <td>310.1900</td>\n",
              "      <td>316.53</td>\n",
              "      <td>5927881.0</td>\n",
              "      <td>0.0</td>\n",
              "      <td>1.0</td>\n",
              "      <td>310.25</td>\n",
              "      <td>322.44</td>\n",
              "      <td>310.1900</td>\n",
              "      <td>316.53</td>\n",
              "      <td>5927881.0</td>\n",
              "    </tr>\n",
              "    <tr>\n",
              "      <th>5</th>\n",
              "      <td>2018-03-20</td>\n",
              "      <td>314.87</td>\n",
              "      <td>316.25</td>\n",
              "      <td>308.7600</td>\n",
              "      <td>310.55</td>\n",
              "      <td>4726182.0</td>\n",
              "      <td>0.0</td>\n",
              "      <td>1.0</td>\n",
              "      <td>314.87</td>\n",
              "      <td>316.25</td>\n",
              "      <td>308.7600</td>\n",
              "      <td>310.55</td>\n",
              "      <td>4726182.0</td>\n",
              "    </tr>\n",
              "    <tr>\n",
              "      <th>6</th>\n",
              "      <td>2018-03-19</td>\n",
              "      <td>316.50</td>\n",
              "      <td>320.75</td>\n",
              "      <td>309.6700</td>\n",
              "      <td>313.56</td>\n",
              "      <td>7440766.0</td>\n",
              "      <td>0.0</td>\n",
              "      <td>1.0</td>\n",
              "      <td>316.50</td>\n",
              "      <td>320.75</td>\n",
              "      <td>309.6700</td>\n",
              "      <td>313.56</td>\n",
              "      <td>7440766.0</td>\n",
              "    </tr>\n",
              "    <tr>\n",
              "      <th>7</th>\n",
              "      <td>2018-03-16</td>\n",
              "      <td>325.96</td>\n",
              "      <td>327.40</td>\n",
              "      <td>319.0700</td>\n",
              "      <td>321.35</td>\n",
              "      <td>6058612.0</td>\n",
              "      <td>0.0</td>\n",
              "      <td>1.0</td>\n",
              "      <td>325.96</td>\n",
              "      <td>327.40</td>\n",
              "      <td>319.0700</td>\n",
              "      <td>321.35</td>\n",
              "      <td>6058612.0</td>\n",
              "    </tr>\n",
              "    <tr>\n",
              "      <th>8</th>\n",
              "      <td>2018-03-15</td>\n",
              "      <td>329.38</td>\n",
              "      <td>332.85</td>\n",
              "      <td>321.1000</td>\n",
              "      <td>325.60</td>\n",
              "      <td>6366922.0</td>\n",
              "      <td>0.0</td>\n",
              "      <td>1.0</td>\n",
              "      <td>329.38</td>\n",
              "      <td>332.85</td>\n",
              "      <td>321.1000</td>\n",
              "      <td>325.60</td>\n",
              "      <td>6366922.0</td>\n",
              "    </tr>\n",
              "    <tr>\n",
              "      <th>9</th>\n",
              "      <td>2018-03-14</td>\n",
              "      <td>336.76</td>\n",
              "      <td>339.81</td>\n",
              "      <td>323.9300</td>\n",
              "      <td>326.63</td>\n",
              "      <td>7932511.0</td>\n",
              "      <td>0.0</td>\n",
              "      <td>1.0</td>\n",
              "      <td>336.76</td>\n",
              "      <td>339.81</td>\n",
              "      <td>323.9300</td>\n",
              "      <td>326.63</td>\n",
              "      <td>7932511.0</td>\n",
              "    </tr>\n",
              "    <tr>\n",
              "      <th>10</th>\n",
              "      <td>2018-03-13</td>\n",
              "      <td>344.92</td>\n",
              "      <td>345.12</td>\n",
              "      <td>336.2635</td>\n",
              "      <td>341.84</td>\n",
              "      <td>5932110.0</td>\n",
              "      <td>0.0</td>\n",
              "      <td>1.0</td>\n",
              "      <td>344.92</td>\n",
              "      <td>345.12</td>\n",
              "      <td>336.2635</td>\n",
              "      <td>341.84</td>\n",
              "      <td>5932110.0</td>\n",
              "    </tr>\n",
              "    <tr>\n",
              "      <th>11</th>\n",
              "      <td>2018-03-12</td>\n",
              "      <td>328.61</td>\n",
              "      <td>347.21</td>\n",
              "      <td>326.5000</td>\n",
              "      <td>345.51</td>\n",
              "      <td>8212156.0</td>\n",
              "      <td>0.0</td>\n",
              "      <td>1.0</td>\n",
              "      <td>328.61</td>\n",
              "      <td>347.21</td>\n",
              "      <td>326.5000</td>\n",
              "      <td>345.51</td>\n",
              "      <td>8212156.0</td>\n",
              "    </tr>\n",
              "    <tr>\n",
              "      <th>12</th>\n",
              "      <td>2018-03-09</td>\n",
              "      <td>324.10</td>\n",
              "      <td>328.49</td>\n",
              "      <td>322.3700</td>\n",
              "      <td>327.17</td>\n",
              "      <td>5479716.0</td>\n",
              "      <td>0.0</td>\n",
              "      <td>1.0</td>\n",
              "      <td>324.10</td>\n",
              "      <td>328.49</td>\n",
              "      <td>322.3700</td>\n",
              "      <td>327.17</td>\n",
              "      <td>5479716.0</td>\n",
              "    </tr>\n",
              "    <tr>\n",
              "      <th>13</th>\n",
              "      <td>2018-03-08</td>\n",
              "      <td>332.86</td>\n",
              "      <td>333.30</td>\n",
              "      <td>326.2740</td>\n",
              "      <td>329.10</td>\n",
              "      <td>3476944.0</td>\n",
              "      <td>0.0</td>\n",
              "      <td>1.0</td>\n",
              "      <td>332.86</td>\n",
              "      <td>333.30</td>\n",
              "      <td>326.2740</td>\n",
              "      <td>329.10</td>\n",
              "      <td>3476944.0</td>\n",
              "    </tr>\n",
              "    <tr>\n",
              "      <th>14</th>\n",
              "      <td>2018-03-07</td>\n",
              "      <td>325.44</td>\n",
              "      <td>332.50</td>\n",
              "      <td>321.7400</td>\n",
              "      <td>332.30</td>\n",
              "      <td>5007297.0</td>\n",
              "      <td>0.0</td>\n",
              "      <td>1.0</td>\n",
              "      <td>325.44</td>\n",
              "      <td>332.50</td>\n",
              "      <td>321.7400</td>\n",
              "      <td>332.30</td>\n",
              "      <td>5007297.0</td>\n",
              "    </tr>\n",
              "    <tr>\n",
              "      <th>15</th>\n",
              "      <td>2018-03-06</td>\n",
              "      <td>333.75</td>\n",
              "      <td>336.37</td>\n",
              "      <td>327.0300</td>\n",
              "      <td>328.20</td>\n",
              "      <td>4285744.0</td>\n",
              "      <td>0.0</td>\n",
              "      <td>1.0</td>\n",
              "      <td>333.75</td>\n",
              "      <td>336.37</td>\n",
              "      <td>327.0300</td>\n",
              "      <td>328.20</td>\n",
              "      <td>4285744.0</td>\n",
              "    </tr>\n",
              "    <tr>\n",
              "      <th>16</th>\n",
              "      <td>2018-03-05</td>\n",
              "      <td>332.39</td>\n",
              "      <td>337.75</td>\n",
              "      <td>329.2929</td>\n",
              "      <td>333.35</td>\n",
              "      <td>3823769.0</td>\n",
              "      <td>0.0</td>\n",
              "      <td>1.0</td>\n",
              "      <td>332.39</td>\n",
              "      <td>337.75</td>\n",
              "      <td>329.2929</td>\n",
              "      <td>333.35</td>\n",
              "      <td>3823769.0</td>\n",
              "    </tr>\n",
              "    <tr>\n",
              "      <th>17</th>\n",
              "      <td>2018-03-02</td>\n",
              "      <td>326.98</td>\n",
              "      <td>335.22</td>\n",
              "      <td>322.9700</td>\n",
              "      <td>335.12</td>\n",
              "      <td>5092829.0</td>\n",
              "      <td>0.0</td>\n",
              "      <td>1.0</td>\n",
              "      <td>326.98</td>\n",
              "      <td>335.22</td>\n",
              "      <td>322.9700</td>\n",
              "      <td>335.12</td>\n",
              "      <td>5092829.0</td>\n",
              "    </tr>\n",
              "    <tr>\n",
              "      <th>18</th>\n",
              "      <td>2018-03-01</td>\n",
              "      <td>345.01</td>\n",
              "      <td>348.67</td>\n",
              "      <td>330.0700</td>\n",
              "      <td>330.93</td>\n",
              "      <td>6885601.0</td>\n",
              "      <td>0.0</td>\n",
              "      <td>1.0</td>\n",
              "      <td>345.01</td>\n",
              "      <td>348.67</td>\n",
              "      <td>330.0700</td>\n",
              "      <td>330.93</td>\n",
              "      <td>6885601.0</td>\n",
              "    </tr>\n",
              "  </tbody>\n",
              "</table>\n",
              "</div>\n",
              "      <button class=\"colab-df-convert\" onclick=\"convertToInteractive('df-65e73518-eb56-424e-9d7d-ae69602d8baa')\"\n",
              "              title=\"Convert this dataframe to an interactive table.\"\n",
              "              style=\"display:none;\">\n",
              "        \n",
              "  <svg xmlns=\"http://www.w3.org/2000/svg\" height=\"24px\"viewBox=\"0 0 24 24\"\n",
              "       width=\"24px\">\n",
              "    <path d=\"M0 0h24v24H0V0z\" fill=\"none\"/>\n",
              "    <path d=\"M18.56 5.44l.94 2.06.94-2.06 2.06-.94-2.06-.94-.94-2.06-.94 2.06-2.06.94zm-11 1L8.5 8.5l.94-2.06 2.06-.94-2.06-.94L8.5 2.5l-.94 2.06-2.06.94zm10 10l.94 2.06.94-2.06 2.06-.94-2.06-.94-.94-2.06-.94 2.06-2.06.94z\"/><path d=\"M17.41 7.96l-1.37-1.37c-.4-.4-.92-.59-1.43-.59-.52 0-1.04.2-1.43.59L10.3 9.45l-7.72 7.72c-.78.78-.78 2.05 0 2.83L4 21.41c.39.39.9.59 1.41.59.51 0 1.02-.2 1.41-.59l7.78-7.78 2.81-2.81c.8-.78.8-2.07 0-2.86zM5.41 20L4 18.59l7.72-7.72 1.47 1.35L5.41 20z\"/>\n",
              "  </svg>\n",
              "      </button>\n",
              "      \n",
              "  <style>\n",
              "    .colab-df-container {\n",
              "      display:flex;\n",
              "      flex-wrap:wrap;\n",
              "      gap: 12px;\n",
              "    }\n",
              "\n",
              "    .colab-df-convert {\n",
              "      background-color: #E8F0FE;\n",
              "      border: none;\n",
              "      border-radius: 50%;\n",
              "      cursor: pointer;\n",
              "      display: none;\n",
              "      fill: #1967D2;\n",
              "      height: 32px;\n",
              "      padding: 0 0 0 0;\n",
              "      width: 32px;\n",
              "    }\n",
              "\n",
              "    .colab-df-convert:hover {\n",
              "      background-color: #E2EBFA;\n",
              "      box-shadow: 0px 1px 2px rgba(60, 64, 67, 0.3), 0px 1px 3px 1px rgba(60, 64, 67, 0.15);\n",
              "      fill: #174EA6;\n",
              "    }\n",
              "\n",
              "    [theme=dark] .colab-df-convert {\n",
              "      background-color: #3B4455;\n",
              "      fill: #D2E3FC;\n",
              "    }\n",
              "\n",
              "    [theme=dark] .colab-df-convert:hover {\n",
              "      background-color: #434B5C;\n",
              "      box-shadow: 0px 1px 3px 1px rgba(0, 0, 0, 0.15);\n",
              "      filter: drop-shadow(0px 1px 2px rgba(0, 0, 0, 0.3));\n",
              "      fill: #FFFFFF;\n",
              "    }\n",
              "  </style>\n",
              "\n",
              "      <script>\n",
              "        const buttonEl =\n",
              "          document.querySelector('#df-65e73518-eb56-424e-9d7d-ae69602d8baa button.colab-df-convert');\n",
              "        buttonEl.style.display =\n",
              "          google.colab.kernel.accessAllowed ? 'block' : 'none';\n",
              "\n",
              "        async function convertToInteractive(key) {\n",
              "          const element = document.querySelector('#df-65e73518-eb56-424e-9d7d-ae69602d8baa');\n",
              "          const dataTable =\n",
              "            await google.colab.kernel.invokeFunction('convertToInteractive',\n",
              "                                                     [key], {});\n",
              "          if (!dataTable) return;\n",
              "\n",
              "          const docLinkHtml = 'Like what you see? Visit the ' +\n",
              "            '<a target=\"_blank\" href=https://colab.research.google.com/notebooks/data_table.ipynb>data table notebook</a>'\n",
              "            + ' to learn more about interactive tables.';\n",
              "          element.innerHTML = '';\n",
              "          dataTable['output_type'] = 'display_data';\n",
              "          await google.colab.output.renderOutput(dataTable, element);\n",
              "          const docLink = document.createElement('div');\n",
              "          docLink.innerHTML = docLinkHtml;\n",
              "          element.appendChild(docLink);\n",
              "        }\n",
              "      </script>\n",
              "    </div>\n",
              "  </div>\n",
              "  "
            ]
          },
          "metadata": {},
          "execution_count": 55
        }
      ]
    },
    {
      "cell_type": "markdown",
      "source": [
        "# datetime 오브젝트를 인덱스로 지정\n",
        "##이유: 원하는 시간의 데이터를 바로 추출"
      ],
      "metadata": {
        "id": "wTbScd_yEhZb"
      }
    },
    {
      "cell_type": "code",
      "source": [
        "tesla.index = tesla['Date']\n",
        "print(tesla.index)"
      ],
      "metadata": {
        "colab": {
          "base_uri": "https://localhost:8080/"
        },
        "id": "eseTj0LEEqzt",
        "outputId": "bf326045-c5de-4169-e80b-159237c5301d"
      },
      "execution_count": 56,
      "outputs": [
        {
          "output_type": "stream",
          "name": "stdout",
          "text": [
            "DatetimeIndex(['2018-03-27', '2018-03-26', '2018-03-23', '2018-03-22',\n",
            "               '2018-03-21', '2018-03-20', '2018-03-19', '2018-03-16',\n",
            "               '2018-03-15', '2018-03-14',\n",
            "               ...\n",
            "               '2017-10-24', '2017-10-23', '2017-10-20', '2017-10-19',\n",
            "               '2017-10-18', '2017-10-17', '2017-10-16', '2017-10-13',\n",
            "               '2017-10-12', '2017-10-11'],\n",
            "              dtype='datetime64[ns]', name='Date', length=114, freq=None)\n"
          ]
        }
      ]
    },
    {
      "cell_type": "code",
      "source": [
        "#datetime 오브젝트를 인덱스로 지정했을 때, 데이터추출하는 방법\n",
        "#1. 2018년 데이터 뽑고, 5개 행 5개 열 뽑아라.\n",
        "print(tesla['2018'].iloc[:5,:5]) "
      ],
      "metadata": {
        "colab": {
          "base_uri": "https://localhost:8080/"
        },
        "id": "Je6ybXFhFzTb",
        "outputId": "231b818a-184a-4f0b-9484-943e61ee27e3"
      },
      "execution_count": 59,
      "outputs": [
        {
          "output_type": "stream",
          "name": "stdout",
          "text": [
            "                 Date    Open    High     Low   Close\n",
            "Date                                                 \n",
            "2018-03-27 2018-03-27  304.00  304.27  277.18  279.18\n",
            "2018-03-26 2018-03-26  307.34  307.59  291.36  304.18\n",
            "2018-03-23 2018-03-23  311.25  311.61  300.45  301.54\n",
            "2018-03-22 2018-03-22  313.89  318.82  308.18  309.10\n",
            "2018-03-21 2018-03-21  310.25  322.44  310.19  316.53\n"
          ]
        },
        {
          "output_type": "stream",
          "name": "stderr",
          "text": [
            "/usr/local/lib/python3.7/dist-packages/ipykernel_launcher.py:3: FutureWarning: Indexing a DataFrame with a datetimelike index using a single string to slice the rows, like `frame[string]`, is deprecated and will be removed in a future version. Use `frame.loc[string]` instead.\n",
            "  This is separate from the ipykernel package so we can avoid doing imports until\n"
          ]
        }
      ]
    },
    {
      "cell_type": "code",
      "source": [
        "#tesla 데이터 프레임의 Date 열에서 dt중 년도만 뽑음\n",
        "#그리고, 년도의 갯수를 셈\n",
        "tesla.Date.dt.year.value_counts()"
      ],
      "metadata": {
        "colab": {
          "base_uri": "https://localhost:8080/"
        },
        "id": "u6mtaLjgGly7",
        "outputId": "8ef37ccc-ae94-4e66-9057-77ca72a9f818"
      },
      "execution_count": 72,
      "outputs": [
        {
          "output_type": "execute_result",
          "data": {
            "text/plain": [
              "2018    59\n",
              "2017    55\n",
              "Name: Date, dtype: int64"
            ]
          },
          "metadata": {},
          "execution_count": 72
        }
      ]
    },
    {
      "cell_type": "markdown",
      "source": [],
      "metadata": {
        "id": "WJtROJKRHTUA"
      }
    },
    {
      "cell_type": "code",
      "source": [
        "#2018년 6월의 데이터 추출\n",
        "#모든 행 다 뽑고 열은 4개 추출\n",
        "print(tesla['2018-01'].iloc[:,:5])"
      ],
      "metadata": {
        "colab": {
          "base_uri": "https://localhost:8080/"
        },
        "id": "WMyjTPNhGF2D",
        "outputId": "f00aafcd-55d2-4c45-c783-575287a1f172"
      },
      "execution_count": 61,
      "outputs": [
        {
          "output_type": "stream",
          "name": "stdout",
          "text": [
            "                 Date    Open      High      Low     Close\n",
            "Date                                                      \n",
            "2018-01-31 2018-01-31  347.51  356.1900  345.190  354.4200\n",
            "2018-01-30 2018-01-30  345.14  348.2700  342.170  345.8200\n",
            "2018-01-29 2018-01-29  339.85  350.8500  338.280  349.5300\n",
            "2018-01-26 2018-01-26  341.50  344.0000  335.710  342.8500\n",
            "2018-01-25 2018-01-25  348.27  349.2000  336.400  337.6400\n",
            "2018-01-24 2018-01-24  354.58  354.7500  343.520  345.7404\n",
            "2018-01-23 2018-01-23  360.00  360.5000  351.000  352.7900\n",
            "2018-01-22 2018-01-22  349.40  357.8300  349.200  351.5600\n",
            "2018-01-19 2018-01-19  345.00  350.5899  342.600  350.0200\n",
            "2018-01-18 2018-01-18  345.67  352.3000  343.740  344.5700\n",
            "2018-01-17 2018-01-17  340.47  349.0000  339.750  347.1600\n",
            "2018-01-16 2018-01-16  337.54  345.0000  334.800  340.0600\n",
            "2018-01-12 2018-01-12  338.63  340.4100  333.670  336.2200\n",
            "2018-01-11 2018-01-11  335.24  344.8099  333.260  337.9500\n",
            "2018-01-10 2018-01-10  332.20  337.0000  330.000  334.8000\n",
            "2018-01-09 2018-01-09  335.16  338.8000  327.405  333.6900\n",
            "2018-01-08 2018-01-08  316.00  337.0199  315.500  336.4100\n",
            "2018-01-05 2018-01-05  316.62  317.2400  312.000  316.5800\n",
            "2018-01-04 2018-01-04  312.87  318.5500  305.680  314.6200\n",
            "2018-01-03 2018-01-03  321.00  325.2500  315.550  317.2500\n",
            "2018-01-02 2018-01-02  312.00  322.1099  311.000  320.5300\n"
          ]
        },
        {
          "output_type": "stream",
          "name": "stderr",
          "text": [
            "/usr/local/lib/python3.7/dist-packages/ipykernel_launcher.py:3: FutureWarning: Indexing a DataFrame with a datetimelike index using a single string to slice the rows, like `frame[string]`, is deprecated and will be removed in a future version. Use `frame.loc[string]` instead.\n",
            "  This is separate from the ipykernel package so we can avoid doing imports until\n"
          ]
        }
      ]
    },
    {
      "cell_type": "markdown",
      "source": [
        "# 시간 간격과 인덱스 -TimedeltaIndex\n",
        "#### datetime 오브젝트를 인덱스로 지정하는 것이 아닌 시간간격을 인덱스로 지정"
      ],
      "metadata": {
        "id": "KLeknye0HSMc"
      }
    },
    {
      "cell_type": "code",
      "source": [
        "#Date 열에서 Date 열의 최솟값을 빼면 데이터를 수집한 이후 시간이 얼마나 흘렀는지 계산\n",
        "\n",
        "#Date 열에서 Date 열의 최솟값 뺀 것 -> ref_date 열 추가\n",
        "tesla['ref_date'] = tesla['Date']-tesla['Date'].min()\n",
        "print(tesla.head())"
      ],
      "metadata": {
        "colab": {
          "base_uri": "https://localhost:8080/"
        },
        "id": "xfAoSU89HumR",
        "outputId": "99aed182-489f-4e4c-80fc-02bcc39f5746"
      },
      "execution_count": 73,
      "outputs": [
        {
          "output_type": "stream",
          "name": "stdout",
          "text": [
            "                 Date    Open    High     Low   Close      Volume  ExDividend  \\\n",
            "Date                                                                            \n",
            "2018-03-27 2018-03-27  304.00  304.27  277.18  279.18  13696168.0         0.0   \n",
            "2018-03-26 2018-03-26  307.34  307.59  291.36  304.18   8324639.0         0.0   \n",
            "2018-03-23 2018-03-23  311.25  311.61  300.45  301.54   6600538.0         0.0   \n",
            "2018-03-22 2018-03-22  313.89  318.82  308.18  309.10   4914307.0         0.0   \n",
            "2018-03-21 2018-03-21  310.25  322.44  310.19  316.53   5927881.0         0.0   \n",
            "\n",
            "            SplitRatio  AdjOpen  AdjHigh  AdjLow  AdjClose   AdjVolume  \\\n",
            "Date                                                                     \n",
            "2018-03-27         1.0   304.00   304.27  277.18    279.18  13696168.0   \n",
            "2018-03-26         1.0   307.34   307.59  291.36    304.18   8324639.0   \n",
            "2018-03-23         1.0   311.25   311.61  300.45    301.54   6600538.0   \n",
            "2018-03-22         1.0   313.89   318.82  308.18    309.10   4914307.0   \n",
            "2018-03-21         1.0   310.25   322.44  310.19    316.53   5927881.0   \n",
            "\n",
            "           ref_date  \n",
            "Date                 \n",
            "2018-03-27 167 days  \n",
            "2018-03-26 166 days  \n",
            "2018-03-23 163 days  \n",
            "2018-03-22 162 days  \n",
            "2018-03-21 161 days  \n"
          ]
        }
      ]
    },
    {
      "cell_type": "code",
      "source": [
        "#ref_date 열 인덱스 지정\n",
        "tesla.index = tesla['ref_date']\n",
        "print(tesla.iloc[:5,:5])\n",
        "#인덱스 열 제외 행 5개 열 5개 추출"
      ],
      "metadata": {
        "colab": {
          "base_uri": "https://localhost:8080/"
        },
        "id": "6aMj5_LCI9Hf",
        "outputId": "f53f4fca-e884-4bc4-abc0-e02c4ab9271e"
      },
      "execution_count": 75,
      "outputs": [
        {
          "output_type": "stream",
          "name": "stdout",
          "text": [
            "               Date    Open    High     Low   Close\n",
            "ref_date                                           \n",
            "167 days 2018-03-27  304.00  304.27  277.18  279.18\n",
            "166 days 2018-03-26  307.34  307.59  291.36  304.18\n",
            "163 days 2018-03-23  311.25  311.61  300.45  301.54\n",
            "162 days 2018-03-22  313.89  318.82  308.18  309.10\n",
            "161 days 2018-03-21  310.25  322.44  310.19  316.53\n"
          ]
        }
      ]
    },
    {
      "cell_type": "code",
      "source": [
        "#데이터 수집 이후, 최초 5일의 데이터 추출\n",
        "# '5 days' 에 : 붙이면 0days 부터 5days 까지 인덱싱 해줌.\n",
        "print(tesla['5 days':].iloc[:5, :5])"
      ],
      "metadata": {
        "colab": {
          "base_uri": "https://localhost:8080/"
        },
        "id": "oBug_iWBJNl2",
        "outputId": "79dd9436-a96d-4aac-daac-515e3c669042"
      },
      "execution_count": 77,
      "outputs": [
        {
          "output_type": "stream",
          "name": "stdout",
          "text": [
            "               Date    Open    High     Low   Close\n",
            "ref_date                                           \n",
            "5 days   2017-10-16  353.76  354.48  347.16  350.60\n",
            "2 days   2017-10-13  356.98  358.49  353.68  355.57\n",
            "1 days   2017-10-12  352.95  359.78  352.64  355.68\n",
            "0 days   2017-10-11  353.89  357.60  351.15  354.60\n"
          ]
        }
      ]
    },
    {
      "cell_type": "markdown",
      "source": [
        "# 시간 범위와 인덱스\n",
        "#### 특정 일에 누락된 데이터도 포함시켜 데이터 살펴보기."
      ],
      "metadata": {
        "id": "jyox4ZYFK-gP"
      }
    },
    {
      "cell_type": "code",
      "source": [
        "ebola=pd.read_csv('/content/country_timeseries.csv', parse_dates=[0])\n",
        "print(ebola.iloc[:5,:5])\n",
        "#2015년 1월 1일 자료 누락됨\n",
        "\n",
        "print(ebola.iloc[-5:, :5])\n",
        "#2014년 3월 23일 자료 누락됨"
      ],
      "metadata": {
        "colab": {
          "base_uri": "https://localhost:8080/"
        },
        "id": "GoPq7hGvL74A",
        "outputId": "3f108cbf-0d18-4d96-ac67-f7c06efbdcdb"
      },
      "execution_count": 91,
      "outputs": [
        {
          "output_type": "stream",
          "name": "stdout",
          "text": [
            "        Date  Day  Cases_Guinea  Cases_Liberia  Cases_SierraLeone\n",
            "0 2015-01-05  289        2776.0            NaN            10030.0\n",
            "1 2015-01-04  288        2775.0            NaN             9780.0\n",
            "2 2015-01-03  287        2769.0         8166.0             9722.0\n",
            "3 2015-01-02  286           NaN         8157.0                NaN\n",
            "4 2014-12-31  284        2730.0         8115.0             9633.0\n",
            "          Date  Day  Cases_Guinea  Cases_Liberia  Cases_SierraLeone\n",
            "117 2014-03-27    5         103.0            8.0                6.0\n",
            "118 2014-03-26    4          86.0            NaN                NaN\n",
            "119 2014-03-25    3          86.0            NaN                NaN\n",
            "120 2014-03-24    2          86.0            NaN                NaN\n",
            "121 2014-03-22    0          49.0            NaN                NaN\n"
          ]
        }
      ]
    },
    {
      "cell_type": "code",
      "source": [
        "#date_range 메서드 사용 (2014-12-31일부터 2015년-01-05 사이의 시간 인덱스 생성 datetimeIndex 생성)\n",
        "head_range = pd.date_range(start='2014-12-31', end='2015-01-05')\n",
        "print(head_range)"
      ],
      "metadata": {
        "colab": {
          "base_uri": "https://localhost:8080/"
        },
        "id": "A-4JUH3HMwcV",
        "outputId": "35e7b2f5-749c-439a-c8d2-f479ac314593"
      },
      "execution_count": 93,
      "outputs": [
        {
          "output_type": "stream",
          "name": "stdout",
          "text": [
            "DatetimeIndex(['2014-12-31', '2015-01-01', '2015-01-02', '2015-01-03',\n",
            "               '2015-01-04', '2015-01-05'],\n",
            "              dtype='datetime64[ns]', freq='D')\n"
          ]
        }
      ]
    },
    {
      "cell_type": "code",
      "source": [
        "ebola_5 = ebola.head()\n",
        "ebola_5.index = ebola_5['Date'] #Date 열 인덱스로 먼저 지정\n",
        "ebola_5.reindex(head_range) #주피터 누트북에 실행결과 바로 낱남.\n",
        "print(ebola_5.iloc[:5, :5])"
      ],
      "metadata": {
        "colab": {
          "base_uri": "https://localhost:8080/"
        },
        "id": "cMSGujOlNguk",
        "outputId": "9b586b7f-9311-4bff-c440-7fce9d55dfaf"
      },
      "execution_count": 95,
      "outputs": [
        {
          "output_type": "stream",
          "name": "stdout",
          "text": [
            "                 Date  Day  Cases_Guinea  Cases_Liberia  Cases_SierraLeone\n",
            "Date                                                                      \n",
            "2015-01-05 2015-01-05  289        2776.0            NaN            10030.0\n",
            "2015-01-04 2015-01-04  288        2775.0            NaN             9780.0\n",
            "2015-01-03 2015-01-03  287        2769.0         8166.0             9722.0\n",
            "2015-01-02 2015-01-02  286           NaN         8157.0                NaN\n",
            "2014-12-31 2014-12-31  284        2730.0         8115.0             9633.0\n"
          ]
        }
      ]
    }
  ]
}