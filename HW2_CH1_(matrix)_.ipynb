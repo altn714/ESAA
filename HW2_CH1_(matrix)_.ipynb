{
  "nbformat": 4,
  "nbformat_minor": 0,
  "metadata": {
    "kernelspec": {
      "display_name": "Python 3",
      "language": "python",
      "name": "python3"
    },
    "language_info": {
      "codemirror_mode": {
        "name": "ipython",
        "version": 3
      },
      "file_extension": ".py",
      "mimetype": "text/x-python",
      "name": "python",
      "nbconvert_exporter": "python",
      "pygments_lexer": "ipython3",
      "version": "3.7.3"
    },
    "colab": {
      "provenance": [],
      "include_colab_link": true
    }
  },
  "cells": [
    {
      "cell_type": "markdown",
      "metadata": {
        "id": "view-in-github",
        "colab_type": "text"
      },
      "source": [
        "<a href=\"https://colab.research.google.com/github/altn714/ESAA/blob/main/HW2_CH1_(matrix)_.ipynb\" target=\"_parent\"><img src=\"https://colab.research.google.com/assets/colab-badge.svg\" alt=\"Open In Colab\"/></a>"
      ]
    },
    {
      "cell_type": "markdown",
      "metadata": {
        "id": "WBxjR-qPElMU"
      },
      "source": [
        "# **Homework 2: Chapter 1 (Matrix)**\n"
      ]
    },
    {
      "cell_type": "code",
      "source": [
        "import numpy as np"
      ],
      "metadata": {
        "id": "TtkPy8xyChM6"
      },
      "execution_count": 13,
      "outputs": []
    },
    {
      "cell_type": "markdown",
      "metadata": {
        "id": "IBYcZUh3ElMU"
      },
      "source": [
        "\n",
        "\n",
        "### **Python 1**. \n",
        "Write a function which takes an input parameter $A$, $i$ and $j$ and returns the dot product of the $i$th and $j$th row (indexing starts at 0).\n",
        "\n",
        "A,i,j를 인자, i행과 j행의 dot product(내적) 반환하는 함수 만들기\n",
        "https://jimmy-ai.tistory.com/75"
      ]
    },
    {
      "cell_type": "markdown",
      "source": [
        "**np.dot**\n",
        "하나의 변수 A\n",
        "<해당됨>: 차원이 서로 동일\n",
        "- 벡터(1차원) x 벡터(1차원):벡터 곱 (원래 벡터@ 원래 벡터) 그리고 내적 동일\n",
        "- 행렬 (2차원) X 행렬 (2차원)  -> 2차원 행렬 곱 (A[i]@A[j]) 그리고 내적 동일\n",
        "\n",
        "<해당 X> : 하나의 A에서 행 추출이기 때문, A 내 차원 동일\n",
        "- n차원 x scalar \n",
        "- n차원 X 1차원 \n",
        "- n차원 X m차원"
      ],
      "metadata": {
        "id": "uz7zZMQUHsk-"
      }
    },
    {
      "cell_type": "code",
      "source": [
        "#1차원 내적 곱 계산 법\n",
        "A1 = np.array([1,2,3])\n",
        "#print(A1.ndim) #1차원\n",
        "#print(A1.shape) #1차원에서 3행 1열\n",
        "##EX) A1_2 = np.array([[1,2,3]]); print(A1_2.shape) #2차원에서 1행 3열\n",
        "\n",
        "print(A1[0]*A1[0]+A1[1]*A1[1]+A1[2]*A1[2])\n",
        "print(A1@A1) \n",
        "print(np.dot(A1,A1)) #맞는 답(확인용)\n",
        "\n",
        "##결론: 1차원일 때, 행 추출은 안됨 그냥 벡터 전체와 벡터 전체 곱해야 내적 곱 나옴\n",
        "## A1@A1 = np.dot(A1,A1)\n",
        "\n",
        "def My_dot_1dim(A,i,j):\n",
        "  temp=0\n",
        "  temp=A@A\n",
        "  return(temp)\n",
        "\n",
        "#My_dot_1dim(A1,1,2)\n",
        "#My_dot_1dim(A1,0,2)"
      ],
      "metadata": {
        "colab": {
          "base_uri": "https://localhost:8080/",
          "height": 0
        },
        "id": "qh2dMwd_OFox",
        "outputId": "51fc42de-400b-46c7-c3f1-5d6d86f0c485"
      },
      "execution_count": 14,
      "outputs": [
        {
          "output_type": "stream",
          "name": "stdout",
          "text": [
            "14\n",
            "14\n",
            "14\n"
          ]
        }
      ]
    },
    {
      "cell_type": "code",
      "source": [
        "#2차원 내적 곱은 행렬 계산과 동일\n",
        "A2 = np.array([[1,2,3],[4,5,6],[7,8,9]])\n",
        "print(A2.shape)\n",
        "\n",
        "print(A2[0]@A2[1])\n",
        "print(np.dot(A2[0],A2[1]))\n",
        "\n",
        "print(A2[1]@A2[2])\n",
        "print(np.dot(A2[1],A2[2]))\n",
        "\n",
        "#A[i]@A[j] = np.dot(A[i],A[j])"
      ],
      "metadata": {
        "colab": {
          "base_uri": "https://localhost:8080/",
          "height": 0
        },
        "id": "GGYe7IbQTMXI",
        "outputId": "2f738aa9-4b93-4f96-b23f-82ee298e059f"
      },
      "execution_count": 15,
      "outputs": [
        {
          "output_type": "stream",
          "name": "stdout",
          "text": [
            "(3, 3)\n",
            "32\n",
            "32\n",
            "122\n",
            "122\n"
          ]
        }
      ]
    },
    {
      "cell_type": "code",
      "source": [
        "def MY_dot(A,i,j):\n",
        "  temp=0 #초기값\n",
        "  if A.ndim ==1: #A가 1차원\n",
        "     if i==1 & j==1: ##질문: 왜 1인가요?\n",
        "       temp=A@A\n",
        "  else: #A가 2차원\n",
        "    temp=A[i]@A[j]\n",
        "  return(temp)\n",
        "\n",
        "print(MY_dot(A1,1,1))\n",
        "print(MY_dot(A2,0,1))\n",
        "print(MY_dot(A2,1,2))\n",
        "\n",
        "print(np.dot(A1,A1))\n",
        "print(np.dot(A2[0],A2[1]))\n",
        "print(np.dot(A2[1],A2[2]))\n",
        "\n",
        "#결과 동일"
      ],
      "metadata": {
        "id": "yb0yDWMBwQ_d",
        "colab": {
          "base_uri": "https://localhost:8080/",
          "height": 0
        },
        "outputId": "e578bda8-54d0-4283-d382-8e31412b72a8"
      },
      "execution_count": 16,
      "outputs": [
        {
          "output_type": "stream",
          "name": "stdout",
          "text": [
            "14\n",
            "32\n",
            "122\n",
            "14\n",
            "32\n",
            "122\n"
          ]
        }
      ]
    },
    {
      "cell_type": "markdown",
      "source": [
        "### **Python 2.**\n",
        "Compute the matrix equation $AB + 2B^2 - I$ for matrices $A = \\begin{bmatrix} 3 & 4 \\\\\\ -1 & 2 \\end{bmatrix}$ and $B = \\begin{bmatrix} 5 & 2 \\\\\\ 8 & -3 \\end{bmatrix}$.              "
      ],
      "metadata": {
        "id": "SbYZBL6PvqGp"
      }
    },
    {
      "cell_type": "code",
      "source": [
        "#행렬 정의\n",
        "A=np.array([[3,4],[-1,2]])\n",
        "B=np.array([[5,2],[8,-3]])\n",
        "I=np.eye(2)\n",
        "\n",
        "print(I)\n",
        "print(A@B + 2*B@B - I)"
      ],
      "metadata": {
        "id": "JOJ6t72owQpm",
        "colab": {
          "base_uri": "https://localhost:8080/",
          "height": 0
        },
        "outputId": "65a91b0c-313b-4595-8603-92ca08d6c9f5"
      },
      "execution_count": 17,
      "outputs": [
        {
          "output_type": "stream",
          "name": "stdout",
          "text": [
            "[[1. 0.]\n",
            " [0. 1.]]\n",
            "[[128.   2.]\n",
            " [ 43.  41.]]\n"
          ]
        }
      ]
    },
    {
      "cell_type": "markdown",
      "source": [
        "### **Python 3.**\n",
        "\n",
        " For a given $n\\times n$ matrix $A=(a_{i,i})$, write Python function to calculate the sum of the other direction diagonal elements defined as follows\n",
        "\n",
        "$$\\sum\\limits_{i=1}^{n}a_{n-i+1,i}.$$\n",
        "Try the function with \n",
        "$$A = \\begin{bmatrix} 5 & 2 & 3 \\\\\\ 8 & -3 & 4 \\\\\\ 8 & -3 & 4 \\end{bmatrix}$$\n",
        "and\n",
        "$$B = \\begin{bmatrix} 51 & 4 & 0 & 0 \\\\\\ 2 & -1 & 5 & 1\\\\\\ 1 & -1 & 1 & 1 \\\\\\ 1 & -1 & 1 & 1 \\end{bmatrix}.$$"
      ],
      "metadata": {
        "id": "oup6pKNjvu66"
      }
    },
    {
      "cell_type": "markdown",
      "source": [
        "- A행렬 (nxn) \n",
        "- 다음과 같이 정의된 '역대각선 원소의 누적합' 함수 코드"
      ],
      "metadata": {
        "id": "gGgSLZEgh184"
      }
    },
    {
      "cell_type": "code",
      "source": [
        "#행렬 A, n=3, 밑 행부터 더함 \n",
        "\n",
        "##선형대 수학\n",
        "#i=1,(3-1+1,1) 8 , A[3][1]\n",
        "#i=2,(3-2+1,2) -3 , A[2][2]\n",
        "#i=3,(3-3+1,3) 3 , A[1][3]\n",
        "\n",
        "##일반화\n",
        "#A[(n-i+1)][i] \n",
        "\n",
        "##파이썬 코드\n",
        "A=np.array([[5,2,3],[8,-3,4],[8,-3,4]])\n",
        "#i=0 A[2][0] #8\n",
        "#i=1 A[1][1] #-3\n",
        "#i=2 A[0][2] #3\n"
      ],
      "metadata": {
        "id": "C5DK-MaljQTJ"
      },
      "execution_count": 18,
      "outputs": []
    },
    {
      "cell_type": "code",
      "source": [
        "def sum_other_diag(A):\n",
        "  temp=0 #초기값\n",
        "  n=len(A) #행 갯수\n",
        "  for i in range(n):\n",
        "    temp += A[n-1-i][i] #밑 행부터 더한 역대각선 원소의 누적합\n",
        "  print(temp)"
      ],
      "metadata": {
        "id": "BSJeM3dFgKbE"
      },
      "execution_count": 19,
      "outputs": []
    },
    {
      "cell_type": "code",
      "source": [
        "A=np.array([[5,2,3],[8,-3,4],[8,-3,4]])\n",
        "sum_other_diag(A)\n",
        "print(8-3+3)\n",
        "\n",
        "B=np.array([[51,4,0,0],[2,-1,5,1],[1,-1,1,1],[1,-1,1,1]])\n",
        "sum_other_diag(B)\n",
        "print(1-1+5+0)"
      ],
      "metadata": {
        "colab": {
          "base_uri": "https://localhost:8080/",
          "height": 0
        },
        "id": "8TNLY2iEi33w",
        "outputId": "ecff6f77-67d1-4b7d-ea2d-32a39d1ee832"
      },
      "execution_count": 20,
      "outputs": [
        {
          "output_type": "stream",
          "name": "stdout",
          "text": [
            "8\n",
            "8\n",
            "5\n",
            "5\n"
          ]
        }
      ]
    }
  ]
}