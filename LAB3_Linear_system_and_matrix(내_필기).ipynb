{
  "nbformat": 4,
  "nbformat_minor": 0,
  "metadata": {
    "kernelspec": {
      "display_name": "Python 3",
      "language": "python",
      "name": "python3"
    },
    "language_info": {
      "codemirror_mode": {
        "name": "ipython",
        "version": 3
      },
      "file_extension": ".py",
      "mimetype": "text/x-python",
      "name": "python",
      "nbconvert_exporter": "python",
      "pygments_lexer": "ipython3",
      "version": "3.7.3"
    },
    "colab": {
      "provenance": [],
      "include_colab_link": true
    }
  },
  "cells": [
    {
      "cell_type": "markdown",
      "metadata": {
        "id": "view-in-github",
        "colab_type": "text"
      },
      "source": [
        "<a href=\"https://colab.research.google.com/github/altn714/ESAA/blob/main/LAB3_Linear_system_and_matrix(%EB%82%B4_%ED%95%84%EA%B8%B0).ipynb\" target=\"_parent\"><img src=\"https://colab.research.google.com/assets/colab-badge.svg\" alt=\"Open In Colab\"/></a>"
      ]
    },
    {
      "cell_type": "markdown",
      "metadata": {
        "id": "WDujeQQJHi3w"
      },
      "source": [
        "# Chapter 3: Linear System and Matrix"
      ]
    },
    {
      "cell_type": "markdown",
      "metadata": {
        "id": "GmwswtEXtDJQ"
      },
      "source": [
        "# Solving Linear Systems"
      ]
    },
    {
      "cell_type": "code",
      "source": [
        "#inverse로 해 풀기\n",
        "import numpy as np\n",
        "A = np.array([[1,2,1], [1,-2,1], [2,3,-1]])\n",
        "b = np.array( [ [4], [5], [1.0]   ])\n",
        "print(A) \n",
        "print(b)\n",
        "\n",
        "detA=np.linalg.det(A) #det 0아님\n",
        "\n",
        "#해 구하기\n",
        "x = np.linalg.inv(A) @ b\n",
        "print(x)"
      ],
      "metadata": {
        "colab": {
          "base_uri": "https://localhost:8080/"
        },
        "id": "kLtCKmXUiTa9",
        "outputId": "b4984c6c-3b5a-4873-88cb-c22c613a1450"
      },
      "execution_count": 14,
      "outputs": [
        {
          "output_type": "stream",
          "name": "stdout",
          "text": [
            "[[ 1  2  1]\n",
            " [ 1 -2  1]\n",
            " [ 2  3 -1]]\n",
            "[[4.]\n",
            " [5.]\n",
            " [1.]]\n",
            "[[ 2.08333333]\n",
            " [-0.25      ]\n",
            " [ 2.41666667]]\n"
          ]
        }
      ]
    },
    {
      "cell_type": "code",
      "source": [
        "#cramer's rule\n",
        "A1 = np.array([[4,2,1], [5,-2,1], [1,3,-1]])\n",
        "print(A1)\n",
        "\n",
        "x1 = 1/detA * np.linalg.det(A1)\n",
        "print(x1)"
      ],
      "metadata": {
        "id": "Hw3gy-Z0ii_O",
        "colab": {
          "base_uri": "https://localhost:8080/"
        },
        "outputId": "5c8d004c-307a-4d14-f831-ead0ce6b52cb"
      },
      "execution_count": 13,
      "outputs": [
        {
          "output_type": "stream",
          "name": "stdout",
          "text": [
            "[[ 4  2  1]\n",
            " [ 5 -2  1]\n",
            " [ 1  3 -1]]\n",
            "2.083333333333332\n"
          ]
        }
      ]
    },
    {
      "cell_type": "code",
      "source": [
        "#HW3-2 2번 \n",
        "A=np.array([[2,1,1],[1,3,-2],[7,-6,1]])\n",
        "print(A)\n",
        "b1=np.array([[4],[2],[2]])\n",
        "#또는 \n",
        "b2=np.array([[4,2,2]]).T\n",
        "print(b1)\n",
        "print(b2)\n",
        "\n",
        "print(np.linalg.det(A)) #0아님\n",
        "\n",
        "#inverse\n",
        "x= np.linalg.inv(A)@b\n",
        "print(x)\n",
        "\n",
        "#cramer's rule\n",
        "A1=np.array([[4,1,1],[2,3,-2],[2,-6,1]])\n",
        "print(np.linalg.det(A1)/np.linalg.det(A)) #x1\n",
        "\n",
        "A2=np.array([[2,4,1],[1,2,-2],[7,2,1]])\n",
        "print(np.linalg.det(A2)/np.linalg.det(A)) #x2\n",
        "\n",
        "A3=np.array([[2,1,4],[1,3,2],[7,-6,2]])\n",
        "print(np.linalg.det(A3)/np.linalg.det(A)) #x3"
      ],
      "metadata": {
        "colab": {
          "base_uri": "https://localhost:8080/"
        },
        "id": "TTBM_M0iWqoK",
        "outputId": "1fec54e2-d6d5-462d-ade1-8f3610a4b210"
      },
      "execution_count": 38,
      "outputs": [
        {
          "output_type": "stream",
          "name": "stdout",
          "text": [
            "[[ 2  1  1]\n",
            " [ 1  3 -2]\n",
            " [ 7 -6  1]]\n",
            "[[4]\n",
            " [2]\n",
            " [2]]\n",
            "[[4]\n",
            " [2]\n",
            " [2]]\n",
            "-59.999999999999986\n",
            "[1. 1. 1.]\n",
            "1.0\n",
            "1.0\n",
            "1.0\n"
          ]
        }
      ]
    },
    {
      "cell_type": "code",
      "source": [
        "#A 쉽게 인덱싱\n",
        "A1[:,0]=np.array([4,2,2]) #차원 하나 줄어들게 slicing됨\n",
        "A1[:,0:1]=np.array([[4],\n",
        "                    [2],\n",
        "                    [2]])\n",
        "\n",
        "A1==A1"
      ],
      "metadata": {
        "colab": {
          "base_uri": "https://localhost:8080/"
        },
        "id": "aoXo61Y2goPW",
        "outputId": "cd448868-6188-42cb-c1bb-d52d5978219e"
      },
      "execution_count": 33,
      "outputs": [
        {
          "output_type": "execute_result",
          "data": {
            "text/plain": [
              "array([[ True,  True,  True],\n",
              "       [ True,  True,  True],\n",
              "       [ True,  True,  True]])"
            ]
          },
          "metadata": {},
          "execution_count": 33
        }
      ]
    },
    {
      "cell_type": "code",
      "source": [
        "A1[:,1:2]=np.array([[4],\n",
        "                    [2],\n",
        "                    [2]])\n",
        "A1"
      ],
      "metadata": {
        "id": "vBlCx8OJhcuQ"
      },
      "execution_count": null,
      "outputs": []
    },
    {
      "cell_type": "code",
      "source": [
        "A1[:,2:]=np.array([[4],\n",
        "                    [2],\n",
        "                    [2]])\n",
        "A1"
      ],
      "metadata": {
        "id": "acFwAO2vhg3N"
      },
      "execution_count": null,
      "outputs": []
    },
    {
      "cell_type": "code",
      "metadata": {
        "id": "TOybqnmUtDJU"
      },
      "source": [
        "import numpy as np\n",
        "import matplotlib.pyplot as plt\n",
        "import scipy.linalg as la\n",
        "%matplotlib inline"
      ],
      "execution_count": null,
      "outputs": []
    },
    {
      "cell_type": "markdown",
      "metadata": {
        "id": "KVgfmYLktDJV"
      },
      "source": [
        "## Linear Systems\n",
        "\n",
        "A [linear system of equations](https://en.wikipedia.org/wiki/System_of_linear_equations) is a collection of linear equations\n",
        "\n",
        "\\begin{align}\n",
        "a_{0,0}x_0 + a_{0,1}x_2 + \\cdots + a_{0,n}x_n & = b_0 \\\\\\\n",
        "a_{1,0}x_0 + a_{1,1}x_2 + \\cdots + a_{1,n}x_n & = b_1 \\\\\\\n",
        "& \\vdots \\\\\\\n",
        "a_{m,0}x_0 + a_{m,1}x_2 + \\cdots + a_{m,n}x_n & = b_m \\\\\\\n",
        "\\end{align}\n",
        "\n",
        "In matrix notation, a linear system is $A \\mathbf{x}= \\mathbf{b}$ where\n",
        "\n",
        "$$\n",
        "A = \\begin{bmatrix}\n",
        "a_{0,0} & a_{0,1} & \\cdots & a_{0,n} \\\\\\\n",
        "a_{1,0} & a_{1,1} & \\cdots & a_{1,n} \\\\\\\n",
        "\\vdots & & & \\vdots \\\\\\\n",
        "a_{m,0} & a_{m,1} & \\cdots & a_{m,n} \\\\\\\n",
        "\\end{bmatrix}\n",
        " \\ \\ , \\ \\\n",
        "\\mathbf{x} = \\begin{bmatrix}\n",
        "x_0 \\\\\\ x_1 \\\\\\ \\vdots \\\\\\ x_n\n",
        "\\end{bmatrix}\n",
        " \\ \\ , \\ \\\n",
        "\\mathbf{b} = \\begin{bmatrix}\n",
        "b_0 \\\\\\ b_1 \\\\\\ \\vdots \\\\\\ b_m\n",
        "\\end{bmatrix} \n",
        "$$"
      ]
    },
    {
      "cell_type": "markdown",
      "metadata": {
        "id": "Lkk0K9jAtDJW"
      },
      "source": [
        "## Gaussian elimination\n",
        "\n",
        "The general procedure to solve a linear system of equation is called [Gaussian elimination](https://en.wikipedia.org/wiki/Gaussian_elimination). The idea is to perform elementary row operations to reduce the system to its row echelon form and then solve."
      ]
    },
    {
      "cell_type": "code",
      "source": [],
      "metadata": {
        "id": "eLG9fHqmwOGg"
      },
      "execution_count": null,
      "outputs": []
    },
    {
      "cell_type": "markdown",
      "metadata": {
        "id": "oA_38YhitDJW"
      },
      "source": [
        "### Elementary Row Operations\n",
        "\n",
        "[Elementary row operations](https://en.wikipedia.org/wiki/Elementary_matrix#Elementary_row_operations) include:\n",
        "\n",
        "1. Add $k$ times row $j$ to row $i$.\n",
        "2. Multiply row $i$ by scalar $k$.\n",
        "3. Switch rows $i$ and $j$.\n",
        "\n",
        "Each of the elementary row operations is the result of matrix multiplication by an elementary matrix (on the left).\n",
        "To add $k$ times row $i$ to row $j$ in a matrix $A$, we multiply $A$ by the matrix $E$ where $E$ is equal to the identity matrix except the $i,j$ entry is $E_{i,j} = k$. For example, if $A$ is 3 by 3 and we want to add 3 times row 2 to row 0 (using 0 indexing) then\n",
        "\n",
        "$$\n",
        "E_1 = \\begin{bmatrix}\n",
        "1 & 0 & 3 \\\\\\\n",
        "0 & 1 & 0 \\\\\\\n",
        "0 & 0 & 1\n",
        "\\end{bmatrix}\n",
        "$$\n",
        "\n",
        "Let's verify the calculation:"
      ]
    },
    {
      "cell_type": "code",
      "metadata": {
        "id": "lxEDj1dYtDJW",
        "outputId": "3e427f21-a965-4dd6-8f85-0142212e4a3e",
        "colab": {
          "base_uri": "https://localhost:8080/"
        }
      },
      "source": [
        "A = np.array([[1,1,2],[-1,3,1],[0,5,2]])\n",
        "print(A)"
      ],
      "execution_count": null,
      "outputs": [
        {
          "output_type": "stream",
          "name": "stdout",
          "text": [
            "[[ 1  1  2]\n",
            " [-1  3  1]\n",
            " [ 0  5  2]]\n"
          ]
        }
      ]
    },
    {
      "cell_type": "code",
      "metadata": {
        "id": "grZn2xUutDJX",
        "outputId": "1ae4a554-13bf-4dd1-dec3-49cea679f557",
        "colab": {
          "base_uri": "https://localhost:8080/"
        }
      },
      "source": [
        "E1 = np.array([[1,0,3],[0,1,0],[0,0,1]])\n",
        "print(E1)"
      ],
      "execution_count": null,
      "outputs": [
        {
          "output_type": "stream",
          "name": "stdout",
          "text": [
            "[[1 0 3]\n",
            " [0 1 0]\n",
            " [0 0 1]]\n"
          ]
        }
      ]
    },
    {
      "cell_type": "code",
      "metadata": {
        "id": "z3PYkLiftDJY",
        "outputId": "c7d16c25-8c0a-4944-83ac-46be7634ed18",
        "colab": {
          "base_uri": "https://localhost:8080/"
        }
      },
      "source": [
        "E1 @ A #R1+3*R3"
      ],
      "execution_count": null,
      "outputs": [
        {
          "output_type": "execute_result",
          "data": {
            "text/plain": [
              "array([[ 1, 16,  8],\n",
              "       [-1,  3,  1],\n",
              "       [ 0,  5,  2]])"
            ]
          },
          "metadata": {},
          "execution_count": 8
        }
      ]
    },
    {
      "cell_type": "markdown",
      "metadata": {
        "id": "qwJ_5mVatDJY"
      },
      "source": [
        "To multiply $k$ times row $i$ in a matrix $A$, we multiply $A$ by the matrix $E$ where $E$ is equal to the identity matrix except the $,i,j$ entry is $E_{i,i} = k$. For example, if $A$ is 3 by 3 and we want to multiply row 1 by -2 then\n",
        "\n",
        "$$\n",
        "E_2 = \\begin{bmatrix}\n",
        "1 & 0 & 0 \\\\\\\n",
        "0 & -2 & 0 \\\\\\\n",
        "0 & 0 & 1\n",
        "\\end{bmatrix}\n",
        "$$\n",
        "\n",
        "Let's verify the calculation:"
      ]
    },
    {
      "cell_type": "code",
      "metadata": {
        "id": "Ob1XNyxBtDJZ",
        "outputId": "0a2e8e41-82f5-453a-9f4d-38eb3bc7d2fe"
      },
      "source": [
        "E2 = np.array([[1,0,0],[0,-2,0],[0,0,1]])\n",
        "print(E2)"
      ],
      "execution_count": null,
      "outputs": [
        {
          "name": "stdout",
          "output_type": "stream",
          "text": [
            "[[ 1  0  0]\n",
            " [ 0 -2  0]\n",
            " [ 0  0  1]]\n"
          ]
        }
      ]
    },
    {
      "cell_type": "code",
      "metadata": {
        "id": "iO8l3PpztDJZ",
        "outputId": "1a40afa6-897b-4853-9a73-9f7eaa7f38d2"
      },
      "source": [
        "E2 @ A"
      ],
      "execution_count": null,
      "outputs": [
        {
          "data": {
            "text/plain": [
              "array([[ 1,  1,  2],\n",
              "       [ 2, -6, -2],\n",
              "       [ 0,  5,  2]])"
            ]
          },
          "execution_count": 6,
          "metadata": {},
          "output_type": "execute_result"
        }
      ]
    },
    {
      "cell_type": "markdown",
      "metadata": {
        "id": "fg5EUJumtDJa"
      },
      "source": [
        "Finally, to switch row $i$ and row $j$ in a matrix $A$, we multiply $A$ by the matrix $E$ where $E$ is equal to the identity matrix except $E_{i,i} = 0$, $E_{j,j} = 0$, $E_{i,j} = 1$ and $E_{j,i} = 1$. For example, if $A$ is 3 by 3 and we want to switch row 1 and row 2 then\n",
        "\n",
        "$$\n",
        "E3 = \\begin{bmatrix}\n",
        "1 & 0 & 0 \\\\\\\n",
        "0 & 0 & 1 \\\\\\\n",
        "0 & 1 & 0\n",
        "\\end{bmatrix}\n",
        "$$\n",
        "\n",
        "Let's verify the calculation:"
      ]
    },
    {
      "cell_type": "code",
      "metadata": {
        "id": "8RkmSXr3tDJa",
        "outputId": "98cb9762-7016-4256-f1a3-dc2a1ce77085"
      },
      "source": [
        "E3 = np.array([[1,0,0],[0,0,1],[0,1,0]])\n",
        "print(E3)"
      ],
      "execution_count": null,
      "outputs": [
        {
          "name": "stdout",
          "output_type": "stream",
          "text": [
            "[[1 0 0]\n",
            " [0 0 1]\n",
            " [0 1 0]]\n"
          ]
        }
      ]
    },
    {
      "cell_type": "code",
      "metadata": {
        "id": "lI2_FySrtDJa",
        "outputId": "54567cd8-a1bd-4f1c-e387-64e6870b29df"
      },
      "source": [
        "E3 @ A #2행 3행 바뀜"
      ],
      "execution_count": null,
      "outputs": [
        {
          "data": {
            "text/plain": [
              "array([[ 1,  1,  2],\n",
              "       [ 0,  5,  2],\n",
              "       [-1,  3,  1]])"
            ]
          },
          "execution_count": 8,
          "metadata": {},
          "output_type": "execute_result"
        }
      ]
    },
    {
      "cell_type": "code",
      "source": [
        "A"
      ],
      "metadata": {
        "colab": {
          "base_uri": "https://localhost:8080/"
        },
        "id": "wDkx6dnaxff7",
        "outputId": "47c55298-7932-481d-c9e6-1915caa2e13c"
      },
      "execution_count": null,
      "outputs": [
        {
          "output_type": "execute_result",
          "data": {
            "text/plain": [
              "array([[ 1,  1,  2],\n",
              "       [-1,  3,  1],\n",
              "       [ 0,  5,  2]])"
            ]
          },
          "metadata": {},
          "execution_count": 9
        }
      ]
    },
    {
      "cell_type": "markdown",
      "metadata": {
        "id": "MsnCQ4gEtDJa"
      },
      "source": [
        "### Implementation <--이거\n",
        "\n",
        "Let's write function to implement the elementary row operations. First of all, let's write a function called `add_rows` which takes input parameters $A$, $k$, $i$ and $j$ and returns the NumPy array resulting from adding $k$ times row $j$ to row $i$ in the matrix $A$. If $i=j$, then let's say that the function scales row $i$ by $k+1$ since this would be the result of $k$ times row $i$ added to row $i$."
      ]
    },
    {
      "cell_type": "code",
      "metadata": {
        "id": "TmyC1BpotDJb"
      },
      "source": [
        "def add_row(A,i,j,c):\n",
        "    \"Ri+c*Rj in matrix A.\" #A는 3차원 \n",
        "    n = A.shape[0] #3\n",
        "    E = np.eye(n) #3X3 identity 행렬\n",
        "    E[i,j] = c\n",
        "    return E @ A"
      ],
      "execution_count": 59,
      "outputs": []
    },
    {
      "cell_type": "markdown",
      "metadata": {
        "id": "ujnC2A6jtDJb"
      },
      "source": [
        "Let's test our function:"
      ]
    },
    {
      "cell_type": "code",
      "metadata": {
        "id": "9Vrs-OxRtDJb",
        "outputId": "668197b1-5236-4468-fdbe-320084d557c2",
        "colab": {
          "base_uri": "https://localhost:8080/"
        }
      },
      "source": [
        "M = np.array([[1,1],[3,2]])\n",
        "print(M)"
      ],
      "execution_count": null,
      "outputs": [
        {
          "output_type": "stream",
          "name": "stdout",
          "text": [
            "[[1 1]\n",
            " [3 2]]\n"
          ]
        }
      ]
    },
    {
      "cell_type": "code",
      "metadata": {
        "id": "c0rhXZ5RtDJb",
        "outputId": "6dd1c80a-5977-4ce4-bb3c-e1a3d53d55b4",
        "colab": {
          "base_uri": "https://localhost:8080/"
        }
      },
      "source": [
        "add_row(M,1,0,-3)"
      ],
      "execution_count": null,
      "outputs": [
        {
          "output_type": "execute_result",
          "data": {
            "text/plain": [
              "array([[ 1.,  1.],\n",
              "       [ 0., -1.]])"
            ]
          },
          "metadata": {},
          "execution_count": 13
        }
      ]
    },
    {
      "cell_type": "code",
      "metadata": {
        "id": "AaMnV4iRtDJc",
        "outputId": "7c603a09-d4aa-446e-c297-2069df19be56"
      },
      "source": [
        "add_row(M,3,1,1)"
      ],
      "execution_count": null,
      "outputs": [
        {
          "data": {
            "text/plain": [
              "array([[ 1.,  1.],\n",
              "       [12.,  8.]])"
            ]
          },
          "execution_count": 12,
          "metadata": {},
          "output_type": "execute_result"
        }
      ]
    },
    {
      "cell_type": "markdown",
      "metadata": {
        "id": "G13lH1-HtDJc"
      },
      "source": [
        "Let's write a function called `scale_row` which takes 3 input parameters $A$, $k$, and $i$ and returns the matrix that results from $k$ times row $i$ in the matrix $A$. <-- 이거"
      ]
    },
    {
      "cell_type": "code",
      "metadata": {
        "id": "4ZqZQPb6tDJc"
      },
      "source": [
        "def scale_row(A,i,c):\n",
        "    \"Ri <-c*Ri in matrix A.\" #A:3X3\n",
        "    n = A.shape[0] #3\n",
        "    E = np.eye(n) #3X3 identity matrix\n",
        "    E[i,i] = c\n",
        "    return E @ A"
      ],
      "execution_count": 58,
      "outputs": []
    },
    {
      "cell_type": "code",
      "metadata": {
        "id": "iJ6eCwn3tDJc",
        "outputId": "930586b2-424d-4131-a5a8-18b3d4d68ffc",
        "colab": {
          "base_uri": "https://localhost:8080/"
        }
      },
      "source": [
        "M = np.array([[3,1],[-2,7]])\n",
        "print(M)"
      ],
      "execution_count": null,
      "outputs": [
        {
          "output_type": "stream",
          "name": "stdout",
          "text": [
            "[[ 3  1]\n",
            " [-2  7]]\n"
          ]
        }
      ]
    },
    {
      "cell_type": "code",
      "metadata": {
        "id": "rb2soSL-tDJd",
        "outputId": "ebb347d6-579c-40a6-d549-ac1a6565a2ea",
        "colab": {
          "base_uri": "https://localhost:8080/"
        }
      },
      "source": [
        "scale_row(M,0,10) "
      ],
      "execution_count": null,
      "outputs": [
        {
          "output_type": "execute_result",
          "data": {
            "text/plain": [
              "array([[30., 10.],\n",
              "       [-2.,  7.]])"
            ]
          },
          "metadata": {},
          "execution_count": 24
        }
      ]
    },
    {
      "cell_type": "code",
      "metadata": {
        "id": "rr-EbtZntDJd",
        "outputId": "90d63167-5cb5-44ab-96a7-c6df1023bc99"
      },
      "source": [
        "A = np.array([[1,1,1],[1,-1,0]])\n",
        "print(A)"
      ],
      "execution_count": null,
      "outputs": [
        {
          "name": "stdout",
          "output_type": "stream",
          "text": [
            "[[ 1  1  1]\n",
            " [ 1 -1  0]]\n"
          ]
        }
      ]
    },
    {
      "cell_type": "code",
      "metadata": {
        "id": "_wBwXS7VtDJd",
        "outputId": "46152890-189f-4d97-8c46-94f347275f9e"
      },
      "source": [
        "scale_row(A,5,1)"
      ],
      "execution_count": null,
      "outputs": [
        {
          "data": {
            "text/plain": [
              "array([[ 1.,  1.,  1.],\n",
              "       [ 5., -5.,  0.]])"
            ]
          },
          "execution_count": 17,
          "metadata": {},
          "output_type": "execute_result"
        }
      ]
    },
    {
      "cell_type": "markdown",
      "metadata": {
        "id": "JmBeWDxstDJd"
      },
      "source": [
        "Let's write a function called `switch_rows` which takes 3 input parameters $A$, $i$ and $j$ and returns the matrix that results from switching rows $i$ and $j$ in the matrix $A$.\n",
        "\n",
        "![dd.png](data:image/png;base64,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)"
      ]
    },
    {
      "cell_type": "code",
      "metadata": {
        "id": "Mr26RU21tDJd"
      },
      "source": [
        "def switch_rows(A,i,j):\n",
        "    \"Switch rows i and j in matrix A.\"\n",
        "    n = A.shape[0]\n",
        "    E = np.eye(n)\n",
        "    E[i,i] = 0\n",
        "    E[j,j] = 0\n",
        "    E[i,j] = 1\n",
        "    E[j,i] = 1\n",
        "    return E @ A"
      ],
      "execution_count": 51,
      "outputs": []
    },
    {
      "cell_type": "code",
      "metadata": {
        "id": "d8qL7na6tDJd",
        "outputId": "d18186b2-eea9-40ef-eef7-beda7dec0104",
        "colab": {
          "base_uri": "https://localhost:8080/"
        }
      },
      "source": [
        "A = np.array([[1,1,1],[1,-1,0],[10,20,30]])\n",
        "print(A)"
      ],
      "execution_count": 52,
      "outputs": [
        {
          "output_type": "stream",
          "name": "stdout",
          "text": [
            "[[ 1  1  1]\n",
            " [ 1 -1  0]\n",
            " [10 20 30]]\n"
          ]
        }
      ]
    },
    {
      "cell_type": "code",
      "metadata": {
        "id": "bUmmLZVStDJe",
        "outputId": "ab3bccde-96c3-4992-b649-067068b1a1ae",
        "colab": {
          "base_uri": "https://localhost:8080/"
        }
      },
      "source": [
        "switch_rows(A,0,1)"
      ],
      "execution_count": 53,
      "outputs": [
        {
          "output_type": "execute_result",
          "data": {
            "text/plain": [
              "array([[ 1., -1.,  0.],\n",
              "       [ 1.,  1.,  1.],\n",
              "       [10., 20., 30.]])"
            ]
          },
          "metadata": {},
          "execution_count": 53
        }
      ]
    },
    {
      "cell_type": "code",
      "source": [
        "#HW gaussian elimination\n",
        "B=np.array([1,2,3,2,5,3,1,0,8.0]).reshape([3,3])\n",
        "I3=np.eye(3)\n",
        "A0=np.hstack([B,I3])\n",
        "\n",
        "A1=add_row(A0,1,0,-2)\n",
        "print(A1)"
      ],
      "metadata": {
        "colab": {
          "base_uri": "https://localhost:8080/"
        },
        "id": "kwEdkEkiuaaK",
        "outputId": "374008dd-5ffa-4d03-fa94-0d89f3f19b71"
      },
      "execution_count": 61,
      "outputs": [
        {
          "output_type": "stream",
          "name": "stdout",
          "text": [
            "[[ 1.  2.  3.  1.  0.  0.]\n",
            " [ 0.  1. -3. -2.  1.  0.]\n",
            " [ 1.  0.  8.  0.  0.  1.]]\n"
          ]
        }
      ]
    },
    {
      "cell_type": "code",
      "source": [
        "A2=add_row(A1,2,0,-1)\n",
        "print(A2)"
      ],
      "metadata": {
        "colab": {
          "base_uri": "https://localhost:8080/"
        },
        "id": "OWJB6GMi3lDM",
        "outputId": "64ad8278-33d3-4374-851e-d4141fb02622"
      },
      "execution_count": 64,
      "outputs": [
        {
          "output_type": "stream",
          "name": "stdout",
          "text": [
            "[[ 1.  2.  3.  1.  0.  0.]\n",
            " [ 0.  1. -3. -2.  1.  0.]\n",
            " [ 0. -2.  5. -1.  0.  1.]]\n"
          ]
        }
      ]
    },
    {
      "cell_type": "code",
      "source": [
        "A3=add_row(A2,2,1,2)\n",
        "print(A3)"
      ],
      "metadata": {
        "colab": {
          "base_uri": "https://localhost:8080/"
        },
        "id": "LFhZhAO332pr",
        "outputId": "998ce07c-a007-439d-feb3-d0fb1bcd4939"
      },
      "execution_count": 65,
      "outputs": [
        {
          "output_type": "stream",
          "name": "stdout",
          "text": [
            "[[ 1.  2.  3.  1.  0.  0.]\n",
            " [ 0.  1. -3. -2.  1.  0.]\n",
            " [ 0.  0. -1. -5.  2.  1.]]\n"
          ]
        }
      ]
    },
    {
      "cell_type": "code",
      "source": [
        "A4=add_row(A3,1,2,-3)\n",
        "print(A4)"
      ],
      "metadata": {
        "colab": {
          "base_uri": "https://localhost:8080/"
        },
        "id": "APM37ZAA4oGQ",
        "outputId": "4fb6c5c0-f0db-4b97-c8a7-af7052ff4c4b"
      },
      "execution_count": 67,
      "outputs": [
        {
          "output_type": "stream",
          "name": "stdout",
          "text": [
            "[[ 1.  2.  3.  1.  0.  0.]\n",
            " [ 0.  1.  0. 13. -5. -3.]\n",
            " [ 0.  0. -1. -5.  2.  1.]]\n"
          ]
        }
      ]
    },
    {
      "cell_type": "code",
      "source": [
        "A5=add_row(A4,0,2,3)\n",
        "print(A5)"
      ],
      "metadata": {
        "colab": {
          "base_uri": "https://localhost:8080/"
        },
        "id": "qGl30uBo4_XZ",
        "outputId": "11c71754-0758-45b1-c41f-0238125ea76d"
      },
      "execution_count": 69,
      "outputs": [
        {
          "output_type": "stream",
          "name": "stdout",
          "text": [
            "[[  1.   2.   0. -14.   6.   3.]\n",
            " [  0.   1.   0.  13.  -5.  -3.]\n",
            " [  0.   0.  -1.  -5.   2.   1.]]\n"
          ]
        }
      ]
    },
    {
      "cell_type": "code",
      "source": [
        "A6=add_row(A5,0,1,-2)\n",
        "print(A6)"
      ],
      "metadata": {
        "colab": {
          "base_uri": "https://localhost:8080/"
        },
        "id": "G53dDVF15QM-",
        "outputId": "2f8b896c-750b-42dd-ca05-315318791ce0"
      },
      "execution_count": 70,
      "outputs": [
        {
          "output_type": "stream",
          "name": "stdout",
          "text": [
            "[[  1.   0.   0. -40.  16.   9.]\n",
            " [  0.   1.   0.  13.  -5.  -3.]\n",
            " [  0.   0.  -1.  -5.   2.   1.]]\n"
          ]
        }
      ]
    },
    {
      "cell_type": "code",
      "source": [
        "A7=scale_row(A6,2,-1)\n",
        "print(A7)"
      ],
      "metadata": {
        "colab": {
          "base_uri": "https://localhost:8080/"
        },
        "id": "pUlLc5uv5goy",
        "outputId": "67af8692-f221-4265-d57c-64eb64e012ae"
      },
      "execution_count": 73,
      "outputs": [
        {
          "output_type": "stream",
          "name": "stdout",
          "text": [
            "[[  1.   0.   0. -40.  16.   9.]\n",
            " [  0.   1.   0.  13.  -5.  -3.]\n",
            " [  0.   0.   1.   5.  -2.  -1.]]\n"
          ]
        }
      ]
    },
    {
      "cell_type": "markdown",
      "source": [
        "여기까지"
      ],
      "metadata": {
        "id": "n_1bZW0g6Ase"
      }
    },
    {
      "cell_type": "markdown",
      "metadata": {
        "id": "SLDwxliJtDJe"
      },
      "source": [
        "## Examples\n",
        "\n",
        "### Find the Inverse\n",
        "\n",
        "Let's apply our functions to the augmented matrix $[M \\ | \\ I]$ to find the inverse of the matrix $M$:"
      ]
    },
    {
      "cell_type": "code",
      "source": [
        "import numpy as np"
      ],
      "metadata": {
        "id": "uekQwVBsjUnW"
      },
      "execution_count": null,
      "outputs": []
    },
    {
      "cell_type": "code",
      "metadata": {
        "id": "2H2S-3_utDJe",
        "outputId": "954c5206-4234-4b25-909b-2e199ae290d7",
        "colab": {
          "base_uri": "https://localhost:8080/"
        }
      },
      "source": [
        "M = np.array([[5,4,2],[-1,2,1],[1,1,1]])\n",
        "print(M)"
      ],
      "execution_count": null,
      "outputs": [
        {
          "output_type": "stream",
          "name": "stdout",
          "text": [
            "[[ 5  4  2]\n",
            " [-1  2  1]\n",
            " [ 1  1  1]]\n"
          ]
        }
      ]
    },
    {
      "cell_type": "code",
      "source": [],
      "metadata": {
        "id": "15YxGJ1CjT8a"
      },
      "execution_count": null,
      "outputs": []
    },
    {
      "cell_type": "code",
      "metadata": {
        "id": "SPJuyxzPtDJe",
        "outputId": "ae18cdd2-ad26-4f1e-f69e-fbcebc80450c",
        "colab": {
          "base_uri": "https://localhost:8080/"
        }
      },
      "source": [
        "A = np.hstack([M,np.eye(3)])\n",
        "print(A)"
      ],
      "execution_count": null,
      "outputs": [
        {
          "output_type": "stream",
          "name": "stdout",
          "text": [
            "[[ 5.  4.  2.  1.  0.  0.]\n",
            " [-1.  2.  1.  0.  1.  0.]\n",
            " [ 1.  1.  1.  0.  0.  1.]]\n"
          ]
        }
      ]
    },
    {
      "cell_type": "code",
      "metadata": {
        "id": "7W5uw2M_tDJe",
        "outputId": "b7543e96-bc9b-4cd7-d7a1-4cb5d97e9552"
      },
      "source": [
        "A1 = switch_rows(A,0,2)\n",
        "print(A1)"
      ],
      "execution_count": null,
      "outputs": [
        {
          "name": "stdout",
          "output_type": "stream",
          "text": [
            "[[ 1.  1.  1.  0.  0.  1.]\n",
            " [-1.  2.  1.  0.  1.  0.]\n",
            " [ 5.  4.  2.  1.  0.  0.]]\n"
          ]
        }
      ]
    },
    {
      "cell_type": "code",
      "metadata": {
        "id": "xutKkfxUtDJe",
        "outputId": "3c45cb7f-5080-4d4c-b103-5e515084101a"
      },
      "source": [
        "A2 = add_row(A1,1,1,0)\n",
        "print(A2)"
      ],
      "execution_count": null,
      "outputs": [
        {
          "name": "stdout",
          "output_type": "stream",
          "text": [
            "[[1. 1. 1. 0. 0. 1.]\n",
            " [0. 3. 2. 0. 1. 1.]\n",
            " [5. 4. 2. 1. 0. 0.]]\n"
          ]
        }
      ]
    },
    {
      "cell_type": "code",
      "metadata": {
        "id": "j7CdPUu8tDJf",
        "outputId": "01631877-ea1b-4e51-d0c4-90097527eb95"
      },
      "source": [
        "A3 = add_row(A2,-5,2,0)\n",
        "print(A3)"
      ],
      "execution_count": null,
      "outputs": [
        {
          "name": "stdout",
          "output_type": "stream",
          "text": [
            "[[ 1.  1.  1.  0.  0.  1.]\n",
            " [ 0.  3.  2.  0.  1.  1.]\n",
            " [ 0. -1. -3.  1.  0. -5.]]\n"
          ]
        }
      ]
    },
    {
      "cell_type": "code",
      "metadata": {
        "id": "b8Z0CzH7tDJf",
        "outputId": "8d28eab4-5034-499c-f9f9-eefcb8bce489"
      },
      "source": [
        "A4 = switch_rows(A3,1,2)\n",
        "print(A4)"
      ],
      "execution_count": null,
      "outputs": [
        {
          "name": "stdout",
          "output_type": "stream",
          "text": [
            "[[ 1.  1.  1.  0.  0.  1.]\n",
            " [ 0. -1. -3.  1.  0. -5.]\n",
            " [ 0.  3.  2.  0.  1.  1.]]\n"
          ]
        }
      ]
    },
    {
      "cell_type": "code",
      "metadata": {
        "id": "vkkD2zRHtDJf",
        "outputId": "8070cb15-3e03-4467-ff42-5d5fe57e9eba"
      },
      "source": [
        "A5 = scale_row(A4,-1,1)\n",
        "print(A5)"
      ],
      "execution_count": null,
      "outputs": [
        {
          "name": "stdout",
          "output_type": "stream",
          "text": [
            "[[ 1.  1.  1.  0.  0.  1.]\n",
            " [ 0.  1.  3. -1.  0.  5.]\n",
            " [ 0.  3.  2.  0.  1.  1.]]\n"
          ]
        }
      ]
    },
    {
      "cell_type": "code",
      "metadata": {
        "id": "akpJEFg5tDJf",
        "outputId": "061f1891-44d7-4597-979f-e3508b8b16bb"
      },
      "source": [
        "A6 = add_row(A5,-3,2,1)\n",
        "print(A6)"
      ],
      "execution_count": null,
      "outputs": [
        {
          "name": "stdout",
          "output_type": "stream",
          "text": [
            "[[  1.   1.   1.   0.   0.   1.]\n",
            " [  0.   1.   3.  -1.   0.   5.]\n",
            " [  0.   0.  -7.   3.   1. -14.]]\n"
          ]
        }
      ]
    },
    {
      "cell_type": "code",
      "metadata": {
        "id": "jDShlTx8tDJf",
        "outputId": "0bd9921d-3b82-454f-a6e0-6955b30e0cb5"
      },
      "source": [
        "A7 = scale_row(A6,-1/7,2)\n",
        "print(A7)"
      ],
      "execution_count": null,
      "outputs": [
        {
          "name": "stdout",
          "output_type": "stream",
          "text": [
            "[[ 1.          1.          1.          0.          0.          1.        ]\n",
            " [ 0.          1.          3.         -1.          0.          5.        ]\n",
            " [ 0.          0.          1.         -0.42857143 -0.14285714  2.        ]]\n"
          ]
        }
      ]
    },
    {
      "cell_type": "code",
      "metadata": {
        "id": "kDvktdcltDJf",
        "outputId": "81687755-8ddc-4075-9721-4d15e8521e47"
      },
      "source": [
        "A8 = add_row(A7,-3,1,2)\n",
        "print(A8)"
      ],
      "execution_count": null,
      "outputs": [
        {
          "name": "stdout",
          "output_type": "stream",
          "text": [
            "[[ 1.          1.          1.          0.          0.          1.        ]\n",
            " [ 0.          1.          0.          0.28571429  0.42857143 -1.        ]\n",
            " [ 0.          0.          1.         -0.42857143 -0.14285714  2.        ]]\n"
          ]
        }
      ]
    },
    {
      "cell_type": "code",
      "metadata": {
        "id": "2CFEfveRtDJf",
        "outputId": "82fe046a-0638-4fe9-d313-3b586b0f0dc3"
      },
      "source": [
        "A9 = add_row(A8,-1,0,2)\n",
        "print(A9)"
      ],
      "execution_count": null,
      "outputs": [
        {
          "name": "stdout",
          "output_type": "stream",
          "text": [
            "[[ 1.          1.          0.          0.42857143  0.14285714 -1.        ]\n",
            " [ 0.          1.          0.          0.28571429  0.42857143 -1.        ]\n",
            " [ 0.          0.          1.         -0.42857143 -0.14285714  2.        ]]\n"
          ]
        }
      ]
    },
    {
      "cell_type": "code",
      "metadata": {
        "id": "P5idyZyetDJg",
        "outputId": "e6a2a28f-05a1-46df-8697-b2b614e1ab7e"
      },
      "source": [
        "A10 = add_row(A9,-1,0,1)\n",
        "print(A10)"
      ],
      "execution_count": null,
      "outputs": [
        {
          "name": "stdout",
          "output_type": "stream",
          "text": [
            "[[ 1.          0.          0.          0.14285714 -0.28571429  0.        ]\n",
            " [ 0.          1.          0.          0.28571429  0.42857143 -1.        ]\n",
            " [ 0.          0.          1.         -0.42857143 -0.14285714  2.        ]]\n"
          ]
        }
      ]
    },
    {
      "cell_type": "markdown",
      "metadata": {
        "id": "Jy8uUj5mtDJg"
      },
      "source": [
        "Let's verify that we found the inverse $M^{-1}$ correctly:"
      ]
    },
    {
      "cell_type": "code",
      "metadata": {
        "id": "TJ5MzRk9tDJg",
        "outputId": "8cd11029-dc07-4e9d-ef7a-35e282cd1024"
      },
      "source": [
        "Minv = A10[:,3:]\n",
        "print(Minv)"
      ],
      "execution_count": null,
      "outputs": [
        {
          "name": "stdout",
          "output_type": "stream",
          "text": [
            "[[ 0.14285714 -0.28571429  0.        ]\n",
            " [ 0.28571429  0.42857143 -1.        ]\n",
            " [-0.42857143 -0.14285714  2.        ]]\n"
          ]
        }
      ]
    },
    {
      "cell_type": "code",
      "metadata": {
        "id": "W3x4AwzLtDJg",
        "outputId": "a2fa3440-8f1b-4532-df6a-99f0c793b227"
      },
      "source": [
        "result = Minv @ M\n",
        "print(result)"
      ],
      "execution_count": null,
      "outputs": [
        {
          "name": "stdout",
          "output_type": "stream",
          "text": [
            "[[ 1.00000000e+00  4.44089210e-16  2.22044605e-16]\n",
            " [-6.66133815e-16  1.00000000e+00 -2.22044605e-16]\n",
            " [ 0.00000000e+00  0.00000000e+00  1.00000000e+00]]\n"
          ]
        }
      ]
    },
    {
      "cell_type": "markdown",
      "metadata": {
        "id": "gop8IglatDJg"
      },
      "source": [
        "Success! We can see the result more clearly if we round to 15 decimal places:"
      ]
    },
    {
      "cell_type": "code",
      "metadata": {
        "id": "387W0raotDJg",
        "outputId": "c77359c7-9aef-4b61-de66-4bf0b6f39598"
      },
      "source": [
        "np.round(result,15)"
      ],
      "execution_count": null,
      "outputs": [
        {
          "data": {
            "text/plain": [
              "array([[ 1.e+00,  0.e+00,  0.e+00],\n",
              "       [-1.e-15,  1.e+00, -0.e+00],\n",
              "       [ 0.e+00,  0.e+00,  1.e+00]])"
            ]
          },
          "execution_count": 35,
          "metadata": {},
          "output_type": "execute_result"
        }
      ]
    },
    {
      "cell_type": "markdown",
      "metadata": {
        "id": "oP1DLxoTtDJg"
      },
      "source": [
        "### Solve a System\n",
        "\n",
        "Let's use our functions to perform Gaussian elimination and solve a linear system of equations $A \\mathbf{x} = \\mathbf{b}$."
      ]
    },
    {
      "cell_type": "code",
      "metadata": {
        "id": "20TyfuUgtDJg",
        "outputId": "cc8be31d-4883-4c6d-c172-c52910fa0032"
      },
      "source": [
        "A = np.array([[6,15,1],[8,7,12],[2,7,8]])\n",
        "print(A)"
      ],
      "execution_count": null,
      "outputs": [
        {
          "name": "stdout",
          "output_type": "stream",
          "text": [
            "[[ 6 15  1]\n",
            " [ 8  7 12]\n",
            " [ 2  7  8]]\n"
          ]
        }
      ]
    },
    {
      "cell_type": "code",
      "metadata": {
        "id": "TpA6banZtDJg",
        "outputId": "85c36c00-60e3-4c69-9062-6cfac1731984"
      },
      "source": [
        "b = np.array([[2],[14],[10]])\n",
        "print(b)"
      ],
      "execution_count": null,
      "outputs": [
        {
          "name": "stdout",
          "output_type": "stream",
          "text": [
            "[[ 2]\n",
            " [14]\n",
            " [10]]\n"
          ]
        }
      ]
    },
    {
      "cell_type": "markdown",
      "metadata": {
        "id": "QRQdC--htDJh"
      },
      "source": [
        "Form the augemented matrix $M$:"
      ]
    },
    {
      "cell_type": "code",
      "metadata": {
        "id": "owSakEE9tDJh",
        "outputId": "15bd99db-3477-4c86-dee9-6a9bfc29eddf"
      },
      "source": [
        "M = np.hstack([A,b])\n",
        "print(M)"
      ],
      "execution_count": null,
      "outputs": [
        {
          "name": "stdout",
          "output_type": "stream",
          "text": [
            "[[ 6 15  1  2]\n",
            " [ 8  7 12 14]\n",
            " [ 2  7  8 10]]\n"
          ]
        }
      ]
    },
    {
      "cell_type": "markdown",
      "metadata": {
        "id": "hA7BEdRrtDJh"
      },
      "source": [
        "Perform row operations:"
      ]
    },
    {
      "cell_type": "code",
      "metadata": {
        "id": "uMD30a9utDJh",
        "outputId": "65bbf160-020c-42c7-8b4d-e847ad5026e9"
      },
      "source": [
        "M1 = scale_row(M,1/6,0)\n",
        "print(M1)"
      ],
      "execution_count": null,
      "outputs": [
        {
          "name": "stdout",
          "output_type": "stream",
          "text": [
            "[[ 1.          2.5         0.16666667  0.33333333]\n",
            " [ 8.          7.         12.         14.        ]\n",
            " [ 2.          7.          8.         10.        ]]\n"
          ]
        }
      ]
    },
    {
      "cell_type": "code",
      "metadata": {
        "id": "RJ9t8bPxtDJh",
        "outputId": "07e98243-c54d-4e7e-8955-a0b0d4efbaa4"
      },
      "source": [
        "M2 = add_row(M1,-8,1,0)\n",
        "print(M2)"
      ],
      "execution_count": null,
      "outputs": [
        {
          "name": "stdout",
          "output_type": "stream",
          "text": [
            "[[  1.           2.5          0.16666667   0.33333333]\n",
            " [  0.         -13.          10.66666667  11.33333333]\n",
            " [  2.           7.           8.          10.        ]]\n"
          ]
        }
      ]
    },
    {
      "cell_type": "code",
      "metadata": {
        "id": "y-q8FrhntDJh",
        "outputId": "6bd6d6d4-1636-45d2-ed55-d29c30ce2973"
      },
      "source": [
        "M3 = add_row(M2,-2,2,0)\n",
        "print(M3)"
      ],
      "execution_count": null,
      "outputs": [
        {
          "name": "stdout",
          "output_type": "stream",
          "text": [
            "[[  1.           2.5          0.16666667   0.33333333]\n",
            " [  0.         -13.          10.66666667  11.33333333]\n",
            " [  0.           2.           7.66666667   9.33333333]]\n"
          ]
        }
      ]
    },
    {
      "cell_type": "code",
      "metadata": {
        "id": "LEIkUiC0tDJh",
        "outputId": "8780e1f9-2d9b-4762-9d6b-b24c28061fee"
      },
      "source": [
        "M4 = scale_row(M3,-1/13,1)\n",
        "print(M4)"
      ],
      "execution_count": null,
      "outputs": [
        {
          "name": "stdout",
          "output_type": "stream",
          "text": [
            "[[ 1.          2.5         0.16666667  0.33333333]\n",
            " [ 0.          1.         -0.82051282 -0.87179487]\n",
            " [ 0.          2.          7.66666667  9.33333333]]\n"
          ]
        }
      ]
    },
    {
      "cell_type": "code",
      "metadata": {
        "id": "hH2WAii2tDJi",
        "outputId": "580a6d40-9727-4a07-9a94-bf99b3fd9a63"
      },
      "source": [
        "M5 = add_row(M4,-2,2,1)\n",
        "print(M5)"
      ],
      "execution_count": null,
      "outputs": [
        {
          "name": "stdout",
          "output_type": "stream",
          "text": [
            "[[ 1.          2.5         0.16666667  0.33333333]\n",
            " [ 0.          1.         -0.82051282 -0.87179487]\n",
            " [ 0.          0.          9.30769231 11.07692308]]\n"
          ]
        }
      ]
    },
    {
      "cell_type": "code",
      "metadata": {
        "id": "r1qIkjuXtDJi",
        "outputId": "529364cf-2033-4d25-adc5-4d74eee99845"
      },
      "source": [
        "M6 = scale_row(M5,1/M5[2,2],2)\n",
        "print(M6)"
      ],
      "execution_count": null,
      "outputs": [
        {
          "name": "stdout",
          "output_type": "stream",
          "text": [
            "[[ 1.          2.5         0.16666667  0.33333333]\n",
            " [ 0.          1.         -0.82051282 -0.87179487]\n",
            " [ 0.          0.          1.          1.19008264]]\n"
          ]
        }
      ]
    },
    {
      "cell_type": "code",
      "metadata": {
        "id": "aO-7JirktDJi",
        "outputId": "375228cb-561e-48c8-9d6c-7e72a80f8574"
      },
      "source": [
        "M7 = add_row(M6,-M6[1,2],1,2)\n",
        "print(M7)"
      ],
      "execution_count": null,
      "outputs": [
        {
          "name": "stdout",
          "output_type": "stream",
          "text": [
            "[[1.         2.5        0.16666667 0.33333333]\n",
            " [0.         1.         0.         0.1046832 ]\n",
            " [0.         0.         1.         1.19008264]]\n"
          ]
        }
      ]
    },
    {
      "cell_type": "code",
      "metadata": {
        "id": "dCl9qfKGtDJi",
        "outputId": "214fe0aa-6674-4fb1-8c51-87a06a8ba8bc"
      },
      "source": [
        "M8 = add_row(M7,-M7[0,2],0,2)\n",
        "print(M8)"
      ],
      "execution_count": null,
      "outputs": [
        {
          "name": "stdout",
          "output_type": "stream",
          "text": [
            "[[1.         2.5        0.         0.13498623]\n",
            " [0.         1.         0.         0.1046832 ]\n",
            " [0.         0.         1.         1.19008264]]\n"
          ]
        }
      ]
    },
    {
      "cell_type": "code",
      "metadata": {
        "id": "WqGk7RCTtDJi",
        "outputId": "a15b0f10-730c-43a8-c495-e79f6771b410"
      },
      "source": [
        "M9 = add_row(M8,-M8[0,1],0,1)\n",
        "print(M9)"
      ],
      "execution_count": null,
      "outputs": [
        {
          "name": "stdout",
          "output_type": "stream",
          "text": [
            "[[ 1.          0.          0.         -0.12672176]\n",
            " [ 0.          1.          0.          0.1046832 ]\n",
            " [ 0.          0.          1.          1.19008264]]\n"
          ]
        }
      ]
    },
    {
      "cell_type": "markdown",
      "metadata": {
        "id": "zDisCOJOtDJi"
      },
      "source": [
        "Success! The solution of $Ax=b$ is"
      ]
    },
    {
      "cell_type": "code",
      "metadata": {
        "id": "w6g1YCtAtDJi",
        "outputId": "4cd57b56-3e6a-4212-c4c0-748c1b228643"
      },
      "source": [
        "x = M9[:,3].reshape(3,1)\n",
        "print(x)"
      ],
      "execution_count": null,
      "outputs": [
        {
          "name": "stdout",
          "output_type": "stream",
          "text": [
            "[[-0.12672176]\n",
            " [ 0.1046832 ]\n",
            " [ 1.19008264]]\n"
          ]
        }
      ]
    },
    {
      "cell_type": "markdown",
      "metadata": {
        "id": "2Rgr_kmRtDJi"
      },
      "source": [
        "Or, we can do it the easy way..."
      ]
    },
    {
      "cell_type": "code",
      "metadata": {
        "id": "E37YjJqMtDJj",
        "outputId": "cf147e4c-af72-4ebb-8e08-33580620abae"
      },
      "source": [
        "x = la.solve(A,b)\n",
        "print(x)"
      ],
      "execution_count": null,
      "outputs": [
        {
          "name": "stdout",
          "output_type": "stream",
          "text": [
            "[[-0.12672176]\n",
            " [ 0.1046832 ]\n",
            " [ 1.19008264]]\n"
          ]
        }
      ]
    },
    {
      "cell_type": "markdown",
      "metadata": {
        "id": "G_Admt2ntDJj"
      },
      "source": [
        "## `scipy.linalg.solve`\n",
        "\n",
        "We are mostly interested in linear systems $A \\mathbf{x} = \\mathbf{b}$ where there is a unique solution $\\mathbf{x}$. This is the case when $A$ is a square matrix ($m=n$) and $\\mathrm{det}(A) \\not= 0$. To solve such a system, we can use the function [`scipy.linalg.solve`](https://docs.scipy.org/doc/scipy/reference/generated/scipy.linalg.solve.html).\n",
        "\n",
        "The function returns a solution of the system of equations $A \\mathbf{x} = \\mathbf{b}$. For example:"
      ]
    },
    {
      "cell_type": "code",
      "source": [
        "import scipy.linalg as la"
      ],
      "metadata": {
        "id": "V9lznUHYkCGs"
      },
      "execution_count": null,
      "outputs": []
    },
    {
      "cell_type": "code",
      "metadata": {
        "id": "r71wP_LftDJj",
        "outputId": "f98cc849-0ffe-41ab-89e8-b5ab9626c831",
        "colab": {
          "base_uri": "https://localhost:8080/"
        }
      },
      "source": [
        "A = np.array([[1,1],[1,-1]])\n",
        "print(A)"
      ],
      "execution_count": null,
      "outputs": [
        {
          "output_type": "stream",
          "name": "stdout",
          "text": [
            "[[ 1  1]\n",
            " [ 1 -1]]\n"
          ]
        }
      ]
    },
    {
      "cell_type": "code",
      "metadata": {
        "id": "SabXUJ-3tDJj",
        "outputId": "a3a3dde5-19e6-496c-fd0a-5bddd6745ae1",
        "colab": {
          "base_uri": "https://localhost:8080/"
        }
      },
      "source": [
        "b1 = np.array([[2],[0]])\n",
        "print(b1)"
      ],
      "execution_count": null,
      "outputs": [
        {
          "output_type": "stream",
          "name": "stdout",
          "text": [
            "[[2]\n",
            " [0]]\n"
          ]
        }
      ]
    },
    {
      "cell_type": "markdown",
      "metadata": {
        "id": "Q_KyAB9qtDJj"
      },
      "source": [
        "And solve:"
      ]
    },
    {
      "cell_type": "code",
      "metadata": {
        "id": "_0TPf70StDJj",
        "outputId": "273295ec-eb94-4d9f-8f85-b26efb2d85c5",
        "colab": {
          "base_uri": "https://localhost:8080/"
        }
      },
      "source": [
        "x1 = la.solve(A,b1)\n",
        "print(x1)"
      ],
      "execution_count": null,
      "outputs": [
        {
          "output_type": "stream",
          "name": "stdout",
          "text": [
            "[[1.]\n",
            " [1.]]\n"
          ]
        }
      ]
    },
    {
      "cell_type": "markdown",
      "metadata": {
        "id": "duvgLoyEtDJj"
      },
      "source": [
        "Note that the output $\\mathbf{x}$ is returned as a 1D NumPy array when the vector $\\mathbf{b}$ (the right hand side) is entered as a 1D NumPy array. If we input $\\mathbf{b}$ as a 2D NumPy array, then the output is a 2D NumPy array. For example:"
      ]
    },
    {
      "cell_type": "code",
      "metadata": {
        "id": "MNvISITdtDJj",
        "outputId": "810ab814-8c7a-4513-969c-05b5d6772ca5",
        "colab": {
          "base_uri": "https://localhost:8080/"
        }
      },
      "source": [
        "A = np.array([[1,1],[1,-1]])\n",
        "b2 = np.array([2,0]).reshape(2,1)\n",
        "x2 = la.solve(A,b2)\n",
        "print(x2)"
      ],
      "execution_count": null,
      "outputs": [
        {
          "output_type": "stream",
          "name": "stdout",
          "text": [
            "[[1.]\n",
            " [1.]]\n"
          ]
        }
      ]
    },
    {
      "cell_type": "markdown",
      "metadata": {
        "id": "NDgis1-AtDJk"
      },
      "source": [
        "Finally, if the right hand side $\\mathbf{b}$ is a matrix, then the output is a matrix of the same size. It is the solution of $A \\mathbf{x} = \\mathbf{b}$ when $\\mathbf{b}$ is a matrix. For example:"
      ]
    },
    {
      "cell_type": "code",
      "metadata": {
        "id": "2PbQ7FM8tDJk",
        "outputId": "97f3cbef-210e-473a-97bf-911ba9fc15db"
      },
      "source": [
        "A = np.array([[1,1],[1,-1]])\n",
        "b3 = np.array([[2,2],[0,1]])\n",
        "x3 = la.solve(A,b3)\n",
        "print(x3)"
      ],
      "execution_count": null,
      "outputs": [
        {
          "name": "stdout",
          "output_type": "stream",
          "text": [
            "[[1.  1.5]\n",
            " [1.  0.5]]\n"
          ]
        }
      ]
    },
    {
      "cell_type": "markdown",
      "metadata": {
        "id": "yTFKa_fttDJk"
      },
      "source": [
        "### Simple Example\n",
        "\n",
        "Let's compute the solution of the system of equations\n",
        "\n",
        "\\begin{align}\n",
        "2x + y &= 1 \\\\\\\n",
        "x + y &= 1\n",
        "\\end{align}\n",
        "\n",
        "Create the matrix of coefficients:"
      ]
    },
    {
      "cell_type": "code",
      "metadata": {
        "id": "a7ZSjXtXtDJk",
        "outputId": "db9513d2-a0fd-4e66-db03-3d12d43ed939"
      },
      "source": [
        "A = np.array([[2,1],[1,1]])\n",
        "print(A)"
      ],
      "execution_count": null,
      "outputs": [
        {
          "name": "stdout",
          "output_type": "stream",
          "text": [
            "[[2 1]\n",
            " [1 1]]\n"
          ]
        }
      ]
    },
    {
      "cell_type": "markdown",
      "metadata": {
        "id": "4HveKgcitDJk"
      },
      "source": [
        "And the vector $\\mathbf{b}$:"
      ]
    },
    {
      "cell_type": "code",
      "metadata": {
        "id": "wHFHkXAItDJk",
        "outputId": "59207883-5521-465a-ecad-ca222d64cb2f"
      },
      "source": [
        "b = np.array([1,-1]).reshape(2,1)\n",
        "print(b)"
      ],
      "execution_count": null,
      "outputs": [
        {
          "name": "stdout",
          "output_type": "stream",
          "text": [
            "[[ 1]\n",
            " [-1]]\n"
          ]
        }
      ]
    },
    {
      "cell_type": "markdown",
      "metadata": {
        "id": "bFmmBLhhtDJk"
      },
      "source": [
        "And solve:"
      ]
    },
    {
      "cell_type": "code",
      "metadata": {
        "id": "57gQ-xkTtDJk",
        "outputId": "6220dca4-7ea3-47df-9824-8460aec95c2f"
      },
      "source": [
        "x = la.solve(A,b)\n",
        "print(x)"
      ],
      "execution_count": null,
      "outputs": [
        {
          "name": "stdout",
          "output_type": "stream",
          "text": [
            "[[ 2.]\n",
            " [-3.]]\n"
          ]
        }
      ]
    },
    {
      "cell_type": "markdown",
      "metadata": {
        "id": "Dvrx6W1rtDJk"
      },
      "source": [
        "We can verify the solution by computing the inverse of $A$:"
      ]
    },
    {
      "cell_type": "code",
      "metadata": {
        "id": "ksK7gLyFtDJl",
        "outputId": "f75e6e1d-b426-4fc8-9cc5-335256557a29"
      },
      "source": [
        "Ainv = la.inv(A)\n",
        "print(Ainv)"
      ],
      "execution_count": null,
      "outputs": [
        {
          "name": "stdout",
          "output_type": "stream",
          "text": [
            "[[ 1. -1.]\n",
            " [-1.  2.]]\n"
          ]
        }
      ]
    },
    {
      "cell_type": "markdown",
      "metadata": {
        "id": "1ag2pxI0tDJl"
      },
      "source": [
        "And multiply $A^{-1} \\mathbf{b}$ to solve for $\\mathbf{x}$:"
      ]
    },
    {
      "cell_type": "code",
      "metadata": {
        "id": "dCK-InTAtDJl",
        "outputId": "d8ab57ab-ba76-40ac-a516-c7464ed7aff0"
      },
      "source": [
        "x = Ainv @ b\n",
        "print(x)"
      ],
      "execution_count": null,
      "outputs": [
        {
          "name": "stdout",
          "output_type": "stream",
          "text": [
            "[[ 2.]\n",
            " [-3.]]\n"
          ]
        }
      ]
    },
    {
      "cell_type": "markdown",
      "metadata": {
        "id": "rX_HCYShtDJl"
      },
      "source": [
        "We get the same result. Success!"
      ]
    },
    {
      "cell_type": "markdown",
      "metadata": {
        "id": "hW5wtaSgD3ZB"
      },
      "source": [
        "# Elementary row matrix\n",
        "\n",
        "Define a elementary row matrix $E\\in M_{n\\times n}$ defined by $i\\in J_n$ and $a=(a_1, \\cdots, a_n)$ for $a_i\\in \\mathbb{R}$."
      ]
    },
    {
      "cell_type": "code",
      "metadata": {
        "id": "I3HbpbRiEiNW"
      },
      "source": [
        "def def_elementary_sub(i,a):\n",
        "  n=len(a)\n",
        "  E=np.eye(n)\n",
        "  temp=0\n",
        "  for j in range(n):\n",
        "    temp=temp+a[j]*E[j,:]\n",
        "  E[i-1,:]=temp\n",
        "  return E"
      ],
      "execution_count": null,
      "outputs": []
    },
    {
      "cell_type": "code",
      "metadata": {
        "colab": {
          "base_uri": "https://localhost:8080/"
        },
        "id": "TaUwchk8FMz-",
        "outputId": "2daaa31d-ea60-41b4-ab0e-534abe1f3a77"
      },
      "source": [
        "def_elementary_sub(2, [0,2,1])"
      ],
      "execution_count": null,
      "outputs": [
        {
          "output_type": "execute_result",
          "data": {
            "text/plain": [
              "array([[1., 0., 0.],\n",
              "       [0., 2., 1.],\n",
              "       [0., 0., 1.]])"
            ]
          },
          "metadata": {},
          "execution_count": 18
        }
      ]
    },
    {
      "cell_type": "code",
      "metadata": {
        "id": "fOsHwwMXGMCh"
      },
      "source": [
        "def def_elementary_swap(i,j, n):\n",
        "  E=np.eye(n)\n",
        "  E[[i-1, j-1]] = E[[j-1, i-1]]\n",
        "  return E"
      ],
      "execution_count": null,
      "outputs": []
    },
    {
      "cell_type": "code",
      "metadata": {
        "colab": {
          "base_uri": "https://localhost:8080/"
        },
        "id": "HGN225NsGe8N",
        "outputId": "39046969-67c7-4f37-cfd8-812234047d21"
      },
      "source": [
        "def_elementary_swap(2, 3, 4)"
      ],
      "execution_count": null,
      "outputs": [
        {
          "output_type": "execute_result",
          "data": {
            "text/plain": [
              "array([[1., 0., 0., 0.],\n",
              "       [0., 0., 1., 0.],\n",
              "       [0., 1., 0., 0.],\n",
              "       [0., 0., 0., 1.]])"
            ]
          },
          "metadata": {},
          "execution_count": 23
        }
      ]
    },
    {
      "cell_type": "code",
      "metadata": {
        "id": "bdjtTsmiIDpH"
      },
      "source": [],
      "execution_count": null,
      "outputs": []
    }
  ]
}